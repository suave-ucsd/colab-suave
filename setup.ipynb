{
  "cells": [
    {
      "cell_type": "markdown",
      "source": [
        "## 1. Connect to your Drive"
      ],
      "metadata": {
        "id": "EBE5D5rxguc6"
      },
      "id": "EBE5D5rxguc6"
    },
    {
      "cell_type": "code",
      "source": [
        "!pip install papermill"
      ],
      "metadata": {
        "id": "GSG5xrjAPJ7G",
        "outputId": "e874f4ac-e9d5-4188-a6c8-6b1e3bd6db70",
        "colab": {
          "base_uri": "https://localhost:8080/"
        }
      },
      "id": "GSG5xrjAPJ7G",
      "execution_count": 1,
      "outputs": [
        {
          "output_type": "stream",
          "name": "stdout",
          "text": [
            "Looking in indexes: https://pypi.org/simple, https://us-python.pkg.dev/colab-wheels/public/simple/\n",
            "Collecting papermill\n",
            "  Downloading papermill-2.4.0-py3-none-any.whl (38 kB)\n",
            "Collecting ansiwrap (from papermill)\n",
            "  Downloading ansiwrap-0.8.4-py2.py3-none-any.whl (8.5 kB)\n",
            "Requirement already satisfied: click in /usr/local/lib/python3.10/dist-packages (from papermill) (8.1.3)\n",
            "Requirement already satisfied: pyyaml in /usr/local/lib/python3.10/dist-packages (from papermill) (6.0)\n",
            "Requirement already satisfied: nbformat>=5.1.2 in /usr/local/lib/python3.10/dist-packages (from papermill) (5.8.0)\n",
            "Requirement already satisfied: nbclient>=0.2.0 in /usr/local/lib/python3.10/dist-packages (from papermill) (0.7.4)\n",
            "Requirement already satisfied: tqdm>=4.32.2 in /usr/local/lib/python3.10/dist-packages (from papermill) (4.65.0)\n",
            "Requirement already satisfied: requests in /usr/local/lib/python3.10/dist-packages (from papermill) (2.27.1)\n",
            "Requirement already satisfied: entrypoints in /usr/local/lib/python3.10/dist-packages (from papermill) (0.4)\n",
            "Requirement already satisfied: tenacity in /usr/local/lib/python3.10/dist-packages (from papermill) (8.2.2)\n",
            "Requirement already satisfied: jupyter-client>=6.1.12 in /usr/local/lib/python3.10/dist-packages (from nbclient>=0.2.0->papermill) (6.1.12)\n",
            "Requirement already satisfied: jupyter-core!=5.0.*,>=4.12 in /usr/local/lib/python3.10/dist-packages (from nbclient>=0.2.0->papermill) (5.3.0)\n",
            "Requirement already satisfied: traitlets>=5.3 in /usr/local/lib/python3.10/dist-packages (from nbclient>=0.2.0->papermill) (5.7.1)\n",
            "Requirement already satisfied: fastjsonschema in /usr/local/lib/python3.10/dist-packages (from nbformat>=5.1.2->papermill) (2.16.3)\n",
            "Requirement already satisfied: jsonschema>=2.6 in /usr/local/lib/python3.10/dist-packages (from nbformat>=5.1.2->papermill) (4.3.3)\n",
            "Collecting textwrap3>=0.9.2 (from ansiwrap->papermill)\n",
            "  Downloading textwrap3-0.9.2-py2.py3-none-any.whl (12 kB)\n",
            "Requirement already satisfied: urllib3<1.27,>=1.21.1 in /usr/local/lib/python3.10/dist-packages (from requests->papermill) (1.26.15)\n",
            "Requirement already satisfied: certifi>=2017.4.17 in /usr/local/lib/python3.10/dist-packages (from requests->papermill) (2022.12.7)\n",
            "Requirement already satisfied: charset-normalizer~=2.0.0 in /usr/local/lib/python3.10/dist-packages (from requests->papermill) (2.0.12)\n",
            "Requirement already satisfied: idna<4,>=2.5 in /usr/local/lib/python3.10/dist-packages (from requests->papermill) (3.4)\n",
            "Requirement already satisfied: attrs>=17.4.0 in /usr/local/lib/python3.10/dist-packages (from jsonschema>=2.6->nbformat>=5.1.2->papermill) (23.1.0)\n",
            "Requirement already satisfied: pyrsistent!=0.17.0,!=0.17.1,!=0.17.2,>=0.14.0 in /usr/local/lib/python3.10/dist-packages (from jsonschema>=2.6->nbformat>=5.1.2->papermill) (0.19.3)\n",
            "Requirement already satisfied: pyzmq>=13 in /usr/local/lib/python3.10/dist-packages (from jupyter-client>=6.1.12->nbclient>=0.2.0->papermill) (23.2.1)\n",
            "Requirement already satisfied: python-dateutil>=2.1 in /usr/local/lib/python3.10/dist-packages (from jupyter-client>=6.1.12->nbclient>=0.2.0->papermill) (2.8.2)\n",
            "Requirement already satisfied: tornado>=4.1 in /usr/local/lib/python3.10/dist-packages (from jupyter-client>=6.1.12->nbclient>=0.2.0->papermill) (6.3.1)\n",
            "Requirement already satisfied: platformdirs>=2.5 in /usr/local/lib/python3.10/dist-packages (from jupyter-core!=5.0.*,>=4.12->nbclient>=0.2.0->papermill) (3.3.0)\n",
            "Requirement already satisfied: six>=1.5 in /usr/local/lib/python3.10/dist-packages (from python-dateutil>=2.1->jupyter-client>=6.1.12->nbclient>=0.2.0->papermill) (1.16.0)\n",
            "Installing collected packages: textwrap3, ansiwrap, papermill\n",
            "Successfully installed ansiwrap-0.8.4 papermill-2.4.0 textwrap3-0.9.2\n"
          ]
        }
      ]
    },
    {
      "cell_type": "code",
      "source": [
        "from google.colab import drive\n",
        "drive.mount('/content/drive')"
      ],
      "metadata": {
        "colab": {
          "base_uri": "https://localhost:8080/"
        },
        "id": "Ta7oMgZlQiWS",
        "outputId": "cb8d5334-805a-4e54-c749-b320ade616f7"
      },
      "id": "Ta7oMgZlQiWS",
      "execution_count": 2,
      "outputs": [
        {
          "output_type": "stream",
          "name": "stdout",
          "text": [
            "Mounted at /content/drive\n"
          ]
        }
      ]
    },
    {
      "cell_type": "code",
      "source": [
        "!mkdir /content/drive/MyDrive/suave"
      ],
      "metadata": {
        "id": "Hr7JDgkxgUCz"
      },
      "id": "Hr7JDgkxgUCz",
      "execution_count": 5,
      "outputs": []
    },
    {
      "cell_type": "code",
      "source": [
        "path = \"/content/drive/MyDrive/suave/\" # or write your own path"
      ],
      "metadata": {
        "id": "T2gLWoS3QnXU"
      },
      "id": "T2gLWoS3QnXU",
      "execution_count": 6,
      "outputs": []
    },
    {
      "cell_type": "markdown",
      "source": [
        "## Create notebook parameters"
      ],
      "metadata": {
        "id": "wDC1-SmVg4ys"
      },
      "id": "wDC1-SmVg4ys"
    },
    {
      "cell_type": "markdown",
      "source": [
        "Example call parameters: SuaveDispatch.ipynb?survey_url=https://suave-dev.sdsc.edu/main/file=zaslavsk_WBDH_Participants.csv&views=1110101&view=grid&user=zaslavsk&csv_file=zaslavsk_WBDH_Participants.csv&params=none&dzc_file=https://maxim.ucsd.edu/dzgen/lib-staging-uploads/063044157874ce7d5841c906fa6d8073/content.dzc&active_object=null\n",
        "\n",
        "(one numeric, one incorrect numeric, no images)\n",
        "\n",
        "or\n",
        "\n",
        "?survey_url=http://suave-dev.sdsc.edu/main/file=zaslavsk_Cyclops_Cave_Ceramic_Petrography.csv&views=1110101&view=grid&user=zaslavsk&csv_file=zaslavsk_Cyclops_Cave_Ceramic_Petrography.csv&params=none&dzc_file=https://maxim.ucsd.edu/dzgen/lib-staging-uploads/40fe2e6d801375611334d3fadd9b701c/content.dzc&active_object=null\n",
        "\n",
        "(252 images, numeric and categorical, suave-dev)\n",
        "\n",
        "?survey_url=http://suave-dev.sdsc.edu/main/file=zaslavsk_Kommos_Ceramic_Petrography.csv&views=1110101&view=grid&user=zaslavsk&csv_file=zaslavsk_Kommos_Ceramic_Petrography.csv&params=none&dzc_file=https://maxim.ucsd.edu/dzgen/lib-staging-uploads/4d862392cf30aa7d520443c52b0599d2/content.dzc&active_object=null\n",
        "\n",
        "(352 images)\n",
        "\n",
        "or\n",
        "\n",
        "?user=zaslavsk&csv_file=zaslavsk_Cyclops_Cave.csv&params=none&dzc_file=https://maxim.ucsd.edu/dzgen/lib-staging-uploads/40fe2e6d801375611334d3fadd9b701c/content.dzc&active_object=null&survey_url=http://suave2.sdsc.edu/main/file=zaslavsk_Cyclops_Cave.csv&view=grid\n",
        "\n",
        "(252 images, numeric and categorical, suave2)"
      ],
      "metadata": {
        "id": "q5DlxOLjurTd"
      },
      "id": "q5DlxOLjurTd"
    },
    {
      "cell_type": "code",
      "source": [
        "import papermill as pm\n",
        "import urllib.parse\n",
        "\n",
        "link_format = 'https://colab.research.google.com/drive/1aZCpg7UmG0nPUuRPTH2p5Nm43G0HmtQg'\n",
        "\n",
        "\"\"\"\n",
        "modify link_append by any notebook parameters you need\n",
        "This is just an example\n",
        "\"\"\"\n",
        "link_append = '?survey_url=https://suave-dev.sdsc.edu/main/file=zaslavsk_WBDH_Participants.csv&views=1110101&view=grid&user=zaslavsk&csv_file=zaslavsk_WBDH_Participants.csv&params=none&dzc_file=https://maxim.ucsd.edu/dzgen/lib-staging-uploads/063044157874ce7d5841c906fa6d8073/content.dzc&active_object=null'\n",
        "# Parse the input parameters from the URL\n",
        "url = urllib.parse.urlparse(link_format + link_append)\n",
        "query_dict = urllib.parse.parse_qs(url.query)\n",
        "input_parameters = {k: v[0] for k, v in query_dict.items()}\n",
        "input_parameters['full_notebook_url'] = link_format + link_append"
      ],
      "metadata": {
        "id": "fwkwWE-eLQqO"
      },
      "id": "fwkwWE-eLQqO",
      "execution_count": 7,
      "outputs": []
    },
    {
      "cell_type": "code",
      "source": [
        "for key,val in input_parameters.items():\n",
        "    exec(key + '=val')"
      ],
      "metadata": {
        "id": "w0l0ksWdh5eE"
      },
      "id": "w0l0ksWdh5eE",
      "execution_count": 11,
      "outputs": []
    },
    {
      "cell_type": "markdown",
      "source": [
        "<h1><span style=\"color:red\">Welcome to the SuAVE Jupyter Notebook Server</span></h1>\n",
        "\n",
        "This is the Jupyter Notebook Dispatcher module of the SuAVE platform. This environment enables you to write and execute Python scripts to process and analyze data in SuAVE surveys and image galleries. In most included scripts, the derived data (secondary variables, image characteristics, predictive labels, etc.) can be added to SuAVE surveys for visual analysis.  \n",
        "\n",
        "Look several cells below for the types of operations supported by your selected JupyterHub.\n",
        "\n",
        "You can execute cells in sequence (by clicking 'Run', or pressing Shift-Enter). From this module (\"dispatcher\") you can launch other notebooks to perform computations, image processing,  modeling and statistical tasks."
      ],
      "metadata": {
        "id": "7ZqgN8rohY0i"
      },
      "id": "7ZqgN8rohY0i"
    },
    {
      "cell_type": "markdown",
      "metadata": {
        "id": "aeilgzQPP6rB"
      },
      "source": [
        "## 3. Check if the passed parameters are correct "
      ],
      "id": "aeilgzQPP6rB"
    },
    {
      "cell_type": "code",
      "execution_count": 12,
      "metadata": {
        "scrolled": false,
        "id": "sVe1t1k5P6rC",
        "outputId": "9159d7ab-4372-43cd-b36a-57d9479671e0",
        "colab": {
          "base_uri": "https://localhost:8080/",
          "height": 275
        }
      },
      "outputs": [
        {
          "output_type": "display_data",
          "data": {
            "text/plain": [
              "<IPython.core.display.Markdown object>"
            ],
            "text/markdown": "<b><span style='color:red'>Verify survey parameters: </span></b>"
          },
          "metadata": {}
        },
        {
          "output_type": "stream",
          "name": "stdout",
          "text": [
            "Base Survey URL:  https://suave-dev.sdsc.edu/main/file=zaslavsk_WBDH_Participants.csv\n",
            "Enabled Views:  1110101\n",
            "Default View:  grid\n",
            "User ID:  zaslavsk\n",
            "Additional Parameters:  none\n",
            "Data File:  zaslavsk_WBDH_Participants.csv\n",
            "Image Tile Collection URL:  https://maxim.ucsd.edu/dzgen/lib-staging-uploads/063044157874ce7d5841c906fa6d8073/content.dzc\n",
            "Active Object:  null\n",
            "Jupyter Hub URL:  https://colab.research.google.com/drive/1aZCpg7UmG0nPUuRPTH2p5Nm43G0HmtQg?survey_url=https://suave-dev.sdsc.edu/main/file=zaslavsk_WBDH_Participants.csv&views=1110101&view=grid&user=zaslavsk&csv_file=zaslavsk_WBDH_Participants.csv&params=none&dzc_file=https://maxim.ucsd.edu/dzgen/lib-staging-uploads/063044157874ce7d5841c906fa6d8073/content.dzc&active_object=null\n",
            "Local Tile Collection Path :  /lib-nfs/dzgen/063044157874ce7d5841c906fa6d8073/content.dzc\n",
            "Local Full-size Image Path:  /lib-nfs/dzgen/063044157874ce7d5841c906fa6d8073/full_images/\n",
            "Full-size Images Not Available\n"
          ]
        }
      ],
      "source": [
        "# Check if the parameters are correct\n",
        "import webbrowser\n",
        "import ntpath\n",
        "import os\n",
        "from IPython.display import Markdown, display\n",
        "def printmd(string):\n",
        "    display(Markdown(string))\n",
        "\n",
        "url_partitioned = full_notebook_url.partition('/SuaveDispatch')\n",
        "base_url = url_partitioned[0];\n",
        "images_available = False\n",
        "\n",
        "\n",
        "if dzc_file == \"undefined\":\n",
        "    dzc_file = \"\"\n",
        "    localdzc = \"\" \n",
        "    full_images = \"full images not available on NFS storage\"\n",
        "if len(dzc_file) > 20:\n",
        "    if \"lib-staging-uploads\" in dzc_file:\n",
        "        localdzc = dzc_file.replace(\"https://maxim.ucsd.edu/dzgen/lib-staging-uploads\",\"/lib-nfs/dzgen\")\n",
        "        full_images = localdzc.replace(\"/content.dzc\",\"/full_images/\")\n",
        "    else:\n",
        "        localdzc = \"dzc not available on NFS storage\"\n",
        "        full_images = \"full images not available on NFS storage\"\n",
        "        images_available = False\n",
        "else:\n",
        "    localdzc = \"dzc not available on NFS storage\"\n",
        "    full_images = \"full images not available on NFS storage\"\n",
        "    images_available = False\n",
        "    \n",
        "\n",
        "printmd(\"<b><span style='color:red'>Verify survey parameters: </span></b>\")\n",
        "\n",
        "print(\"Base Survey URL: \", survey_url)\n",
        "print(\"Enabled Views: \", views)\n",
        "print(\"Default View: \", view)\n",
        "print(\"User ID: \", user)\n",
        "print(\"Additional Parameters: \", params)\n",
        "print(\"Data File: \", csv_file)\n",
        "print(\"Image Tile Collection URL: \", dzc_file)\n",
        "print(\"Active Object: \", active_object)\n",
        "print(\"Jupyter Hub URL: \", base_url)\n",
        "print(\"Local Tile Collection Path : \", localdzc)\n",
        "print(\"Local Full-size Image Path: \", full_images)\n",
        "if os.path.exists(full_images):\n",
        "    print(\"Full-size Images Available\")\n",
        "else:\n",
        "    print(\"Full-size Images Not Available\")\n",
        "    "
      ],
      "id": "sVe1t1k5P6rC"
    },
    {
      "cell_type": "markdown",
      "metadata": {
        "id": "JOTmkEI5P6rD"
      },
      "source": [
        "<h2><span style=\"color:red\">4. Load notebooks from github repository</span></h2>\n",
        "\n",
        "<span style=\"color:red\">Skip this cell if you are already running notebooks from your repo  - don't clone you repo the second time!</span> "
      ],
      "id": "JOTmkEI5P6rD"
    },
    {
      "cell_type": "code",
      "source": [
        "!rm -rf myclone\n",
        "!git clone --depth 1 \"https://github.com/DDDyylan/Suave_on_Colab.git\" myclone\n",
        "url1 = ('{base_url}/SuaveDispatch.ipynb?'+'survey_url=' + survey_url + '&' + 'views=' + views + '&' 'view=' + view + '&' + 'user='+user+'&'+'csv='+csv_file+'&'+'dzc='+dzc_file+\"&\"+'active_object='+active_object).format(base_url=base_url +\"/myclone\")"
      ],
      "metadata": {
        "colab": {
          "base_uri": "https://localhost:8080/"
        },
        "id": "2Q2o8Z28igjc",
        "outputId": "23970c14-2a24-4e32-ccb5-6c22d934c401"
      },
      "id": "2Q2o8Z28igjc",
      "execution_count": 13,
      "outputs": [
        {
          "output_type": "stream",
          "name": "stdout",
          "text": [
            "Cloning into 'myclone'...\n",
            "remote: Enumerating objects: 82, done.\u001b[K\n",
            "remote: Counting objects: 100% (82/82), done.\u001b[K\n",
            "remote: Compressing objects: 100% (63/63), done.\u001b[K\n",
            "remote: Total 82 (delta 18), reused 62 (delta 12), pack-reused 0\u001b[K\n",
            "Unpacking objects: 100% (82/82), 573.15 KiB | 4.98 MiB/s, done.\n"
          ]
        }
      ]
    },
    {
      "cell_type": "markdown",
      "metadata": {
        "id": "FhBq4i-7P6rE"
      },
      "source": [
        "## 5. Retrieve the survey file for processing\n",
        "\n",
        "As before, Shift-Enter to run this cell and continue to the next one. This merely prepares the data for subsequent processing"
      ],
      "id": "FhBq4i-7P6rE"
    },
    {
      "cell_type": "code",
      "source": [
        "import urllib3\n",
        "urllib3.disable_warnings(urllib3.exceptions.InsecureRequestWarning)\n",
        "\n",
        "csv_url = survey_url.split(\"main\")[0] + \"surveys/\" + csv_file\n",
        "\n",
        "# get the survey data file\n",
        "http = urllib3.PoolManager()\n",
        "r = http.request('GET', csv_url, preload_content=False)\n",
        "\n",
        "# place the file into temp_csvs \n",
        "path = \"/content/drive/MyDrive/suave/\" + csv_file \n",
        "with open(path, 'wb') as out:\n",
        "    while True:\n",
        "        data = r.read(1024)\n",
        "        if not data:\n",
        "            break\n",
        "        out.write(data)\n",
        "\n",
        "r.release_conn()\n",
        "printmd(\"<b><span style='color:red'>Survey file retrieved. Run next cell to continue.</span></b>\")"
      ],
      "metadata": {
        "colab": {
          "base_uri": "https://localhost:8080/",
          "height": 46
        },
        "id": "hR0pX2-Oirjv",
        "outputId": "01c704a6-86ba-4c4c-9697-2924dab7734b"
      },
      "id": "hR0pX2-Oirjv",
      "execution_count": 14,
      "outputs": [
        {
          "output_type": "display_data",
          "data": {
            "text/plain": [
              "<IPython.core.display.Markdown object>"
            ],
            "text/markdown": "<b><span style='color:red'>Survey file retrieved. Run next cell to continue.</span></b>"
          },
          "metadata": {}
        }
      ]
    },
    {
      "cell_type": "markdown",
      "metadata": {
        "collapsed": true,
        "id": "xOeZzAFyP6rF"
      },
      "source": [
        "## 6. Now, select a notebook to do some work\n",
        "\n",
        "Select a notebook, then continue to the next cell. Note that you will see only those operations that are supported on your selected hub."
      ],
      "id": "xOeZzAFyP6rF"
    },
    {
      "cell_type": "code",
      "source": [
        "from __future__ import print_function\n",
        "from ipywidgets import interact, interactive, fixed, interact_manual\n",
        "import ipywidgets as widgets\n",
        "\n",
        "from collections import OrderedDict\n",
        "\n",
        "nb_menu = OrderedDict()\n",
        "nb_menu_counter = 1\n",
        "\n",
        "menulist = [\n",
        "('Arithmetic Operations','arithmetic/SuaveArithmetic.ipynb','any'),\n",
        "('Descriptive Statistics','stats/DescriptiveStats.ipynb','any'),\n",
        "('Generate Contingency Tables','stats/Generate_Contingency_Tables.ipynb','any'),\n",
        "('Generate Factor Contributions','stats/Generate_Factor_Contributions.ipynb','any'),\n",
        "('Named Entity Recognition','tagger/NER.ipynb','any'),\n",
        "('Color Statistics','colors/ColorStats.ipynb','image'),\n",
        "('Classify Images','classify/ImageClassify.ipynb','image'),\n",
        "('Generate LeNet CNN Model v2','predict/PredictiveModel_v2.ipynb','image'),\n",
        "('Extend LeNet CNN Model','predict/ExtendModel.ipynb','image'),\n",
        "('Generate SVM Model','svm/SVMPredictiveModel.ipynb','image'),\n",
        "('Generate Aggregate Maps', 'maps/Generate_Aggregate_Maps_Suave.ipynb','any'),\n",
        "('Extend SVM Model','svm/ExtendSVM.ipynb','image'),\n",
        "('Generate SDG Dataset','SDG/GenerateSDGDataset.ipynb','largedataset'),\n",
        "('Explore with Holoviz','holoviz/holoviz.ipynb','any'),\n",
        "('Enhance Dataset','wrangling/qualgeoimage.ipynb','any'),\n",
        "('Knowledge Graph Query','kg/kg_query.ipynb','any'),\n",
        "('Annotate with NEMO','nemo/suave_nemo.ipynb','any'),\n",
        "('Transfer Learning','transfer_learning/transfer_learning.ipynb','image'),\n",
        "('Spatial Statistics','spatialstats/SpatialStats.ipynb','any')\n",
        "\n",
        "]\n",
        "\n",
        "if os.path.isfile(localdzc) and not os.path.isdir(full_images):\n",
        "    print(\"ATTENTION!  This hub supports image-based processing, but full-size images are not available for this survey. \\n Full-size image operations are not available from this menu.\\n Contact the admin at zaslavsk@sdsc.edu to re-generate images from image tiles.\")\n",
        "elif not os.path.isfile(localdzc):\n",
        "    print(\"ATTENTION!  Image tiles must be available on nfs storage.\\n This hub does not support nfs mounted storage. \\n Full-size image operations are not available from this menu.\")\n",
        "elif not os.path.isdir('/lib-nfs/largedatasets'):\n",
        "    print(\"ATTENTION!  Large datasets such as the SDG database must be available on nfs storage.\\n This hub does not support nfs mounted storage.\")\n",
        "\n",
        "\n",
        "# For a setup where dzc's are only on NFS share, use this:\n",
        "\n",
        "for label, nb, nbtype in menulist:\n",
        "    if nbtype == 'any':\n",
        "        nb_menu[str(nb_menu_counter) + '. ' + label] = nb\n",
        "        nb_menu_counter +=1\n",
        "    elif nbtype == 'image':\n",
        "        if os.path.isfile(localdzc) and os.path.isdir(full_images):\n",
        "            nb_menu[str(nb_menu_counter) + '. ' + label] = nb\n",
        "            nb_menu_counter +=1\n",
        "    elif nbtype == 'largedataset':\n",
        "        if os.path.isdir('/lib-nfs/largedatasets'):\n",
        "            nb_menu[str(nb_menu_counter) + '. ' + label] = nb\n",
        "            nb_menu_counter +=1\n",
        "        \n",
        "\n",
        "def f(notebooks_menu):\n",
        "    return notebooks_menu\n",
        "out = interact(f, notebooks_menu=nb_menu.keys());\n",
        "\n",
        "printmd(\"<b><span style='color:red'>Select a Jupyter notebook and then run next cell</span></b>\")"
      ],
      "metadata": {
        "colab": {
          "base_uri": "https://localhost:8080/",
          "height": 149,
          "referenced_widgets": [
            "f625a7d077404b9ca23bf66ac9f72e37",
            "a461cd83dfc343aca3736b56aff25175",
            "d73bea478c364bed957c7dfaa55ef968",
            "8ef8820c9f9345e49357ed6bc4daa8e4",
            "49bae184d0ae4217933b3530b6673c07",
            "4c9b42b3d3b545f8b5df14db6d9837d8",
            "dfbb69bc620e41b89a50d5f405fee6c6"
          ]
        },
        "id": "i5dM5ynNixcV",
        "outputId": "3199d93c-d778-4931-a4eb-79b2aec90bd7"
      },
      "id": "i5dM5ynNixcV",
      "execution_count": 15,
      "outputs": [
        {
          "output_type": "stream",
          "name": "stdout",
          "text": [
            "ATTENTION!  Image tiles must be available on nfs storage.\n",
            " This hub does not support nfs mounted storage. \n",
            " Full-size image operations are not available from this menu.\n"
          ]
        },
        {
          "output_type": "display_data",
          "data": {
            "text/plain": [
              "interactive(children=(Dropdown(description='notebooks_menu', options=('1. Arithmetic Operations', '2. Descript…"
            ],
            "application/vnd.jupyter.widget-view+json": {
              "version_major": 2,
              "version_minor": 0,
              "model_id": "f625a7d077404b9ca23bf66ac9f72e37"
            }
          },
          "metadata": {}
        },
        {
          "output_type": "display_data",
          "data": {
            "text/plain": [
              "<IPython.core.display.Markdown object>"
            ],
            "text/markdown": "<b><span style='color:red'>Select a Jupyter notebook and then run next cell</span></b>"
          },
          "metadata": {}
        }
      ]
    },
    {
      "cell_type": "markdown",
      "metadata": {
        "id": "W-Es3WiDP6rG"
      },
      "source": [
        "## 7. Open the selected notebook and pass survey parameters to it\n",
        "\n",
        "Once the URL is for the next notebook is constructed, click that URL to open it"
      ],
      "id": "W-Es3WiDP6rG"
    },
    {
      "cell_type": "code",
      "execution_count": 20,
      "metadata": {
        "id": "2e9I7kj1P6rH",
        "outputId": "c45dff3f-296d-4cc5-dc00-4f6150ea6d31",
        "colab": {
          "base_uri": "https://localhost:8080/",
          "height": 240,
          "referenced_widgets": [
            "bf222d2aa5b8417488462fb83ccff649",
            "226b2c67321449be8de8f937e8ff1933",
            "0570b2f8cfe540eba24bfe69d81a29b8",
            "b819d8462b2b48b89f1887c4cff735f6",
            "ddad6c21352f4d02922f1f19de58ef10",
            "04edc020ce514ad58db3a59cfd7fa648",
            "35774000b3164e08b0e30fdb22c49e1e",
            "3a83ad209e294c99bcc3d5b06b461310",
            "bb6da3f9c6ae4424b25113077c9a4a16",
            "44db471d56fa4fdf92347bd3aae2eb6c",
            "cf20aec8a94441c0a898e56fb9f39a5a"
          ]
        }
      },
      "outputs": [
        {
          "output_type": "stream",
          "name": "stderr",
          "text": [
            "WARNING:papermill.translators:Black is not installed, parameters wont be formatted\n",
            "WARNING:papermill:Input notebook does not contain a cell with tag 'parameters'\n"
          ]
        },
        {
          "output_type": "display_data",
          "data": {
            "text/plain": [
              "Executing:   0%|          | 0/23 [00:00<?, ?cell/s]"
            ],
            "application/vnd.jupyter.widget-view+json": {
              "version_major": 2,
              "version_minor": 0,
              "model_id": "bf222d2aa5b8417488462fb83ccff649"
            }
          },
          "metadata": {}
        },
        {
          "output_type": "stream",
          "name": "stderr",
          "text": [
            "ERROR:papermill:unhandled iopub msg: colab_request\n",
            "ERROR:papermill:unhandled iopub msg: colab_request\n",
            "ERROR:papermill:unhandled iopub msg: colab_request\n",
            "ERROR:papermill:unhandled iopub msg: colab_request\n",
            "ERROR:papermill:unhandled iopub msg: colab_request\n",
            "ERROR:papermill:unhandled iopub msg: colab_request\n",
            "ERROR:papermill:unhandled iopub msg: colab_request\n",
            "ERROR:papermill:unhandled iopub msg: colab_request\n",
            "ERROR:papermill:unhandled iopub msg: colab_request\n"
          ]
        }
      ],
      "source": [
        "chosen_nb_name = nb_menu[out.widget.result]\n",
        "path = '/content/drive/MyDrive/suave/'\n",
        "specific = 'myclone/operations/'+chosen_nb_name\n",
        "try:\n",
        "    pm.execute_notebook(\n",
        "        input_path=specific,\n",
        "        output_path=path+chosen_nb_name.split('/')[-1],\n",
        "        parameters=input_parameters\n",
        "    )\n",
        "except:\n",
        "    print(\"The chosen notebook has been created. It may takes a while to access it\")"
      ],
      "id": "2e9I7kj1P6rH"
    },
    {
      "cell_type": "code",
      "source": [],
      "metadata": {
        "id": "5I800JdCjblB"
      },
      "id": "5I800JdCjblB",
      "execution_count": null,
      "outputs": []
    }
  ],
  "metadata": {
    "kernelspec": {
      "display_name": "Python 3 (ipykernel)",
      "language": "python",
      "name": "python3"
    },
    "language_info": {
      "codemirror_mode": {
        "name": "ipython",
        "version": 3
      },
      "file_extension": ".py",
      "mimetype": "text/x-python",
      "name": "python",
      "nbconvert_exporter": "python",
      "pygments_lexer": "ipython3",
      "version": "3.10.11"
    },
    "papermill": {
      "default_parameters": {},
      "duration": 1.616343,
      "end_time": "2023-04-28T08:49:07.000372",
      "environment_variables": {},
      "exception": true,
      "input_path": "SuaveDispatch.ipynb",
      "output_path": "output.ipynb",
      "parameters": {
        "activeobject": "null",
        "csv": "zaslavsk_WBDH_Participants.csv",
        "dzc": "https://maxim.ucsd.edu/dzgen/lib-staging-uploads/063044157874ce7d5841c906fa6d8073/content.dzc",
        "file": "zaslavsk_WBDH_Participants.csv",
        "params": "none",
        "user": "zaslavsk",
        "view": "grid",
        "views": "1110101"
      },
      "start_time": "2023-04-28T08:49:05.384029",
      "version": "2.4.0"
    },
    "toc": {
      "base_numbering": 1,
      "nav_menu": {
        "height": "286px",
        "width": "578px"
      },
      "number_sections": true,
      "sideBar": true,
      "skip_h1_title": true,
      "title_cell": "Table of Contents",
      "title_sidebar": "Contents",
      "toc_cell": false,
      "toc_position": {},
      "toc_section_display": true,
      "toc_window_display": false
    },
    "colab": {
      "provenance": []
    },
    "widgets": {
      "application/vnd.jupyter.widget-state+json": {
        "f625a7d077404b9ca23bf66ac9f72e37": {
          "model_module": "@jupyter-widgets/controls",
          "model_name": "VBoxModel",
          "model_module_version": "1.5.0",
          "state": {
            "_dom_classes": [
              "widget-interact"
            ],
            "_model_module": "@jupyter-widgets/controls",
            "_model_module_version": "1.5.0",
            "_model_name": "VBoxModel",
            "_view_count": null,
            "_view_module": "@jupyter-widgets/controls",
            "_view_module_version": "1.5.0",
            "_view_name": "VBoxView",
            "box_style": "",
            "children": [
              "IPY_MODEL_a461cd83dfc343aca3736b56aff25175",
              "IPY_MODEL_d73bea478c364bed957c7dfaa55ef968"
            ],
            "layout": "IPY_MODEL_8ef8820c9f9345e49357ed6bc4daa8e4"
          }
        },
        "a461cd83dfc343aca3736b56aff25175": {
          "model_module": "@jupyter-widgets/controls",
          "model_name": "DropdownModel",
          "model_module_version": "1.5.0",
          "state": {
            "_dom_classes": [],
            "_model_module": "@jupyter-widgets/controls",
            "_model_module_version": "1.5.0",
            "_model_name": "DropdownModel",
            "_options_labels": [
              "1. Arithmetic Operations",
              "2. Descriptive Statistics",
              "3. Generate Contingency Tables",
              "4. Generate Factor Contributions",
              "5. Named Entity Recognition",
              "6. Generate Aggregate Maps",
              "7. Explore with Holoviz",
              "8. Enhance Dataset",
              "9. Knowledge Graph Query",
              "10. Annotate with NEMO",
              "11. Spatial Statistics"
            ],
            "_view_count": null,
            "_view_module": "@jupyter-widgets/controls",
            "_view_module_version": "1.5.0",
            "_view_name": "DropdownView",
            "description": "notebooks_menu",
            "description_tooltip": null,
            "disabled": false,
            "index": 0,
            "layout": "IPY_MODEL_49bae184d0ae4217933b3530b6673c07",
            "style": "IPY_MODEL_4c9b42b3d3b545f8b5df14db6d9837d8"
          }
        },
        "d73bea478c364bed957c7dfaa55ef968": {
          "model_module": "@jupyter-widgets/output",
          "model_name": "OutputModel",
          "model_module_version": "1.0.0",
          "state": {
            "_dom_classes": [],
            "_model_module": "@jupyter-widgets/output",
            "_model_module_version": "1.0.0",
            "_model_name": "OutputModel",
            "_view_count": null,
            "_view_module": "@jupyter-widgets/output",
            "_view_module_version": "1.0.0",
            "_view_name": "OutputView",
            "layout": "IPY_MODEL_dfbb69bc620e41b89a50d5f405fee6c6",
            "msg_id": "",
            "outputs": [
              {
                "output_type": "display_data",
                "data": {
                  "text/plain": "'1. Arithmetic Operations'",
                  "application/vnd.google.colaboratory.intrinsic+json": {
                    "type": "string"
                  }
                },
                "metadata": {}
              }
            ]
          }
        },
        "8ef8820c9f9345e49357ed6bc4daa8e4": {
          "model_module": "@jupyter-widgets/base",
          "model_name": "LayoutModel",
          "model_module_version": "1.2.0",
          "state": {
            "_model_module": "@jupyter-widgets/base",
            "_model_module_version": "1.2.0",
            "_model_name": "LayoutModel",
            "_view_count": null,
            "_view_module": "@jupyter-widgets/base",
            "_view_module_version": "1.2.0",
            "_view_name": "LayoutView",
            "align_content": null,
            "align_items": null,
            "align_self": null,
            "border": null,
            "bottom": null,
            "display": null,
            "flex": null,
            "flex_flow": null,
            "grid_area": null,
            "grid_auto_columns": null,
            "grid_auto_flow": null,
            "grid_auto_rows": null,
            "grid_column": null,
            "grid_gap": null,
            "grid_row": null,
            "grid_template_areas": null,
            "grid_template_columns": null,
            "grid_template_rows": null,
            "height": null,
            "justify_content": null,
            "justify_items": null,
            "left": null,
            "margin": null,
            "max_height": null,
            "max_width": null,
            "min_height": null,
            "min_width": null,
            "object_fit": null,
            "object_position": null,
            "order": null,
            "overflow": null,
            "overflow_x": null,
            "overflow_y": null,
            "padding": null,
            "right": null,
            "top": null,
            "visibility": null,
            "width": null
          }
        },
        "49bae184d0ae4217933b3530b6673c07": {
          "model_module": "@jupyter-widgets/base",
          "model_name": "LayoutModel",
          "model_module_version": "1.2.0",
          "state": {
            "_model_module": "@jupyter-widgets/base",
            "_model_module_version": "1.2.0",
            "_model_name": "LayoutModel",
            "_view_count": null,
            "_view_module": "@jupyter-widgets/base",
            "_view_module_version": "1.2.0",
            "_view_name": "LayoutView",
            "align_content": null,
            "align_items": null,
            "align_self": null,
            "border": null,
            "bottom": null,
            "display": null,
            "flex": null,
            "flex_flow": null,
            "grid_area": null,
            "grid_auto_columns": null,
            "grid_auto_flow": null,
            "grid_auto_rows": null,
            "grid_column": null,
            "grid_gap": null,
            "grid_row": null,
            "grid_template_areas": null,
            "grid_template_columns": null,
            "grid_template_rows": null,
            "height": null,
            "justify_content": null,
            "justify_items": null,
            "left": null,
            "margin": null,
            "max_height": null,
            "max_width": null,
            "min_height": null,
            "min_width": null,
            "object_fit": null,
            "object_position": null,
            "order": null,
            "overflow": null,
            "overflow_x": null,
            "overflow_y": null,
            "padding": null,
            "right": null,
            "top": null,
            "visibility": null,
            "width": null
          }
        },
        "4c9b42b3d3b545f8b5df14db6d9837d8": {
          "model_module": "@jupyter-widgets/controls",
          "model_name": "DescriptionStyleModel",
          "model_module_version": "1.5.0",
          "state": {
            "_model_module": "@jupyter-widgets/controls",
            "_model_module_version": "1.5.0",
            "_model_name": "DescriptionStyleModel",
            "_view_count": null,
            "_view_module": "@jupyter-widgets/base",
            "_view_module_version": "1.2.0",
            "_view_name": "StyleView",
            "description_width": ""
          }
        },
        "dfbb69bc620e41b89a50d5f405fee6c6": {
          "model_module": "@jupyter-widgets/base",
          "model_name": "LayoutModel",
          "model_module_version": "1.2.0",
          "state": {
            "_model_module": "@jupyter-widgets/base",
            "_model_module_version": "1.2.0",
            "_model_name": "LayoutModel",
            "_view_count": null,
            "_view_module": "@jupyter-widgets/base",
            "_view_module_version": "1.2.0",
            "_view_name": "LayoutView",
            "align_content": null,
            "align_items": null,
            "align_self": null,
            "border": null,
            "bottom": null,
            "display": null,
            "flex": null,
            "flex_flow": null,
            "grid_area": null,
            "grid_auto_columns": null,
            "grid_auto_flow": null,
            "grid_auto_rows": null,
            "grid_column": null,
            "grid_gap": null,
            "grid_row": null,
            "grid_template_areas": null,
            "grid_template_columns": null,
            "grid_template_rows": null,
            "height": null,
            "justify_content": null,
            "justify_items": null,
            "left": null,
            "margin": null,
            "max_height": null,
            "max_width": null,
            "min_height": null,
            "min_width": null,
            "object_fit": null,
            "object_position": null,
            "order": null,
            "overflow": null,
            "overflow_x": null,
            "overflow_y": null,
            "padding": null,
            "right": null,
            "top": null,
            "visibility": null,
            "width": null
          }
        },
        "bf222d2aa5b8417488462fb83ccff649": {
          "model_module": "@jupyter-widgets/controls",
          "model_name": "HBoxModel",
          "model_module_version": "1.5.0",
          "state": {
            "_dom_classes": [],
            "_model_module": "@jupyter-widgets/controls",
            "_model_module_version": "1.5.0",
            "_model_name": "HBoxModel",
            "_view_count": null,
            "_view_module": "@jupyter-widgets/controls",
            "_view_module_version": "1.5.0",
            "_view_name": "HBoxView",
            "box_style": "",
            "children": [
              "IPY_MODEL_226b2c67321449be8de8f937e8ff1933",
              "IPY_MODEL_0570b2f8cfe540eba24bfe69d81a29b8",
              "IPY_MODEL_b819d8462b2b48b89f1887c4cff735f6"
            ],
            "layout": "IPY_MODEL_ddad6c21352f4d02922f1f19de58ef10"
          }
        },
        "226b2c67321449be8de8f937e8ff1933": {
          "model_module": "@jupyter-widgets/controls",
          "model_name": "HTMLModel",
          "model_module_version": "1.5.0",
          "state": {
            "_dom_classes": [],
            "_model_module": "@jupyter-widgets/controls",
            "_model_module_version": "1.5.0",
            "_model_name": "HTMLModel",
            "_view_count": null,
            "_view_module": "@jupyter-widgets/controls",
            "_view_module_version": "1.5.0",
            "_view_name": "HTMLView",
            "description": "",
            "description_tooltip": null,
            "layout": "IPY_MODEL_04edc020ce514ad58db3a59cfd7fa648",
            "placeholder": "​",
            "style": "IPY_MODEL_35774000b3164e08b0e30fdb22c49e1e",
            "value": "Executing: 100%"
          }
        },
        "0570b2f8cfe540eba24bfe69d81a29b8": {
          "model_module": "@jupyter-widgets/controls",
          "model_name": "FloatProgressModel",
          "model_module_version": "1.5.0",
          "state": {
            "_dom_classes": [],
            "_model_module": "@jupyter-widgets/controls",
            "_model_module_version": "1.5.0",
            "_model_name": "FloatProgressModel",
            "_view_count": null,
            "_view_module": "@jupyter-widgets/controls",
            "_view_module_version": "1.5.0",
            "_view_name": "ProgressView",
            "bar_style": "success",
            "description": "",
            "description_tooltip": null,
            "layout": "IPY_MODEL_3a83ad209e294c99bcc3d5b06b461310",
            "max": 23,
            "min": 0,
            "orientation": "horizontal",
            "style": "IPY_MODEL_bb6da3f9c6ae4424b25113077c9a4a16",
            "value": 23
          }
        },
        "b819d8462b2b48b89f1887c4cff735f6": {
          "model_module": "@jupyter-widgets/controls",
          "model_name": "HTMLModel",
          "model_module_version": "1.5.0",
          "state": {
            "_dom_classes": [],
            "_model_module": "@jupyter-widgets/controls",
            "_model_module_version": "1.5.0",
            "_model_name": "HTMLModel",
            "_view_count": null,
            "_view_module": "@jupyter-widgets/controls",
            "_view_module_version": "1.5.0",
            "_view_name": "HTMLView",
            "description": "",
            "description_tooltip": null,
            "layout": "IPY_MODEL_44db471d56fa4fdf92347bd3aae2eb6c",
            "placeholder": "​",
            "style": "IPY_MODEL_cf20aec8a94441c0a898e56fb9f39a5a",
            "value": " 23/23 [00:05&lt;00:00,  6.71cell/s]"
          }
        },
        "ddad6c21352f4d02922f1f19de58ef10": {
          "model_module": "@jupyter-widgets/base",
          "model_name": "LayoutModel",
          "model_module_version": "1.2.0",
          "state": {
            "_model_module": "@jupyter-widgets/base",
            "_model_module_version": "1.2.0",
            "_model_name": "LayoutModel",
            "_view_count": null,
            "_view_module": "@jupyter-widgets/base",
            "_view_module_version": "1.2.0",
            "_view_name": "LayoutView",
            "align_content": null,
            "align_items": null,
            "align_self": null,
            "border": null,
            "bottom": null,
            "display": null,
            "flex": null,
            "flex_flow": null,
            "grid_area": null,
            "grid_auto_columns": null,
            "grid_auto_flow": null,
            "grid_auto_rows": null,
            "grid_column": null,
            "grid_gap": null,
            "grid_row": null,
            "grid_template_areas": null,
            "grid_template_columns": null,
            "grid_template_rows": null,
            "height": null,
            "justify_content": null,
            "justify_items": null,
            "left": null,
            "margin": null,
            "max_height": null,
            "max_width": null,
            "min_height": null,
            "min_width": null,
            "object_fit": null,
            "object_position": null,
            "order": null,
            "overflow": null,
            "overflow_x": null,
            "overflow_y": null,
            "padding": null,
            "right": null,
            "top": null,
            "visibility": null,
            "width": null
          }
        },
        "04edc020ce514ad58db3a59cfd7fa648": {
          "model_module": "@jupyter-widgets/base",
          "model_name": "LayoutModel",
          "model_module_version": "1.2.0",
          "state": {
            "_model_module": "@jupyter-widgets/base",
            "_model_module_version": "1.2.0",
            "_model_name": "LayoutModel",
            "_view_count": null,
            "_view_module": "@jupyter-widgets/base",
            "_view_module_version": "1.2.0",
            "_view_name": "LayoutView",
            "align_content": null,
            "align_items": null,
            "align_self": null,
            "border": null,
            "bottom": null,
            "display": null,
            "flex": null,
            "flex_flow": null,
            "grid_area": null,
            "grid_auto_columns": null,
            "grid_auto_flow": null,
            "grid_auto_rows": null,
            "grid_column": null,
            "grid_gap": null,
            "grid_row": null,
            "grid_template_areas": null,
            "grid_template_columns": null,
            "grid_template_rows": null,
            "height": null,
            "justify_content": null,
            "justify_items": null,
            "left": null,
            "margin": null,
            "max_height": null,
            "max_width": null,
            "min_height": null,
            "min_width": null,
            "object_fit": null,
            "object_position": null,
            "order": null,
            "overflow": null,
            "overflow_x": null,
            "overflow_y": null,
            "padding": null,
            "right": null,
            "top": null,
            "visibility": null,
            "width": null
          }
        },
        "35774000b3164e08b0e30fdb22c49e1e": {
          "model_module": "@jupyter-widgets/controls",
          "model_name": "DescriptionStyleModel",
          "model_module_version": "1.5.0",
          "state": {
            "_model_module": "@jupyter-widgets/controls",
            "_model_module_version": "1.5.0",
            "_model_name": "DescriptionStyleModel",
            "_view_count": null,
            "_view_module": "@jupyter-widgets/base",
            "_view_module_version": "1.2.0",
            "_view_name": "StyleView",
            "description_width": ""
          }
        },
        "3a83ad209e294c99bcc3d5b06b461310": {
          "model_module": "@jupyter-widgets/base",
          "model_name": "LayoutModel",
          "model_module_version": "1.2.0",
          "state": {
            "_model_module": "@jupyter-widgets/base",
            "_model_module_version": "1.2.0",
            "_model_name": "LayoutModel",
            "_view_count": null,
            "_view_module": "@jupyter-widgets/base",
            "_view_module_version": "1.2.0",
            "_view_name": "LayoutView",
            "align_content": null,
            "align_items": null,
            "align_self": null,
            "border": null,
            "bottom": null,
            "display": null,
            "flex": null,
            "flex_flow": null,
            "grid_area": null,
            "grid_auto_columns": null,
            "grid_auto_flow": null,
            "grid_auto_rows": null,
            "grid_column": null,
            "grid_gap": null,
            "grid_row": null,
            "grid_template_areas": null,
            "grid_template_columns": null,
            "grid_template_rows": null,
            "height": null,
            "justify_content": null,
            "justify_items": null,
            "left": null,
            "margin": null,
            "max_height": null,
            "max_width": null,
            "min_height": null,
            "min_width": null,
            "object_fit": null,
            "object_position": null,
            "order": null,
            "overflow": null,
            "overflow_x": null,
            "overflow_y": null,
            "padding": null,
            "right": null,
            "top": null,
            "visibility": null,
            "width": null
          }
        },
        "bb6da3f9c6ae4424b25113077c9a4a16": {
          "model_module": "@jupyter-widgets/controls",
          "model_name": "ProgressStyleModel",
          "model_module_version": "1.5.0",
          "state": {
            "_model_module": "@jupyter-widgets/controls",
            "_model_module_version": "1.5.0",
            "_model_name": "ProgressStyleModel",
            "_view_count": null,
            "_view_module": "@jupyter-widgets/base",
            "_view_module_version": "1.2.0",
            "_view_name": "StyleView",
            "bar_color": null,
            "description_width": ""
          }
        },
        "44db471d56fa4fdf92347bd3aae2eb6c": {
          "model_module": "@jupyter-widgets/base",
          "model_name": "LayoutModel",
          "model_module_version": "1.2.0",
          "state": {
            "_model_module": "@jupyter-widgets/base",
            "_model_module_version": "1.2.0",
            "_model_name": "LayoutModel",
            "_view_count": null,
            "_view_module": "@jupyter-widgets/base",
            "_view_module_version": "1.2.0",
            "_view_name": "LayoutView",
            "align_content": null,
            "align_items": null,
            "align_self": null,
            "border": null,
            "bottom": null,
            "display": null,
            "flex": null,
            "flex_flow": null,
            "grid_area": null,
            "grid_auto_columns": null,
            "grid_auto_flow": null,
            "grid_auto_rows": null,
            "grid_column": null,
            "grid_gap": null,
            "grid_row": null,
            "grid_template_areas": null,
            "grid_template_columns": null,
            "grid_template_rows": null,
            "height": null,
            "justify_content": null,
            "justify_items": null,
            "left": null,
            "margin": null,
            "max_height": null,
            "max_width": null,
            "min_height": null,
            "min_width": null,
            "object_fit": null,
            "object_position": null,
            "order": null,
            "overflow": null,
            "overflow_x": null,
            "overflow_y": null,
            "padding": null,
            "right": null,
            "top": null,
            "visibility": null,
            "width": null
          }
        },
        "cf20aec8a94441c0a898e56fb9f39a5a": {
          "model_module": "@jupyter-widgets/controls",
          "model_name": "DescriptionStyleModel",
          "model_module_version": "1.5.0",
          "state": {
            "_model_module": "@jupyter-widgets/controls",
            "_model_module_version": "1.5.0",
            "_model_name": "DescriptionStyleModel",
            "_view_count": null,
            "_view_module": "@jupyter-widgets/base",
            "_view_module_version": "1.2.0",
            "_view_name": "StyleView",
            "description_width": ""
          }
        }
      }
    }
  },
  "nbformat": 4,
  "nbformat_minor": 5
}