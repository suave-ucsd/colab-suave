{
  "cells": [
    {
      "cell_type": "markdown",
      "id": "e1a72401",
      "metadata": {
        "id": "e1a72401",
        "papermill": {
          "duration": 0.015954,
          "end_time": "2023-05-25T07:11:34.810812",
          "exception": false,
          "start_time": "2023-05-25T07:11:34.794858",
          "status": "completed"
        },
        "tags": []
      },
      "source": [
        "<h1><span style=\"color:red\">Data Preparation for SuAVE</span></h1>\n",
        "\n",
        "Several data enhancement operations are included in this notebook:\n",
        "* identifying the number of header rows, and rows and columns to keep or drop \n",
        "* assigning SuAVE qualifiers by introspecting the data (and letting you edit and approve the assignments)\n",
        "* adding geographic coordinates (in WGS84) based on a selected variable with placenames\n",
        "* adding geometric information based on a supplied GeoJSON file\n",
        "* generating images based on a selected text variable\n",
        "\n",
        "You will have an option to enhance an existing survey dataset passed from Suave, or load a local CSV file.  \n",
        "\n",
        "Additionally, launch respective notebooks if you need to convert between binary representation of multiple-response variables and SuAVE #multi variables, or prepare ordinal scale variables for analysis\n",
        "\n",
        "<h1><span style=\"color:red\">Once you retrieved and explored the data file, please run only those cells that you need!</span></h1>\n",
        "\n",
        "Author: Enrique Sanchez"
      ]
    },
    {
      "cell_type": "markdown",
      "id": "4d76552c",
      "metadata": {
        "id": "4d76552c",
        "papermill": {
          "duration": 0.022321,
          "end_time": "2023-05-25T07:11:34.842853",
          "exception": false,
          "start_time": "2023-05-25T07:11:34.820532",
          "status": "completed"
        },
        "tags": []
      },
      "source": [
        "## 1. Setup"
      ]
    },
    {
      "cell_type": "markdown",
      "id": "lGGdXMsMwDES",
      "metadata": {
        "id": "lGGdXMsMwDES"
      },
      "source": [
        "<p><span style=\"color:red\"> Connect to google drive is required</span></p>"
      ]
    },
    {
      "cell_type": "code",
      "execution_count": 5,
      "id": "u-lkuWN5wG7o",
      "metadata": {
        "colab": {
          "base_uri": "https://localhost:8080/"
        },
        "id": "u-lkuWN5wG7o",
        "outputId": "8e9e4667-878b-4866-e65a-5e4646b00ce3"
      },
      "outputs": [
        {
          "name": "stdout",
          "output_type": "stream",
          "text": [
            "Cloning into 'myclone'...\n",
            "remote: Enumerating objects: 81, done.\u001b[K\n",
            "remote: Counting objects: 100% (81/81), done.\u001b[K\n",
            "remote: Compressing objects: 100% (63/63), done.\u001b[K\n",
            "remote: Total 81 (delta 20), reused 52 (delta 11), pack-reused 0\u001b[K\n",
            "Unpacking objects: 100% (81/81), 2.90 MiB | 2.88 MiB/s, done.\n",
            "/content/myclone/helpers\n",
            "Already up to date.\n",
            "/content/myclone/operations/wrangling\n",
            "Already up to date.\n"
          ]
        }
      ],
      "source": [
        "from google.colab import drive\n",
        "drive.mount('/content/drive')\n",
        "\n",
        "!rm -rf myclone\n",
        "!git clone --depth 1 \"https://github.com/SteveLamont/Suave_on_Colab.git\" myclone\n",
        "\n",
        "%cd /content/myclone/helpers\n",
        "!git pull\n",
        "%cd /content/myclone/operations/wrangling\n",
        "!git pull"
      ]
    },
    {
      "cell_type": "markdown",
      "id": "cf3fd9d8",
      "metadata": {
        "id": "cf3fd9d8",
        "papermill": {
          "duration": 0.011868,
          "end_time": "2023-05-25T07:11:34.901146",
          "exception": false,
          "start_time": "2023-05-25T07:11:34.889278",
          "status": "completed"
        },
        "tags": []
      },
      "source": [
        "## 2. Import libraries, and select how to process the data"
      ]
    },
    {
      "cell_type": "markdown",
      "id": "0572aa18",
      "metadata": {
        "id": "0572aa18",
        "tags": [
          "papermill-error-cell-tag"
        ]
      },
      "source": [
        "<span id=\"papermill-error-cell\" style=\"color:red; font-family:Helvetica Neue, Helvetica, Arial, sans-serif; font-size:2em;\">Execution using papermill encountered an exception here and stopped:</span>"
      ]
    },
    {
      "cell_type": "code",
      "execution_count": 6,
      "id": "b4d9972e",
      "metadata": {
        "colab": {
          "base_uri": "https://localhost:8080/",
          "height": 217
        },
        "execution": {
          "iopub.execute_input": "2023-05-25T07:11:34.930238Z",
          "iopub.status.busy": "2023-05-25T07:11:34.929260Z",
          "iopub.status.idle": "2023-05-25T07:11:36.626835Z",
          "shell.execute_reply": "2023-05-25T07:11:36.625230Z"
        },
        "id": "b4d9972e",
        "outputId": "620b0124-e91c-48ac-c119-7c8fd5eebe5c",
        "papermill": {
          "duration": 1.714843,
          "end_time": "2023-05-25T07:11:36.628862",
          "exception": true,
          "start_time": "2023-05-25T07:11:34.914019",
          "status": "failed"
        },
        "tags": []
      },
      "outputs": [
        {
          "data": {
            "application/javascript": "(function(root) {\n  function now() {\n    return new Date();\n  }\n\n  var force = true;\n\n  if (typeof root._bokeh_onload_callbacks === \"undefined\" || force === true) {\n    root._bokeh_onload_callbacks = [];\n    root._bokeh_is_loading = undefined;\n  }\n\n  if (typeof (root._bokeh_timeout) === \"undefined\" || force === true) {\n    root._bokeh_timeout = Date.now() + 5000;\n    root._bokeh_failed_load = false;\n  }\n\n  function run_callbacks() {\n    try {\n      root._bokeh_onload_callbacks.forEach(function(callback) {\n        if (callback != null)\n          callback();\n      });\n    } finally {\n      delete root._bokeh_onload_callbacks\n    }\n    console.debug(\"Bokeh: all callbacks have finished\");\n  }\n\n  function load_libs(css_urls, js_urls, js_modules, callback) {\n    if (css_urls == null) css_urls = [];\n    if (js_urls == null) js_urls = [];\n    if (js_modules == null) js_modules = [];\n\n    root._bokeh_onload_callbacks.push(callback);\n    if (root._bokeh_is_loading > 0) {\n      console.debug(\"Bokeh: BokehJS is being loaded, scheduling callback at\", now());\n      return null;\n    }\n    if (js_urls.length === 0 && js_modules.length === 0) {\n      run_callbacks();\n      return null;\n    }\n    console.debug(\"Bokeh: BokehJS not loaded, scheduling load and callback at\", now());\n\n    function on_load() {\n      root._bokeh_is_loading--;\n      if (root._bokeh_is_loading === 0) {\n        console.debug(\"Bokeh: all BokehJS libraries/stylesheets loaded\");\n        run_callbacks()\n      }\n    }\n\n    function on_error() {\n      console.error(\"failed to load \" + url);\n    }\n\n    for (var i = 0; i < css_urls.length; i++) {\n      var url = css_urls[i];\n      const element = document.createElement(\"link\");\n      element.onload = on_load;\n      element.onerror = on_error;\n      element.rel = \"stylesheet\";\n      element.type = \"text/css\";\n      element.href = url;\n      console.debug(\"Bokeh: injecting link tag for BokehJS stylesheet: \", url);\n      document.body.appendChild(element);\n    }\n\n    var skip = [];\n    if (window.requirejs) {\n      window.requirejs.config({'packages': {}, 'paths': {'gridstack': 'https://cdn.jsdelivr.net/npm/gridstack@4.2.5/dist/gridstack-h5', 'notyf': 'https://cdn.jsdelivr.net/npm/notyf@3/notyf.min'}, 'shim': {'gridstack': {'exports': 'GridStack'}}});\n      require([\"gridstack\"], function(GridStack) {\n\twindow.GridStack = GridStack\n\ton_load()\n      })\n      require([\"notyf\"], function() {\n\ton_load()\n      })\n      root._bokeh_is_loading = css_urls.length + 2;\n    } else {\n      root._bokeh_is_loading = css_urls.length + js_urls.length + js_modules.length;\n    }    if (((window['GridStack'] !== undefined) && (!(window['GridStack'] instanceof HTMLElement))) || window.requirejs) {\n      var urls = ['https://cdn.holoviz.org/panel/0.14.4/dist/bundled/gridstack/gridstack@4.2.5/dist/gridstack-h5.js'];\n      for (var i = 0; i < urls.length; i++) {\n        skip.push(urls[i])\n      }\n    }    if (((window['Notyf'] !== undefined) && (!(window['Notyf'] instanceof HTMLElement))) || window.requirejs) {\n      var urls = ['https://cdn.holoviz.org/panel/0.14.4/dist/bundled/notificationarea/notyf@3/notyf.min.js'];\n      for (var i = 0; i < urls.length; i++) {\n        skip.push(urls[i])\n      }\n    }    for (var i = 0; i < js_urls.length; i++) {\n      var url = js_urls[i];\n      if (skip.indexOf(url) >= 0) {\n\tif (!window.requirejs) {\n\t  on_load();\n\t}\n\tcontinue;\n      }\n      var element = document.createElement('script');\n      element.onload = on_load;\n      element.onerror = on_error;\n      element.async = false;\n      element.src = url;\n      console.debug(\"Bokeh: injecting script tag for BokehJS library: \", url);\n      document.head.appendChild(element);\n    }\n    for (var i = 0; i < js_modules.length; i++) {\n      var url = js_modules[i];\n      if (skip.indexOf(url) >= 0) {\n\tif (!window.requirejs) {\n\t  on_load();\n\t}\n\tcontinue;\n      }\n      var element = document.createElement('script');\n      element.onload = on_load;\n      element.onerror = on_error;\n      element.async = false;\n      element.src = url;\n      element.type = \"module\";\n      console.debug(\"Bokeh: injecting script tag for BokehJS library: \", url);\n      document.head.appendChild(element);\n    }\n    if (!js_urls.length && !js_modules.length) {\n      on_load()\n    }\n  };\n\n  function inject_raw_css(css) {\n    const element = document.createElement(\"style\");\n    element.appendChild(document.createTextNode(css));\n    document.body.appendChild(element);\n  }\n\n  var js_urls = [\"https://cdn.bokeh.org/bokeh/release/bokeh-2.4.3.min.js\", \"https://cdn.bokeh.org/bokeh/release/bokeh-gl-2.4.3.min.js\", \"https://cdn.bokeh.org/bokeh/release/bokeh-widgets-2.4.3.min.js\", \"https://cdn.bokeh.org/bokeh/release/bokeh-tables-2.4.3.min.js\", \"https://cdn.bokeh.org/bokeh/release/bokeh-mathjax-2.4.3.min.js\", \"https://unpkg.com/@holoviz/panel@0.14.4/dist/panel.min.js\"];\n  var js_modules = [];\n  var css_urls = [\"https://cdn.holoviz.org/panel/0.14.4/dist/css/debugger.css\", \"https://cdn.holoviz.org/panel/0.14.4/dist/css/widgets.css\", \"https://cdn.holoviz.org/panel/0.14.4/dist/css/dataframe.css\", \"https://cdn.holoviz.org/panel/0.14.4/dist/css/json.css\", \"https://cdn.holoviz.org/panel/0.14.4/dist/css/loading.css\", \"https://cdn.holoviz.org/panel/0.14.4/dist/css/markdown.css\", \"https://cdn.holoviz.org/panel/0.14.4/dist/css/card.css\", \"https://cdn.holoviz.org/panel/0.14.4/dist/css/alerts.css\"];\n  var inline_js = [    function(Bokeh) {\n      inject_raw_css(\"\\n    .bk.pn-loading.arc:before {\\n      background-image: url(\\\"data:image/svg+xml;base64,PHN2ZyB4bWxucz0iaHR0cDovL3d3dy53My5vcmcvMjAwMC9zdmciIHN0eWxlPSJtYXJnaW46IGF1dG87IGJhY2tncm91bmQ6IG5vbmU7IGRpc3BsYXk6IGJsb2NrOyBzaGFwZS1yZW5kZXJpbmc6IGF1dG87IiB2aWV3Qm94PSIwIDAgMTAwIDEwMCIgcHJlc2VydmVBc3BlY3RSYXRpbz0ieE1pZFlNaWQiPiAgPGNpcmNsZSBjeD0iNTAiIGN5PSI1MCIgZmlsbD0ibm9uZSIgc3Ryb2tlPSIjYzNjM2MzIiBzdHJva2Utd2lkdGg9IjEwIiByPSIzNSIgc3Ryb2tlLWRhc2hhcnJheT0iMTY0LjkzMzYxNDMxMzQ2NDE1IDU2Ljk3Nzg3MTQzNzgyMTM4Ij4gICAgPGFuaW1hdGVUcmFuc2Zvcm0gYXR0cmlidXRlTmFtZT0idHJhbnNmb3JtIiB0eXBlPSJyb3RhdGUiIHJlcGVhdENvdW50PSJpbmRlZmluaXRlIiBkdXI9IjFzIiB2YWx1ZXM9IjAgNTAgNTA7MzYwIDUwIDUwIiBrZXlUaW1lcz0iMDsxIj48L2FuaW1hdGVUcmFuc2Zvcm0+ICA8L2NpcmNsZT48L3N2Zz4=\\\");\\n      background-size: auto calc(min(50%, 400px));\\n    }\\n    \");\n    },    function(Bokeh) {\n      Bokeh.set_log_level(\"info\");\n    },\nfunction(Bokeh) {} // ensure no trailing comma for IE\n  ];\n\n  function run_inline_js() {\n    if ((root.Bokeh !== undefined) || (force === true)) {\n      for (var i = 0; i < inline_js.length; i++) {\n        inline_js[i].call(root, root.Bokeh);\n      }} else if (Date.now() < root._bokeh_timeout) {\n      setTimeout(run_inline_js, 100);\n    } else if (!root._bokeh_failed_load) {\n      console.log(\"Bokeh: BokehJS failed to load within specified timeout.\");\n      root._bokeh_failed_load = true;\n    }\n  }\n\n  if (root._bokeh_is_loading === 0) {\n    console.debug(\"Bokeh: BokehJS loaded, going straight to plotting\");\n    run_inline_js();\n  } else {\n    load_libs(css_urls, js_urls, js_modules, function() {\n      console.debug(\"Bokeh: BokehJS plotting callback run at\", now());\n      run_inline_js();\n    });\n  }\n}(window));",
            "application/vnd.holoviews_load.v0+json": ""
          },
          "metadata": {},
          "output_type": "display_data"
        },
        {
          "data": {
            "application/javascript": "\nif ((window.PyViz === undefined) || (window.PyViz instanceof HTMLElement)) {\n  window.PyViz = {comms: {}, comm_status:{}, kernels:{}, receivers: {}, plot_index: []}\n}\n\n\n    function JupyterCommManager() {\n    }\n\n    JupyterCommManager.prototype.register_target = function(plot_id, comm_id, msg_handler) {\n      if (window.comm_manager || ((window.Jupyter !== undefined) && (Jupyter.notebook.kernel != null))) {\n        var comm_manager = window.comm_manager || Jupyter.notebook.kernel.comm_manager;\n        comm_manager.register_target(comm_id, function(comm) {\n          comm.on_msg(msg_handler);\n        });\n      } else if ((plot_id in window.PyViz.kernels) && (window.PyViz.kernels[plot_id])) {\n        window.PyViz.kernels[plot_id].registerCommTarget(comm_id, function(comm) {\n          comm.onMsg = msg_handler;\n        });\n      } else if (typeof google != 'undefined' && google.colab.kernel != null) {\n        google.colab.kernel.comms.registerTarget(comm_id, (comm) => {\n          var messages = comm.messages[Symbol.asyncIterator]();\n          function processIteratorResult(result) {\n            var message = result.value;\n            console.log(message)\n            var content = {data: message.data, comm_id};\n            var buffers = []\n            for (var buffer of message.buffers || []) {\n              buffers.push(new DataView(buffer))\n            }\n            var metadata = message.metadata || {};\n            var msg = {content, buffers, metadata}\n            msg_handler(msg);\n            return messages.next().then(processIteratorResult);\n          }\n          return messages.next().then(processIteratorResult);\n        })\n      }\n    }\n\n    JupyterCommManager.prototype.get_client_comm = function(plot_id, comm_id, msg_handler) {\n      if (comm_id in window.PyViz.comms) {\n        return window.PyViz.comms[comm_id];\n      } else if (window.comm_manager || ((window.Jupyter !== undefined) && (Jupyter.notebook.kernel != null))) {\n        var comm_manager = window.comm_manager || Jupyter.notebook.kernel.comm_manager;\n        var comm = comm_manager.new_comm(comm_id, {}, {}, {}, comm_id);\n        if (msg_handler) {\n          comm.on_msg(msg_handler);\n        }\n      } else if ((plot_id in window.PyViz.kernels) && (window.PyViz.kernels[plot_id])) {\n        var comm = window.PyViz.kernels[plot_id].connectToComm(comm_id);\n        comm.open();\n        if (msg_handler) {\n          comm.onMsg = msg_handler;\n        }\n      } else if (typeof google != 'undefined' && google.colab.kernel != null) {\n        var comm_promise = google.colab.kernel.comms.open(comm_id)\n        comm_promise.then((comm) => {\n          window.PyViz.comms[comm_id] = comm;\n          if (msg_handler) {\n            var messages = comm.messages[Symbol.asyncIterator]();\n            function processIteratorResult(result) {\n              var message = result.value;\n              var content = {data: message.data};\n              var metadata = message.metadata || {comm_id};\n              var msg = {content, metadata}\n              msg_handler(msg);\n              return messages.next().then(processIteratorResult);\n            }\n            return messages.next().then(processIteratorResult);\n          }\n        }) \n        var sendClosure = (data, metadata, buffers, disposeOnDone) => {\n          return comm_promise.then((comm) => {\n            comm.send(data, metadata, buffers, disposeOnDone);\n          });\n        };\n        var comm = {\n          send: sendClosure\n        };\n      }\n      window.PyViz.comms[comm_id] = comm;\n      return comm;\n    }\n    window.PyViz.comm_manager = new JupyterCommManager();\n    \n\n\nvar JS_MIME_TYPE = 'application/javascript';\nvar HTML_MIME_TYPE = 'text/html';\nvar EXEC_MIME_TYPE = 'application/vnd.holoviews_exec.v0+json';\nvar CLASS_NAME = 'output';\n\n/**\n * Render data to the DOM node\n */\nfunction render(props, node) {\n  var div = document.createElement(\"div\");\n  var script = document.createElement(\"script\");\n  node.appendChild(div);\n  node.appendChild(script);\n}\n\n/**\n * Handle when a new output is added\n */\nfunction handle_add_output(event, handle) {\n  var output_area = handle.output_area;\n  var output = handle.output;\n  if ((output.data == undefined) || (!output.data.hasOwnProperty(EXEC_MIME_TYPE))) {\n    return\n  }\n  var id = output.metadata[EXEC_MIME_TYPE][\"id\"];\n  var toinsert = output_area.element.find(\".\" + CLASS_NAME.split(' ')[0]);\n  if (id !== undefined) {\n    var nchildren = toinsert.length;\n    var html_node = toinsert[nchildren-1].children[0];\n    html_node.innerHTML = output.data[HTML_MIME_TYPE];\n    var scripts = [];\n    var nodelist = html_node.querySelectorAll(\"script\");\n    for (var i in nodelist) {\n      if (nodelist.hasOwnProperty(i)) {\n        scripts.push(nodelist[i])\n      }\n    }\n\n    scripts.forEach( function (oldScript) {\n      var newScript = document.createElement(\"script\");\n      var attrs = [];\n      var nodemap = oldScript.attributes;\n      for (var j in nodemap) {\n        if (nodemap.hasOwnProperty(j)) {\n          attrs.push(nodemap[j])\n        }\n      }\n      attrs.forEach(function(attr) { newScript.setAttribute(attr.name, attr.value) });\n      newScript.appendChild(document.createTextNode(oldScript.innerHTML));\n      oldScript.parentNode.replaceChild(newScript, oldScript);\n    });\n    if (JS_MIME_TYPE in output.data) {\n      toinsert[nchildren-1].children[1].textContent = output.data[JS_MIME_TYPE];\n    }\n    output_area._hv_plot_id = id;\n    if ((window.Bokeh !== undefined) && (id in Bokeh.index)) {\n      window.PyViz.plot_index[id] = Bokeh.index[id];\n    } else {\n      window.PyViz.plot_index[id] = null;\n    }\n  } else if (output.metadata[EXEC_MIME_TYPE][\"server_id\"] !== undefined) {\n    var bk_div = document.createElement(\"div\");\n    bk_div.innerHTML = output.data[HTML_MIME_TYPE];\n    var script_attrs = bk_div.children[0].attributes;\n    for (var i = 0; i < script_attrs.length; i++) {\n      toinsert[toinsert.length - 1].childNodes[1].setAttribute(script_attrs[i].name, script_attrs[i].value);\n    }\n    // store reference to server id on output_area\n    output_area._bokeh_server_id = output.metadata[EXEC_MIME_TYPE][\"server_id\"];\n  }\n}\n\n/**\n * Handle when an output is cleared or removed\n */\nfunction handle_clear_output(event, handle) {\n  var id = handle.cell.output_area._hv_plot_id;\n  var server_id = handle.cell.output_area._bokeh_server_id;\n  if (((id === undefined) || !(id in PyViz.plot_index)) && (server_id !== undefined)) { return; }\n  var comm = window.PyViz.comm_manager.get_client_comm(\"hv-extension-comm\", \"hv-extension-comm\", function () {});\n  if (server_id !== null) {\n    comm.send({event_type: 'server_delete', 'id': server_id});\n    return;\n  } else if (comm !== null) {\n    comm.send({event_type: 'delete', 'id': id});\n  }\n  delete PyViz.plot_index[id];\n  if ((window.Bokeh !== undefined) & (id in window.Bokeh.index)) {\n    var doc = window.Bokeh.index[id].model.document\n    doc.clear();\n    const i = window.Bokeh.documents.indexOf(doc);\n    if (i > -1) {\n      window.Bokeh.documents.splice(i, 1);\n    }\n  }\n}\n\n/**\n * Handle kernel restart event\n */\nfunction handle_kernel_cleanup(event, handle) {\n  delete PyViz.comms[\"hv-extension-comm\"];\n  window.PyViz.plot_index = {}\n}\n\n/**\n * Handle update_display_data messages\n */\nfunction handle_update_output(event, handle) {\n  handle_clear_output(event, {cell: {output_area: handle.output_area}})\n  handle_add_output(event, handle)\n}\n\nfunction register_renderer(events, OutputArea) {\n  function append_mime(data, metadata, element) {\n    // create a DOM node to render to\n    var toinsert = this.create_output_subarea(\n    metadata,\n    CLASS_NAME,\n    EXEC_MIME_TYPE\n    );\n    this.keyboard_manager.register_events(toinsert);\n    // Render to node\n    var props = {data: data, metadata: metadata[EXEC_MIME_TYPE]};\n    render(props, toinsert[0]);\n    element.append(toinsert);\n    return toinsert\n  }\n\n  events.on('output_added.OutputArea', handle_add_output);\n  events.on('output_updated.OutputArea', handle_update_output);\n  events.on('clear_output.CodeCell', handle_clear_output);\n  events.on('delete.Cell', handle_clear_output);\n  events.on('kernel_ready.Kernel', handle_kernel_cleanup);\n\n  OutputArea.prototype.register_mime_type(EXEC_MIME_TYPE, append_mime, {\n    safe: true,\n    index: 0\n  });\n}\n\nif (window.Jupyter !== undefined) {\n  try {\n    var events = require('base/js/events');\n    var OutputArea = require('notebook/js/outputarea').OutputArea;\n    if (OutputArea.prototype.mime_types().indexOf(EXEC_MIME_TYPE) == -1) {\n      register_renderer(events, OutputArea);\n    }\n  } catch(err) {\n  }\n}\n",
            "application/vnd.holoviews_load.v0+json": ""
          },
          "metadata": {},
          "output_type": "display_data"
        },
        {
          "data": {
            "text/html": [
              "<style>.bk-root, .bk-root .bk:before, .bk-root .bk:after {\n",
              "  font-family: var(--jp-ui-font-size1);\n",
              "  font-size: var(--jp-ui-font-size1);\n",
              "  color: var(--jp-ui-font-color1);\n",
              "}\n",
              "</style>"
            ]
          },
          "metadata": {},
          "output_type": "display_data"
        },
        {
          "ename": "NameError",
          "evalue": "ignored",
          "output_type": "error",
          "traceback": [
            "\u001b[0;31m---------------------------------------------------------------------------\u001b[0m",
            "\u001b[0;31mNameError\u001b[0m                                 Traceback (most recent call last)",
            "\u001b[0;32m<ipython-input-6-4601e9d17be7>\u001b[0m in \u001b[0;36m<cell line: 35>\u001b[0;34m()\u001b[0m\n\u001b[1;32m     33\u001b[0m \u001b[0;32mimport\u001b[0m \u001b[0mGeoToolsSuave\u001b[0m \u001b[0;32mas\u001b[0m \u001b[0mgt\u001b[0m\u001b[0;34m\u001b[0m\u001b[0;34m\u001b[0m\u001b[0m\n\u001b[1;32m     34\u001b[0m \u001b[0;34m\u001b[0m\u001b[0m\n\u001b[0;32m---> 35\u001b[0;31m \u001b[0murl_partitioned\u001b[0m \u001b[0;34m=\u001b[0m \u001b[0mfull_notebook_url\u001b[0m\u001b[0;34m.\u001b[0m\u001b[0mpartition\u001b[0m\u001b[0;34m(\u001b[0m\u001b[0;34m'/operations'\u001b[0m\u001b[0;34m)\u001b[0m\u001b[0;34m\u001b[0m\u001b[0;34m\u001b[0m\u001b[0m\n\u001b[0m\u001b[1;32m     36\u001b[0m \u001b[0mbase_url\u001b[0m \u001b[0;34m=\u001b[0m \u001b[0murl_partitioned\u001b[0m\u001b[0;34m[\u001b[0m\u001b[0;36m0\u001b[0m\u001b[0;34m]\u001b[0m\u001b[0;34m;\u001b[0m\u001b[0;34m\u001b[0m\u001b[0;34m\u001b[0m\u001b[0m\n",
            "\u001b[0;31mNameError\u001b[0m: name 'full_notebook_url' is not defined"
          ]
        }
      ],
      "source": [
        "# common imports\n",
        "from __future__ import print_function\n",
        "from ipywidgets import interact, interactive, fixed, interact_manual\n",
        "import ipywidgets as widgets\n",
        "from IPython.display import Markdown, display\n",
        "\n",
        "import pandas as pd\n",
        "pd.set_option('display.max_colwidth', 0)\n",
        "    \n",
        "import numpy as np\n",
        "import panel as pn\n",
        "\n",
        "pn.extension()\n",
        "def printmd(string):\n",
        "    display(Markdown(string))\n",
        "\n",
        "absolutePath = \"/content/drive/MyDrive/suave/\"\n",
        "\n",
        "# local imports\n",
        "import sys\n",
        "sys.path.insert(1, '../../helpers')\n",
        "import panel_libs as panellibs\n",
        "import suave_integration as suaveint\n",
        "\n",
        "# specific imports\n",
        "import requests\n",
        "import re\n",
        "\n",
        "# Importing scripts\n",
        "import FileScript as fs\n",
        "import QualifierSuave as ql\n",
        "import StringImageSuave as si\n",
        "import GeoToolsSuave as gt\n",
        "\n",
        "url_partitioned = full_notebook_url.partition('/operations')\n",
        "base_url = url_partitioned[0];\n"
      ]
    },
    {
      "cell_type": "markdown",
      "id": "da6394d2",
      "metadata": {
        "id": "da6394d2",
        "papermill": {
          "duration": null,
          "end_time": null,
          "exception": null,
          "start_time": null,
          "status": "pending"
        },
        "tags": []
      },
      "source": [
        "<h2><span style=\"color:red\">To launch a notebook for processing #multi and ordinal scale variables, make a selection and click the URL below</span></h2>\n",
        "Otherwise, continue to step 3\n"
      ]
    },
    {
      "cell_type": "code",
      "execution_count": null,
      "id": "72a8f90a",
      "metadata": {
        "id": "72a8f90a",
        "papermill": {
          "duration": null,
          "end_time": null,
          "exception": null,
          "start_time": null,
          "status": "pending"
        },
        "tags": []
      },
      "outputs": [],
      "source": [
        "radio_group = pn.widgets.RadioBoxGroup(name='Select notebook', options=['Convert binary variables to #multi', \n",
        "                                                                        'Convert #multi to binary',\n",
        "                                                                        'Recode ordinal scale variables'], \n",
        "                                       inline=False)\n",
        "radio_group"
      ]
    },
    {
      "cell_type": "code",
      "execution_count": null,
      "id": "ecc5facd",
      "metadata": {
        "id": "ecc5facd",
        "papermill": {
          "duration": null,
          "end_time": null,
          "exception": null,
          "start_time": null,
          "status": "pending"
        },
        "tags": []
      },
      "outputs": [],
      "source": [
        "if radio_group.value == 'Convert binary variables to #multi':\n",
        "    nb_name = \"Binary_to_multi\"\n",
        "elif radio_group.value == 'Convert #multi to binary':\n",
        "    nb_name = \"Multi_to_binary\"\n",
        "elif radio_group.value == 'Recode ordinal scale variables':\n",
        "    nb_name = \"Ordinal_recode\"\n",
        "    \n",
        "import webbrowser\n",
        "url1 = ('{base_url}/operations/wrangling/{nb_name}.ipynb?'+'surveyurl=' + survey_url + '&' + 'views=' + views + '&' 'view=' + view + '&' + 'user='+user+'&'+'csv='+csv_file+'&'+'dzc='+dzc_file+\"&\"+'activeobject='+active_object).format(base_url=base_url, nb_name=nb_name)\n",
        "\n",
        "printmd(\"<b><span style='color:red'>Click the URL to open the selected notebook:</span></b>\")\n",
        "print(url1)\n",
        "\n",
        "# webbrowser.open(url1)\n"
      ]
    },
    {
      "cell_type": "markdown",
      "id": "463aaaec",
      "metadata": {
        "id": "463aaaec",
        "papermill": {
          "duration": null,
          "end_time": null,
          "exception": null,
          "start_time": null,
          "status": "pending"
        },
        "tags": []
      },
      "source": [
        "## 3. Select a survey file from SuAVE or import a local CSV file"
      ]
    },
    {
      "cell_type": "code",
      "execution_count": null,
      "id": "16abe906",
      "metadata": {
        "id": "16abe906",
        "papermill": {
          "duration": null,
          "end_time": null,
          "exception": null,
          "start_time": null,
          "status": "pending"
        },
        "tags": []
      },
      "outputs": [],
      "source": [
        "data_select = pn.widgets.RadioBoxGroup(name='Select notebook', options=['Load survey file from SuAVE', \n",
        "                                                                        'Import a local CSV file'], \n",
        "                                       inline=False)\n",
        "data_select"
      ]
    },
    {
      "cell_type": "code",
      "execution_count": null,
      "id": "5afe8646",
      "metadata": {
        "id": "5afe8646",
        "papermill": {
          "duration": null,
          "end_time": null,
          "exception": null,
          "start_time": null,
          "status": "pending"
        },
        "tags": []
      },
      "outputs": [],
      "source": [
        "data_input = pn.widgets.FileInput()\n",
        "    \n",
        "def check_selection():\n",
        "    if data_select.value == 'Load survey file from SuAVE':\n",
        "        global fname\n",
        "        fname = absolutePath + csv_file\n",
        "        printmd(\"<b><span style='color:red; font-size: 200%;'>Current SuAVE survey will be loaded. Continue to step 4.</span></b>\")\n",
        "\n",
        "    else:\n",
        "        message = pn.pane.HTML(\"<b><span style='color:red; font-size: 200%;'>Upload data and continue to step 4.</span><br><span style='font-size: 150%;'>IMPORTANT: The local CSV file should not have SuAVE-specific variable names!</span></b>\", width=700)\n",
        "        return pn.Column(message, data_input)\n",
        "    \n",
        "check_selection()"
      ]
    },
    {
      "cell_type": "markdown",
      "id": "5166658d",
      "metadata": {
        "id": "5166658d",
        "papermill": {
          "duration": null,
          "end_time": null,
          "exception": null,
          "start_time": null,
          "status": "pending"
        },
        "tags": []
      },
      "source": [
        "## 4. Explore the data and define the dataframe to work with"
      ]
    },
    {
      "cell_type": "code",
      "execution_count": null,
      "id": "88b2d5ce",
      "metadata": {
        "id": "88b2d5ce",
        "papermill": {
          "duration": null,
          "end_time": null,
          "exception": null,
          "start_time": null,
          "status": "pending"
        },
        "scrolled": true,
        "tags": []
      },
      "outputs": [],
      "source": [
        "if not pd.isnull(data_input.filename):\n",
        "    fname = absolutePath + data_input.filename\n",
        "    data_input.save(fname)\n",
        "df = panellibs.extract_data(fname)\n",
        "# visualize the dataframe\n",
        "with pd.option_context(\"display.max_columns\", None):\n",
        "    if any(\"geometry\" in col for col in df.columns):\n",
        "        display(df.drop(['geometry'],axis=1))\n",
        "    else:\n",
        "        display(df)\n",
        "    \n"
      ]
    },
    {
      "cell_type": "code",
      "execution_count": null,
      "id": "36ecbbe3",
      "metadata": {
        "id": "36ecbbe3",
        "papermill": {
          "duration": null,
          "end_time": null,
          "exception": null,
          "start_time": null,
          "status": "pending"
        },
        "tags": []
      },
      "outputs": [],
      "source": [
        "# Define a dataframe subset\n",
        "fs.view_data(fname)\n",
        "\n"
      ]
    },
    {
      "cell_type": "markdown",
      "id": "fe346b74",
      "metadata": {
        "id": "fe346b74",
        "papermill": {
          "duration": null,
          "end_time": null,
          "exception": null,
          "start_time": null,
          "status": "pending"
        },
        "tags": []
      },
      "source": [
        "## 5. Generate & Edit Qualifiers"
      ]
    },
    {
      "cell_type": "code",
      "execution_count": null,
      "id": "535197ed",
      "metadata": {
        "id": "535197ed",
        "papermill": {
          "duration": null,
          "end_time": null,
          "exception": null,
          "start_time": null,
          "status": "pending"
        },
        "scrolled": true,
        "tags": []
      },
      "outputs": [],
      "source": [
        "printmd(\"<b><span style='color:red'>If you see an error message, you probably haven't clicked 'Finish & Save Data' in the previous dataframe view.</span></b>\")\n",
        "\n",
        "ql.qualifier_editor()"
      ]
    },
    {
      "cell_type": "code",
      "execution_count": null,
      "id": "376a3234",
      "metadata": {
        "id": "376a3234",
        "papermill": {
          "duration": null,
          "end_time": null,
          "exception": null,
          "start_time": null,
          "status": "pending"
        },
        "tags": []
      },
      "outputs": [],
      "source": [
        "# Local updated data frame\n",
        "df = ql.updated_df"
      ]
    },
    {
      "cell_type": "markdown",
      "id": "ebc3fa63",
      "metadata": {
        "id": "ebc3fa63",
        "papermill": {
          "duration": null,
          "end_time": null,
          "exception": null,
          "start_time": null,
          "status": "pending"
        },
        "tags": []
      },
      "source": [
        "## 6. Geocoder: placenames to point coordinates (Optional)\n",
        "Select a placename variable and generate Latitude and Longitude columns"
      ]
    },
    {
      "cell_type": "code",
      "execution_count": null,
      "id": "67caa26c",
      "metadata": {
        "id": "67caa26c",
        "papermill": {
          "duration": null,
          "end_time": null,
          "exception": null,
          "start_time": null,
          "status": "pending"
        },
        "tags": []
      },
      "outputs": [],
      "source": [
        "gt.geocoder(ql.stored_text)"
      ]
    },
    {
      "cell_type": "code",
      "execution_count": null,
      "id": "d98c3326",
      "metadata": {
        "id": "d98c3326",
        "papermill": {
          "duration": null,
          "end_time": null,
          "exception": null,
          "start_time": null,
          "status": "pending"
        },
        "tags": []
      },
      "outputs": [],
      "source": [
        "# Local updated data frame\n",
        "df = ql.updated_df"
      ]
    },
    {
      "cell_type": "markdown",
      "id": "2385e6b0",
      "metadata": {
        "id": "2385e6b0",
        "papermill": {
          "duration": null,
          "end_time": null,
          "exception": null,
          "start_time": null,
          "status": "pending"
        },
        "tags": []
      },
      "source": [
        "## 7. GeoJSON to Geometry (Optional)\n",
        "Generate a 'geometry' column based on an external GeoJSON file. One of feature properties in the GeoJSON file should have feature names, to match feature names in the survey file."
      ]
    },
    {
      "cell_type": "code",
      "execution_count": null,
      "id": "0b879b57",
      "metadata": {
        "id": "0b879b57",
        "papermill": {
          "duration": null,
          "end_time": null,
          "exception": null,
          "start_time": null,
          "status": "pending"
        },
        "tags": []
      },
      "outputs": [],
      "source": [
        "file = pn.widgets.FileInput()\n",
        "file"
      ]
    },
    {
      "cell_type": "code",
      "execution_count": null,
      "id": "f185181a",
      "metadata": {
        "id": "f185181a",
        "papermill": {
          "duration": null,
          "end_time": null,
          "exception": null,
          "start_time": null,
          "status": "pending"
        },
        "tags": []
      },
      "outputs": [],
      "source": [
        "gt.json_to_geometry(file.value, ql.stored_text)"
      ]
    },
    {
      "cell_type": "code",
      "execution_count": null,
      "id": "57523818",
      "metadata": {
        "id": "57523818",
        "papermill": {
          "duration": null,
          "end_time": null,
          "exception": null,
          "start_time": null,
          "status": "pending"
        },
        "tags": []
      },
      "outputs": [],
      "source": [
        "# Local updated data frame\n",
        "df = ql.updated_df"
      ]
    },
    {
      "cell_type": "markdown",
      "id": "e51b8ba8",
      "metadata": {
        "id": "e51b8ba8",
        "papermill": {
          "duration": null,
          "end_time": null,
          "exception": null,
          "start_time": null,
          "status": "pending"
        },
        "tags": []
      },
      "source": [
        "## 8. Generate images based on text values\n",
        "Creates a set of images based on a selected variable for use with SuAVE"
      ]
    },
    {
      "cell_type": "code",
      "execution_count": null,
      "id": "1ed900e2",
      "metadata": {
        "id": "1ed900e2",
        "papermill": {
          "duration": null,
          "end_time": null,
          "exception": null,
          "start_time": null,
          "status": "pending"
        },
        "tags": []
      },
      "outputs": [],
      "source": [
        "si.image_display(df, ql.stored_text, full_notebook_url.split('/qualgeoimage')[0])"
      ]
    },
    {
      "cell_type": "code",
      "execution_count": null,
      "id": "8c1c8a17",
      "metadata": {
        "id": "8c1c8a17",
        "papermill": {
          "duration": null,
          "end_time": null,
          "exception": null,
          "start_time": null,
          "status": "pending"
        },
        "tags": []
      },
      "outputs": [],
      "source": [
        "# Local updated data frame\n",
        "df = ql.updated_df"
      ]
    },
    {
      "cell_type": "markdown",
      "id": "7f044f54",
      "metadata": {
        "id": "7f044f54",
        "papermill": {
          "duration": null,
          "end_time": null,
          "exception": null,
          "start_time": null,
          "status": "pending"
        },
        "tags": []
      },
      "source": [
        "## 9. Final Data\n",
        "Explore the dataframe before generating a new survey from it"
      ]
    },
    {
      "cell_type": "code",
      "execution_count": null,
      "id": "35075ee9",
      "metadata": {
        "id": "35075ee9",
        "papermill": {
          "duration": null,
          "end_time": null,
          "exception": null,
          "start_time": null,
          "status": "pending"
        },
        "tags": []
      },
      "outputs": [],
      "source": [
        "df = ql.updated_df.fillna('')\n",
        "panellibs.slider(df)"
      ]
    },
    {
      "cell_type": "markdown",
      "id": "e309b965",
      "metadata": {
        "id": "e309b965",
        "papermill": {
          "duration": null,
          "end_time": null,
          "exception": null,
          "start_time": null,
          "status": "pending"
        },
        "tags": []
      },
      "source": [
        "## 10. Generate a new survey and open it in SuAVE"
      ]
    },
    {
      "cell_type": "code",
      "execution_count": null,
      "id": "fbb43590",
      "metadata": {
        "id": "fbb43590",
        "papermill": {
          "duration": null,
          "end_time": null,
          "exception": null,
          "start_time": null,
          "status": "pending"
        },
        "tags": []
      },
      "outputs": [],
      "source": [
        "if data_select.value == 'Import a local CSV file':\n",
        "    csv_file = data_input.filename\n",
        "    dzc_file = ''\n",
        "    \n",
        "new_file = suaveint.save_csv_file(df, absolutePath, csv_file)"
      ]
    },
    {
      "cell_type": "code",
      "execution_count": null,
      "id": "55e0c736",
      "metadata": {
        "id": "55e0c736",
        "papermill": {
          "duration": null,
          "end_time": null,
          "exception": null,
          "start_time": null,
          "status": "pending"
        },
        "tags": []
      },
      "outputs": [],
      "source": [
        "#Input survey name\n",
        "\n",
        "import ipywidgets as widgets\n",
        "from IPython.display import display\n",
        "\n",
        "input_text = widgets.Text(placeholder='Enter Survey Name...')\n",
        "output_text = widgets.Text()\n",
        "\n",
        "def bind_input_to_output(sender):\n",
        "    output_text.value = input_text.value\n",
        "\n",
        "# Tell the text input widget to call bind_input_to_output() on submit\n",
        "input_text.on_submit(bind_input_to_output)\n",
        "\n",
        "printmd(\"<b><span style='color:red'>Input survey name here, press Enter, and then run the next cell:</span></b>\")\n",
        "# Display input text box widget for input\n",
        "display(input_text)\n",
        "\n",
        "display(output_text)"
      ]
    },
    {
      "cell_type": "code",
      "execution_count": null,
      "id": "b8cef0b0",
      "metadata": {
        "id": "b8cef0b0",
        "papermill": {
          "duration": null,
          "end_time": null,
          "exception": null,
          "start_time": null,
          "status": "pending"
        },
        "tags": []
      },
      "outputs": [],
      "source": [
        "#Print survey name\n",
        "survey_name = output_text.value\n",
        "printmd(\"<b><span style='color:red'>Survey Name is: </span></b>\" + survey_name)"
      ]
    },
    {
      "cell_type": "code",
      "execution_count": null,
      "id": "c18fa228",
      "metadata": {
        "id": "c18fa228",
        "papermill": {
          "duration": null,
          "end_time": null,
          "exception": null,
          "start_time": null,
          "status": "pending"
        },
        "tags": []
      },
      "outputs": [],
      "source": [
        "suaveint.create_survey(survey_url,new_file, survey_name, dzc_file, user, csv_file, view, views, data_select.value)"
      ]
    },
    {
      "cell_type": "markdown",
      "id": "f3c9872c",
      "metadata": {
        "id": "f3c9872c",
        "papermill": {
          "duration": null,
          "end_time": null,
          "exception": null,
          "start_time": null,
          "status": "pending"
        },
        "tags": []
      },
      "source": [
        "## Explore the data frame with HoloViz"
      ]
    },
    {
      "cell_type": "code",
      "execution_count": null,
      "id": "34939d65",
      "metadata": {},
      "outputs": [],
      "source": [
        "!pip install papermill > /dev/null\n",
        "!apt-get install xattr > /dev/null\n",
        "%cd /content"
      ]
    },
    {
      "cell_type": "code",
      "execution_count": null,
      "id": "7c3fdad3",
      "metadata": {
        "id": "7c3fdad3",
        "papermill": {
          "duration": null,
          "end_time": null,
          "exception": null,
          "start_time": null,
          "status": "pending"
        },
        "tags": []
      },
      "outputs": [],
      "source": [
        "import papermill as pm\n",
        "from subprocess import getoutput\n",
        "from IPython.display import HTML\n",
        "from IPython.display import display\n",
        "\n",
        "chosen_nb_name = 'holoviz/holoviz.ipynb'\n",
        "path = '/content/drive/MyDrive/suave/'\n",
        "specific = 'myclone/operations/'+chosen_nb_name\n",
        "base_url = 'https://colab.research.google.com'\n",
        "opath = path+chosen_nb_name.split('/')[-1]\n",
        "\n",
        "parameters = {'user':user, \n",
        "              'csv':csv, \n",
        "              'params':params, \n",
        "              'dzc':dzc, \n",
        "              'activeobject':activeobject, \n",
        "              'surveyurl':surveyurl,\n",
        "              'view':view,\n",
        "              'full_notebook_url':full_notebook_url,\n",
        "              'csv_file': csv_file,\n",
        "              'dzc_file': dzc_file,\n",
        "              'active_object': active_object,\n",
        "              'survey_url': survey_url,\n",
        "              'views':views}\n",
        "\n",
        "try:\n",
        "    pm.execute_notebook(\n",
        "        input_path=specific,\n",
        "        output_path=opath,\n",
        "        parameters=parameters,\n",
        "        prepare_only=True,\n",
        "    )\n",
        "    fid = getoutput(f\"xattr -p 'user.drive.id' '{opath}' \")\n",
        "    display( HTML(f\"<br><br><hr><br><a href=https://colab.research.google.com/drive/{fid} target=_blank><b>Click here to run notebook</b></a>\") )\n",
        "except Exception as e:\n",
        "    print( e )\n"
      ]
    }
  ],
  "metadata": {
    "colab": {
      "provenance": []
    },
    "kernelspec": {
      "display_name": "Python 3",
      "language": "python",
      "name": "python3"
    },
    "language_info": {
      "codemirror_mode": {
        "name": "ipython",
        "version": 3
      },
      "file_extension": ".py",
      "mimetype": "text/x-python",
      "name": "python",
      "nbconvert_exporter": "python",
      "pygments_lexer": "ipython3",
      "version": "3.10.11"
    },
    "papermill": {
      "default_parameters": {},
      "duration": 5.067346,
      "end_time": "2023-05-25T07:11:38.306749",
      "environment_variables": {},
      "exception": true,
      "input_path": "myclone/operations/wrangling/qualgeoimage.ipynb",
      "output_path": "/content/drive/MyDrive/suave/qualgeoimage.ipynb",
      "parameters": {
        "active_object": "null",
        "csv_file": "zaslavsk_WBDH_Participants.csv",
        "dzc_file": "https://maxim.ucsd.edu/dzgen/lib-staging-uploads/063044157874ce7d5841c906fa6d8073/content.dzc",
        "full_notebook_url": "https://colab.research.google.com/drive/1aZCpg7UmG0nPUuRPTH2p5Nm43G0HmtQg?survey_url=https://suave-dev.sdsc.edu/main/file=zaslavsk_WBDH_Participants.csv&views=1110101&view=grid&user=zaslavsk&csv_file=zaslavsk_WBDH_Participants.csv&params=none&dzc_file=https://maxim.ucsd.edu/dzgen/lib-staging-uploads/063044157874ce7d5841c906fa6d8073/content.dzc&active_object=null",
        "params": "none",
        "survey_url": "https://suave-dev.sdsc.edu/main/file=zaslavsk_WBDH_Participants.csv",
        "user": "zaslavsk",
        "view": "grid",
        "views": "1110101"
      },
      "start_time": "2023-05-25T07:11:33.239403",
      "version": "2.4.0"
    }
  },
  "nbformat": 4,
  "nbformat_minor": 5
}
