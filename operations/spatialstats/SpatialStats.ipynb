{
  "cells": [
    {
      "cell_type": "markdown",
      "id": "c1ddeb27",
      "metadata": {
        "id": "c1ddeb27",
        "papermill": {
          "duration": 0.025603,
          "end_time": "2023-05-25T07:21:03.931663",
          "exception": false,
          "start_time": "2023-05-25T07:21:03.906060",
          "status": "completed"
        },
        "tags": []
      },
      "source": [
        "<h1><span style=\"color:red\">Examples of Spatial Statistics</span></h1>\n",
        "\n",
        "Currently works with polygon data in SuAVE\n",
        "\n"
      ]
    },
    {
      "cell_type": "markdown",
      "id": "e42b28a8",
      "metadata": {
        "id": "e42b28a8",
        "papermill": {
          "duration": 0.023556,
          "end_time": "2023-05-25T07:21:03.979491",
          "exception": false,
          "start_time": "2023-05-25T07:21:03.955935",
          "status": "completed"
        },
        "tags": []
      },
      "source": [
        "## 1. Retrieve survey parameters"
      ]
    },
    {
      "cell_type": "code",
      "execution_count": 1,
      "id": "a1233340",
      "metadata": {
        "colab": {
          "base_uri": "https://localhost:8080/"
        },
        "execution": {
          "iopub.execute_input": "2023-05-25T07:21:04.053723Z",
          "iopub.status.busy": "2023-05-25T07:21:04.053061Z",
          "iopub.status.idle": "2023-05-25T07:21:05.922618Z",
          "shell.execute_reply": "2023-05-25T07:21:05.919335Z"
        },
        "id": "a1233340",
        "outputId": "d2aafb01-3f37-44ef-99d6-ff9e868c2197",
        "papermill": {
          "duration": 1.912802,
          "end_time": "2023-05-25T07:21:05.930980",
          "exception": false,
          "start_time": "2023-05-25T07:21:04.018178",
          "status": "completed"
        },
        "tags": []
      },
      "outputs": [
        {
          "name": "stdout",
          "output_type": "stream",
          "text": [
            "Cloning into 'myclone'...\n",
            "remote: Enumerating objects: 81, done.\u001b[K\n",
            "remote: Counting objects: 100% (81/81), done.\u001b[K\n",
            "remote: Compressing objects: 100% (63/63), done.\u001b[K\n",
            "remote: Total 81 (delta 20), reused 49 (delta 11), pack-reused 0\u001b[K\n",
            "Unpacking objects: 100% (81/81), 2.90 MiB | 3.18 MiB/s, done.\n",
            "/content/myclone/helpers\n",
            "Already up to date.\n"
          ]
        }
      ],
      "source": [
        "from google.colab import drive\n",
        "drive.mount('/content/drive')\n",
        "\n",
        "!rm -rf myclone\n",
        "!git clone --depth 1 \"https://github.com/suave-ucsd/colab-suave.git\" myclone\n",
        "\n",
        "%cd /content/myclone/helpers\n",
        "!git pull"
      ]
    },
    {
      "cell_type": "markdown",
      "id": "57659803",
      "metadata": {
        "id": "57659803",
        "tags": [
          "papermill-error-cell-tag"
        ]
      },
      "source": [
        "<span id=\"papermill-error-cell\" style=\"color:red; font-family:Helvetica Neue, Helvetica, Arial, sans-serif; font-size:2em;\">Execution using papermill encountered an exception here and stopped:</span>"
      ]
    },
    {
      "cell_type": "code",
      "execution_count": 5,
      "id": "13d43810",
      "metadata": {
        "colab": {
          "base_uri": "https://localhost:8080/"
        },
        "execution": {
          "iopub.execute_input": "2023-05-25T07:21:05.964704Z",
          "iopub.status.busy": "2023-05-25T07:21:05.964251Z",
          "iopub.status.idle": "2023-05-25T07:21:07.752053Z",
          "shell.execute_reply": "2023-05-25T07:21:07.750569Z"
        },
        "id": "13d43810",
        "outputId": "e265ea85-6635-4637-b8aa-9162dc14c630",
        "papermill": {
          "duration": 1.808194,
          "end_time": "2023-05-25T07:21:07.753770",
          "exception": true,
          "start_time": "2023-05-25T07:21:05.945576",
          "status": "failed"
        },
        "scrolled": true,
        "tags": []
      },
      "outputs": [
        {
          "name": "stdout",
          "output_type": "stream",
          "text": [
            "Looking in indexes: https://pypi.org/simple, https://us-python.pkg.dev/colab-wheels/public/simple/\n",
            "Requirement already satisfied: libpysal in /usr/local/lib/python3.10/dist-packages (4.7.0)\n",
            "Requirement already satisfied: platformdirs in /usr/local/lib/python3.10/dist-packages (from libpysal) (3.3.0)\n",
            "Requirement already satisfied: beautifulsoup4 in /usr/local/lib/python3.10/dist-packages (from libpysal) (4.11.2)\n",
            "Requirement already satisfied: jinja2 in /usr/local/lib/python3.10/dist-packages (from libpysal) (3.1.2)\n",
            "Requirement already satisfied: numpy>=1.3 in /usr/local/lib/python3.10/dist-packages (from libpysal) (1.22.4)\n",
            "Requirement already satisfied: pandas in /usr/local/lib/python3.10/dist-packages (from libpysal) (1.5.3)\n",
            "Requirement already satisfied: requests in /usr/local/lib/python3.10/dist-packages (from libpysal) (2.27.1)\n",
            "Requirement already satisfied: scipy>=0.11 in /usr/local/lib/python3.10/dist-packages (from libpysal) (1.10.1)\n",
            "Requirement already satisfied: packaging in /usr/local/lib/python3.10/dist-packages (from libpysal) (23.1)\n",
            "Requirement already satisfied: soupsieve>1.2 in /usr/local/lib/python3.10/dist-packages (from beautifulsoup4->libpysal) (2.4.1)\n",
            "Requirement already satisfied: MarkupSafe>=2.0 in /usr/local/lib/python3.10/dist-packages (from jinja2->libpysal) (2.1.2)\n",
            "Requirement already satisfied: python-dateutil>=2.8.1 in /usr/local/lib/python3.10/dist-packages (from pandas->libpysal) (2.8.2)\n",
            "Requirement already satisfied: pytz>=2020.1 in /usr/local/lib/python3.10/dist-packages (from pandas->libpysal) (2022.7.1)\n",
            "Requirement already satisfied: urllib3<1.27,>=1.21.1 in /usr/local/lib/python3.10/dist-packages (from requests->libpysal) (1.26.15)\n",
            "Requirement already satisfied: certifi>=2017.4.17 in /usr/local/lib/python3.10/dist-packages (from requests->libpysal) (2022.12.7)\n",
            "Requirement already satisfied: charset-normalizer~=2.0.0 in /usr/local/lib/python3.10/dist-packages (from requests->libpysal) (2.0.12)\n",
            "Requirement already satisfied: idna<4,>=2.5 in /usr/local/lib/python3.10/dist-packages (from requests->libpysal) (3.4)\n",
            "Requirement already satisfied: six>=1.5 in /usr/local/lib/python3.10/dist-packages (from python-dateutil>=2.8.1->pandas->libpysal) (1.16.0)\n",
            "Looking in indexes: https://pypi.org/simple, https://us-python.pkg.dev/colab-wheels/public/simple/\n",
            "Requirement already satisfied: mgwr in /usr/local/lib/python3.10/dist-packages (2.1.2)\n",
            "Requirement already satisfied: scipy>=0.11 in /usr/local/lib/python3.10/dist-packages (from mgwr) (1.10.1)\n",
            "Requirement already satisfied: numpy>=1.3 in /usr/local/lib/python3.10/dist-packages (from mgwr) (1.22.4)\n",
            "Requirement already satisfied: libpysal>=4.0.0 in /usr/local/lib/python3.10/dist-packages (from mgwr) (4.7.0)\n",
            "Requirement already satisfied: spglm>=1.0.6 in /usr/local/lib/python3.10/dist-packages (from mgwr) (1.0.8)\n",
            "Requirement already satisfied: spreg in /usr/local/lib/python3.10/dist-packages (from mgwr) (1.3.2)\n",
            "Requirement already satisfied: platformdirs in /usr/local/lib/python3.10/dist-packages (from libpysal>=4.0.0->mgwr) (3.3.0)\n",
            "Requirement already satisfied: beautifulsoup4 in /usr/local/lib/python3.10/dist-packages (from libpysal>=4.0.0->mgwr) (4.11.2)\n",
            "Requirement already satisfied: jinja2 in /usr/local/lib/python3.10/dist-packages (from libpysal>=4.0.0->mgwr) (3.1.2)\n",
            "Requirement already satisfied: pandas in /usr/local/lib/python3.10/dist-packages (from libpysal>=4.0.0->mgwr) (1.5.3)\n",
            "Requirement already satisfied: requests in /usr/local/lib/python3.10/dist-packages (from libpysal>=4.0.0->mgwr) (2.27.1)\n",
            "Requirement already satisfied: packaging in /usr/local/lib/python3.10/dist-packages (from libpysal>=4.0.0->mgwr) (23.1)\n",
            "Requirement already satisfied: scikit-learn>=0.22 in /usr/local/lib/python3.10/dist-packages (from spreg->mgwr) (1.2.2)\n",
            "Requirement already satisfied: joblib>=1.1.1 in /usr/local/lib/python3.10/dist-packages (from scikit-learn>=0.22->spreg->mgwr) (1.2.0)\n",
            "Requirement already satisfied: threadpoolctl>=2.0.0 in /usr/local/lib/python3.10/dist-packages (from scikit-learn>=0.22->spreg->mgwr) (3.1.0)\n",
            "Requirement already satisfied: soupsieve>1.2 in /usr/local/lib/python3.10/dist-packages (from beautifulsoup4->libpysal>=4.0.0->mgwr) (2.4.1)\n",
            "Requirement already satisfied: MarkupSafe>=2.0 in /usr/local/lib/python3.10/dist-packages (from jinja2->libpysal>=4.0.0->mgwr) (2.1.2)\n",
            "Requirement already satisfied: python-dateutil>=2.8.1 in /usr/local/lib/python3.10/dist-packages (from pandas->libpysal>=4.0.0->mgwr) (2.8.2)\n",
            "Requirement already satisfied: pytz>=2020.1 in /usr/local/lib/python3.10/dist-packages (from pandas->libpysal>=4.0.0->mgwr) (2022.7.1)\n",
            "Requirement already satisfied: urllib3<1.27,>=1.21.1 in /usr/local/lib/python3.10/dist-packages (from requests->libpysal>=4.0.0->mgwr) (1.26.15)\n",
            "Requirement already satisfied: certifi>=2017.4.17 in /usr/local/lib/python3.10/dist-packages (from requests->libpysal>=4.0.0->mgwr) (2022.12.7)\n",
            "Requirement already satisfied: charset-normalizer~=2.0.0 in /usr/local/lib/python3.10/dist-packages (from requests->libpysal>=4.0.0->mgwr) (2.0.12)\n",
            "Requirement already satisfied: idna<4,>=2.5 in /usr/local/lib/python3.10/dist-packages (from requests->libpysal>=4.0.0->mgwr) (3.4)\n",
            "Requirement already satisfied: six>=1.5 in /usr/local/lib/python3.10/dist-packages (from python-dateutil>=2.8.1->pandas->libpysal>=4.0.0->mgwr) (1.16.0)\n",
            "Looking in indexes: https://pypi.org/simple, https://us-python.pkg.dev/colab-wheels/public/simple/\n",
            "Collecting geopandas\n",
            "  Downloading geopandas-0.13.0-py3-none-any.whl (1.1 MB)\n",
            "\u001b[2K     \u001b[90m━━━━━━━━━━━━━━━━━━━━━━━━━━━━━━━━━━━━━━━━\u001b[0m \u001b[32m1.1/1.1 MB\u001b[0m \u001b[31m15.1 MB/s\u001b[0m eta \u001b[36m0:00:00\u001b[0m\n",
            "\u001b[?25hCollecting fiona>=1.8.19 (from geopandas)\n",
            "  Downloading Fiona-1.9.4.post1-cp310-cp310-manylinux_2_17_x86_64.manylinux2014_x86_64.whl (16.4 MB)\n",
            "\u001b[2K     \u001b[90m━━━━━━━━━━━━━━━━━━━━━━━━━━━━━━━━━━━━━━━━\u001b[0m \u001b[32m16.4/16.4 MB\u001b[0m \u001b[31m74.3 MB/s\u001b[0m eta \u001b[36m0:00:00\u001b[0m\n",
            "\u001b[?25hRequirement already satisfied: packaging in /usr/local/lib/python3.10/dist-packages (from geopandas) (23.1)\n",
            "Requirement already satisfied: pandas>=1.1.0 in /usr/local/lib/python3.10/dist-packages (from geopandas) (1.5.3)\n",
            "Collecting pyproj>=3.0.1 (from geopandas)\n",
            "  Downloading pyproj-3.5.0-cp310-cp310-manylinux_2_17_x86_64.manylinux2014_x86_64.whl (7.7 MB)\n",
            "\u001b[2K     \u001b[90m━━━━━━━━━━━━━━━━━━━━━━━━━━━━━━━━━━━━━━━━\u001b[0m \u001b[32m7.7/7.7 MB\u001b[0m \u001b[31m92.2 MB/s\u001b[0m eta \u001b[36m0:00:00\u001b[0m\n",
            "\u001b[?25hRequirement already satisfied: shapely>=1.7.1 in /usr/local/lib/python3.10/dist-packages (from geopandas) (2.0.1)\n",
            "Requirement already satisfied: attrs>=19.2.0 in /usr/local/lib/python3.10/dist-packages (from fiona>=1.8.19->geopandas) (23.1.0)\n",
            "Requirement already satisfied: certifi in /usr/local/lib/python3.10/dist-packages (from fiona>=1.8.19->geopandas) (2022.12.7)\n",
            "Requirement already satisfied: click~=8.0 in /usr/local/lib/python3.10/dist-packages (from fiona>=1.8.19->geopandas) (8.1.3)\n",
            "Collecting click-plugins>=1.0 (from fiona>=1.8.19->geopandas)\n",
            "  Downloading click_plugins-1.1.1-py2.py3-none-any.whl (7.5 kB)\n",
            "Collecting cligj>=0.5 (from fiona>=1.8.19->geopandas)\n",
            "  Downloading cligj-0.7.2-py3-none-any.whl (7.1 kB)\n",
            "Requirement already satisfied: six in /usr/local/lib/python3.10/dist-packages (from fiona>=1.8.19->geopandas) (1.16.0)\n",
            "Requirement already satisfied: python-dateutil>=2.8.1 in /usr/local/lib/python3.10/dist-packages (from pandas>=1.1.0->geopandas) (2.8.2)\n",
            "Requirement already satisfied: pytz>=2020.1 in /usr/local/lib/python3.10/dist-packages (from pandas>=1.1.0->geopandas) (2022.7.1)\n",
            "Requirement already satisfied: numpy>=1.21.0 in /usr/local/lib/python3.10/dist-packages (from pandas>=1.1.0->geopandas) (1.22.4)\n",
            "Installing collected packages: pyproj, cligj, click-plugins, fiona, geopandas\n",
            "Successfully installed click-plugins-1.1.1 cligj-0.7.2 fiona-1.9.4.post1 geopandas-0.13.0 pyproj-3.5.0\n"
          ]
        }
      ],
      "source": [
        "# common imports\n",
        "!pip install libpysal\n",
        "!pip install mgwr\n",
        "!pip install geopandas\n",
        "from __future__ import print_function\n",
        "from ipywidgets import interact, interactive, fixed, interact_manual\n",
        "import ipywidgets as widgets\n",
        "from IPython.display import Markdown, display\n",
        "\n",
        "import pandas as pd\n",
        "pd.set_option('display.max_colwidth', 0)\n",
        "    \n",
        "import numpy as np\n",
        "import panel as pn\n",
        "\n",
        "def printmd(string):\n",
        "    display(Markdown(string))\n",
        "\n",
        "absolutePath = \"/content/drive/MyDrive/suave/\"\n",
        "\n",
        "# local imports\n",
        "import sys\n",
        "sys.path.insert(1, '../../helpers')\n",
        "import panel_libs as panellibs\n",
        "import suave_integration as suaveint\n",
        "\n",
        "# specific imports\n",
        "import math\n",
        "import matplotlib.pyplot as plt\n",
        "# from sklearn.linear_model import LinearRegression\n",
        "import os\n",
        "\n",
        "import libpysal as ps\n",
        "from mgwr.gwr import GWR, MGWR\n",
        "from mgwr.sel_bw import Sel_BW\n",
        "import geopandas as gp\n",
        "import matplotlib as mpl\n"
      ]
    },
    {
      "cell_type": "markdown",
      "id": "6a7fc4ee",
      "metadata": {
        "id": "6a7fc4ee",
        "papermill": {
          "duration": null,
          "end_time": null,
          "exception": null,
          "start_time": null,
          "status": "pending"
        },
        "tags": []
      },
      "source": [
        "## 2. Read the survey file and extract numeric variables"
      ]
    },
    {
      "cell_type": "code",
      "execution_count": null,
      "id": "2626eb3b",
      "metadata": {
        "id": "2626eb3b",
        "papermill": {
          "duration": null,
          "end_time": null,
          "exception": null,
          "start_time": null,
          "status": "pending"
        },
        "tags": []
      },
      "outputs": [],
      "source": [
        "\n",
        "# read the csv file\n",
        "df = panellibs.extract_data(absolutePath + csv_file)# print(absolutePath + csv_file)\n",
        "\n",
        "# create a list of variable names\n",
        "variables_df = pd.DataFrame({'varname':df.columns})\n",
        "printmd(\"<b><span style='color:red'>All variables in the survey file:</span></b>\")\n",
        "\n",
        "col = 0\n",
        "for var in variables_df.varname.values:\n",
        "    print(str(col) +\":  \"+ var)\n",
        "    col = col+1\n",
        "\n",
        "\n",
        "# create a dictionary of #number variables with abbreviated and full variable names \n",
        "var_list = {n[:n.index('#')]:n for n in variables_df.varname.values if '#number' in n}\n",
        "printmd(\"<b><span style='color:red'>Numeric variables:</span></b>\")\n",
        "\n",
        "col = 0\n",
        "for var in var_list:\n",
        "    print(str(col) +\":  \"+ var)\n",
        "    col = col+1\n",
        "\n",
        "#create a dataframe of only #number variables\n",
        "nums_df = df[[n for n in variables_df.varname.values if '#number' in n]]\n"
      ]
    },
    {
      "cell_type": "markdown",
      "id": "f67f64b4",
      "metadata": {
        "id": "f67f64b4",
        "papermill": {
          "duration": null,
          "end_time": null,
          "exception": null,
          "start_time": null,
          "status": "pending"
        },
        "tags": []
      },
      "source": [
        "## 3. Create a geodataframe"
      ]
    },
    {
      "cell_type": "code",
      "execution_count": null,
      "id": "0a8f8e45",
      "metadata": {
        "id": "0a8f8e45",
        "papermill": {
          "duration": null,
          "end_time": null,
          "exception": null,
          "start_time": null,
          "status": "pending"
        },
        "tags": []
      },
      "outputs": [],
      "source": [
        "# 1. figure out the geometry field\n",
        "geometry_vars = [col for col in df.columns if 'geometry' in col]\n",
        "geometry_vars"
      ]
    },
    {
      "cell_type": "code",
      "execution_count": null,
      "id": "e55eeefd",
      "metadata": {
        "id": "e55eeefd",
        "papermill": {
          "duration": null,
          "end_time": null,
          "exception": null,
          "start_time": null,
          "status": "pending"
        },
        "tags": []
      },
      "outputs": [],
      "source": [
        "# 2. convert this field to shapely geometry\n",
        "s = gp.GeoSeries.from_wkt(df[geometry_vars[0]])"
      ]
    },
    {
      "cell_type": "code",
      "execution_count": null,
      "id": "be12837b",
      "metadata": {
        "id": "be12837b",
        "papermill": {
          "duration": null,
          "end_time": null,
          "exception": null,
          "start_time": null,
          "status": "pending"
        },
        "tags": []
      },
      "outputs": [],
      "source": [
        "# 3. append the geometry series to the dataframe to create a gdf\n",
        "gdf = gp.GeoDataFrame(df, crs=\"EPSG:4326\", geometry=s)"
      ]
    },
    {
      "cell_type": "code",
      "execution_count": null,
      "id": "01571f23",
      "metadata": {
        "id": "01571f23",
        "papermill": {
          "duration": null,
          "end_time": null,
          "exception": null,
          "start_time": null,
          "status": "pending"
        },
        "tags": []
      },
      "outputs": [],
      "source": [
        "# 4. make sure it worked Ok, by plotting some variable\n",
        "\n",
        "col_to_map = 'Subjective wellbeing (0-10)#number'\n",
        "gdf.plot(figsize=(15,5), column=col_to_map,legend=True)\n",
        "print (col_to_map)"
      ]
    },
    {
      "cell_type": "markdown",
      "id": "2250e8aa",
      "metadata": {
        "id": "2250e8aa",
        "papermill": {
          "duration": null,
          "end_time": null,
          "exception": null,
          "start_time": null,
          "status": "pending"
        },
        "tags": []
      },
      "source": [
        "## 4. ESDA and Spatial Autocorrelation \n"
      ]
    },
    {
      "cell_type": "code",
      "execution_count": null,
      "id": "5a5b854b",
      "metadata": {
        "id": "5a5b854b",
        "papermill": {
          "duration": null,
          "end_time": null,
          "exception": null,
          "start_time": null,
          "status": "pending"
        },
        "tags": []
      },
      "outputs": [],
      "source": [
        "import esda # from PySAL\n",
        "%matplotlib inline"
      ]
    },
    {
      "cell_type": "code",
      "execution_count": null,
      "id": "3de411e4",
      "metadata": {
        "id": "3de411e4",
        "papermill": {
          "duration": null,
          "end_time": null,
          "exception": null,
          "start_time": null,
          "status": "pending"
        },
        "tags": []
      },
      "outputs": [],
      "source": [
        "# General info about the dataset\n",
        "gdf.info()"
      ]
    },
    {
      "cell_type": "code",
      "execution_count": null,
      "id": "8724c996",
      "metadata": {
        "id": "8724c996",
        "papermill": {
          "duration": null,
          "end_time": null,
          "exception": null,
          "start_time": null,
          "status": "pending"
        },
        "scrolled": true,
        "tags": []
      },
      "outputs": [],
      "source": [
        "with pd.option_context(\"display.max_columns\", None):\n",
        "    display(gdf.drop(['geometry'],axis=1))\n"
      ]
    },
    {
      "cell_type": "code",
      "execution_count": null,
      "id": "18900406",
      "metadata": {
        "id": "18900406",
        "papermill": {
          "duration": null,
          "end_time": null,
          "exception": null,
          "start_time": null,
          "status": "pending"
        },
        "scrolled": false,
        "tags": []
      },
      "outputs": [],
      "source": [
        "# Explore missing values\n",
        "\n",
        "with pd.option_context(\"display.max_rows\", None):\n",
        "    display(df.isnull().sum().sort_values(ascending=False))"
      ]
    },
    {
      "cell_type": "code",
      "execution_count": null,
      "id": "7f445abb",
      "metadata": {
        "id": "7f445abb",
        "papermill": {
          "duration": null,
          "end_time": null,
          "exception": null,
          "start_time": null,
          "status": "pending"
        },
        "tags": []
      },
      "outputs": [],
      "source": [
        "# Map selected variable\n",
        "\n",
        "cntry_name = gdf.columns[0]\n",
        "\n",
        "gdf.explore(column=col_to_map, cmap =\"Blues\", scheme=\"FisherJenks\", tiles = \"Stamen Watercolor\", \n",
        "                 tooltip={cntry_name,col_to_map}, popup=True,k=5, highlight=True,\n",
        "                 width=\"100%\", legend_kwds={\"caption\":col_to_map, \"colorbar\":False})"
      ]
    },
    {
      "cell_type": "code",
      "execution_count": null,
      "id": "e1abb3d6",
      "metadata": {
        "id": "e1abb3d6",
        "papermill": {
          "duration": null,
          "end_time": null,
          "exception": null,
          "start_time": null,
          "status": "pending"
        },
        "scrolled": true,
        "tags": []
      },
      "outputs": [],
      "source": [
        "# Create a histogram\n",
        "\n",
        "gdf[col_to_map].hist()"
      ]
    },
    {
      "cell_type": "markdown",
      "id": "c863d54d",
      "metadata": {
        "id": "c863d54d",
        "papermill": {
          "duration": null,
          "end_time": null,
          "exception": null,
          "start_time": null,
          "status": "pending"
        },
        "tags": []
      },
      "source": [
        "## 5. Explore weights and compute spatial similarity\n",
        "\n",
        "### 5.1 Contiguity-based weights\n",
        "\n",
        "\n",
        "A commonly-used type of weight is a queen contigutiy weight, which reflects adjacency relationships as a binary indicator variable denoting whether or not a polygon shares an edge or a vertex with another polygon. These weights are symmetric, in that when polygon $A$ neighbors polygon $B$, both $w_{AB} = 1$ and $w_{BA} = 1$."
      ]
    },
    {
      "cell_type": "code",
      "execution_count": null,
      "id": "09e415e5",
      "metadata": {
        "id": "09e415e5",
        "papermill": {
          "duration": null,
          "end_time": null,
          "exception": null,
          "start_time": null,
          "status": "pending"
        },
        "scrolled": true,
        "tags": []
      },
      "outputs": [],
      "source": [
        "wq =  ps.weights.Queen.from_dataframe(gdf)\n",
        "\n",
        "# In addition to \"queen\" weights, we can also compute \"rook\" and \"bishop\" weights."
      ]
    },
    {
      "cell_type": "code",
      "execution_count": null,
      "id": "39ba532d",
      "metadata": {
        "id": "39ba532d",
        "papermill": {
          "duration": null,
          "end_time": null,
          "exception": null,
          "start_time": null,
          "status": "pending"
        },
        "tags": []
      },
      "outputs": [],
      "source": [
        "# Plot the weights \n",
        "from splot.libpysal import plot_spatial_weights\n",
        "plot_spatial_weights(wq, gdf, figsize=(15,5))"
      ]
    },
    {
      "cell_type": "code",
      "execution_count": null,
      "id": "d2cf2866",
      "metadata": {
        "id": "d2cf2866",
        "papermill": {
          "duration": null,
          "end_time": null,
          "exception": null,
          "start_time": null,
          "status": "pending"
        },
        "tags": []
      },
      "outputs": [],
      "source": [
        "# you can use this operation to find neighbors of any country\n",
        "\n",
        "# e.g., neighbors of Afghanistan:\n",
        "selected_country = 0\n",
        "wq.neighbors[selected_country]"
      ]
    },
    {
      "cell_type": "code",
      "execution_count": null,
      "id": "5adb7570",
      "metadata": {
        "id": "5adb7570",
        "papermill": {
          "duration": null,
          "end_time": null,
          "exception": null,
          "start_time": null,
          "status": "pending"
        },
        "tags": []
      },
      "outputs": [],
      "source": [
        "for country in wq.neighbors[selected_country]:\n",
        "    print(gdf[gdf.columns[0]][country])"
      ]
    },
    {
      "cell_type": "markdown",
      "id": "8f4b1d7f",
      "metadata": {
        "id": "8f4b1d7f",
        "papermill": {
          "duration": null,
          "end_time": null,
          "exception": null,
          "start_time": null,
          "status": "pending"
        },
        "tags": []
      },
      "source": [
        "### 5.2 Distance-based weights\n",
        "\n",
        "Neighborhood relationships can be also defined by distance, not just by adjacency (contiguity). Indeed, in many cases distance-based neighbors make more sense.\n",
        "\n",
        "\"K-nearest neighbor weights\": distance between centroids of polygons is used to compute binary weights (1 if neighbor, 0 if not), By comparison, \"Kernel weights\" return some numeric function of the distance between polygon centroids."
      ]
    },
    {
      "cell_type": "markdown",
      "id": "ddc1ceb6",
      "metadata": {
        "id": "ddc1ceb6",
        "papermill": {
          "duration": null,
          "end_time": null,
          "exception": null,
          "start_time": null,
          "status": "pending"
        },
        "tags": []
      },
      "source": [
        "## 6. Spatial Autocorrelation ##\n",
        "\n",
        "The concept of *spatial autocorrelation* relates to the combination of two types of similarity: spatial\n",
        "similarity and attribute similarity. Although there are many different measures\n",
        "of spatial autocorrelation, they all combine these two types of simmilarity into\n",
        "a summary measure.\n",
        "\n",
        "### 6.1 Spatial Similarity ###\n",
        "\n",
        "In spatial autocorrelation analysis, the spatial weights\n",
        "are used to formalize the notion of spatial similarity. There\n",
        "are many ways to define spatial weights, e.g. using queen contiguity as above.\n",
        "\n",
        "### 6.2 Attribute Similarity ###\n",
        "\n",
        "The spatial weight between neighborhoods $i$ and $j$ indicates if the two \n",
        "are neighbors (i.e., geographically similar). What we also need is a measure of\n",
        "attribute similarity to pair up with this concept of spatial similarity. The\n",
        "**spatial lag** is a derived variable that accomplishes this for us. For neighborhood\n",
        "$i$ the spatial lag is defined as: $$ylag_i = \\sum_j w_{i,j} y_j$$"
      ]
    },
    {
      "cell_type": "code",
      "execution_count": null,
      "id": "5f59d078",
      "metadata": {
        "id": "5f59d078",
        "papermill": {
          "duration": null,
          "end_time": null,
          "exception": null,
          "start_time": null,
          "status": "pending"
        },
        "tags": []
      },
      "outputs": [],
      "source": [
        "# for example, for the variable we explored above (col_to_map):\n",
        "\n",
        "gdfn = gdf.dropna(subset=[col_to_map])\n",
        "y = gdfn[col_to_map]\n",
        "wq =  ps.weights.Queen.from_dataframe(gdfn)\n",
        "wq.transform = 'r'\n",
        "\n",
        "ylag = ps.weights.lag_spatial(wq, y)"
      ]
    },
    {
      "cell_type": "code",
      "execution_count": null,
      "id": "a7c2ebc2",
      "metadata": {
        "id": "a7c2ebc2",
        "papermill": {
          "duration": null,
          "end_time": null,
          "exception": null,
          "start_time": null,
          "status": "pending"
        },
        "tags": []
      },
      "outputs": [],
      "source": [
        "# Mapping the spatial lag variable, for visual analysis\n",
        "\n",
        "gdfn.explore(column=ylag, cmap =\"Blues\", scheme=\"FisherJenks\", tiles = \"Stamen Watercolor\", \n",
        "                 tooltip={cntry_name,col_to_map}, popup=True,k=5, highlight=True,\n",
        "                 width=\"100%\", legend_kwds={\"caption\":\"Spatial Lag of \" +col_to_map, \"colorbar\":False})"
      ]
    },
    {
      "cell_type": "markdown",
      "id": "c683b459",
      "metadata": {
        "id": "c683b459",
        "papermill": {
          "duration": null,
          "end_time": null,
          "exception": null,
          "start_time": null,
          "status": "pending"
        },
        "tags": []
      },
      "source": [
        "## 7. Formal statistical assesment of spatial autocorrelation\n",
        "\n",
        "### 7.1 Join counts\n",
        "\n",
        "One way to formalize a test for spatial autocorrelation in a binary attribute is\n",
        "to consider the so-called _joins_. A join exists for each neighbor pair of\n",
        "observations, and the joins are reflected in our binary spatial weights object\n",
        "`wq`. \n",
        "\n",
        "Each unit can take on one of two values \"Black\" or \"White\", analogous to the layout of a chessboard.\n",
        "\n",
        "For a given pair of neighboring locations there are three different types of joins that can\n",
        "arise:\n",
        "\n",
        "- Black Black (BB)\n",
        "- White White (WW)\n",
        "- Black White (or White Black) (BW)\n",
        "\n"
      ]
    },
    {
      "cell_type": "markdown",
      "id": "d5abd195",
      "metadata": {
        "id": "d5abd195",
        "papermill": {
          "duration": null,
          "end_time": null,
          "exception": null,
          "start_time": null,
          "status": "pending"
        },
        "tags": []
      },
      "source": [
        "With polygon data, we can conduct an analysis using a contiguity matrix. For our selected variable, we need to first discretize the variable we're using; to keep things simple, we'll binarize it using the median so that \"high\" values are areas with values above the median and \"low\" values are those below"
      ]
    },
    {
      "cell_type": "code",
      "execution_count": null,
      "id": "fca1ee75",
      "metadata": {
        "id": "fca1ee75",
        "papermill": {
          "duration": null,
          "end_time": null,
          "exception": null,
          "start_time": null,
          "status": "pending"
        },
        "tags": []
      },
      "outputs": [],
      "source": [
        "# compute the median\n",
        "y.median()"
      ]
    },
    {
      "cell_type": "code",
      "execution_count": null,
      "id": "ff52907f",
      "metadata": {
        "id": "ff52907f",
        "papermill": {
          "duration": null,
          "end_time": null,
          "exception": null,
          "start_time": null,
          "status": "pending"
        },
        "tags": []
      },
      "outputs": [],
      "source": [
        "# create \"low\" and \"high\" values.\n",
        "\n",
        "# those with values above the median\n",
        "yb = y > y.median()\n",
        "sum(yb)"
      ]
    },
    {
      "cell_type": "code",
      "execution_count": null,
      "id": "83353d3b",
      "metadata": {
        "id": "83353d3b",
        "papermill": {
          "duration": null,
          "end_time": null,
          "exception": null,
          "start_time": null,
          "status": "pending"
        },
        "tags": []
      },
      "outputs": [],
      "source": [
        "labels = [\"0 Low\", \"1 High\"]\n",
        "yb = [labels[i] for i in 1*yb] \n",
        "gdfn['yb'] = yb"
      ]
    },
    {
      "cell_type": "code",
      "execution_count": null,
      "id": "1a8252fe",
      "metadata": {
        "id": "1a8252fe",
        "papermill": {
          "duration": null,
          "end_time": null,
          "exception": null,
          "start_time": null,
          "status": "pending"
        },
        "scrolled": true,
        "tags": []
      },
      "outputs": [],
      "source": [
        "fig, ax = plt.subplots(figsize=(15,5))\n",
        "gdfn.plot(column='yb', cmap='binary', edgecolor='grey', legend=True, ax=ax)"
      ]
    },
    {
      "cell_type": "markdown",
      "id": "42b9805c",
      "metadata": {
        "id": "42b9805c",
        "papermill": {
          "duration": null,
          "end_time": null,
          "exception": null,
          "start_time": null,
          "status": "pending"
        },
        "tags": []
      },
      "source": [
        "We know that we have [sum(yb)] \"black\" polygons. Is the number of Black-Black joins equal to what we would expect if Black polygons were randomply assigned on the map?"
      ]
    },
    {
      "cell_type": "code",
      "execution_count": null,
      "id": "6f8b7a10",
      "metadata": {
        "id": "6f8b7a10",
        "papermill": {
          "duration": null,
          "end_time": null,
          "exception": null,
          "start_time": null,
          "status": "pending"
        },
        "tags": []
      },
      "outputs": [],
      "source": [
        "# Using joint counts computation in PySAL:\n",
        "\n",
        "yb = 1 * (y > y.median()) # convert back to binary\n",
        "wq =  ps.weights.Queen.from_dataframe(gdfn)\n",
        "wq.transform = 'b'\n",
        "np.random.seed(12345)\n",
        "jc = esda.join_counts.Join_Counts(yb, wq)"
      ]
    },
    {
      "cell_type": "code",
      "execution_count": null,
      "id": "ed86fd8a",
      "metadata": {
        "id": "ed86fd8a",
        "papermill": {
          "duration": null,
          "end_time": null,
          "exception": null,
          "start_time": null,
          "status": "pending"
        },
        "tags": []
      },
      "outputs": [],
      "source": [
        "jc.bb # Black Black joins"
      ]
    },
    {
      "cell_type": "code",
      "execution_count": null,
      "id": "ddcd6db6",
      "metadata": {
        "id": "ddcd6db6",
        "papermill": {
          "duration": null,
          "end_time": null,
          "exception": null,
          "start_time": null,
          "status": "pending"
        },
        "tags": []
      },
      "outputs": [],
      "source": [
        "jc.ww # White White joins"
      ]
    },
    {
      "cell_type": "code",
      "execution_count": null,
      "id": "1422b755",
      "metadata": {
        "id": "1422b755",
        "papermill": {
          "duration": null,
          "end_time": null,
          "exception": null,
          "start_time": null,
          "status": "pending"
        },
        "tags": []
      },
      "outputs": [],
      "source": [
        "jc.bw # Black White joins"
      ]
    },
    {
      "cell_type": "markdown",
      "id": "1cbd6d29",
      "metadata": {
        "id": "1cbd6d29",
        "papermill": {
          "duration": null,
          "end_time": null,
          "exception": null,
          "start_time": null,
          "status": "pending"
        },
        "tags": []
      },
      "source": [
        "Is this a departure from what we would expect if the process generating the spatial distribution of the Black polygons were a completely random one? \n",
        "\n",
        "To answer this, PySAL uses random spatial permutations of the observed attribute values to generate a realization under the null of complete spatial randomness (CSR). This is repeated a large number of times (999 default) to construct a reference distribution to evaluate the statistical significance of our observed counts.\n",
        "\n",
        "The average number of BB joins from the synthetic realizations is:"
      ]
    },
    {
      "cell_type": "code",
      "execution_count": null,
      "id": "c630c917",
      "metadata": {
        "id": "c630c917",
        "papermill": {
          "duration": null,
          "end_time": null,
          "exception": null,
          "start_time": null,
          "status": "pending"
        },
        "tags": []
      },
      "outputs": [],
      "source": [
        "jc.mean_bb"
      ]
    },
    {
      "cell_type": "markdown",
      "id": "99cfac9a",
      "metadata": {
        "id": "99cfac9a",
        "papermill": {
          "duration": null,
          "end_time": null,
          "exception": null,
          "start_time": null,
          "status": "pending"
        },
        "tags": []
      },
      "source": [
        "Compare it with the observed number of bb joins: is it very different? Is so, we may reject the null hypothesis (complete spatial randomness)"
      ]
    },
    {
      "cell_type": "code",
      "execution_count": null,
      "id": "fb292ec7",
      "metadata": {
        "id": "fb292ec7",
        "papermill": {
          "duration": null,
          "end_time": null,
          "exception": null,
          "start_time": null,
          "status": "pending"
        },
        "tags": []
      },
      "outputs": [],
      "source": [
        "jc.p_sim_bb # This the p-value"
      ]
    },
    {
      "cell_type": "markdown",
      "id": "3a1fb29b",
      "metadata": {
        "id": "3a1fb29b",
        "papermill": {
          "duration": null,
          "end_time": null,
          "exception": null,
          "start_time": null,
          "status": "pending"
        },
        "tags": []
      },
      "source": [
        "### 7.2 Moran's I\n",
        "\n",
        "This is a test of global spatial autocorrelation for a continues attribute. For join counts, we binarized the variable, now we use the actual values.\n",
        "\n"
      ]
    },
    {
      "cell_type": "code",
      "execution_count": null,
      "id": "10babaaf",
      "metadata": {
        "id": "10babaaf",
        "papermill": {
          "duration": null,
          "end_time": null,
          "exception": null,
          "start_time": null,
          "status": "pending"
        },
        "tags": []
      },
      "outputs": [],
      "source": [
        "# For this computation, make sure we don't have null values\n",
        "\n",
        "gdfn.info()"
      ]
    },
    {
      "cell_type": "code",
      "execution_count": null,
      "id": "7b307ba4",
      "metadata": {
        "id": "7b307ba4",
        "papermill": {
          "duration": null,
          "end_time": null,
          "exception": null,
          "start_time": null,
          "status": "pending"
        },
        "tags": []
      },
      "outputs": [],
      "source": [
        "# recompute y and queen weights\n",
        "y = gdfn[col_to_map]\n",
        "wq =  ps.weights.Queen.from_dataframe(gdfn)"
      ]
    },
    {
      "cell_type": "code",
      "execution_count": null,
      "id": "e7413754",
      "metadata": {
        "id": "e7413754",
        "papermill": {
          "duration": null,
          "end_time": null,
          "exception": null,
          "start_time": null,
          "status": "pending"
        },
        "scrolled": true,
        "tags": []
      },
      "outputs": [],
      "source": [
        "# regularize the weights (so that sum of weights for each country is 1)\n",
        "\n",
        "wq.transform = 'r'\n",
        "np.random.seed(12345)\n",
        "\n"
      ]
    },
    {
      "cell_type": "code",
      "execution_count": null,
      "id": "4b4e22be",
      "metadata": {
        "id": "4b4e22be",
        "papermill": {
          "duration": null,
          "end_time": null,
          "exception": null,
          "start_time": null,
          "status": "pending"
        },
        "tags": []
      },
      "outputs": [],
      "source": [
        "mi = esda.moran.Moran(y, wq)\n",
        "mi.I"
      ]
    },
    {
      "cell_type": "code",
      "execution_count": null,
      "id": "8a503c23",
      "metadata": {
        "id": "8a503c23",
        "papermill": {
          "duration": null,
          "end_time": null,
          "exception": null,
          "start_time": null,
          "status": "pending"
        },
        "tags": []
      },
      "outputs": [],
      "source": [
        "from splot.esda import plot_moran\n",
        "plot_moran(mi, zstandard=True, figsize=(15,5))\n",
        "plt.show()\n",
        "\n",
        "# On the left: reference distribution vs the observed statistic\n",
        "\n",
        "# On the right: plot of y values against its spatial lag. Moran's I is a slope of this line"
      ]
    },
    {
      "cell_type": "code",
      "execution_count": null,
      "id": "94421862",
      "metadata": {
        "id": "94421862",
        "papermill": {
          "duration": null,
          "end_time": null,
          "exception": null,
          "start_time": null,
          "status": "pending"
        },
        "tags": []
      },
      "outputs": [],
      "source": [
        "mi.p_sim"
      ]
    },
    {
      "cell_type": "markdown",
      "id": "4695bab8",
      "metadata": {
        "id": "4695bab8",
        "papermill": {
          "duration": null,
          "end_time": null,
          "exception": null,
          "start_time": null,
          "status": "pending"
        },
        "tags": []
      },
      "source": [
        "### 7.3 Local spatial autocorrelation\n",
        "\n",
        "Computing hot spots, cold spots, spatial outliers. We've done this before."
      ]
    },
    {
      "cell_type": "markdown",
      "id": "92c8f4aa",
      "metadata": {
        "id": "92c8f4aa",
        "papermill": {
          "duration": null,
          "end_time": null,
          "exception": null,
          "start_time": null,
          "status": "pending"
        },
        "tags": []
      },
      "source": [
        "## 8. Spatial Regression\n",
        "\n",
        "From PySAL documentation:\n",
        "\n",
        "The core idea of spatial econometrics is to introduce a formal representation of space into the statistical framework for regression. This can be done in many ways: by including predictors based on space (e.g. distance to relevant features), by splitting the datasets into subsets that map into different geographical regions (e.g. spatial regimes), by exploiting close distance to other observations to borrow information in the estimation (e.g. kriging), or by introducing variables that put in relation their value at a given location with those in nearby locations, to give a few examples. Some of these approaches can be implemented with standard non-spatial techniques, while others require bespoke models that can deal with the issues introduced. \n",
        "\n",
        "### 8.1 Baseline (nonspatial) OLS regression\n",
        "\n",
        "Essentially, the core of a linear regression is to explain a given variable as a linear function of a set of other characteristics we will collectively call $X_i$:\n",
        "\n",
        "$$\n",
        "\\ln(P_i) = \\alpha + \\beta X_i + \\epsilon_i\n",
        "$$\n",
        "\n",
        "\n"
      ]
    },
    {
      "cell_type": "code",
      "execution_count": null,
      "id": "9558495f",
      "metadata": {
        "id": "9558495f",
        "papermill": {
          "duration": null,
          "end_time": null,
          "exception": null,
          "start_time": null,
          "status": "pending"
        },
        "tags": []
      },
      "outputs": [],
      "source": [
        "# We will explore our selected variable and explain it based on several additional variables related to health\n",
        "\n",
        "x = [\n",
        "'Women in national parliaments (%)#number',\n",
        "'Science and tech journal articles (items per bn. PPP$ GDP)#number',\n",
        "'Mobile broadband subscriptions (per 100)#number',\n",
        "'Under 5 mortality (per 1000 live births)#number',\n",
        "'Tuberculosis (per 100,000)#number',\n",
        "'Homicides (per 100,000)#number',\n",
        "'Prison population (per 100,000)#number',\n",
        "'Mean years of schooling (years)#number',\n",
        "'Undernourishment (%)#number'\n",
        "]"
      ]
    },
    {
      "cell_type": "code",
      "execution_count": null,
      "id": "facd0631",
      "metadata": {
        "id": "facd0631",
        "papermill": {
          "duration": null,
          "end_time": null,
          "exception": null,
          "start_time": null,
          "status": "pending"
        },
        "tags": []
      },
      "outputs": [],
      "source": [
        "gdfn.shape"
      ]
    },
    {
      "cell_type": "code",
      "execution_count": null,
      "id": "674588a5",
      "metadata": {
        "id": "674588a5",
        "papermill": {
          "duration": null,
          "end_time": null,
          "exception": null,
          "start_time": null,
          "status": "pending"
        },
        "tags": []
      },
      "outputs": [],
      "source": [
        "# remove rows with missing values\n",
        "gdfn2 = gdfn.dropna(subset=x, how='any')\n",
        "gdfn2.shape"
      ]
    },
    {
      "cell_type": "code",
      "execution_count": null,
      "id": "572f4096",
      "metadata": {
        "id": "572f4096",
        "papermill": {
          "duration": null,
          "end_time": null,
          "exception": null,
          "start_time": null,
          "status": "pending"
        },
        "tags": []
      },
      "outputs": [],
      "source": [
        "# Explore the dataframe: Scatterplots between X and y; plot the data\n",
        "\n",
        "plt.scatter(x2.values[:,2], y.values)"
      ]
    },
    {
      "cell_type": "code",
      "execution_count": null,
      "id": "ef794cae",
      "metadata": {
        "id": "ef794cae",
        "papermill": {
          "duration": null,
          "end_time": null,
          "exception": null,
          "start_time": null,
          "status": "pending"
        },
        "tags": []
      },
      "outputs": [],
      "source": [
        "gdfn2.plot()"
      ]
    },
    {
      "cell_type": "code",
      "execution_count": null,
      "id": "dfe05149",
      "metadata": {
        "id": "dfe05149",
        "papermill": {
          "duration": null,
          "end_time": null,
          "exception": null,
          "start_time": null,
          "status": "pending"
        },
        "tags": []
      },
      "outputs": [],
      "source": [
        "x2 = gdfn2[x]\n",
        "x2.shape"
      ]
    },
    {
      "cell_type": "markdown",
      "id": "e286e5f1",
      "metadata": {
        "id": "e286e5f1",
        "papermill": {
          "duration": null,
          "end_time": null,
          "exception": null,
          "start_time": null,
          "status": "pending"
        },
        "tags": []
      },
      "source": [
        "There are many ways to compute OLS regression. Here, we'll use the spreg module in PySAL, which implements a standard OLS routine, but is particularly well suited for regressions on spatial data. \n",
        "\n",
        "We'll also build a spatial weights matrix that connects every observation to its 8 nearest neighbors - which results in extra diagnostics from the baseline model though not used in OLS)"
      ]
    },
    {
      "cell_type": "code",
      "execution_count": null,
      "id": "4dbd485e",
      "metadata": {
        "id": "4dbd485e",
        "papermill": {
          "duration": null,
          "end_time": null,
          "exception": null,
          "start_time": null,
          "status": "pending"
        },
        "tags": []
      },
      "outputs": [],
      "source": [
        "from spreg.ols import OLS\n",
        "\n",
        "# We'll also scale the independent variables\n",
        "\n",
        "import sklearn.preprocessing\n",
        "\n",
        "x2s = sklearn.preprocessing.StandardScaler().fit_transform(x2.values)"
      ]
    },
    {
      "cell_type": "code",
      "execution_count": null,
      "id": "20660853",
      "metadata": {
        "id": "20660853",
        "papermill": {
          "duration": null,
          "end_time": null,
          "exception": null,
          "start_time": null,
          "status": "pending"
        },
        "scrolled": true,
        "tags": []
      },
      "outputs": [],
      "source": [
        "y = gdfn2[col_to_map]\n",
        "wq =  ps.weights.Queen.from_dataframe(gdfn2)\n",
        "wq.transform = 'R'\n",
        "wq"
      ]
    },
    {
      "cell_type": "code",
      "execution_count": null,
      "id": "cc207818",
      "metadata": {
        "id": "cc207818",
        "papermill": {
          "duration": null,
          "end_time": null,
          "exception": null,
          "start_time": null,
          "status": "pending"
        },
        "tags": []
      },
      "outputs": [],
      "source": [
        "m1 = OLS(y.values[:, None], x2s, w=wq, spat_diag=True,moran=True,name_x=x2.columns.tolist(),name_y=col_to_map)"
      ]
    },
    {
      "cell_type": "code",
      "execution_count": null,
      "id": "0387adb9",
      "metadata": {
        "id": "0387adb9",
        "papermill": {
          "duration": null,
          "end_time": null,
          "exception": null,
          "start_time": null,
          "status": "pending"
        },
        "tags": []
      },
      "outputs": [],
      "source": [
        "print(m1.summary)"
      ]
    },
    {
      "cell_type": "markdown",
      "id": "a82fd550",
      "metadata": {
        "id": "a82fd550",
        "papermill": {
          "duration": null,
          "end_time": null,
          "exception": null,
          "start_time": null,
          "status": "pending"
        },
        "tags": []
      },
      "source": [
        "### 8.2. Geographically-weighted regression (GWR)\n",
        "\n",
        "(from https://methods.sagepub.com/dataset/howtoguide/geographically-weighted-regression-berlin-districts-2018-python)\n",
        "\n",
        "The fundamental idea behind GWR specifically (and local regression generally) is that the structure of a process being studied may not be the same under all conditions. This concept, sometimes called nonstationarity, is a common facet of cutting-edge models in spatial analysis. It is quite common for effects to vary depending on an observation’s context, group, or relative location. GWR provides a structured way to model this variation.\n",
        "\n",
        "GWR works by creating a dataset that is “local” to each site and running a regression on that site.\n",
        "\n",
        "GWR allows us to recognize that the “overall” effect may not be useful, and that an effect estimated from a more narrow focus on the area around some site i may be different. To build this different estimate, GWR uses an N × N spatial weighting matrix, W.\n",
        "\n",
        "In practice, estimating a GWR requires the model to tradeoff between local and global behavior. In order for the model to capture local variability, Wi must filter out a small set of data around site i."
      ]
    },
    {
      "cell_type": "code",
      "execution_count": null,
      "id": "457b24e6",
      "metadata": {
        "id": "457b24e6",
        "papermill": {
          "duration": null,
          "end_time": null,
          "exception": null,
          "start_time": null,
          "status": "pending"
        },
        "tags": []
      },
      "outputs": [],
      "source": [
        "# Let's add country centroids\n",
        "\n",
        "gdfn2['X'] = gdfn2.representative_point().x\n",
        "gdfn2['Y'] = gdfn2.representative_point().y"
      ]
    },
    {
      "cell_type": "code",
      "execution_count": null,
      "id": "27caeee9",
      "metadata": {
        "id": "27caeee9",
        "papermill": {
          "duration": null,
          "end_time": null,
          "exception": null,
          "start_time": null,
          "status": "pending"
        },
        "tags": []
      },
      "outputs": [],
      "source": [
        "# prepare inputs\n",
        "\n",
        "gdfn2_y = gdfn2[col_to_map].values.reshape((-1,1))\n",
        "gdfn2_X = gdfn2[x].values\n",
        "u = gdfn2['X']\n",
        "v = gdfn2['Y']\n",
        "g_coords = list(zip(u,v))\n",
        "\n",
        "g_X = (gdfn2_X - gdfn2_X.mean(axis=0)) / gdfn2_X.std(axis=0)\n",
        "\n",
        "g_y = gdfn2_y.reshape((-1,1))\n",
        "\n",
        "g_y = (gdfn2_y - gdfn2_y.mean(axis=0)) / gdfn2_y.std(axis=0)"
      ]
    },
    {
      "cell_type": "code",
      "execution_count": null,
      "id": "dab4b2ac",
      "metadata": {
        "id": "dab4b2ac",
        "papermill": {
          "duration": null,
          "end_time": null,
          "exception": null,
          "start_time": null,
          "status": "pending"
        },
        "tags": []
      },
      "outputs": [],
      "source": [
        "#Calibrate GWR model\n",
        "\n",
        "gwr_selector = Sel_BW(g_coords, g_y, g_X) # selects bandwidth for kernel\n",
        "gwr_bw = gwr_selector.search(bw_min=2) \n",
        "\n",
        "print(gwr_bw) # bandwidth value: a distance or N nearest neighbors\n",
        "gwr_results = GWR(g_coords, g_y, g_X, gwr_bw).fit()"
      ]
    },
    {
      "cell_type": "code",
      "execution_count": null,
      "id": "f4f07f4c",
      "metadata": {
        "id": "f4f07f4c",
        "papermill": {
          "duration": null,
          "end_time": null,
          "exception": null,
          "start_time": null,
          "status": "pending"
        },
        "tags": []
      },
      "outputs": [],
      "source": [
        "gwr_results.params[0:5]"
      ]
    },
    {
      "cell_type": "code",
      "execution_count": null,
      "id": "882e96e6",
      "metadata": {
        "id": "882e96e6",
        "papermill": {
          "duration": null,
          "end_time": null,
          "exception": null,
          "start_time": null,
          "status": "pending"
        },
        "tags": []
      },
      "outputs": [],
      "source": [
        "gwr_results.localR2[0:5]"
      ]
    },
    {
      "cell_type": "code",
      "execution_count": null,
      "id": "b78e9aba",
      "metadata": {
        "id": "b78e9aba",
        "papermill": {
          "duration": null,
          "end_time": null,
          "exception": null,
          "start_time": null,
          "status": "pending"
        },
        "tags": []
      },
      "outputs": [],
      "source": [
        "gwr_results.summary()"
      ]
    },
    {
      "cell_type": "code",
      "execution_count": null,
      "id": "77ed1d72",
      "metadata": {
        "id": "77ed1d72",
        "papermill": {
          "duration": null,
          "end_time": null,
          "exception": null,
          "start_time": null,
          "status": "pending"
        },
        "tags": []
      },
      "outputs": [],
      "source": [
        "# Diplay variable names \n",
        "\n",
        "i = 1\n",
        "for v in x:\n",
        "    print (str(i) +\":  \"+v)\n",
        "    i=i+1"
      ]
    },
    {
      "cell_type": "code",
      "execution_count": null,
      "id": "11d42cd4",
      "metadata": {
        "id": "11d42cd4",
        "papermill": {
          "duration": null,
          "end_time": null,
          "exception": null,
          "start_time": null,
          "status": "pending"
        },
        "tags": []
      },
      "outputs": [],
      "source": []
    }
  ],
  "metadata": {
    "colab": {
      "provenance": []
    },
    "kernelspec": {
      "display_name": "Python 3",
      "language": "python",
      "name": "python3"
    },
    "language_info": {
      "codemirror_mode": {
        "name": "ipython",
        "version": 3
      },
      "file_extension": ".py",
      "mimetype": "text/x-python",
      "name": "python",
      "nbconvert_exporter": "python",
      "pygments_lexer": "ipython3",
      "version": "3.10.11"
    },
    "papermill": {
      "default_parameters": {},
      "duration": 8.165412,
      "end_time": "2023-05-25T07:21:09.651347",
      "environment_variables": {},
      "exception": true,
      "input_path": "myclone/operations/spatialstats/SpatialStats.ipynb",
      "output_path": "/content/drive/MyDrive/suave/SpatialStats.ipynb",
      "parameters": {
        "active_object": "null",
        "csv_file": "zaslavsk_WBDH_Participants.csv",
        "dzc_file": "https://maxim.ucsd.edu/dzgen/lib-staging-uploads/063044157874ce7d5841c906fa6d8073/content.dzc",
        "full_notebook_url": "https://colab.research.google.com/drive/1aZCpg7UmG0nPUuRPTH2p5Nm43G0HmtQg?survey_url=https://suave-dev.sdsc.edu/main/file=zaslavsk_WBDH_Participants.csv&views=1110101&view=grid&user=zaslavsk&csv_file=zaslavsk_WBDH_Participants.csv&params=none&dzc_file=https://maxim.ucsd.edu/dzgen/lib-staging-uploads/063044157874ce7d5841c906fa6d8073/content.dzc&active_object=null",
        "params": "none",
        "survey_url": "https://suave-dev.sdsc.edu/main/file=zaslavsk_WBDH_Participants.csv",
        "user": "zaslavsk",
        "view": "grid",
        "views": "1110101"
      },
      "start_time": "2023-05-25T07:21:01.485935",
      "version": "2.4.0"
    },
    "toc": {
      "base_numbering": 1,
      "nav_menu": {},
      "number_sections": true,
      "sideBar": true,
      "skip_h1_title": true,
      "title_cell": "Table of Contents",
      "title_sidebar": "Contents",
      "toc_cell": false,
      "toc_position": {},
      "toc_section_display": true,
      "toc_window_display": false
    }
  },
  "nbformat": 4,
  "nbformat_minor": 5
}
