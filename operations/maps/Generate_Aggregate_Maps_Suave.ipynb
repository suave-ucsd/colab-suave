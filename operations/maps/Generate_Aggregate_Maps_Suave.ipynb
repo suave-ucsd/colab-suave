{
  "cells": [
    {
      "cell_type": "code",
      "execution_count": 6,
      "id": "Oj8YP_TRuHyG",
      "metadata": {
        "colab": {
          "base_uri": "https://localhost:8080/"
        },
        "id": "Oj8YP_TRuHyG",
        "outputId": "69fb8174-a11f-4743-8311-0b51078e2f80"
      },
      "outputs": [
        {
          "name": "stdout",
          "output_type": "stream",
          "text": [
            "Looking in indexes: https://pypi.org/simple, https://us-python.pkg.dev/colab-wheels/public/simple/\n",
            "Requirement already satisfied: ipyfilechooser in /usr/local/lib/python3.10/dist-packages (0.6.0)\n",
            "Requirement already satisfied: ipywidgets in /usr/local/lib/python3.10/dist-packages (from ipyfilechooser) (7.7.1)\n",
            "Requirement already satisfied: ipykernel>=4.5.1 in /usr/local/lib/python3.10/dist-packages (from ipywidgets->ipyfilechooser) (5.5.6)\n",
            "Requirement already satisfied: ipython-genutils~=0.2.0 in /usr/local/lib/python3.10/dist-packages (from ipywidgets->ipyfilechooser) (0.2.0)\n",
            "Requirement already satisfied: traitlets>=4.3.1 in /usr/local/lib/python3.10/dist-packages (from ipywidgets->ipyfilechooser) (5.7.1)\n",
            "Requirement already satisfied: widgetsnbextension~=3.6.0 in /usr/local/lib/python3.10/dist-packages (from ipywidgets->ipyfilechooser) (3.6.4)\n",
            "Requirement already satisfied: ipython>=4.0.0 in /usr/local/lib/python3.10/dist-packages (from ipywidgets->ipyfilechooser) (7.34.0)\n",
            "Requirement already satisfied: jupyterlab-widgets>=1.0.0 in /usr/local/lib/python3.10/dist-packages (from ipywidgets->ipyfilechooser) (3.0.7)\n",
            "Requirement already satisfied: jupyter-client in /usr/local/lib/python3.10/dist-packages (from ipykernel>=4.5.1->ipywidgets->ipyfilechooser) (6.1.12)\n",
            "Requirement already satisfied: tornado>=4.2 in /usr/local/lib/python3.10/dist-packages (from ipykernel>=4.5.1->ipywidgets->ipyfilechooser) (6.3.1)\n",
            "Requirement already satisfied: setuptools>=18.5 in /usr/local/lib/python3.10/dist-packages (from ipython>=4.0.0->ipywidgets->ipyfilechooser) (67.7.2)\n",
            "Requirement already satisfied: jedi>=0.16 in /usr/local/lib/python3.10/dist-packages (from ipython>=4.0.0->ipywidgets->ipyfilechooser) (0.18.2)\n",
            "Requirement already satisfied: decorator in /usr/local/lib/python3.10/dist-packages (from ipython>=4.0.0->ipywidgets->ipyfilechooser) (4.4.2)\n",
            "Requirement already satisfied: pickleshare in /usr/local/lib/python3.10/dist-packages (from ipython>=4.0.0->ipywidgets->ipyfilechooser) (0.7.5)\n",
            "Requirement already satisfied: prompt-toolkit!=3.0.0,!=3.0.1,<3.1.0,>=2.0.0 in /usr/local/lib/python3.10/dist-packages (from ipython>=4.0.0->ipywidgets->ipyfilechooser) (3.0.38)\n",
            "Requirement already satisfied: pygments in /usr/local/lib/python3.10/dist-packages (from ipython>=4.0.0->ipywidgets->ipyfilechooser) (2.14.0)\n",
            "Requirement already satisfied: backcall in /usr/local/lib/python3.10/dist-packages (from ipython>=4.0.0->ipywidgets->ipyfilechooser) (0.2.0)\n",
            "Requirement already satisfied: matplotlib-inline in /usr/local/lib/python3.10/dist-packages (from ipython>=4.0.0->ipywidgets->ipyfilechooser) (0.1.6)\n",
            "Requirement already satisfied: pexpect>4.3 in /usr/local/lib/python3.10/dist-packages (from ipython>=4.0.0->ipywidgets->ipyfilechooser) (4.8.0)\n",
            "Requirement already satisfied: notebook>=4.4.1 in /usr/local/lib/python3.10/dist-packages (from widgetsnbextension~=3.6.0->ipywidgets->ipyfilechooser) (6.4.8)\n",
            "Requirement already satisfied: parso<0.9.0,>=0.8.0 in /usr/local/lib/python3.10/dist-packages (from jedi>=0.16->ipython>=4.0.0->ipywidgets->ipyfilechooser) (0.8.3)\n",
            "Requirement already satisfied: jinja2 in /usr/local/lib/python3.10/dist-packages (from notebook>=4.4.1->widgetsnbextension~=3.6.0->ipywidgets->ipyfilechooser) (3.1.2)\n",
            "Requirement already satisfied: pyzmq>=17 in /usr/local/lib/python3.10/dist-packages (from notebook>=4.4.1->widgetsnbextension~=3.6.0->ipywidgets->ipyfilechooser) (23.2.1)\n",
            "Requirement already satisfied: argon2-cffi in /usr/local/lib/python3.10/dist-packages (from notebook>=4.4.1->widgetsnbextension~=3.6.0->ipywidgets->ipyfilechooser) (21.3.0)\n",
            "Requirement already satisfied: jupyter-core>=4.6.1 in /usr/local/lib/python3.10/dist-packages (from notebook>=4.4.1->widgetsnbextension~=3.6.0->ipywidgets->ipyfilechooser) (5.3.0)\n",
            "Requirement already satisfied: nbformat in /usr/local/lib/python3.10/dist-packages (from notebook>=4.4.1->widgetsnbextension~=3.6.0->ipywidgets->ipyfilechooser) (5.8.0)\n",
            "Requirement already satisfied: nbconvert in /usr/local/lib/python3.10/dist-packages (from notebook>=4.4.1->widgetsnbextension~=3.6.0->ipywidgets->ipyfilechooser) (6.5.4)\n",
            "Requirement already satisfied: nest-asyncio>=1.5 in /usr/local/lib/python3.10/dist-packages (from notebook>=4.4.1->widgetsnbextension~=3.6.0->ipywidgets->ipyfilechooser) (1.5.6)\n",
            "Requirement already satisfied: Send2Trash>=1.8.0 in /usr/local/lib/python3.10/dist-packages (from notebook>=4.4.1->widgetsnbextension~=3.6.0->ipywidgets->ipyfilechooser) (1.8.0)\n",
            "Requirement already satisfied: terminado>=0.8.3 in /usr/local/lib/python3.10/dist-packages (from notebook>=4.4.1->widgetsnbextension~=3.6.0->ipywidgets->ipyfilechooser) (0.17.1)\n",
            "Requirement already satisfied: prometheus-client in /usr/local/lib/python3.10/dist-packages (from notebook>=4.4.1->widgetsnbextension~=3.6.0->ipywidgets->ipyfilechooser) (0.16.0)\n",
            "Requirement already satisfied: python-dateutil>=2.1 in /usr/local/lib/python3.10/dist-packages (from jupyter-client->ipykernel>=4.5.1->ipywidgets->ipyfilechooser) (2.8.2)\n",
            "Requirement already satisfied: ptyprocess>=0.5 in /usr/local/lib/python3.10/dist-packages (from pexpect>4.3->ipython>=4.0.0->ipywidgets->ipyfilechooser) (0.7.0)\n",
            "Requirement already satisfied: wcwidth in /usr/local/lib/python3.10/dist-packages (from prompt-toolkit!=3.0.0,!=3.0.1,<3.1.0,>=2.0.0->ipython>=4.0.0->ipywidgets->ipyfilechooser) (0.2.6)\n",
            "Requirement already satisfied: platformdirs>=2.5 in /usr/local/lib/python3.10/dist-packages (from jupyter-core>=4.6.1->notebook>=4.4.1->widgetsnbextension~=3.6.0->ipywidgets->ipyfilechooser) (3.3.0)\n",
            "Requirement already satisfied: six>=1.5 in /usr/local/lib/python3.10/dist-packages (from python-dateutil>=2.1->jupyter-client->ipykernel>=4.5.1->ipywidgets->ipyfilechooser) (1.16.0)\n",
            "Requirement already satisfied: argon2-cffi-bindings in /usr/local/lib/python3.10/dist-packages (from argon2-cffi->notebook>=4.4.1->widgetsnbextension~=3.6.0->ipywidgets->ipyfilechooser) (21.2.0)\n",
            "Requirement already satisfied: MarkupSafe>=2.0 in /usr/local/lib/python3.10/dist-packages (from jinja2->notebook>=4.4.1->widgetsnbextension~=3.6.0->ipywidgets->ipyfilechooser) (2.1.2)\n",
            "Requirement already satisfied: lxml in /usr/local/lib/python3.10/dist-packages (from nbconvert->notebook>=4.4.1->widgetsnbextension~=3.6.0->ipywidgets->ipyfilechooser) (4.9.2)\n",
            "Requirement already satisfied: beautifulsoup4 in /usr/local/lib/python3.10/dist-packages (from nbconvert->notebook>=4.4.1->widgetsnbextension~=3.6.0->ipywidgets->ipyfilechooser) (4.11.2)\n",
            "Requirement already satisfied: bleach in /usr/local/lib/python3.10/dist-packages (from nbconvert->notebook>=4.4.1->widgetsnbextension~=3.6.0->ipywidgets->ipyfilechooser) (6.0.0)\n",
            "Requirement already satisfied: defusedxml in /usr/local/lib/python3.10/dist-packages (from nbconvert->notebook>=4.4.1->widgetsnbextension~=3.6.0->ipywidgets->ipyfilechooser) (0.7.1)\n",
            "Requirement already satisfied: entrypoints>=0.2.2 in /usr/local/lib/python3.10/dist-packages (from nbconvert->notebook>=4.4.1->widgetsnbextension~=3.6.0->ipywidgets->ipyfilechooser) (0.4)\n",
            "Requirement already satisfied: jupyterlab-pygments in /usr/local/lib/python3.10/dist-packages (from nbconvert->notebook>=4.4.1->widgetsnbextension~=3.6.0->ipywidgets->ipyfilechooser) (0.2.2)\n",
            "Requirement already satisfied: mistune<2,>=0.8.1 in /usr/local/lib/python3.10/dist-packages (from nbconvert->notebook>=4.4.1->widgetsnbextension~=3.6.0->ipywidgets->ipyfilechooser) (0.8.4)\n",
            "Requirement already satisfied: nbclient>=0.5.0 in /usr/local/lib/python3.10/dist-packages (from nbconvert->notebook>=4.4.1->widgetsnbextension~=3.6.0->ipywidgets->ipyfilechooser) (0.7.4)\n",
            "Requirement already satisfied: packaging in /usr/local/lib/python3.10/dist-packages (from nbconvert->notebook>=4.4.1->widgetsnbextension~=3.6.0->ipywidgets->ipyfilechooser) (23.1)\n",
            "Requirement already satisfied: pandocfilters>=1.4.1 in /usr/local/lib/python3.10/dist-packages (from nbconvert->notebook>=4.4.1->widgetsnbextension~=3.6.0->ipywidgets->ipyfilechooser) (1.5.0)\n",
            "Requirement already satisfied: tinycss2 in /usr/local/lib/python3.10/dist-packages (from nbconvert->notebook>=4.4.1->widgetsnbextension~=3.6.0->ipywidgets->ipyfilechooser) (1.2.1)\n",
            "Requirement already satisfied: fastjsonschema in /usr/local/lib/python3.10/dist-packages (from nbformat->notebook>=4.4.1->widgetsnbextension~=3.6.0->ipywidgets->ipyfilechooser) (2.16.3)\n",
            "Requirement already satisfied: jsonschema>=2.6 in /usr/local/lib/python3.10/dist-packages (from nbformat->notebook>=4.4.1->widgetsnbextension~=3.6.0->ipywidgets->ipyfilechooser) (4.3.3)\n",
            "Requirement already satisfied: attrs>=17.4.0 in /usr/local/lib/python3.10/dist-packages (from jsonschema>=2.6->nbformat->notebook>=4.4.1->widgetsnbextension~=3.6.0->ipywidgets->ipyfilechooser) (23.1.0)\n",
            "Requirement already satisfied: pyrsistent!=0.17.0,!=0.17.1,!=0.17.2,>=0.14.0 in /usr/local/lib/python3.10/dist-packages (from jsonschema>=2.6->nbformat->notebook>=4.4.1->widgetsnbextension~=3.6.0->ipywidgets->ipyfilechooser) (0.19.3)\n",
            "Requirement already satisfied: cffi>=1.0.1 in /usr/local/lib/python3.10/dist-packages (from argon2-cffi-bindings->argon2-cffi->notebook>=4.4.1->widgetsnbextension~=3.6.0->ipywidgets->ipyfilechooser) (1.15.1)\n",
            "Requirement already satisfied: soupsieve>1.2 in /usr/local/lib/python3.10/dist-packages (from beautifulsoup4->nbconvert->notebook>=4.4.1->widgetsnbextension~=3.6.0->ipywidgets->ipyfilechooser) (2.4.1)\n",
            "Requirement already satisfied: webencodings in /usr/local/lib/python3.10/dist-packages (from bleach->nbconvert->notebook>=4.4.1->widgetsnbextension~=3.6.0->ipywidgets->ipyfilechooser) (0.5.1)\n",
            "Requirement already satisfied: pycparser in /usr/local/lib/python3.10/dist-packages (from cffi>=1.0.1->argon2-cffi-bindings->argon2-cffi->notebook>=4.4.1->widgetsnbextension~=3.6.0->ipywidgets->ipyfilechooser) (2.21)\n",
            "Looking in indexes: https://pypi.org/simple, https://us-python.pkg.dev/colab-wheels/public/simple/\n",
            "Collecting geopandas\n",
            "  Downloading geopandas-0.13.0-py3-none-any.whl (1.1 MB)\n",
            "\u001b[2K     \u001b[90m━━━━━━━━━━━━━━━━━━━━━━━━━━━━━━━━━━━━━━━━\u001b[0m \u001b[32m1.1/1.1 MB\u001b[0m \u001b[31m17.3 MB/s\u001b[0m eta \u001b[36m0:00:00\u001b[0m\n",
            "\u001b[?25hCollecting fiona>=1.8.19 (from geopandas)\n",
            "  Downloading Fiona-1.9.4.post1-cp310-cp310-manylinux_2_17_x86_64.manylinux2014_x86_64.whl (16.4 MB)\n",
            "\u001b[2K     \u001b[90m━━━━━━━━━━━━━━━━━━━━━━━━━━━━━━━━━━━━━━━━\u001b[0m \u001b[32m16.4/16.4 MB\u001b[0m \u001b[31m75.0 MB/s\u001b[0m eta \u001b[36m0:00:00\u001b[0m\n",
            "\u001b[?25hRequirement already satisfied: packaging in /usr/local/lib/python3.10/dist-packages (from geopandas) (23.1)\n",
            "Requirement already satisfied: pandas>=1.1.0 in /usr/local/lib/python3.10/dist-packages (from geopandas) (1.5.3)\n",
            "Collecting pyproj>=3.0.1 (from geopandas)\n",
            "  Downloading pyproj-3.5.0-cp310-cp310-manylinux_2_17_x86_64.manylinux2014_x86_64.whl (7.7 MB)\n",
            "\u001b[2K     \u001b[90m━━━━━━━━━━━━━━━━━━━━━━━━━━━━━━━━━━━━━━━━\u001b[0m \u001b[32m7.7/7.7 MB\u001b[0m \u001b[31m93.0 MB/s\u001b[0m eta \u001b[36m0:00:00\u001b[0m\n",
            "\u001b[?25hRequirement already satisfied: shapely>=1.7.1 in /usr/local/lib/python3.10/dist-packages (from geopandas) (2.0.1)\n",
            "Requirement already satisfied: attrs>=19.2.0 in /usr/local/lib/python3.10/dist-packages (from fiona>=1.8.19->geopandas) (23.1.0)\n",
            "Requirement already satisfied: certifi in /usr/local/lib/python3.10/dist-packages (from fiona>=1.8.19->geopandas) (2022.12.7)\n",
            "Requirement already satisfied: click~=8.0 in /usr/local/lib/python3.10/dist-packages (from fiona>=1.8.19->geopandas) (8.1.3)\n",
            "Collecting click-plugins>=1.0 (from fiona>=1.8.19->geopandas)\n",
            "  Downloading click_plugins-1.1.1-py2.py3-none-any.whl (7.5 kB)\n",
            "Collecting cligj>=0.5 (from fiona>=1.8.19->geopandas)\n",
            "  Downloading cligj-0.7.2-py3-none-any.whl (7.1 kB)\n",
            "Requirement already satisfied: six in /usr/local/lib/python3.10/dist-packages (from fiona>=1.8.19->geopandas) (1.16.0)\n",
            "Requirement already satisfied: python-dateutil>=2.8.1 in /usr/local/lib/python3.10/dist-packages (from pandas>=1.1.0->geopandas) (2.8.2)\n",
            "Requirement already satisfied: pytz>=2020.1 in /usr/local/lib/python3.10/dist-packages (from pandas>=1.1.0->geopandas) (2022.7.1)\n",
            "Requirement already satisfied: numpy>=1.21.0 in /usr/local/lib/python3.10/dist-packages (from pandas>=1.1.0->geopandas) (1.22.4)\n",
            "Installing collected packages: pyproj, cligj, click-plugins, fiona, geopandas\n",
            "Successfully installed click-plugins-1.1.1 cligj-0.7.2 fiona-1.9.4.post1 geopandas-0.13.0 pyproj-3.5.0\n"
          ]
        }
      ],
      "source": [
        "!pip install ipyfilechooser\n",
        "!pip install geopandas"
      ]
    },
    {
      "cell_type": "markdown",
      "id": "8999d46b",
      "metadata": {
        "id": "8999d46b",
        "papermill": {
          "duration": 0.020688,
          "end_time": "2023-05-25T07:01:38.961333",
          "exception": false,
          "start_time": "2023-05-25T07:01:38.940645",
          "status": "completed"
        },
        "tags": []
      },
      "source": [
        "<h1><span style=\"color:red\">Generate Aggregate Maps</span></h1>\n",
        "\n",
        "### This notebook reads numeric and categorical variables from the survey dataset and lets users compute a cloropleth map of a variable of interest aggregated by a spatial grouping, adds it to a new survey version, and publishes the survey to the user's surveys gallery"
      ]
    },
    {
      "cell_type": "markdown",
      "id": "1396ebbe",
      "metadata": {
        "id": "1396ebbe",
        "papermill": {
          "duration": 0.012277,
          "end_time": "2023-05-25T07:01:38.986283",
          "exception": false,
          "start_time": "2023-05-25T07:01:38.974006",
          "status": "completed"
        },
        "tags": []
      },
      "source": [
        "## 1. Setup"
      ]
    },
    {
      "cell_type": "markdown",
      "id": "C-QXHgb5t6us",
      "metadata": {
        "id": "C-QXHgb5t6us"
      },
      "source": [
        "<p><span style=\"color:red\"> Connect to google drive is required</span></p>"
      ]
    },
    {
      "cell_type": "code",
      "execution_count": 2,
      "id": "439f6e2d",
      "metadata": {
        "colab": {
          "base_uri": "https://localhost:8080/"
        },
        "execution": {
          "iopub.execute_input": "2023-05-25T07:01:39.018372Z",
          "iopub.status.busy": "2023-05-25T07:01:39.017713Z",
          "iopub.status.idle": "2023-05-25T07:01:39.959119Z",
          "shell.execute_reply": "2023-05-25T07:01:39.952709Z"
        },
        "id": "439f6e2d",
        "outputId": "24ec685e-8f8a-420a-807d-a3349ce2f6d7",
        "papermill": {
          "duration": 0.964563,
          "end_time": "2023-05-25T07:01:39.964705",
          "exception": false,
          "start_time": "2023-05-25T07:01:39.000142",
          "status": "completed"
        },
        "tags": []
      },
      "outputs": [
        {
          "name": "stdout",
          "output_type": "stream",
          "text": [
            "Cloning into 'myclone'...\n",
            "remote: Enumerating objects: 81, done.\u001b[K\n",
            "remote: Counting objects: 100% (81/81), done.\u001b[K\n",
            "remote: Compressing objects: 100% (63/63), done.\u001b[K\n",
            "remote: Total 81 (delta 19), reused 53 (delta 11), pack-reused 0\u001b[K\n",
            "Unpacking objects: 100% (81/81), 649.25 KiB | 1.69 MiB/s, done.\n",
            "/content/myclone/helpers\n",
            "Already up to date.\n"
          ]
        }
      ],
      "source": [
        "from google.colab import drive\n",
        "drive.mount('/content/drive')\n",
        "\n",
        "!rm -rf myclone\n",
        "!git clone --depth 1 \"https://github.com/suave-ucsd/colab-suave.git\" myclone\n",
        "\n",
        "%cd /content/myclone/helpers\n",
        "!git pull"
      ]
    },
    {
      "cell_type": "code",
      "execution_count": 7,
      "id": "5d5d0bb5",
      "metadata": {
        "colab": {
          "base_uri": "https://localhost:8080/",
          "height": 17
        },
        "execution": {
          "iopub.execute_input": "2023-05-25T07:01:40.002927Z",
          "iopub.status.busy": "2023-05-25T07:01:40.002292Z",
          "iopub.status.idle": "2023-05-25T07:01:40.136002Z",
          "shell.execute_reply": "2023-05-25T07:01:40.133277Z"
        },
        "id": "5d5d0bb5",
        "outputId": "f8c512e6-f167-4c9f-d84f-05a94e3b8da7",
        "papermill": {
          "duration": 0.16076,
          "end_time": "2023-05-25T07:01:40.137958",
          "exception": true,
          "start_time": "2023-05-25T07:01:39.977198",
          "status": "failed"
        },
        "tags": []
      },
      "outputs": [
        {
          "data": {
            "application/javascript": "(function(root) {\n  function now() {\n    return new Date();\n  }\n\n  var force = true;\n\n  if (typeof root._bokeh_onload_callbacks === \"undefined\" || force === true) {\n    root._bokeh_onload_callbacks = [];\n    root._bokeh_is_loading = undefined;\n  }\n\n  if (typeof (root._bokeh_timeout) === \"undefined\" || force === true) {\n    root._bokeh_timeout = Date.now() + 5000;\n    root._bokeh_failed_load = false;\n  }\n\n  function run_callbacks() {\n    try {\n      root._bokeh_onload_callbacks.forEach(function(callback) {\n        if (callback != null)\n          callback();\n      });\n    } finally {\n      delete root._bokeh_onload_callbacks\n    }\n    console.debug(\"Bokeh: all callbacks have finished\");\n  }\n\n  function load_libs(css_urls, js_urls, js_modules, callback) {\n    if (css_urls == null) css_urls = [];\n    if (js_urls == null) js_urls = [];\n    if (js_modules == null) js_modules = [];\n\n    root._bokeh_onload_callbacks.push(callback);\n    if (root._bokeh_is_loading > 0) {\n      console.debug(\"Bokeh: BokehJS is being loaded, scheduling callback at\", now());\n      return null;\n    }\n    if (js_urls.length === 0 && js_modules.length === 0) {\n      run_callbacks();\n      return null;\n    }\n    console.debug(\"Bokeh: BokehJS not loaded, scheduling load and callback at\", now());\n\n    function on_load() {\n      root._bokeh_is_loading--;\n      if (root._bokeh_is_loading === 0) {\n        console.debug(\"Bokeh: all BokehJS libraries/stylesheets loaded\");\n        run_callbacks()\n      }\n    }\n\n    function on_error() {\n      console.error(\"failed to load \" + url);\n    }\n\n    for (var i = 0; i < css_urls.length; i++) {\n      var url = css_urls[i];\n      const element = document.createElement(\"link\");\n      element.onload = on_load;\n      element.onerror = on_error;\n      element.rel = \"stylesheet\";\n      element.type = \"text/css\";\n      element.href = url;\n      console.debug(\"Bokeh: injecting link tag for BokehJS stylesheet: \", url);\n      document.body.appendChild(element);\n    }\n\n    var skip = [];\n    if (window.requirejs) {\n      window.requirejs.config({'packages': {}, 'paths': {'gridstack': 'https://cdn.jsdelivr.net/npm/gridstack@4.2.5/dist/gridstack-h5', 'notyf': 'https://cdn.jsdelivr.net/npm/notyf@3/notyf.min'}, 'shim': {'gridstack': {'exports': 'GridStack'}}});\n      require([\"gridstack\"], function(GridStack) {\n\twindow.GridStack = GridStack\n\ton_load()\n      })\n      require([\"notyf\"], function() {\n\ton_load()\n      })\n      root._bokeh_is_loading = css_urls.length + 2;\n    } else {\n      root._bokeh_is_loading = css_urls.length + js_urls.length + js_modules.length;\n    }    if (((window['GridStack'] !== undefined) && (!(window['GridStack'] instanceof HTMLElement))) || window.requirejs) {\n      var urls = ['https://cdn.holoviz.org/panel/0.14.4/dist/bundled/gridstack/gridstack@4.2.5/dist/gridstack-h5.js'];\n      for (var i = 0; i < urls.length; i++) {\n        skip.push(urls[i])\n      }\n    }    if (((window['Notyf'] !== undefined) && (!(window['Notyf'] instanceof HTMLElement))) || window.requirejs) {\n      var urls = ['https://cdn.holoviz.org/panel/0.14.4/dist/bundled/notificationarea/notyf@3/notyf.min.js'];\n      for (var i = 0; i < urls.length; i++) {\n        skip.push(urls[i])\n      }\n    }    for (var i = 0; i < js_urls.length; i++) {\n      var url = js_urls[i];\n      if (skip.indexOf(url) >= 0) {\n\tif (!window.requirejs) {\n\t  on_load();\n\t}\n\tcontinue;\n      }\n      var element = document.createElement('script');\n      element.onload = on_load;\n      element.onerror = on_error;\n      element.async = false;\n      element.src = url;\n      console.debug(\"Bokeh: injecting script tag for BokehJS library: \", url);\n      document.head.appendChild(element);\n    }\n    for (var i = 0; i < js_modules.length; i++) {\n      var url = js_modules[i];\n      if (skip.indexOf(url) >= 0) {\n\tif (!window.requirejs) {\n\t  on_load();\n\t}\n\tcontinue;\n      }\n      var element = document.createElement('script');\n      element.onload = on_load;\n      element.onerror = on_error;\n      element.async = false;\n      element.src = url;\n      element.type = \"module\";\n      console.debug(\"Bokeh: injecting script tag for BokehJS library: \", url);\n      document.head.appendChild(element);\n    }\n    if (!js_urls.length && !js_modules.length) {\n      on_load()\n    }\n  };\n\n  function inject_raw_css(css) {\n    const element = document.createElement(\"style\");\n    element.appendChild(document.createTextNode(css));\n    document.body.appendChild(element);\n  }\n\n  var js_urls = [\"https://cdn.bokeh.org/bokeh/release/bokeh-2.4.3.min.js\", \"https://cdn.bokeh.org/bokeh/release/bokeh-gl-2.4.3.min.js\", \"https://cdn.bokeh.org/bokeh/release/bokeh-widgets-2.4.3.min.js\", \"https://cdn.bokeh.org/bokeh/release/bokeh-tables-2.4.3.min.js\", \"https://cdn.bokeh.org/bokeh/release/bokeh-mathjax-2.4.3.min.js\", \"https://unpkg.com/@holoviz/panel@0.14.4/dist/panel.min.js\"];\n  var js_modules = [];\n  var css_urls = [\"https://cdn.holoviz.org/panel/0.14.4/dist/css/debugger.css\", \"https://cdn.holoviz.org/panel/0.14.4/dist/css/widgets.css\", \"https://cdn.holoviz.org/panel/0.14.4/dist/css/dataframe.css\", \"https://cdn.holoviz.org/panel/0.14.4/dist/css/json.css\", \"https://cdn.holoviz.org/panel/0.14.4/dist/css/loading.css\", \"https://cdn.holoviz.org/panel/0.14.4/dist/css/markdown.css\", \"https://cdn.holoviz.org/panel/0.14.4/dist/css/card.css\", \"https://cdn.holoviz.org/panel/0.14.4/dist/css/alerts.css\"];\n  var inline_js = [    function(Bokeh) {\n      inject_raw_css(\"\\n    .bk.pn-loading.arc:before {\\n      background-image: url(\\\"data:image/svg+xml;base64,PHN2ZyB4bWxucz0iaHR0cDovL3d3dy53My5vcmcvMjAwMC9zdmciIHN0eWxlPSJtYXJnaW46IGF1dG87IGJhY2tncm91bmQ6IG5vbmU7IGRpc3BsYXk6IGJsb2NrOyBzaGFwZS1yZW5kZXJpbmc6IGF1dG87IiB2aWV3Qm94PSIwIDAgMTAwIDEwMCIgcHJlc2VydmVBc3BlY3RSYXRpbz0ieE1pZFlNaWQiPiAgPGNpcmNsZSBjeD0iNTAiIGN5PSI1MCIgZmlsbD0ibm9uZSIgc3Ryb2tlPSIjYzNjM2MzIiBzdHJva2Utd2lkdGg9IjEwIiByPSIzNSIgc3Ryb2tlLWRhc2hhcnJheT0iMTY0LjkzMzYxNDMxMzQ2NDE1IDU2Ljk3Nzg3MTQzNzgyMTM4Ij4gICAgPGFuaW1hdGVUcmFuc2Zvcm0gYXR0cmlidXRlTmFtZT0idHJhbnNmb3JtIiB0eXBlPSJyb3RhdGUiIHJlcGVhdENvdW50PSJpbmRlZmluaXRlIiBkdXI9IjFzIiB2YWx1ZXM9IjAgNTAgNTA7MzYwIDUwIDUwIiBrZXlUaW1lcz0iMDsxIj48L2FuaW1hdGVUcmFuc2Zvcm0+ICA8L2NpcmNsZT48L3N2Zz4=\\\");\\n      background-size: auto calc(min(50%, 400px));\\n    }\\n    \");\n    },    function(Bokeh) {\n      Bokeh.set_log_level(\"info\");\n    },\nfunction(Bokeh) {} // ensure no trailing comma for IE\n  ];\n\n  function run_inline_js() {\n    if ((root.Bokeh !== undefined) || (force === true)) {\n      for (var i = 0; i < inline_js.length; i++) {\n        inline_js[i].call(root, root.Bokeh);\n      }} else if (Date.now() < root._bokeh_timeout) {\n      setTimeout(run_inline_js, 100);\n    } else if (!root._bokeh_failed_load) {\n      console.log(\"Bokeh: BokehJS failed to load within specified timeout.\");\n      root._bokeh_failed_load = true;\n    }\n  }\n\n  if (root._bokeh_is_loading === 0) {\n    console.debug(\"Bokeh: BokehJS loaded, going straight to plotting\");\n    run_inline_js();\n  } else {\n    load_libs(css_urls, js_urls, js_modules, function() {\n      console.debug(\"Bokeh: BokehJS plotting callback run at\", now());\n      run_inline_js();\n    });\n  }\n}(window));",
            "application/vnd.holoviews_load.v0+json": ""
          },
          "metadata": {},
          "output_type": "display_data"
        },
        {
          "data": {
            "application/javascript": "\nif ((window.PyViz === undefined) || (window.PyViz instanceof HTMLElement)) {\n  window.PyViz = {comms: {}, comm_status:{}, kernels:{}, receivers: {}, plot_index: []}\n}\n\n\n    function JupyterCommManager() {\n    }\n\n    JupyterCommManager.prototype.register_target = function(plot_id, comm_id, msg_handler) {\n      if (window.comm_manager || ((window.Jupyter !== undefined) && (Jupyter.notebook.kernel != null))) {\n        var comm_manager = window.comm_manager || Jupyter.notebook.kernel.comm_manager;\n        comm_manager.register_target(comm_id, function(comm) {\n          comm.on_msg(msg_handler);\n        });\n      } else if ((plot_id in window.PyViz.kernels) && (window.PyViz.kernels[plot_id])) {\n        window.PyViz.kernels[plot_id].registerCommTarget(comm_id, function(comm) {\n          comm.onMsg = msg_handler;\n        });\n      } else if (typeof google != 'undefined' && google.colab.kernel != null) {\n        google.colab.kernel.comms.registerTarget(comm_id, (comm) => {\n          var messages = comm.messages[Symbol.asyncIterator]();\n          function processIteratorResult(result) {\n            var message = result.value;\n            console.log(message)\n            var content = {data: message.data, comm_id};\n            var buffers = []\n            for (var buffer of message.buffers || []) {\n              buffers.push(new DataView(buffer))\n            }\n            var metadata = message.metadata || {};\n            var msg = {content, buffers, metadata}\n            msg_handler(msg);\n            return messages.next().then(processIteratorResult);\n          }\n          return messages.next().then(processIteratorResult);\n        })\n      }\n    }\n\n    JupyterCommManager.prototype.get_client_comm = function(plot_id, comm_id, msg_handler) {\n      if (comm_id in window.PyViz.comms) {\n        return window.PyViz.comms[comm_id];\n      } else if (window.comm_manager || ((window.Jupyter !== undefined) && (Jupyter.notebook.kernel != null))) {\n        var comm_manager = window.comm_manager || Jupyter.notebook.kernel.comm_manager;\n        var comm = comm_manager.new_comm(comm_id, {}, {}, {}, comm_id);\n        if (msg_handler) {\n          comm.on_msg(msg_handler);\n        }\n      } else if ((plot_id in window.PyViz.kernels) && (window.PyViz.kernels[plot_id])) {\n        var comm = window.PyViz.kernels[plot_id].connectToComm(comm_id);\n        comm.open();\n        if (msg_handler) {\n          comm.onMsg = msg_handler;\n        }\n      } else if (typeof google != 'undefined' && google.colab.kernel != null) {\n        var comm_promise = google.colab.kernel.comms.open(comm_id)\n        comm_promise.then((comm) => {\n          window.PyViz.comms[comm_id] = comm;\n          if (msg_handler) {\n            var messages = comm.messages[Symbol.asyncIterator]();\n            function processIteratorResult(result) {\n              var message = result.value;\n              var content = {data: message.data};\n              var metadata = message.metadata || {comm_id};\n              var msg = {content, metadata}\n              msg_handler(msg);\n              return messages.next().then(processIteratorResult);\n            }\n            return messages.next().then(processIteratorResult);\n          }\n        }) \n        var sendClosure = (data, metadata, buffers, disposeOnDone) => {\n          return comm_promise.then((comm) => {\n            comm.send(data, metadata, buffers, disposeOnDone);\n          });\n        };\n        var comm = {\n          send: sendClosure\n        };\n      }\n      window.PyViz.comms[comm_id] = comm;\n      return comm;\n    }\n    window.PyViz.comm_manager = new JupyterCommManager();\n    \n\n\nvar JS_MIME_TYPE = 'application/javascript';\nvar HTML_MIME_TYPE = 'text/html';\nvar EXEC_MIME_TYPE = 'application/vnd.holoviews_exec.v0+json';\nvar CLASS_NAME = 'output';\n\n/**\n * Render data to the DOM node\n */\nfunction render(props, node) {\n  var div = document.createElement(\"div\");\n  var script = document.createElement(\"script\");\n  node.appendChild(div);\n  node.appendChild(script);\n}\n\n/**\n * Handle when a new output is added\n */\nfunction handle_add_output(event, handle) {\n  var output_area = handle.output_area;\n  var output = handle.output;\n  if ((output.data == undefined) || (!output.data.hasOwnProperty(EXEC_MIME_TYPE))) {\n    return\n  }\n  var id = output.metadata[EXEC_MIME_TYPE][\"id\"];\n  var toinsert = output_area.element.find(\".\" + CLASS_NAME.split(' ')[0]);\n  if (id !== undefined) {\n    var nchildren = toinsert.length;\n    var html_node = toinsert[nchildren-1].children[0];\n    html_node.innerHTML = output.data[HTML_MIME_TYPE];\n    var scripts = [];\n    var nodelist = html_node.querySelectorAll(\"script\");\n    for (var i in nodelist) {\n      if (nodelist.hasOwnProperty(i)) {\n        scripts.push(nodelist[i])\n      }\n    }\n\n    scripts.forEach( function (oldScript) {\n      var newScript = document.createElement(\"script\");\n      var attrs = [];\n      var nodemap = oldScript.attributes;\n      for (var j in nodemap) {\n        if (nodemap.hasOwnProperty(j)) {\n          attrs.push(nodemap[j])\n        }\n      }\n      attrs.forEach(function(attr) { newScript.setAttribute(attr.name, attr.value) });\n      newScript.appendChild(document.createTextNode(oldScript.innerHTML));\n      oldScript.parentNode.replaceChild(newScript, oldScript);\n    });\n    if (JS_MIME_TYPE in output.data) {\n      toinsert[nchildren-1].children[1].textContent = output.data[JS_MIME_TYPE];\n    }\n    output_area._hv_plot_id = id;\n    if ((window.Bokeh !== undefined) && (id in Bokeh.index)) {\n      window.PyViz.plot_index[id] = Bokeh.index[id];\n    } else {\n      window.PyViz.plot_index[id] = null;\n    }\n  } else if (output.metadata[EXEC_MIME_TYPE][\"server_id\"] !== undefined) {\n    var bk_div = document.createElement(\"div\");\n    bk_div.innerHTML = output.data[HTML_MIME_TYPE];\n    var script_attrs = bk_div.children[0].attributes;\n    for (var i = 0; i < script_attrs.length; i++) {\n      toinsert[toinsert.length - 1].childNodes[1].setAttribute(script_attrs[i].name, script_attrs[i].value);\n    }\n    // store reference to server id on output_area\n    output_area._bokeh_server_id = output.metadata[EXEC_MIME_TYPE][\"server_id\"];\n  }\n}\n\n/**\n * Handle when an output is cleared or removed\n */\nfunction handle_clear_output(event, handle) {\n  var id = handle.cell.output_area._hv_plot_id;\n  var server_id = handle.cell.output_area._bokeh_server_id;\n  if (((id === undefined) || !(id in PyViz.plot_index)) && (server_id !== undefined)) { return; }\n  var comm = window.PyViz.comm_manager.get_client_comm(\"hv-extension-comm\", \"hv-extension-comm\", function () {});\n  if (server_id !== null) {\n    comm.send({event_type: 'server_delete', 'id': server_id});\n    return;\n  } else if (comm !== null) {\n    comm.send({event_type: 'delete', 'id': id});\n  }\n  delete PyViz.plot_index[id];\n  if ((window.Bokeh !== undefined) & (id in window.Bokeh.index)) {\n    var doc = window.Bokeh.index[id].model.document\n    doc.clear();\n    const i = window.Bokeh.documents.indexOf(doc);\n    if (i > -1) {\n      window.Bokeh.documents.splice(i, 1);\n    }\n  }\n}\n\n/**\n * Handle kernel restart event\n */\nfunction handle_kernel_cleanup(event, handle) {\n  delete PyViz.comms[\"hv-extension-comm\"];\n  window.PyViz.plot_index = {}\n}\n\n/**\n * Handle update_display_data messages\n */\nfunction handle_update_output(event, handle) {\n  handle_clear_output(event, {cell: {output_area: handle.output_area}})\n  handle_add_output(event, handle)\n}\n\nfunction register_renderer(events, OutputArea) {\n  function append_mime(data, metadata, element) {\n    // create a DOM node to render to\n    var toinsert = this.create_output_subarea(\n    metadata,\n    CLASS_NAME,\n    EXEC_MIME_TYPE\n    );\n    this.keyboard_manager.register_events(toinsert);\n    // Render to node\n    var props = {data: data, metadata: metadata[EXEC_MIME_TYPE]};\n    render(props, toinsert[0]);\n    element.append(toinsert);\n    return toinsert\n  }\n\n  events.on('output_added.OutputArea', handle_add_output);\n  events.on('output_updated.OutputArea', handle_update_output);\n  events.on('clear_output.CodeCell', handle_clear_output);\n  events.on('delete.Cell', handle_clear_output);\n  events.on('kernel_ready.Kernel', handle_kernel_cleanup);\n\n  OutputArea.prototype.register_mime_type(EXEC_MIME_TYPE, append_mime, {\n    safe: true,\n    index: 0\n  });\n}\n\nif (window.Jupyter !== undefined) {\n  try {\n    var events = require('base/js/events');\n    var OutputArea = require('notebook/js/outputarea').OutputArea;\n    if (OutputArea.prototype.mime_types().indexOf(EXEC_MIME_TYPE) == -1) {\n      register_renderer(events, OutputArea);\n    }\n  } catch(err) {\n  }\n}\n",
            "application/vnd.holoviews_load.v0+json": ""
          },
          "metadata": {},
          "output_type": "display_data"
        },
        {
          "data": {
            "text/html": [
              "<style>.bk-root, .bk-root .bk:before, .bk-root .bk:after {\n",
              "  font-family: var(--jp-ui-font-size1);\n",
              "  font-size: var(--jp-ui-font-size1);\n",
              "  color: var(--jp-ui-font-color1);\n",
              "}\n",
              "</style>"
            ]
          },
          "metadata": {},
          "output_type": "display_data"
        }
      ],
      "source": [
        "# common imports\n",
        "from __future__ import print_function\n",
        "from ipywidgets import interact, interactive, fixed, interact_manual\n",
        "import ipywidgets as widgets\n",
        "from IPython.display import Markdown, display\n",
        "from ipyfilechooser import FileChooser\n",
        "\n",
        "import geopandas as gpd\n",
        "import pandas as pd    \n",
        "import numpy as np\n",
        "import panel as pn\n",
        "import fiona\n",
        "import re\n",
        "import json\n",
        "import io\n",
        "import os\n",
        "\n",
        "pn.extension()\n",
        "def printmd(string):\n",
        "    display(Markdown(string))\n",
        "\n",
        "absolutePath = \"/content/drive/MyDrive/suave/\"\n",
        "\n",
        "# local imports\n",
        "import sys\n",
        "sys.path.insert(1, '../../helpers')\n",
        "import panel_libs as panellibs\n",
        "import suave_integration as suaveint"
      ]
    },
    {
      "cell_type": "markdown",
      "id": "b69581b0",
      "metadata": {
        "id": "b69581b0",
        "papermill": {
          "duration": null,
          "end_time": null,
          "exception": null,
          "start_time": null,
          "status": "pending"
        },
        "tags": []
      },
      "source": [
        "## 2. Read the survey file"
      ]
    },
    {
      "cell_type": "code",
      "execution_count": null,
      "id": "06755732",
      "metadata": {
        "id": "06755732",
        "papermill": {
          "duration": null,
          "end_time": null,
          "exception": null,
          "start_time": null,
          "status": "pending"
        },
        "tags": []
      },
      "outputs": [],
      "source": [
        "# read the csv file\n",
        "df = panellibs.extract_data(absolutePath + csv_file)\n",
        "\n",
        "# create a list of variable names\n",
        "variables_df = pd.DataFrame({'varname':df.columns})\n",
        "printmd(\"<b><span style='color:red'>All variables in the survey file:</span></b>\")\n",
        "print(variables_df.varname.values)"
      ]
    },
    {
      "cell_type": "markdown",
      "id": "295174b8",
      "metadata": {
        "id": "295174b8",
        "papermill": {
          "duration": null,
          "end_time": null,
          "exception": null,
          "start_time": null,
          "status": "pending"
        },
        "tags": []
      },
      "source": [
        "## 3. Select variable of interest and spatial grouping"
      ]
    },
    {
      "cell_type": "code",
      "execution_count": null,
      "id": "69534967",
      "metadata": {
        "id": "69534967",
        "papermill": {
          "duration": null,
          "end_time": null,
          "exception": null,
          "start_time": null,
          "status": "pending"
        },
        "tags": []
      },
      "outputs": [],
      "source": [
        "# select variable to visualize aggregate zip code data\n",
        "\n",
        "printmd(\"<h3><span style='color:red'> ---   Select Variables  ---</span></h3>\")\n",
        "\n",
        "var_selector = pn.widgets.Select(name='Variable of Interest to Show on Map', options = df.columns.to_list())\n",
        "options = ['numerical', 'categorical']\n",
        "tag_selector = pn.widgets.Select(name='SuAVE Variable Type', options = options)\n",
        "\n",
        "# select spatial variable for aggregation in input dataframe -- (zip codes, states, counties, tracts, etc.)\n",
        "grouping_selector = pn.widgets.Select(name='Spatial Grouping Variable (names of spatial objects)', options = df.columns.to_list())\n",
        "\n",
        "pn.Column(pn.Row(var_selector, tag_selector), grouping_selector)"
      ]
    },
    {
      "cell_type": "code",
      "execution_count": null,
      "id": "c9dd2978",
      "metadata": {
        "id": "c9dd2978",
        "papermill": {
          "duration": null,
          "end_time": null,
          "exception": null,
          "start_time": null,
          "status": "pending"
        },
        "tags": []
      },
      "outputs": [],
      "source": [
        "# retrieve variable of interest's name\n",
        "selected = var_selector.value\n",
        "suave_tag = tag_selector.value\n",
        "\n",
        "# retrieve grouping variable's name\n",
        "grouping_var = grouping_selector.value\n",
        "print('Selected Variable of Interest: ' + selected + '\\n' +\n",
        "     'Selected Variable Type: ' + suave_tag + '\\n' +\n",
        "     'Selected Spatial Grouping Variable: ' + grouping_var)"
      ]
    },
    {
      "cell_type": "markdown",
      "id": "f1df08be",
      "metadata": {
        "id": "f1df08be",
        "papermill": {
          "duration": null,
          "end_time": null,
          "exception": null,
          "start_time": null,
          "status": "pending"
        },
        "tags": []
      },
      "source": [
        "## 4. Select spatial grouping geometry mapping file"
      ]
    },
    {
      "cell_type": "markdown",
      "id": "4f1d3dc2",
      "metadata": {
        "id": "4f1d3dc2",
        "papermill": {
          "duration": null,
          "end_time": null,
          "exception": null,
          "start_time": null,
          "status": "pending"
        },
        "tags": []
      },
      "source": [
        "Locally upload a geometry mapping file (up to 10 MB) or select one from the working directory."
      ]
    },
    {
      "cell_type": "code",
      "execution_count": null,
      "id": "f3bc6a33",
      "metadata": {
        "id": "f3bc6a33",
        "papermill": {
          "duration": null,
          "end_time": null,
          "exception": null,
          "start_time": null,
          "status": "pending"
        },
        "tags": []
      },
      "outputs": [],
      "source": [
        "# define accepted geometry mapping file formats\n",
        "file_input = pn.widgets.FileInput(accept='.csv, .xlsx, .json, .zip, .geojson')\n",
        "fc = FileChooser()\n",
        "fc.filter_pattern = ['*.csv', '*.xlsx', '*.json', '*.zip', '*.geojson']"
      ]
    },
    {
      "cell_type": "markdown",
      "id": "63181700",
      "metadata": {
        "id": "63181700",
        "papermill": {
          "duration": null,
          "end_time": null,
          "exception": null,
          "start_time": null,
          "status": "pending"
        },
        "tags": []
      },
      "source": [
        "<span style=\"color:red\">Skip the next cell if selecting a mapping file from the working directory</span>"
      ]
    },
    {
      "cell_type": "code",
      "execution_count": null,
      "id": "82b88b2d",
      "metadata": {
        "id": "82b88b2d",
        "papermill": {
          "duration": null,
          "end_time": null,
          "exception": null,
          "start_time": null,
          "status": "pending"
        },
        "tags": []
      },
      "outputs": [],
      "source": [
        "# locally upload a geometry mapping file\n",
        "printmd(\"<h3><span style='color:red'> ---   Upload a Geometry File from your Local Computer  ---</span></h3>\")\n",
        "\n",
        "file_input"
      ]
    },
    {
      "cell_type": "code",
      "execution_count": null,
      "id": "deaa9e74",
      "metadata": {
        "id": "deaa9e74",
        "papermill": {
          "duration": null,
          "end_time": null,
          "exception": null,
          "start_time": null,
          "status": "pending"
        },
        "tags": []
      },
      "outputs": [],
      "source": [
        "# display locally uploaded mapping file\n",
        "if file_input.filename != None:\n",
        "    extension = file_input.filename.split('.')[1]\n",
        "    if extension == 'csv':\n",
        "        data = io.StringIO(file_input.value.decode('utf-8'))\n",
        "        geo_df = pd.read_csv(data)\n",
        "    elif extension == 'xlsx':\n",
        "        data = io.BytesIO()\n",
        "        data.write(file_input.value)\n",
        "        data.seek(0)\n",
        "        geo_df = pd.read_excel(data) \n",
        "    elif extension == 'json':\n",
        "        data = file_input.value\n",
        "        data = data.decode('utf-8')\n",
        "        d = json.dumps(data)\n",
        "        geo_df = pd.read_json(eval(d))\n",
        "    elif extension == 'zip':\n",
        "        data = file_input.value\n",
        "        with fiona.BytesCollection(data) as file:\n",
        "            geo_df = gpd.GeoDataFrame.from_features(file, crs=file.crs)\n",
        "    else:\n",
        "        geo_df = gpd.read_file(io.BytesIO(file_input.value))"
      ]
    },
    {
      "cell_type": "markdown",
      "id": "fb6ccf4c",
      "metadata": {
        "id": "fb6ccf4c",
        "papermill": {
          "duration": null,
          "end_time": null,
          "exception": null,
          "start_time": null,
          "status": "pending"
        },
        "tags": []
      },
      "source": [
        "<span style=\"color:red\">Skip the next cell if mapping file has been uploaded locally</span>"
      ]
    },
    {
      "cell_type": "code",
      "execution_count": null,
      "id": "1800330e",
      "metadata": {
        "id": "1800330e",
        "papermill": {
          "duration": null,
          "end_time": null,
          "exception": null,
          "start_time": null,
          "status": "pending"
        },
        "tags": []
      },
      "outputs": [],
      "source": [
        "# select geometry mapping file from working directory\n",
        "printmd(\"<h3><span style='color:red'> ---   Select a Geometry File on the Server  ---</span></h3>\")\n",
        "\n",
        "display(fc)"
      ]
    },
    {
      "cell_type": "code",
      "execution_count": null,
      "id": "8c6f16a1",
      "metadata": {
        "id": "8c6f16a1",
        "papermill": {
          "duration": null,
          "end_time": null,
          "exception": null,
          "start_time": null,
          "status": "pending"
        },
        "tags": []
      },
      "outputs": [],
      "source": [
        "# display mapping file\n",
        "if fc.selected != None:\n",
        "    file_extension = fc.selected.split('.')[1]\n",
        "    if file_extension == 'csv':\n",
        "        geo_df = pd.read_csv(fc.selected)\n",
        "    elif file_extension == 'xlsx':\n",
        "        geo_df = pd.read_excel(fc.selected)\n",
        "    elif file_extension == 'json':\n",
        "        geo_df = pd.read_json(fc.selected)\n",
        "    else:\n",
        "        geo_df = gpd.read_file(fc.selected)\n",
        "\n",
        "geo_df = geo_df.dropna(axis=0) # drop NaNs if they exist in the mapping file\n",
        "geo_df['None'] = None # placeholder columnm for no selection\n",
        "geo_df.head()"
      ]
    },
    {
      "cell_type": "code",
      "execution_count": null,
      "id": "61150445",
      "metadata": {
        "id": "61150445",
        "papermill": {
          "duration": null,
          "end_time": null,
          "exception": null,
          "start_time": null,
          "status": "pending"
        },
        "tags": []
      },
      "outputs": [],
      "source": [
        "# select relevant geometry column(s) from mapping file - (label col, merge col, geometry col)\n",
        "label_selector = pn.widgets.Select(name='Select Geometry Label Column (e.g., Country Name)',value='None',options=geo_df.columns.to_list())\n",
        "merge_selector = pn.widgets.Select(name='Select Merging Column (e.g., Country 3-charater code)',value='None',options = geo_df.columns.to_list())\n",
        "geo_selector = pn.widgets.Select(name='Select Geometry Column (e.g., WKT)',value='None',options = geo_df.columns.to_list())\n",
        "pn.Column(label_selector,merge_selector,geo_selector)"
      ]
    },
    {
      "cell_type": "code",
      "execution_count": null,
      "id": "cb31db9f",
      "metadata": {
        "id": "cb31db9f",
        "papermill": {
          "duration": null,
          "end_time": null,
          "exception": null,
          "start_time": null,
          "status": "pending"
        },
        "tags": []
      },
      "outputs": [],
      "source": [
        "# columns selected:\n",
        "cols = [label_selector.value, merge_selector.value, geo_selector.value]\n",
        "merge_col = merge_selector.value\n",
        "geometry_col = geo_selector.value\n",
        "print('Selected Geometry Label Column: ' + label_selector.value + '\\n'\n",
        "     'Selected Merging Column: ' + merge_col + '\\n'\n",
        "     'Selected Geometry Column: '  + geometry_col)"
      ]
    },
    {
      "cell_type": "code",
      "execution_count": null,
      "id": "bf1d7723",
      "metadata": {
        "id": "bf1d7723",
        "papermill": {
          "duration": null,
          "end_time": null,
          "exception": null,
          "start_time": null,
          "status": "pending"
        },
        "tags": []
      },
      "outputs": [],
      "source": [
        "# ensure spatial entities in merging column are all unique\n",
        "unique_entries = len(geo_df[merge_col].unique())\n",
        "total_entries = geo_df.shape[0]\n",
        "if unique_entries != total_entries:\n",
        "    raise Exception('Non-unique spatial entities found in mapping file. Clean or engineer ' +\n",
        "                    'merging column to contain a unique spatial entity per row in the mapping file.')"
      ]
    },
    {
      "cell_type": "markdown",
      "id": "5bc920f0",
      "metadata": {
        "id": "5bc920f0",
        "papermill": {
          "duration": null,
          "end_time": null,
          "exception": null,
          "start_time": null,
          "status": "pending"
        },
        "tags": []
      },
      "source": [
        "<h2><span style=\"color:red\">4a. Optional: Clean spatial grouping variable and merging column</span></h2>\n"
      ]
    },
    {
      "cell_type": "markdown",
      "id": "043e56fa",
      "metadata": {
        "id": "043e56fa",
        "papermill": {
          "duration": null,
          "end_time": null,
          "exception": null,
          "start_time": null,
          "status": "pending"
        },
        "tags": []
      },
      "source": [
        "Replace this code block with your own cleaning functions prior to map creation. Skip this cell if the spatial grouping variable is cleaned in the original survey dataframe and the merging column is cleaned in the mapping file."
      ]
    },
    {
      "cell_type": "code",
      "execution_count": null,
      "id": "c3968268",
      "metadata": {
        "id": "c3968268",
        "papermill": {
          "duration": null,
          "end_time": null,
          "exception": null,
          "start_time": null,
          "status": "pending"
        },
        "tags": []
      },
      "outputs": [],
      "source": [
        "# sample cleaning functions\n",
        "def clean_zip(data):\n",
        "    \"\"\"\n",
        "    Cleans zip codes separated by '-' and returns as float\n",
        "    \"\"\"\n",
        "    if type(data) == float:\n",
        "        return data\n",
        "    elif '-' in data:\n",
        "        return float(data.split('-')[0])\n",
        "    return float(data)\n",
        "\n",
        "def clean_spaces(data):\n",
        "    \"\"\"\n",
        "    Removes unnecessary whitespace from data\n",
        "    \"\"\"\n",
        "    data = data.strip(' ')\n",
        "    data = re.sub(r\"\\s+\", \" \", data)\n",
        "    return data\n",
        "\n",
        "# Ex. cleaning spatial grouping variable and merging column\n",
        "\n",
        "# df[grouping_var] = df[grouping_var].apply(clean_zip)\n",
        "\n",
        "# df[grouping_var] = df[grouping_var].apply(clean_spaces)\n",
        "# geo_df[merge_col] = geo_df[merge_col].apply(clean_spaces)\n",
        "\n",
        "# Ex. engineering merging column to contain all unique entries\n",
        "\n",
        "# add col to ukraine mapping file\n",
        "# geo_df[merge_col] = geo_df[merge_col] + ' -' + geo_df[cols[0]]\n",
        "# geo_df.head()"
      ]
    },
    {
      "cell_type": "markdown",
      "id": "64d7a4f3",
      "metadata": {
        "id": "64d7a4f3",
        "papermill": {
          "duration": null,
          "end_time": null,
          "exception": null,
          "start_time": null,
          "status": "pending"
        },
        "tags": []
      },
      "source": [
        "## 5. Generate aggregate map CSV file"
      ]
    },
    {
      "cell_type": "code",
      "execution_count": null,
      "id": "9a5f8072",
      "metadata": {
        "id": "9a5f8072",
        "papermill": {
          "duration": null,
          "end_time": null,
          "exception": null,
          "start_time": null,
          "status": "pending"
        },
        "tags": []
      },
      "outputs": [],
      "source": [
        "# generate aggregate data by spatial grouping from variable mapping \n",
        "def map_numerical(df, column):\n",
        "    \"\"\"\n",
        "    Returns a dataframe of a numeric variable mean aggregated by spatial grouping\n",
        "    \"\"\"\n",
        "    out = df.groupby(grouping_var)[column].mean().to_frame()\n",
        "    col_selected = column.split('#')\n",
        "    new_cols = [col_selected[0] + '_mean#' + col_selected[1]]\n",
        "    out.columns = new_cols\n",
        "    out = out.reset_index().fillna(0)\n",
        "    out = out.rename_axis(None, axis=1)\n",
        "    return out.round(3)\n",
        "\n",
        "def map_categorical(df, column):\n",
        "    \"\"\" \n",
        "    Returns a dataframe of a categorical variable counts aggregated by spatial grouping\n",
        "    \"\"\"\n",
        "    out = df.groupby(grouping_var)[column].value_counts(normalize=True).unstack()\n",
        "    col_selected = column.split('#')\n",
        "    new_cols = [col_selected[0] + '_' + i + '#number' for i in out.columns]\n",
        "    out.columns = new_cols\n",
        "    out = out.reset_index().fillna(0)\n",
        "    out = out.rename_axis(None, axis=1)\n",
        "    return out.round(3)\n",
        "\n",
        "try:\n",
        "    if suave_tag == 'numerical':\n",
        "        suave_out = map_numerical(df, selected) # mapping for numerical variables\n",
        "    else:\n",
        "        suave_out = map_categorical(df, selected) # mapping for categorical (radio/checkbox) variables\n",
        "except:\n",
        "    print(\"Incorrect SuAVE variable type selected. Restart the kernel, \" +\n",
        "          \"reselect the SuAVE variable type, and rerun all cells.\")\n",
        "    raise\n",
        "suave_out = suave_out.replace(0, '') # prevent displaying aggregations with no data\n",
        "suave_out.head()"
      ]
    },
    {
      "cell_type": "code",
      "execution_count": null,
      "id": "3a92e69e",
      "metadata": {
        "id": "3a92e69e",
        "papermill": {
          "duration": null,
          "end_time": null,
          "exception": null,
          "start_time": null,
          "status": "pending"
        },
        "tags": []
      },
      "outputs": [],
      "source": [
        "# add geometry data to output\n",
        "geo_df = geo_df[cols]\n",
        "geo_df[merge_col] = geo_df[merge_col].astype(str)\n",
        "\n",
        "# set merge column data type to numeric if its a numeric variable\n",
        "num_numeric = geo_df[merge_col].str.isnumeric().sum()\n",
        "if num_numeric == geo_df.shape[0]:\n",
        "    geo_df[merge_col] = geo_df[merge_col].astype(float)\n",
        "    \n",
        "# merge geometry data to input dataframe\n",
        "suave_geo = suave_out.merge(geo_df, left_on=grouping_var, right_on=merge_col)\n",
        "suave_geo = suave_geo.drop(columns = grouping_var)\n",
        "suave_geo = suave_geo.rename(columns={geometry_col: 'geometry#hiddenmore'})"
      ]
    },
    {
      "cell_type": "code",
      "execution_count": null,
      "id": "2db270a4",
      "metadata": {
        "id": "2db270a4",
        "papermill": {
          "duration": null,
          "end_time": null,
          "exception": null,
          "start_time": null,
          "status": "pending"
        },
        "tags": []
      },
      "outputs": [],
      "source": [
        "# display output survey dataframe\n",
        "shared_entries = len(set(suave_out[grouping_var]).intersection(set(geo_df[merge_col])))\n",
        "different_entries = set(suave_out[grouping_var]).difference(set(suave_geo[merge_col]))\n",
        "\n",
        "if shared_entries == 0 and suave_geo.shape[0] == 0:\n",
        "    raise Exception('Empty dataframe. No shared entries found to merge survey and mapping file. ' +\n",
        "                    'Restart the kernel and ensure both the merging column in the mapping file ' +\n",
        "                    'and the spatial grouping variable in the original survey are cleaned and have ' +\n",
        "                    'shared entries to merge.')\n",
        "elif different_entries != set():\n",
        "    printmd(\"<b><span style='color:red'>USER WARNING: The following spatial entities could not be \" +\n",
        "            \"matched \" + str(different_entries) + \". Ensure these entries are found in the merging \" +\n",
        "            \"column in the geometry mapping file.</span></b>\")\n",
        "\n",
        "suave_geo.head()"
      ]
    },
    {
      "cell_type": "code",
      "execution_count": null,
      "id": "58d9d3db",
      "metadata": {
        "id": "58d9d3db",
        "papermill": {
          "duration": null,
          "end_time": null,
          "exception": null,
          "start_time": null,
          "status": "pending"
        },
        "tags": []
      },
      "outputs": [],
      "source": [
        "# preview expected output in SuAVE\n",
        "suave_display = suave_geo.copy()\n",
        "suave_display = suave_geo.rename(columns={'geometry#hiddenmore': 'geometry'})\n",
        "geo_col = gpd.GeoSeries.from_wkt(suave_display['geometry'])\n",
        "suave_display = gpd.GeoDataFrame(suave_display, crs=\"EPSG:4326\", geometry=geo_col)\n",
        "suave_display = suave_display.replace('', 0)"
      ]
    },
    {
      "cell_type": "code",
      "execution_count": null,
      "id": "042b84aa",
      "metadata": {
        "id": "042b84aa",
        "papermill": {
          "duration": null,
          "end_time": null,
          "exception": null,
          "start_time": null,
          "status": "pending"
        },
        "tags": []
      },
      "outputs": [],
      "source": [
        "# select an output column to preview\n",
        "out_selector = pn.widgets.Select(name='Select Column to View',options=suave_display.columns.to_list())\n",
        "pn.Row(out_selector)"
      ]
    },
    {
      "cell_type": "code",
      "execution_count": null,
      "id": "cc505765",
      "metadata": {
        "id": "cc505765",
        "papermill": {
          "duration": null,
          "end_time": null,
          "exception": null,
          "start_time": null,
          "status": "pending"
        },
        "tags": []
      },
      "outputs": [],
      "source": [
        "# preview aggregate map output\n",
        "col_selected = out_selector.value \n",
        "preview = suave_display[suave_display[col_selected] > 0.0]\n",
        "preview.explore(column = col_selected, categorical=False)"
      ]
    },
    {
      "cell_type": "markdown",
      "id": "121ce28f",
      "metadata": {
        "id": "121ce28f",
        "papermill": {
          "duration": null,
          "end_time": null,
          "exception": null,
          "start_time": null,
          "status": "pending"
        },
        "tags": []
      },
      "source": [
        "## 6. Save the new version of CSV file, and give a name to new survey"
      ]
    },
    {
      "cell_type": "code",
      "execution_count": null,
      "id": "dba86f4b",
      "metadata": {
        "id": "dba86f4b",
        "papermill": {
          "duration": null,
          "end_time": null,
          "exception": null,
          "start_time": null,
          "status": "pending"
        },
        "tags": []
      },
      "outputs": [],
      "source": [
        "new_file = suaveint.save_csv_file(suave_geo, absolutePath, csv_file)"
      ]
    },
    {
      "cell_type": "code",
      "execution_count": null,
      "id": "c1674381",
      "metadata": {
        "id": "c1674381",
        "papermill": {
          "duration": null,
          "end_time": null,
          "exception": null,
          "start_time": null,
          "status": "pending"
        },
        "tags": []
      },
      "outputs": [],
      "source": [
        "# Input survey name\n",
        "\n",
        "from IPython.display import display\n",
        "input_text = widgets.Text(placeholder='Enter Survey Name...')\n",
        "output_text = widgets.Text()\n",
        "\n",
        "def bind_input_to_output(sender):\n",
        "    output_text.value = input_text.value\n",
        "\n",
        "# Tell the text input widget to call bind_input_to_output() on submit\n",
        "input_text.on_submit(bind_input_to_output)\n",
        "\n",
        "printmd(\"<b><span style='color:red'>Input survey name here, press Enter, and then run the next cell:</span></b>\")\n",
        "# Display input text box widget for input\n",
        "display(input_text)\n",
        "\n",
        "display(output_text)"
      ]
    },
    {
      "cell_type": "code",
      "execution_count": null,
      "id": "c275f649",
      "metadata": {
        "id": "c275f649",
        "papermill": {
          "duration": null,
          "end_time": null,
          "exception": null,
          "start_time": null,
          "status": "pending"
        },
        "tags": []
      },
      "outputs": [],
      "source": [
        "# Print survey name\n",
        "survey_name = output_text.value\n",
        "printmd(\"<b><span style='color:red'>Survey Name is: </span></b>\" + survey_name)"
      ]
    },
    {
      "cell_type": "markdown",
      "id": "945eff91",
      "metadata": {
        "id": "945eff91",
        "papermill": {
          "duration": null,
          "end_time": null,
          "exception": null,
          "start_time": null,
          "status": "pending"
        },
        "tags": []
      },
      "source": [
        "## 7. Generate the survey and create survey URL"
      ]
    },
    {
      "cell_type": "code",
      "execution_count": null,
      "id": "0ef9ef6d",
      "metadata": {
        "id": "0ef9ef6d",
        "papermill": {
          "duration": null,
          "end_time": null,
          "exception": null,
          "start_time": null,
          "status": "pending"
        },
        "tags": []
      },
      "outputs": [],
      "source": [
        "suaveint.create_survey(survey_url,new_file, survey_name, dzc_file, user, csv_file, view, views)"
      ]
    }
  ],
  "metadata": {
    "colab": {
      "provenance": []
    },
    "kernelspec": {
      "display_name": "Python 3",
      "language": "python",
      "name": "python3"
    },
    "language_info": {
      "codemirror_mode": {
        "name": "ipython",
        "version": 3
      },
      "file_extension": ".py",
      "mimetype": "text/x-python",
      "name": "python",
      "nbconvert_exporter": "python",
      "pygments_lexer": "ipython3",
      "version": "3.10.11"
    },
    "papermill": {
      "default_parameters": {},
      "duration": 5.096449,
      "end_time": "2023-05-25T07:01:41.745718",
      "environment_variables": {},
      "exception": true,
      "input_path": "myclone/operations/maps/Generate_Aggregate_Maps_Suave.ipynb",
      "output_path": "/content/drive/MyDrive/suave/Generate_Aggregate_Maps_Suave.ipynb",
      "parameters": {
        "active_object": "null",
        "csv_file": "zaslavsk_WBDH_Participants.csv",
        "dzc_file": "https://maxim.ucsd.edu/dzgen/lib-staging-uploads/063044157874ce7d5841c906fa6d8073/content.dzc",
        "full_notebook_url": "https://colab.research.google.com/drive/1aZCpg7UmG0nPUuRPTH2p5Nm43G0HmtQg?survey_url=https://suave-dev.sdsc.edu/main/file=zaslavsk_WBDH_Participants.csv&views=1110101&view=grid&user=zaslavsk&csv_file=zaslavsk_WBDH_Participants.csv&params=none&dzc_file=https://maxim.ucsd.edu/dzgen/lib-staging-uploads/063044157874ce7d5841c906fa6d8073/content.dzc&active_object=null",
        "params": "none",
        "survey_url": "https://suave-dev.sdsc.edu/main/file=zaslavsk_WBDH_Participants.csv",
        "user": "zaslavsk",
        "view": "grid",
        "views": "1110101"
      },
      "start_time": "2023-05-25T07:01:36.649269",
      "version": "2.4.0"
    }
  },
  "nbformat": 4,
  "nbformat_minor": 5
}
