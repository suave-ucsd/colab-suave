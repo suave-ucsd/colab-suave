{
 "cells": [
  {
   "attachments": {},
   "cell_type": "markdown",
   "metadata": {},
   "source": [
    "<h1><span style=\"color:red\">Add Color Statistics for Images in Image Collection</span></h1>\n",
    "\n",
    "### This sample notebook will read survey images and add lightness, hue, brightness, saturation, and RGB values to a new survey version"
   ]
  },
  {
   "attachments": {},
   "cell_type": "markdown",
   "metadata": {},
   "source": [
    "## 1. Import libraries"
   ]
  },
  {
   "cell_type": "code",
   "execution_count": null,
   "metadata": {},
   "outputs": [],
   "source": [
    "from google.colab import drive\n",
    "drive.mount('/content/drive')\n",
    "\n",
    "!rm -rf myclone\n",
    "!git clone --depth 1 \"https://github.com/suave-ucsd/colab-suave.git\" myclone\n",
    "\n",
    "%cd /content/myclone/helpers\n",
    "!git pull"
   ]
  },
  {
   "cell_type": "code",
   "execution_count": null,
   "metadata": {},
   "outputs": [],
   "source": [
    "# common imports\n",
    "from __future__ import print_function\n",
    "from ipywidgets import interact, interactive, fixed, interact_manual\n",
    "import ipywidgets as widgets\n",
    "from IPython.display import Markdown, display\n",
    "\n",
    "import pandas as pd\n",
    "pd.set_option('display.max_colwidth', 0)\n",
    "    \n",
    "import numpy as np\n",
    "import panel as pn\n",
    "\n",
    "pn.extension()\n",
    "def printmd(string):\n",
    "    display(Markdown(string))\n",
    "\n",
    "absolutePath = \"/content/drive/MyDrive/suave/\"\n",
    "\n",
    "# local imports\n",
    "import sys\n",
    "sys.path.insert(1, '../../helpers')\n",
    "import panel_libs as panellibs\n",
    "import suave_integration as suaveint\n",
    "\n",
    "# specific imports\n",
    "from PIL import Image, ImageStat\n",
    "import glob, os\n",
    "import csv\n",
    "import requests\n",
    "import re\n",
    "\n"
   ]
  },
  {
   "attachments": {},
   "cell_type": "markdown",
   "metadata": {},
   "source": [
    "## 2. Read the survey file and navigate to full-size images"
   ]
  },
  {
   "cell_type": "code",
   "execution_count": null,
   "metadata": {},
   "outputs": [],
   "source": [
    "# read the csv file\n",
    "df = panellibs.extract_data(absolutePath + csv_file)\n",
    "dflen = len(df.columns)\n",
    "\n",
    "localdzc = dzc_file.replace(\"https://maxim.ucsd.edu/dzgen/lib-staging-uploads\",\"/lib-nfs/dzgen\")\n",
    "full_images_location = localdzc.replace(\"/content.dzc\",\"/full_images/\")"
   ]
  },
  {
   "cell_type": "code",
   "execution_count": null,
   "metadata": {},
   "outputs": [],
   "source": [
    "from bs4 import BeautifulSoup\n",
    "from urllib.parse import urljoin\n",
    "\n",
    "response = requests.get(full_images_location)\n",
    "soup = BeautifulSoup(response.text, 'html.parser')\n",
    "\n",
    "image_links = soup.find_all('a', href=True)\n",
    "\n",
    "image_urls = []\n",
    "\n",
    "def get_string_before_last_period(input_string):\n",
    "    parts = input_string.rsplit('.', 1)\n",
    "    if len(parts) > 1:\n",
    "        return parts[0]\n",
    "    else:\n",
    "        return input_string\n",
    "\n",
    "images_in_df = list(df[\"#img\"].unique())\n",
    "\n",
    "for link in image_links:\n",
    "    image_url = link['href']\n",
    "    if get_string_before_last_period(image_url) in images_in_df:\n",
    "    \n",
    "        if not image_url.startswith(('http:', 'https:')):\n",
    "            full_image_url = urljoin(full_images_location, image_url)\n",
    "        else:\n",
    "            full_image_url = image_url\n",
    "\n",
    "        image_urls.append(full_image_url)"
   ]
  },
  {
   "attachments": {},
   "cell_type": "markdown",
   "metadata": {},
   "source": [
    "## 3. Specify color characteristics to extract from images"
   ]
  },
  {
   "cell_type": "code",
   "execution_count": null,
   "metadata": {},
   "outputs": [],
   "source": [
    "a = widgets.Dropdown(options=[\"Compute RGB values\", \"Don't compute RGB values\"])\n",
    "b = widgets.Dropdown(options=[\"Compute Lightness values\", \"Don't compute Lightness values\"])\n",
    "c = widgets.Dropdown(options=[\"Omit Root-Mean-Square for the selected bands\", \"Include Root-Mean-Square for the selected bands\"])\n",
    "ui = widgets.VBox([a, b, c])\n",
    "def f(a, b, c):\n",
    "    return ((a, b, c))\n",
    "\n",
    "formula = widgets.interactive_output(f, {'a': a, 'b': b, 'c': c})\n",
    "\n",
    "display(ui, formula)\n",
    "\n",
    "printmd(\"<b><span style='color:red'>Select variables to include in the output, then run the next cell</span></b>\")\n"
   ]
  },
  {
   "cell_type": "code",
   "execution_count": null,
   "metadata": {},
   "outputs": [],
   "source": [
    "# include RGB values\n",
    "printmd(\"<b><span style='color:red'>The following color characteristics will be added:</span></b>\")\n",
    "RGB = Light = rms = False\n",
    "if (a.value == 'Compute RGB values'):\n",
    "    print('Red-Green-Blue bands: Mean, Median, Standard Deviation: YES')\n",
    "    RGB = True\n",
    "if (b.value == 'Compute Lightness values'):\n",
    "    print('Lightness: Mean, Median, Standard Deviation: YES')\n",
    "    Light = True\n",
    "if (c.value == 'Include Root-Mean-Square for the selected bands'):\n",
    "    print('Root-Mean-Square for the above bands: YES')\n",
    "    rms = True\n",
    "    \n"
   ]
  },
  {
   "attachments": {},
   "cell_type": "markdown",
   "metadata": {},
   "source": [
    "## 4. Specify band statistics functions ##"
   ]
  },
  {
   "cell_type": "code",
   "execution_count": null,
   "metadata": {},
   "outputs": [],
   "source": [
    "def lightness( im_file ):\n",
    "    im = Image.open(im_file).convert('L')\n",
    "    stat = ImageStat.Stat(im)\n",
    "    return [stat.mean[0], stat.median[0], stat.rms[0], stat.stddev[0]]\n",
    "\n",
    "def RGBstats ( im_file ):\n",
    "    im = Image.open(im_file).convert('RGB')\n",
    "    stat = ImageStat.Stat(im)\n",
    "    return [\n",
    "        [stat.mean[0], stat.median[0], stat.rms[0], stat.stddev[0]],\n",
    "        [stat.mean[1], stat.median[1], stat.rms[1], stat.stddev[1]],\n",
    "        [stat.mean[2], stat.median[2], stat.rms[2], stat.stddev[2]]\n",
    "    ]\n",
    "def HSVstats ( im_file ):\n",
    "    im = Image.open(im_file).convert('HSV')\n",
    "    stat = ImageStat.Stat(im)\n",
    "    return [\n",
    "        [stat.mean[0], stat.median[0], stat.rms[0], stat.stddev[0]],\n",
    "        [stat.mean[1], stat.median[1], stat.rms[1], stat.stddev[1]],\n",
    "        [stat.mean[2], stat.median[2], stat.rms[2], stat.stddev[2]]\n",
    "    ]"
   ]
  },
  {
   "cell_type": "code",
   "execution_count": null,
   "metadata": {},
   "outputs": [],
   "source": [
    "import numpy as np\n",
    "import colorsys\n",
    "import requests\n",
    "from PIL import Image\n",
    "import numpy as np\n",
    "from io import BytesIO\n",
    "\n",
    "\n",
    "# Calculate lightness statistics for an RGB image represented as a NumPy array\n",
    "def calculate_lightness(rgb_img):\n",
    "    # Apply the weights to the RGB channels\n",
    "    weights = np.array([0.299, 0.587, 0.114])\n",
    "    lightness_img = np.sum(rgb_img * weights, axis=2)  # Sum along the third axis (R, G, B)\n",
    "    \n",
    "    # Calculate statistics (mean, median, RMS, and standard deviation)\n",
    "    lightness_mean = np.mean(lightness_img)\n",
    "    lightness_median = np.median(lightness_img)\n",
    "    lightness_rms = np.sqrt(np.mean(lightness_img**2))\n",
    "    lightness_std = np.std(lightness_img)\n",
    "    return [lightness_mean, lightness_median, lightness_rms, lightness_std]\n",
    "\n",
    "# Calculate HSV statistics for an RGB image represented as a NumPy array\n",
    "def calculate_hsv_stats(rgb_img):\n",
    "    # Initialize arrays to store the HSV channels\n",
    "    hue_channel = []\n",
    "    saturation_channel = []\n",
    "    value_channel = []\n",
    "\n",
    "    # Iterate through the rows and columns of the RGB image\n",
    "    for row in rgb_img:\n",
    "        for r, g, b in row:\n",
    "            h, s, v = colorsys.rgb_to_hsv(r / 255.0, g / 255.0, b / 255.0)\n",
    "            hue_channel.append(h)\n",
    "            saturation_channel.append(s)\n",
    "            value_channel.append(v)\n",
    "\n",
    "    # Convert lists to NumPy arrays\n",
    "    hue_channel = np.array(hue_channel)\n",
    "    saturation_channel = np.array(saturation_channel)\n",
    "    value_channel = np.array(value_channel)\n",
    "\n",
    "    # Calculate statistics (mean, median, RMS, and standard deviation) for each HSV channel\n",
    "\n",
    "    # Statistics for Hue channel\n",
    "    hue_mean = np.mean(hue_channel)\n",
    "    hue_median = np.median(hue_channel)\n",
    "    hue_rms = np.sqrt(np.mean(hue_channel**2))\n",
    "    hue_std = np.std(hue_channel)\n",
    "\n",
    "    # Statistics for Saturation channel\n",
    "    saturation_mean = np.mean(saturation_channel)\n",
    "    saturation_median = np.median(saturation_channel)\n",
    "    saturation_rms = np.sqrt(np.mean(saturation_channel**2))\n",
    "    saturation_std = np.std(saturation_channel)\n",
    "\n",
    "    # Statistics for Value channel\n",
    "    value_mean = np.mean(value_channel)\n",
    "    value_median = np.median(value_channel)\n",
    "    value_rms = np.sqrt(np.mean(value_channel**2))\n",
    "    value_std = np.std(value_channel)\n",
    "\n",
    "    return [\n",
    "        [hue_mean, hue_median, hue_rms, hue_std],\n",
    "        [saturation_mean, saturation_median, saturation_rms, saturation_std],\n",
    "        [value_mean, value_median, value_rms, value_std]\n",
    "    ]\n",
    "\n",
    "# Calculate RGB statistics for an RGB image represented as a NumPy array\n",
    "def calculate_rgb_stats(rgb_img):\n",
    "    # Split the RGB image into separate Red, Green, and Blue channels\n",
    "    red_channel = rgb_img[:, :, 0]\n",
    "    green_channel = rgb_img[:, :, 1]\n",
    "    blue_channel = rgb_img[:, :, 2]\n",
    "\n",
    "    # Calculate statistics (mean, median, RMS, and standard deviation) for each RGB channel\n",
    "\n",
    "    # Statistics for Red channel\n",
    "    red_mean = np.mean(red_channel)\n",
    "    red_median = np.median(red_channel)\n",
    "    red_rms = np.sqrt(np.mean(red_channel**2))\n",
    "    red_std = np.std(red_channel)\n",
    "\n",
    "    # Statistics for Green channel\n",
    "    green_mean = np.mean(green_channel)\n",
    "    green_median = np.median(green_channel)\n",
    "    green_rms = np.sqrt(np.mean(green_channel**2))\n",
    "    green_std = np.std(green_channel)\n",
    "\n",
    "    # Statistics for Blue channel\n",
    "    blue_mean = np.mean(blue_channel)\n",
    "    blue_median = np.median(blue_channel)\n",
    "    blue_rms = np.sqrt(np.mean(blue_channel**2))\n",
    "    blue_std = np.std(blue_channel)\n",
    "\n",
    "    return [\n",
    "        [red_mean, red_median, red_rms, red_std],\n",
    "        [green_mean, green_median, green_rms, green_std],\n",
    "        [blue_mean, blue_median, blue_rms, blue_std]\n",
    "    ]"
   ]
  },
  {
   "attachments": {},
   "cell_type": "markdown",
   "metadata": {},
   "source": [
    "## 5. Process images"
   ]
  },
  {
   "cell_type": "code",
   "execution_count": null,
   "metadata": {
    "scrolled": true
   },
   "outputs": [],
   "source": [
    "# Processing image file and adding to data frame\n",
    "all_data = []\n",
    "counter = 0\n",
    "a = widgets.Label(value=\"0% done\")\n",
    "display(a)\n",
    "\n",
    "# Uncomment only if want to process based on level 8 tiles. It is faster but not as accurate.\n",
    "# for dzi in glob.glob(\"*.dzi\"):\n",
    "#     file = os.path.join(os.getcwd(), dzi[:-4] +\"_files\", \"8\", \"0_0.jpg\")\n",
    "\n",
    "# numfiles = len(glob.glob(\"*.png\"))\n",
    "# numfiles = len(glob.glob(full_images_location+\"*.png\"))\n",
    "\n",
    "numfiles = len(image_urls)\n",
    "for file in image_urls:\n",
    "    file_data = {} # data for this particular file\n",
    "    try:\n",
    "        img_response =BytesIO(requests.get(file).content)\n",
    "        l1 = lightness(img_response)\n",
    "        h1 = HSVstats(img_response)\n",
    "        r1 = RGBstats(img_response)\n",
    "        file_data['#img'] = file.split(\"/\")[-1]\n",
    "\n",
    "        file_data['Lightness_mean']   = l1[0]\n",
    "        file_data['Lightness_median'] = l1[1]\n",
    "        file_data['Lightness_rms']    = l1[2]\n",
    "        file_data['Lightness_std']    = l1[3]\n",
    "\n",
    "        file_data['Hue_mean']          = h1[0][0]\n",
    "        file_data['Hue_median']        = h1[0][1]\n",
    "        file_data['Hue_rms']           = h1[0][2]\n",
    "        file_data['Hue_std']           = h1[0][3]\n",
    "        file_data['Saturation_mean']   = h1[1][0]\n",
    "        file_data['Saturation_median'] = h1[1][1]\n",
    "        file_data['Saturation_rms']    = h1[1][2]\n",
    "        file_data['Saturation_std']    = h1[1][3]\n",
    "        file_data['Brightness_mean']        = h1[2][0]\n",
    "        file_data['Brightness_median']      = h1[2][1]\n",
    "        file_data['Brightness_rms']         = h1[2][2]\n",
    "        file_data['Brightness_std']         = h1[2][3]\n",
    "        \n",
    "        file_data['Red_mean']          = r1[0][0]\n",
    "        file_data['Red_median']        = r1[0][1]\n",
    "        file_data['Red_rms']           = r1[0][2]\n",
    "        file_data['Red_std']           = r1[0][3]\n",
    "        file_data['Green_mean']        = r1[1][0]\n",
    "        file_data['Green_median']      = r1[1][1]\n",
    "        file_data['Green_rms']         = r1[1][2]\n",
    "        file_data['Green_std']         = r1[1][3]\n",
    "        file_data['Blue_mean']         = r1[2][0]\n",
    "        file_data['Blue_median']       = r1[2][1]\n",
    "        file_data['Blue_rms']          = r1[2][2]\n",
    "        file_data['Blue_std']          = r1[2][3]\n",
    "        \n",
    "        \n",
    "        all_data.append(file_data)    \n",
    "    except Exception as e:\n",
    "        print(file, \"There was an issue: \", e)\n",
    "    counter += 1\n",
    "    a.value = str(int(counter / numfiles * 100)) + \"% done\"\n",
    "        \n",
    "newdf = pd.DataFrame(all_data).fillna('')\n",
    "printmd(\"<b><span style='color:red'>All files processed</span></b>\")"
   ]
  },
  {
   "attachments": {},
   "cell_type": "markdown",
   "metadata": {},
   "source": [
    "## 6. Add the result to the survey dataframe"
   ]
  },
  {
   "cell_type": "code",
   "execution_count": null,
   "metadata": {
    "scrolled": true
   },
   "outputs": [
    {
     "ename": "",
     "evalue": "",
     "output_type": "error",
     "traceback": [
      "\u001b[1;31mRunning cells with 'c:\\Users\\jieqi\\AppData\\Local\\Programs\\Python\\Python312\\python.exe' requires the ipykernel package.\n",
      "\u001b[1;31mRun the following command to install 'ipykernel' into the Python environment. \n",
      "\u001b[1;31mCommand: 'c:/Users/jieqi/AppData/Local/Programs/Python/Python312/python.exe -m pip install ipykernel -U --user --force-reinstall'"
     ]
    }
   ],
   "source": [
    "columnTitles = [\n",
    "    '#img',\n",
    "    'Brightness_mean','Brightness_median']\n",
    "if rms:\n",
    "    columnTitles.append('Brightness_rms')\n",
    "columnTitles.extend(('Brightness_std','Hue_mean','Hue_median'))\n",
    "if rms:\n",
    "    columnTitles.append('Hue_rms')\n",
    "columnTitles.extend(('Hue_std','Saturation_mean','Saturation_median'))\n",
    "if rms:\n",
    "    columnTitles.append('Saturation_rms')\n",
    "columnTitles.append('Saturation_std')\n",
    "\n",
    "if Light:\n",
    "    columnTitles.extend(('Lightness_mean', 'Lightness_median'))\n",
    "    if rms: \n",
    "        columnTitles.append('Lightness_rms')\n",
    "    columnTitles.append('Lightness_std')\n",
    "    \n",
    "if RGB:\n",
    "    columnTitles.extend(('Red_mean','Red_median'))\n",
    "    if rms:\n",
    "        columnTitles.append('Red_rms')\n",
    "    columnTitles.extend(('Red_std','Green_mean','Green_median'))\n",
    "    if rms:\n",
    "        columnTitles.append('Green_rms')\n",
    "    columnTitles.extend(('Green_std','Blue_mean','Blue_median'))\n",
    "    if rms:\n",
    "        columnTitles.append('Blue_rms')\n",
    "    columnTitles.append('Blue_std')\n",
    "\n",
    "printmd(\"<br><b><span style='color:red'>The following columns will be added:</span></b>\")    \n",
    "print(columnTitles[1:])\n",
    "\n",
    "newdf = newdf[columnTitles]\n"
   ]
  },
  {
   "cell_type": "code",
   "execution_count": null,
   "metadata": {},
   "outputs": [],
   "source": [
    "# add #number to numeric column names\n",
    "\n",
    "collist = []\n",
    "for col in newdf.columns:\n",
    "    col1 = col+\"#number\"\n",
    "    collist.append(col1)\n",
    "newdf.columns = collist\n",
    "newdf = newdf.rename(columns={'#img#number': '#img'})\n",
    "df = pd.merge(df, newdf, on='#img', how='outer')\n",
    "printmd(\"<b><span style='color:red'>Dataframe created</span></b>\")"
   ]
  },
  {
   "attachments": {},
   "cell_type": "markdown",
   "metadata": {},
   "source": [
    "## 7. Examine the generated dataframe"
   ]
  },
  {
   "cell_type": "code",
   "execution_count": null,
   "metadata": {},
   "outputs": [],
   "source": [
    "with pd.option_context(\"display.max_columns\", None):\n",
    "    if any(\"geometry\" in col for col in newdf.columns):\n",
    "        display(newdf.drop(['geometry'],axis=1))\n",
    "    else:\n",
    "        display(newdf)\n",
    "    \n",
    "    "
   ]
  },
  {
   "attachments": {},
   "cell_type": "markdown",
   "metadata": {},
   "source": [
    "## 8. Save the new version of CSV file, and give a name to new survey"
   ]
  },
  {
   "cell_type": "code",
   "execution_count": null,
   "metadata": {},
   "outputs": [],
   "source": [
    "new_file = suaveint.save_csv_file(df, absolutePath, csv_file)"
   ]
  },
  {
   "cell_type": "code",
   "execution_count": null,
   "metadata": {},
   "outputs": [],
   "source": [
    "#Input survey name\n",
    "\n",
    "from IPython.display import display\n",
    "input_text = widgets.Text(placeholder='Enter Survey Name...')\n",
    "output_text = widgets.Text()\n",
    "\n",
    "def bind_input_to_output(sender):\n",
    "    output_text.value = input_text.value\n",
    "\n",
    "# Tell the text input widget to call bind_input_to_output() on submit\n",
    "input_text.on_submit(bind_input_to_output)\n",
    "\n",
    "printmd(\"<b><span style='color:red'>Input survey name here, press Enter, and then run the next cell:</span></b>\")\n",
    "# Display input text box widget for input\n",
    "display(input_text)\n",
    "\n",
    "display(output_text)\n"
   ]
  },
  {
   "cell_type": "code",
   "execution_count": null,
   "metadata": {},
   "outputs": [],
   "source": [
    "#Print survey name\n",
    "survey_name = output_text.value\n",
    "printmd(\"<b><span style='color:red'>Survey Name is: </span></b>\" + survey_name)"
   ]
  },
  {
   "attachments": {},
   "cell_type": "markdown",
   "metadata": {},
   "source": [
    "## 9. Generate the survey and create survey URL"
   ]
  },
  {
   "cell_type": "code",
   "execution_count": null,
   "metadata": {},
   "outputs": [],
   "source": [
    "suaveint.create_survey(survey_url,new_file, survey_name, dzc_file, user, csv_file, view, views)"
   ]
  },
  {
   "cell_type": "code",
   "execution_count": null,
   "metadata": {},
   "outputs": [],
   "source": []
  }
 ],
 "metadata": {
  "kernelspec": {
   "display_name": "Python 3",
   "language": "python",
   "name": "python3"
  },
  "language_info": {
   "codemirror_mode": {
    "name": "ipython",
    "version": 3
   },
   "file_extension": ".py",
   "mimetype": "text/x-python",
   "name": "python",
   "nbconvert_exporter": "python",
   "pygments_lexer": "ipython3",
   "version": "3.12.1"
  }
 },
 "nbformat": 4,
 "nbformat_minor": 2
}
