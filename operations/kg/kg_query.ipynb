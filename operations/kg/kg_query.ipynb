{
  "cells": [
    {
      "cell_type": "markdown",
      "id": "e2a02476",
      "metadata": {
        "id": "e2a02476",
        "papermill": {
          "duration": 0.009857,
          "end_time": "2023-05-25T07:16:26.797401",
          "exception": false,
          "start_time": "2023-05-25T07:16:26.787544",
          "status": "completed"
        },
        "tags": []
      },
      "source": [
        "# Example queries run on COVID-19 Knowledge Graph on Server\n",
        "[Work in progress]\n",
        "\n",
        "This notebook demonstrates how to run Cypher queries in a Jupyter Notebook by connecting to a database server."
      ]
    },
    {
      "cell_type": "markdown",
      "id": "417e1f7a",
      "metadata": {
        "id": "417e1f7a",
        "papermill": {
          "duration": 0.01084,
          "end_time": "2023-05-25T07:16:26.818578",
          "exception": false,
          "start_time": "2023-05-25T07:16:26.807738",
          "status": "completed"
        },
        "tags": []
      },
      "source": [
        "## 1. Setup"
      ]
    },
    {
      "cell_type": "code",
      "execution_count": 2,
      "id": "0af339f5",
      "metadata": {
        "colab": {
          "base_uri": "https://localhost:8080/"
        },
        "execution": {
          "iopub.execute_input": "2023-05-25T07:16:26.850053Z",
          "iopub.status.busy": "2023-05-25T07:16:26.849662Z",
          "iopub.status.idle": "2023-05-25T07:16:28.481242Z",
          "shell.execute_reply": "2023-05-25T07:16:28.478616Z"
        },
        "id": "0af339f5",
        "outputId": "6a9ca995-3ed3-48da-eced-20a0af9fb388",
        "papermill": {
          "duration": 1.662817,
          "end_time": "2023-05-25T07:16:28.489989",
          "exception": false,
          "start_time": "2023-05-25T07:16:26.827172",
          "status": "completed"
        },
        "tags": []
      },
      "outputs": [
        {
          "name": "stdout",
          "output_type": "stream",
          "text": [
            "Cloning into 'myclone'...\n",
            "remote: Enumerating objects: 81, done.\u001b[K\n",
            "remote: Counting objects: 100% (81/81), done.\u001b[K\n",
            "remote: Compressing objects: 100% (63/63), done.\u001b[K\n",
            "remote: Total 81 (delta 20), reused 51 (delta 11), pack-reused 0\u001b[K\n",
            "Unpacking objects: 100% (81/81), 2.90 MiB | 2.75 MiB/s, done.\n",
            "/content/myclone/helpers\n",
            "Already up to date.\n"
          ]
        }
      ],
      "source": [
        "from google.colab import drive\n",
        "drive.mount('/content/drive')\n",
        "\n",
        "!rm -rf myclone\n",
        "!git clone --depth 1 \"https://github.com/SteveLamont/Suave_on_Colab.git\" myclone\n",
        "\n",
        "%cd /content/myclone/helpers\n",
        "!git pull"
      ]
    },
    {
      "cell_type": "markdown",
      "id": "9d0b9e53",
      "metadata": {
        "id": "9d0b9e53",
        "papermill": {
          "duration": 0.027676,
          "end_time": "2023-05-25T07:16:28.530451",
          "exception": false,
          "start_time": "2023-05-25T07:16:28.502775",
          "status": "completed"
        },
        "tags": []
      },
      "source": [
        "## 2. Check if the passed parameters are correct "
      ]
    },
    {
      "cell_type": "code",
      "execution_count": 3,
      "id": "f207316e",
      "metadata": {
        "colab": {
          "base_uri": "https://localhost:8080/",
          "height": 275
        },
        "execution": {
          "iopub.execute_input": "2023-05-25T07:16:28.559415Z",
          "iopub.status.busy": "2023-05-25T07:16:28.559016Z",
          "iopub.status.idle": "2023-05-25T07:16:28.579929Z",
          "shell.execute_reply": "2023-05-25T07:16:28.578740Z"
        },
        "id": "f207316e",
        "outputId": "b0789e04-7a14-4d2f-960a-c43807d3885a",
        "papermill": {
          "duration": 0.037908,
          "end_time": "2023-05-25T07:16:28.582291",
          "exception": false,
          "start_time": "2023-05-25T07:16:28.544383",
          "status": "completed"
        },
        "tags": []
      },
      "outputs": [
        {
          "data": {
            "text/markdown": [
              "<b><span style='color:red'>Verify survey parameters: </span></b>"
            ],
            "text/plain": [
              "<IPython.core.display.Markdown object>"
            ]
          },
          "metadata": {},
          "output_type": "display_data"
        },
        {
          "name": "stdout",
          "output_type": "stream",
          "text": [
            "Base Survey URL:  https://suave-dev.sdsc.edu/main/file=zaslavsk_WBDH_Participants.csv\n",
            "Enabled Views:  1110101\n",
            "Default View:  grid\n",
            "User ID:  zaslavsk\n",
            "Additional Parameters:  none\n",
            "Data File:  zaslavsk_WBDH_Participants.csv\n",
            "Image Tile Collection URL:  https://maxim.ucsd.edu/dzgen/lib-staging-uploads/063044157874ce7d5841c906fa6d8073/content.dzc\n",
            "Active Object:  null\n",
            "Jupyter Hub URL:  https://colab.research.google.com/drive/1aZCpg7UmG0nPUuRPTH2p5Nm43G0HmtQg?survey_url=https://suave-dev.sdsc.edu/main/file=zaslavsk_WBDH_Participants.csv&views=1110101&view=grid&user=zaslavsk&csv_file=zaslavsk_WBDH_Participants.csv&params=none&dzc_file=https://maxim.ucsd.edu/dzgen/lib-staging-uploads/063044157874ce7d5841c906fa6d8073/content.dzc&active_object=null\n",
            "Local Tile Collection Path :  /lib-nfs/dzgen/063044157874ce7d5841c906fa6d8073/content.dzc\n",
            "Local Full-size Image Path:  /lib-nfs/dzgen/063044157874ce7d5841c906fa6d8073/full_images/\n",
            "Full-size Images Not Available\n"
          ]
        }
      ],
      "source": [
        "# Check if the parameters are correct\n",
        "import webbrowser\n",
        "import ntpath\n",
        "import os\n",
        "from IPython.display import Markdown, display\n",
        "def printmd(string):\n",
        "    display(Markdown(string))\n",
        "    \n",
        "absolutePath = \"/content/drive/MyDrive/suave/\"\n",
        "url_partitioned = full_notebook_url.partition('/SuaveDispatch')\n",
        "base_url = url_partitioned[0];\n",
        "images_available = False\n",
        "if dzc_file == \"undefined\":\n",
        "    dzc_file = \"\"\n",
        "    localdzc = \"\" \n",
        "    full_images = \"full images not available on NFS storage\"\n",
        "if len(dzc_file) > 20:\n",
        "    if \"lib-staging-uploads\" in dzc_file:\n",
        "        localdzc = dzc_file.replace(\"https://maxim.ucsd.edu/dzgen/lib-staging-uploads\",\"/lib-nfs/dzgen\")\n",
        "        full_images = localdzc.replace(\"/content.dzc\",\"/full_images/\")\n",
        "    else:\n",
        "        localdzc = \"dzc not available on NFS storage\"\n",
        "        full_images = \"full images not available on NFS storage\"\n",
        "        images_available = True\n",
        "\n",
        "printmd(\"<b><span style='color:red'>Verify survey parameters: </span></b>\")\n",
        "\n",
        "print(\"Base Survey URL: \", survey_url)\n",
        "print(\"Enabled Views: \", views)\n",
        "print(\"Default View: \", view)\n",
        "print(\"User ID: \", user)\n",
        "print(\"Additional Parameters: \", params)\n",
        "print(\"Data File: \", csv_file)\n",
        "print(\"Image Tile Collection URL: \", dzc_file)\n",
        "print(\"Active Object: \", active_object)\n",
        "print(\"Jupyter Hub URL: \", base_url)\n",
        "print(\"Local Tile Collection Path : \", localdzc)\n",
        "print(\"Local Full-size Image Path: \", full_images)\n",
        "if os.path.exists(full_images):\n",
        "    print(\"Full-size Images Available\")\n",
        "else:\n",
        "    print(\"Full-size Images Not Available\")\n",
        "    "
      ]
    },
    {
      "cell_type": "markdown",
      "id": "4308f2a2",
      "metadata": {
        "id": "4308f2a2",
        "tags": [
          "papermill-error-cell-tag"
        ]
      },
      "source": [
        "<span id=\"papermill-error-cell\" style=\"color:red; font-family:Helvetica Neue, Helvetica, Arial, sans-serif; font-size:2em;\">Execution using papermill encountered an exception here and stopped:</span>"
      ]
    },
    {
      "cell_type": "code",
      "execution_count": 5,
      "id": "74faa3fc",
      "metadata": {
        "colab": {
          "base_uri": "https://localhost:8080/"
        },
        "execution": {
          "iopub.execute_input": "2023-05-25T07:16:28.603562Z",
          "iopub.status.busy": "2023-05-25T07:16:28.602843Z",
          "iopub.status.idle": "2023-05-25T07:16:28.977268Z",
          "shell.execute_reply": "2023-05-25T07:16:28.975767Z"
        },
        "id": "74faa3fc",
        "outputId": "99bb360a-ce65-4f8d-fd04-79f3049bfe59",
        "papermill": {
          "duration": 0.387796,
          "end_time": "2023-05-25T07:16:28.979301",
          "exception": true,
          "start_time": "2023-05-25T07:16:28.591505",
          "status": "failed"
        },
        "tags": []
      },
      "outputs": [
        {
          "name": "stdout",
          "output_type": "stream",
          "text": [
            "Looking in indexes: https://pypi.org/simple, https://us-python.pkg.dev/colab-wheels/public/simple/\n",
            "Collecting py2neo\n",
            "  Downloading py2neo-2021.2.3-py2.py3-none-any.whl (177 kB)\n",
            "\u001b[2K     \u001b[90m━━━━━━━━━━━━━━━━━━━━━━━━━━━━━━━━━━━━━━\u001b[0m \u001b[32m177.0/177.0 kB\u001b[0m \u001b[31m12.3 MB/s\u001b[0m eta \u001b[36m0:00:00\u001b[0m\n",
            "\u001b[?25hRequirement already satisfied: certifi in /usr/local/lib/python3.10/dist-packages (from py2neo) (2022.12.7)\n",
            "Collecting interchange~=2021.0.4 (from py2neo)\n",
            "  Downloading interchange-2021.0.4-py2.py3-none-any.whl (28 kB)\n",
            "Collecting monotonic (from py2neo)\n",
            "  Downloading monotonic-1.6-py2.py3-none-any.whl (8.2 kB)\n",
            "Requirement already satisfied: packaging in /usr/local/lib/python3.10/dist-packages (from py2neo) (23.1)\n",
            "Collecting pansi>=2020.7.3 (from py2neo)\n",
            "  Downloading pansi-2020.7.3-py2.py3-none-any.whl (10 kB)\n",
            "Requirement already satisfied: pygments>=2.0.0 in /usr/local/lib/python3.10/dist-packages (from py2neo) (2.14.0)\n",
            "Requirement already satisfied: six>=1.15.0 in /usr/local/lib/python3.10/dist-packages (from py2neo) (1.16.0)\n",
            "Requirement already satisfied: urllib3 in /usr/local/lib/python3.10/dist-packages (from py2neo) (1.26.15)\n",
            "Requirement already satisfied: pytz in /usr/local/lib/python3.10/dist-packages (from interchange~=2021.0.4->py2neo) (2022.7.1)\n",
            "Installing collected packages: monotonic, pansi, interchange, py2neo\n",
            "Successfully installed interchange-2021.0.4 monotonic-1.6 pansi-2020.7.3 py2neo-2021.2.3\n"
          ]
        }
      ],
      "source": [
        "!pip install py2neo\n",
        "import os\n",
        "import time\n",
        "import pandas as pd\n",
        "from py2neo import Graph"
      ]
    },
    {
      "cell_type": "markdown",
      "id": "397719bc",
      "metadata": {
        "id": "397719bc",
        "papermill": {
          "duration": null,
          "end_time": null,
          "exception": null,
          "start_time": null,
          "status": "pending"
        },
        "tags": []
      },
      "source": [
        "### Examining the input against the KG capabilities:\n",
        "\n",
        "If zip, censustract,SRA ==> \"location\"\n",
        " - what are the \"location\" parameters in this KG? ==> country, admin1, admin2\n",
        " - can we find a mapping between the submitted location and the locationi in the KG\n",
        " - assume that we found that ZIP == 92093 ==> admin2 = \"San Diego County\"\n",
        " \n",
        "What is your target_var :: death rate\n",
        " - Find \"death rate\" in an ontology, and then find the closest neighbor or parent that exists in the KG\n",
        " \n",
        " - term expansion\n",
        " "
      ]
    },
    {
      "cell_type": "code",
      "execution_count": null,
      "id": "67e69115",
      "metadata": {
        "id": "67e69115",
        "papermill": {
          "duration": null,
          "end_time": null,
          "exception": null,
          "start_time": null,
          "status": "pending"
        },
        "tags": []
      },
      "outputs": [],
      "source": []
    },
    {
      "cell_type": "code",
      "execution_count": null,
      "id": "d663e295",
      "metadata": {
        "id": "d663e295",
        "papermill": {
          "duration": null,
          "end_time": null,
          "exception": null,
          "start_time": null,
          "status": "pending"
        },
        "tags": []
      },
      "outputs": [],
      "source": [
        "pd.options.display.max_rows = None  # display all rows\n",
        "pd.options.display.max_columns = None  # display all columsns"
      ]
    },
    {
      "cell_type": "code",
      "execution_count": null,
      "id": "cd95a97e",
      "metadata": {
        "id": "cd95a97e",
        "papermill": {
          "duration": null,
          "end_time": null,
          "exception": null,
          "start_time": null,
          "status": "pending"
        },
        "tags": []
      },
      "outputs": [],
      "source": [
        "graph = Graph(\"bolt://132.249.238.185:7687\", user=\"reader\", password=\"demo\")"
      ]
    },
    {
      "cell_type": "markdown",
      "id": "8f3c2090",
      "metadata": {
        "id": "8f3c2090",
        "papermill": {
          "duration": null,
          "end_time": null,
          "exception": null,
          "start_time": null,
          "status": "pending"
        },
        "tags": []
      },
      "source": [
        "### List Organisms in KG"
      ]
    },
    {
      "cell_type": "code",
      "execution_count": null,
      "id": "aaf731c3",
      "metadata": {
        "id": "aaf731c3",
        "papermill": {
          "duration": null,
          "end_time": null,
          "exception": null,
          "start_time": null,
          "status": "pending"
        },
        "tags": []
      },
      "outputs": [],
      "source": [
        "query = \"\"\"\n",
        "MATCH (p:Organism)\n",
        "RETURN p.name as name, p.scientificName as scientificName, p.id as taxonomy\n",
        "\"\"\"\n",
        "graph.run(query).to_data_frame()"
      ]
    },
    {
      "cell_type": "markdown",
      "id": "e9c0b3af",
      "metadata": {
        "id": "e9c0b3af",
        "papermill": {
          "duration": null,
          "end_time": null,
          "exception": null,
          "start_time": null,
          "status": "pending"
        },
        "tags": []
      },
      "source": [
        "### List Coronavirus Outbreaks"
      ]
    },
    {
      "cell_type": "code",
      "execution_count": null,
      "id": "2b8da6ed",
      "metadata": {
        "id": "2b8da6ed",
        "papermill": {
          "duration": null,
          "end_time": null,
          "exception": null,
          "start_time": null,
          "status": "pending"
        },
        "tags": []
      },
      "outputs": [],
      "source": [
        "query = \"\"\"\n",
        "MATCH (p:Organism)-[:CAUSES]->(o:Outbreak)\n",
        "RETURN p.name as name, p.scientificName as scientificName, p.id as taxonomy, o.id as outbreak, o.startDate as startDate\n",
        "\"\"\"\n",
        "graph.run(query).to_data_frame()"
      ]
    },
    {
      "cell_type": "markdown",
      "id": "b6fe9afb",
      "metadata": {
        "id": "b6fe9afb",
        "papermill": {
          "duration": null,
          "end_time": null,
          "exception": null,
          "start_time": null,
          "status": "pending"
        },
        "tags": []
      },
      "source": [
        "### List Strains that are mentioned in PubMed Central Articles"
      ]
    },
    {
      "cell_type": "code",
      "execution_count": null,
      "id": "e36a18a4",
      "metadata": {
        "id": "e36a18a4",
        "papermill": {
          "duration": null,
          "end_time": null,
          "exception": null,
          "start_time": null,
          "status": "pending"
        },
        "tags": []
      },
      "outputs": [],
      "source": [
        "query = \"\"\"\n",
        "MATCH (p:Publication)-[:MENTIONS]->(s:Strain)<-[:CARRIES]-(o:Organism)\n",
        "RETURN p.id as pmc, s.name as name, s.collectionDate  as collectionDate, o.name as host, s.id as host_id\n",
        "ORDER by s.collectionDate\n",
        "\"\"\"\n",
        "graph.run(query).to_data_frame().head(20)\n",
        "# TODO where do the 2013 bat strains come from??"
      ]
    },
    {
      "cell_type": "markdown",
      "id": "b75fcfbc",
      "metadata": {
        "id": "b75fcfbc",
        "papermill": {
          "duration": null,
          "end_time": null,
          "exception": null,
          "start_time": null,
          "status": "pending"
        },
        "tags": []
      },
      "source": [
        "### List Gene and Protein information for Reference Genome\n",
        "This query lists the genes and proteins encoded by the SARS-CoV-2 reference genome. This is the first genome of SARS-CoV-2 collected in Wuhan on Dec. 5, 2019."
      ]
    },
    {
      "cell_type": "code",
      "execution_count": null,
      "id": "4b114dde",
      "metadata": {
        "id": "4b114dde",
        "papermill": {
          "duration": null,
          "end_time": null,
          "exception": null,
          "start_time": null,
          "status": "pending"
        },
        "tags": []
      },
      "outputs": [],
      "source": [
        "query = \"\"\"\n",
        "MATCH (s:Strain)-[:HAS]->(g:Gene)-[:ENCODES]->(p:Protein)\n",
        "RETURN s.id as referenceGenome, s.name as name, s.collectionDate  as collectionDate, \n",
        "       g.name as gene, g.id as geneId, p.name as protein, p.id as protein_id \n",
        "ORDER by s.collectionDate\n",
        "\"\"\"\n",
        "graph.run(query).to_data_frame()"
      ]
    },
    {
      "cell_type": "code",
      "execution_count": null,
      "id": "af11f910",
      "metadata": {
        "id": "af11f910",
        "papermill": {
          "duration": null,
          "end_time": null,
          "exception": null,
          "start_time": null,
          "status": "pending"
        },
        "tags": []
      },
      "outputs": [],
      "source": [
        "target_var"
      ]
    },
    {
      "cell_type": "markdown",
      "id": "1716623a",
      "metadata": {
        "id": "1716623a",
        "papermill": {
          "duration": null,
          "end_time": null,
          "exception": null,
          "start_time": null,
          "status": "pending"
        },
        "tags": []
      },
      "source": [
        "### Cases in a specific County (Admin2)"
      ]
    },
    {
      "cell_type": "code",
      "execution_count": null,
      "id": "d73cfd65",
      "metadata": {
        "id": "d73cfd65",
        "papermill": {
          "duration": null,
          "end_time": null,
          "exception": null,
          "start_time": null,
          "status": "pending"
        },
        "tags": []
      },
      "outputs": [],
      "source": [
        "\n",
        "\n",
        "admin2 = 'San Diego County'\n",
        "\n",
        "query = \"\"\"\n",
        "MATCH (c:Cases{date: date(\"2020-06-15\")})-[:REPORTED_IN]->(a:Admin2{name: $admin2})\n",
        "RETURN a.name as name, c.cummulativeConfirmed as confirmed, c.cummulativeDeaths as deaths\n",
        "\"\"\"\n",
        "graph.run(query, admin2=admin2).to_data_frame()"
      ]
    },
    {
      "cell_type": "markdown",
      "id": "569b9707",
      "metadata": {
        "id": "569b9707",
        "papermill": {
          "duration": null,
          "end_time": null,
          "exception": null,
          "start_time": null,
          "status": "pending"
        },
        "tags": []
      },
      "source": [
        "### Aggregate cases by State (Admin1)"
      ]
    },
    {
      "cell_type": "code",
      "execution_count": null,
      "id": "206d57a6",
      "metadata": {
        "id": "206d57a6",
        "papermill": {
          "duration": null,
          "end_time": null,
          "exception": null,
          "start_time": null,
          "status": "pending"
        },
        "tags": []
      },
      "outputs": [],
      "source": [
        "query = \"\"\"\n",
        "MATCH (o:Outbreak{id: \"COVID-19\"})<-[:RELATED_TO]-(c:Cases{date: date(\"2020-05-04\")})-[:REPORTED_IN]->(a:Admin2)-[:IN]->(a1:Admin1)\n",
        "RETURN a1.name as state, sum(c.cummulativeConfirmed) as confirmed, sum(c.cummulativeDeaths) as deaths\n",
        "ORDER BY deaths\n",
        "\"\"\"\n",
        "graph.run(query).to_data_frame()"
      ]
    },
    {
      "cell_type": "code",
      "execution_count": null,
      "id": "7e6ea63a",
      "metadata": {
        "id": "7e6ea63a",
        "papermill": {
          "duration": null,
          "end_time": null,
          "exception": null,
          "start_time": null,
          "status": "pending"
        },
        "tags": []
      },
      "outputs": [],
      "source": []
    }
  ],
  "metadata": {
    "colab": {
      "provenance": []
    },
    "kernelspec": {
      "display_name": "Python 3",
      "language": "python",
      "name": "python3"
    },
    "language_info": {
      "codemirror_mode": {
        "name": "ipython",
        "version": 3
      },
      "file_extension": ".py",
      "mimetype": "text/x-python",
      "name": "python",
      "nbconvert_exporter": "python",
      "pygments_lexer": "ipython3",
      "version": "3.10.11"
    },
    "papermill": {
      "default_parameters": {},
      "duration": 5.034671,
      "end_time": "2023-05-25T07:16:30.393968",
      "environment_variables": {},
      "exception": true,
      "input_path": "myclone/operations/kg/kg_query.ipynb",
      "output_path": "/content/drive/MyDrive/suave/kg_query.ipynb",
      "parameters": {
        "active_object": "null",
        "csv_file": "zaslavsk_WBDH_Participants.csv",
        "dzc_file": "https://maxim.ucsd.edu/dzgen/lib-staging-uploads/063044157874ce7d5841c906fa6d8073/content.dzc",
        "full_notebook_url": "https://colab.research.google.com/drive/1aZCpg7UmG0nPUuRPTH2p5Nm43G0HmtQg?survey_url=https://suave-dev.sdsc.edu/main/file=zaslavsk_WBDH_Participants.csv&views=1110101&view=grid&user=zaslavsk&csv_file=zaslavsk_WBDH_Participants.csv&params=none&dzc_file=https://maxim.ucsd.edu/dzgen/lib-staging-uploads/063044157874ce7d5841c906fa6d8073/content.dzc&active_object=null",
        "params": "none",
        "survey_url": "https://suave-dev.sdsc.edu/main/file=zaslavsk_WBDH_Participants.csv",
        "user": "zaslavsk",
        "view": "grid",
        "views": "1110101"
      },
      "start_time": "2023-05-25T07:16:25.359297",
      "version": "2.4.0"
    }
  },
  "nbformat": 4,
  "nbformat_minor": 5
}
