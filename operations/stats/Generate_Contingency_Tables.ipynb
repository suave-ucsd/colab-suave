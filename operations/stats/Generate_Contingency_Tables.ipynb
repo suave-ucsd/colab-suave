{
  "cells": [
    {
      "cell_type": "markdown",
      "id": "57aef2ae",
      "metadata": {
        "id": "57aef2ae",
        "papermill": {
          "duration": 0.01955,
          "end_time": "2023-05-25T06:49:48.211070",
          "exception": false,
          "start_time": "2023-05-25T06:49:48.191520",
          "status": "completed"
        },
        "tags": []
      },
      "source": [
        "<h1><span style=\"color:red\">Generate Contingency Tables</span></h1>\n",
        "\n",
        "### This notebook reads numeric and categorical variables from the survey dataset, lets users compute a contingency table from variables of interest and test for independence."
      ]
    },
    {
      "cell_type": "markdown",
      "id": "cbf5c2cd",
      "metadata": {
        "id": "cbf5c2cd",
        "papermill": {
          "duration": 0.015508,
          "end_time": "2023-05-25T06:49:48.241111",
          "exception": false,
          "start_time": "2023-05-25T06:49:48.225603",
          "status": "completed"
        },
        "tags": []
      },
      "source": [
        "## 1. Setup"
      ]
    },
    {
      "cell_type": "code",
      "execution_count": null,
      "id": "QfQtI4N1qMam",
      "metadata": {
        "execution": {
          "iopub.execute_input": "2023-05-25T06:49:48.271153Z",
          "iopub.status.busy": "2023-05-25T06:49:48.270658Z",
          "iopub.status.idle": "2023-05-25T06:49:48.278625Z",
          "shell.execute_reply": "2023-05-25T06:49:48.276980Z"
        },
        "id": "QfQtI4N1qMam",
        "papermill": {
          "duration": 0.027004,
          "end_time": "2023-05-25T06:49:48.281398",
          "exception": false,
          "start_time": "2023-05-25T06:49:48.254394",
          "status": "completed"
        },
        "tags": []
      },
      "outputs": [],
      "source": [
        "from google.colab import drive\n",
        "drive.mount('/content/drive')"
      ]
    },
    {
      "cell_type": "code",
      "execution_count": null,
      "id": "I0NG8aolqQIG",
      "metadata": {
        "colab": {
          "base_uri": "https://localhost:8080/"
        },
        "execution": {
          "iopub.execute_input": "2023-05-25T06:49:48.322618Z",
          "iopub.status.busy": "2023-05-25T06:49:48.321998Z",
          "iopub.status.idle": "2023-05-25T06:49:49.159108Z",
          "shell.execute_reply": "2023-05-25T06:49:49.157932Z"
        },
        "id": "I0NG8aolqQIG",
        "outputId": "0dfa9eba-a5cd-4f84-ce7c-7b0ce2a341c1",
        "papermill": {
          "duration": 0.865889,
          "end_time": "2023-05-25T06:49:49.164643",
          "exception": false,
          "start_time": "2023-05-25T06:49:48.298754",
          "status": "completed"
        },
        "tags": []
      },
      "outputs": [
        {
          "name": "stdout",
          "output_type": "stream",
          "text": [
            "Cloning into 'myclone'...\n"
          ]
        },
        {
          "name": "stdout",
          "output_type": "stream",
          "text": [
            "remote: Enumerating objects: 81, done.\u001b[K\n",
            "remote: Counting objects:   1% (1/81)\u001b[K\r\n",
            "remote: Counting objects:   2% (2/81)\u001b[K\r\n",
            "remote: Counting objects:   3% (3/81)\u001b[K\r\n",
            "remote: Counting objects:   4% (4/81)\u001b[K\r\n",
            "remote: Counting objects:   6% (5/81)\u001b[K\r\n",
            "remote: Counting objects:   7% (6/81)\u001b[K\r\n",
            "remote: Counting objects:   8% (7/81)\u001b[K\r\n",
            "remote: Counting objects:   9% (8/81)\u001b[K\r\n",
            "remote: Counting objects:  11% (9/81)\u001b[K\r\n",
            "remote: Counting objects:  12% (10/81)\u001b[K\r\n",
            "remote: Counting objects:  13% (11/81)\u001b[K\r\n",
            "remote: Counting objects:  14% (12/81)\u001b[K\r\n",
            "remote: Counting objects:  16% (13/81)\u001b[K\r\n",
            "remote: Counting objects:  17% (14/81)\u001b[K\r\n",
            "remote: Counting objects:  18% (15/81)\u001b[K\r\n",
            "remote: Counting objects:  19% (16/81)\u001b[K\r\n",
            "remote: Counting objects:  20% (17/81)\u001b[K\r\n",
            "remote: Counting objects:  22% (18/81)\u001b[K\r\n",
            "remote: Counting objects:  23% (19/81)\u001b[K\r\n",
            "remote: Counting objects:  24% (20/81)\u001b[K\r\n",
            "remote: Counting objects:  25% (21/81)\u001b[K\r\n",
            "remote: Counting objects:  27% (22/81)\u001b[K\r\n",
            "remote: Counting objects:  28% (23/81)\u001b[K\r\n",
            "remote: Counting objects:  29% (24/81)\u001b[K\r\n",
            "remote: Counting objects:  30% (25/81)\u001b[K\r\n",
            "remote: Counting objects:  32% (26/81)\u001b[K\r\n",
            "remote: Counting objects:  33% (27/81)\u001b[K\r\n",
            "remote: Counting objects:  34% (28/81)\u001b[K\r\n",
            "remote: Counting objects:  35% (29/81)\u001b[K\r\n",
            "remote: Counting objects:  37% (30/81)\u001b[K\r\n",
            "remote: Counting objects:  38% (31/81)\u001b[K\r\n",
            "remote: Counting objects:  39% (32/81)\u001b[K\r\n",
            "remote: Counting objects:  40% (33/81)\u001b[K\r\n",
            "remote: Counting objects:  41% (34/81)\u001b[K\r\n",
            "remote: Counting objects:  43% (35/81)\u001b[K\r\n",
            "remote: Counting objects:  44% (36/81)\u001b[K\r\n",
            "remote: Counting objects:  45% (37/81)\u001b[K\r\n",
            "remote: Counting objects:  46% (38/81)\u001b[K\r\n",
            "remote: Counting objects:  48% (39/81)\u001b[K\r\n",
            "remote: Counting objects:  49% (40/81)\u001b[K\r\n",
            "remote: Counting objects:  50% (41/81)\u001b[K\r\n",
            "remote: Counting objects:  51% (42/81)\u001b[K\r\n",
            "remote: Counting objects:  53% (43/81)\u001b[K\r\n",
            "remote: Counting objects:  54% (44/81)\u001b[K\r\n",
            "remote: Counting objects:  55% (45/81)\u001b[K\r\n",
            "remote: Counting objects:  56% (46/81)\u001b[K\r\n",
            "remote: Counting objects:  58% (47/81)\u001b[K\r\n",
            "remote: Counting objects:  59% (48/81)\u001b[K\r\n",
            "remote: Counting objects:  60% (49/81)\u001b[K\r\n",
            "remote: Counting objects:  61% (50/81)\u001b[K\r\n",
            "remote: Counting objects:  62% (51/81)\u001b[K\r\n",
            "remote: Counting objects:  64% (52/81)\u001b[K\r\n",
            "remote: Counting objects:  65% (53/81)\u001b[K\r\n",
            "remote: Counting objects:  66% (54/81)\u001b[K\r\n",
            "remote: Counting objects:  67% (55/81)\u001b[K\r\n",
            "remote: Counting objects:  69% (56/81)\u001b[K\r\n",
            "remote: Counting objects:  70% (57/81)\u001b[K\r\n",
            "remote: Counting objects:  71% (58/81)\u001b[K\r\n",
            "remote: Counting objects:  72% (59/81)\u001b[K\r\n",
            "remote: Counting objects:  74% (60/81)\u001b[K\r\n",
            "remote: Counting objects:  75% (61/81)\u001b[K\r\n",
            "remote: Counting objects:  76% (62/81)\u001b[K\r\n",
            "remote: Counting objects:  77% (63/81)\u001b[K\r\n",
            "remote: Counting objects:  79% (64/81)\u001b[K\r\n",
            "remote: Counting objects:  80% (65/81)\u001b[K\r\n",
            "remote: Counting objects:  81% (66/81)\u001b[K\r\n",
            "remote: Counting objects:  82% (67/81)\u001b[K\r\n",
            "remote: Counting objects:  83% (68/81)\u001b[K\r\n",
            "remote: Counting objects:  85% (69/81)\u001b[K\r\n",
            "remote: Counting objects:  86% (70/81)\u001b[K\r\n",
            "remote: Counting objects:  87% (71/81)\u001b[K\r\n",
            "remote: Counting objects:  88% (72/81)\u001b[K\r\n",
            "remote: Counting objects:  90% (73/81)\u001b[K\r\n",
            "remote: Counting objects:  91% (74/81)\u001b[K\r\n",
            "remote: Counting objects:  92% (75/81)\u001b[K\r\n",
            "remote: Counting objects:  93% (76/81)\u001b[K\r\n",
            "remote: Counting objects:  95% (77/81)\u001b[K\r\n",
            "remote: Counting objects:  96% (78/81)\u001b[K\r\n",
            "remote: Counting objects:  97% (79/81)\u001b[K\r\n",
            "remote: Counting objects:  98% (80/81)\u001b[K\r\n",
            "remote: Counting objects: 100% (81/81)\u001b[K\r\n",
            "remote: Counting objects: 100% (81/81), done.\u001b[K\n",
            "remote: Compressing objects:   1% (1/63)\u001b[K\r\n",
            "remote: Compressing objects:   3% (2/63)\u001b[K\r\n",
            "remote: Compressing objects:   4% (3/63)\u001b[K\r\n",
            "remote: Compressing objects:   6% (4/63)\u001b[K\r\n",
            "remote: Compressing objects:   7% (5/63)\u001b[K\r\n",
            "remote: Compressing objects:   9% (6/63)\u001b[K\r\n",
            "remote: Compressing objects:  11% (7/63)\u001b[K\r\n",
            "remote: Compressing objects:  12% (8/63)\u001b[K\r\n",
            "remote: Compressing objects:  14% (9/63)\u001b[K\r\n",
            "remote: Compressing objects:  15% (10/63)\u001b[K\r\n",
            "remote: Compressing objects:  17% (11/63)\u001b[K\r\n",
            "remote: Compressing objects:  19% (12/63)\u001b[K\r\n",
            "remote: Compressing objects:  20% (13/63)\u001b[K\r\n",
            "remote: Compressing objects:  22% (14/63)\u001b[K\r\n",
            "remote: Compressing objects:  23% (15/63)\u001b[K\r\n",
            "remote: Compressing objects:  25% (16/63)\u001b[K\r\n",
            "remote: Compressing objects:  26% (17/63)\u001b[K\r\n",
            "remote: Compressing objects:  28% (18/63)\u001b[K\r\n",
            "remote: Compressing objects:  30% (19/63)\u001b[K\r\n",
            "remote: Compressing objects:  31% (20/63)\u001b[K\r\n",
            "remote: Compressing objects:  33% (21/63)\u001b[K\r\n",
            "remote: Compressing objects:  34% (22/63)\u001b[K\r\n",
            "remote: Compressing objects:  36% (23/63)\u001b[K\r\n",
            "remote: Compressing objects:  38% (24/63)\u001b[K\r\n",
            "remote: Compressing objects:  39% (25/63)\u001b[K\r\n",
            "remote: Compressing objects:  41% (26/63)\u001b[K\r\n",
            "remote: Compressing objects:  42% (27/63)\u001b[K\r\n",
            "remote: Compressing objects:  44% (28/63)\u001b[K\r\n",
            "remote: Compressing objects:  46% (29/63)\u001b[K\r\n",
            "remote: Compressing objects:  47% (30/63)\u001b[K\r\n",
            "remote: Compressing objects:  49% (31/63)\u001b[K\r\n",
            "remote: Compressing objects:  50% (32/63)\u001b[K\r\n",
            "remote: Compressing objects:  52% (33/63)\u001b[K\r\n",
            "remote: Compressing objects:  53% (34/63)\u001b[K\r\n",
            "remote: Compressing objects:  55% (35/63)\u001b[K\r\n",
            "remote: Compressing objects:  57% (36/63)\u001b[K\r\n",
            "remote: Compressing objects:  58% (37/63)\u001b[K\r\n",
            "remote: Compressing objects:  60% (38/63)\u001b[K\r\n",
            "remote: Compressing objects:  61% (39/63)\u001b[K\r\n",
            "remote: Compressing objects:  63% (40/63)\u001b[K\r\n",
            "remote: Compressing objects:  65% (41/63)\u001b[K\r\n",
            "remote: Compressing objects:  66% (42/63)\u001b[K\r\n",
            "remote: Compressing objects:  68% (43/63)\u001b[K\r\n",
            "remote: Compressing objects:  69% (44/63)\u001b[K\r\n",
            "remote: Compressing objects:  71% (45/63)\u001b[K\r\n",
            "remote: Compressing objects:  73% (46/63)\u001b[K\r\n",
            "remote: Compressing objects:  74% (47/63)\u001b[K\r\n",
            "remote: Compressing objects:  76% (48/63)\u001b[K\r\n",
            "remote: Compressing objects:  77% (49/63)\u001b[K\r\n",
            "remote: Compressing objects:  79% (50/63)\u001b[K\r\n",
            "remote: Compressing objects:  80% (51/63)\u001b[K\r\n",
            "remote: Compressing objects:  82% (52/63)\u001b[K\r\n",
            "remote: Compressing objects:  84% (53/63)\u001b[K\r\n",
            "remote: Compressing objects:  85% (54/63)\u001b[K\r\n",
            "remote: Compressing objects:  87% (55/63)\u001b[K\r\n",
            "remote: Compressing objects:  88% (56/63)\u001b[K\r\n",
            "remote: Compressing objects:  90% (57/63)\u001b[K\r\n",
            "remote: Compressing objects:  92% (58/63)\u001b[K\r\n",
            "remote: Compressing objects:  93% (59/63)\u001b[K\r\n",
            "remote: Compressing objects:  95% (60/63)\u001b[K\r\n",
            "remote: Compressing objects:  96% (61/63)\u001b[K\r\n",
            "remote: Compressing objects:  98% (62/63)\u001b[K\r\n",
            "remote: Compressing objects: 100% (63/63)\u001b[K\r\n",
            "remote: Compressing objects: 100% (63/63), done.\u001b[K\n",
            "Unpacking objects:   1% (1/81)\r\n",
            "Unpacking objects:   2% (2/81)\r\n",
            "Unpacking objects:   3% (3/81)\r\n",
            "Unpacking objects:   4% (4/81)\r\n",
            "Unpacking objects:   6% (5/81)\r\n",
            "Unpacking objects:   7% (6/81)\r\n",
            "Unpacking objects:   8% (7/81)\r\n",
            "Unpacking objects:   9% (8/81)\r\n",
            "Unpacking objects:  11% (9/81)\r\n",
            "Unpacking objects:  12% (10/81)\r\n",
            "Unpacking objects:  13% (11/81)\r\n",
            "Unpacking objects:  14% (12/81)\r\n",
            "Unpacking objects:  16% (13/81)\r\n",
            "Unpacking objects:  17% (14/81)\r\n",
            "Unpacking objects:  18% (15/81)\r\n",
            "Unpacking objects:  19% (16/81)\r\n",
            "Unpacking objects:  20% (17/81)\r\n",
            "Unpacking objects:  22% (18/81)\r\n",
            "Unpacking objects:  23% (19/81)\r\n",
            "Unpacking objects:  24% (20/81)\r\n",
            "Unpacking objects:  25% (21/81)\r\n",
            "Unpacking objects:  27% (22/81)\r\n",
            "Unpacking objects:  28% (23/81)\r\n",
            "Unpacking objects:  29% (24/81)\r\n",
            "Unpacking objects:  30% (25/81)\r\n",
            "Unpacking objects:  32% (26/81)\r\n",
            "Unpacking objects:  33% (27/81)\r\n",
            "Unpacking objects:  34% (28/81)\r\n",
            "Unpacking objects:  35% (29/81)\r\n",
            "Unpacking objects:  37% (30/81)\r\n",
            "Unpacking objects:  38% (31/81)\r\n",
            "Unpacking objects:  39% (32/81)\r\n",
            "Unpacking objects:  40% (33/81)\r\n",
            "Unpacking objects:  41% (34/81)\r\n",
            "Unpacking objects:  43% (35/81)\r\n",
            "Unpacking objects:  44% (36/81)\r\n",
            "Unpacking objects:  45% (37/81)\r\n",
            "Unpacking objects:  46% (38/81)\r\n",
            "Unpacking objects:  48% (39/81)\r\n",
            "Unpacking objects:  49% (40/81)\r\n",
            "Unpacking objects:  50% (41/81)\r\n",
            "Unpacking objects:  51% (42/81)\r\n",
            "Unpacking objects:  53% (43/81)\r\n",
            "Unpacking objects:  54% (44/81)\r\n",
            "Unpacking objects:  55% (45/81)\r\n",
            "Unpacking objects:  56% (46/81)\r\n",
            "Unpacking objects:  58% (47/81)\r\n",
            "Unpacking objects:  59% (48/81)\r\n",
            "Unpacking objects:  60% (49/81)\r\n",
            "Unpacking objects:  61% (50/81)\r\n",
            "Unpacking objects:  62% (51/81)\r\n",
            "Unpacking objects:  64% (52/81)\r\n",
            "Unpacking objects:  65% (53/81)\r\n",
            "Unpacking objects:  66% (54/81)\r\n",
            "Unpacking objects:  67% (55/81)\r\n",
            "Unpacking objects:  69% (56/81)\r\n",
            "Unpacking objects:  70% (57/81)\r\n",
            "Unpacking objects:  71% (58/81)\r\n",
            "Unpacking objects:  72% (59/81)\r\n",
            "Unpacking objects:  74% (60/81)\r\n",
            "Unpacking objects:  75% (61/81)\r\n",
            "Unpacking objects:  76% (62/81)\r\n",
            "Unpacking objects:  77% (63/81)\r\n",
            "Unpacking objects:  79% (64/81)\r\n",
            "Unpacking objects:  80% (65/81)\r\n",
            "Unpacking objects:  81% (66/81)\r\n",
            "Unpacking objects:  82% (67/81)\r\n",
            "Unpacking objects:  83% (68/81)\r\n",
            "Unpacking objects:  85% (69/81)\r\n",
            "Unpacking objects:  86% (70/81)\r\n",
            "Unpacking objects:  87% (71/81)\r\n",
            "Unpacking objects:  88% (72/81)\r\n",
            "Unpacking objects:  90% (73/81)\r\n",
            "Unpacking objects:  91% (74/81)\r\n",
            "Unpacking objects:  92% (75/81)\r\n",
            "Unpacking objects:  93% (76/81)\r\n",
            "Unpacking objects:  95% (77/81)\r\n",
            "Unpacking objects:  96% (78/81)\r\n",
            "remote: Total 81 (delta 18), reused 55 (delta 11), pack-reused 0\u001b[K\n",
            "Unpacking objects:  97% (79/81)\r\n",
            "Unpacking objects:  98% (80/81)\r\n",
            "Unpacking objects: 100% (81/81)\r\n",
            "Unpacking objects: 100% (81/81), 682.44 KiB | 5.64 MiB/s, done.\n"
          ]
        },
        {
          "name": "stdout",
          "output_type": "stream",
          "text": [
            "/content/myclone/helpers\n"
          ]
        },
        {
          "name": "stdout",
          "output_type": "stream",
          "text": [
            "Already up to date.\n"
          ]
        }
      ],
      "source": [
        "!rm -rf myclone\n",
        "!git clone --depth 1 \"https://github.com/suave-ucsd/colab-suave.git\" myclone\n",
        "%cd /content/myclone/helpers\n",
        "!git pull"
      ]
    },
    {
      "cell_type": "code",
      "execution_count": null,
      "id": "537e23c4",
      "metadata": {
        "colab": {
          "base_uri": "https://localhost:8080/",
          "height": 17
        },
        "execution": {
          "iopub.execute_input": "2023-05-25T06:49:49.195535Z",
          "iopub.status.busy": "2023-05-25T06:49:49.194966Z",
          "iopub.status.idle": "2023-05-25T06:49:51.608150Z",
          "shell.execute_reply": "2023-05-25T06:49:51.607023Z"
        },
        "id": "537e23c4",
        "outputId": "6122f7a8-0959-4f3f-c3b8-7a823c4fc848",
        "papermill": {
          "duration": 2.434619,
          "end_time": "2023-05-25T06:49:51.610938",
          "exception": false,
          "start_time": "2023-05-25T06:49:49.176319",
          "status": "completed"
        },
        "tags": []
      },
      "outputs": [
        {
          "data": {
            "application/javascript": "(function(root) {\n  function now() {\n    return new Date();\n  }\n\n  var force = true;\n\n  if (typeof root._bokeh_onload_callbacks === \"undefined\" || force === true) {\n    root._bokeh_onload_callbacks = [];\n    root._bokeh_is_loading = undefined;\n  }\n\n  if (typeof (root._bokeh_timeout) === \"undefined\" || force === true) {\n    root._bokeh_timeout = Date.now() + 5000;\n    root._bokeh_failed_load = false;\n  }\n\n  function run_callbacks() {\n    try {\n      root._bokeh_onload_callbacks.forEach(function(callback) {\n        if (callback != null)\n          callback();\n      });\n    } finally {\n      delete root._bokeh_onload_callbacks\n    }\n    console.debug(\"Bokeh: all callbacks have finished\");\n  }\n\n  function load_libs(css_urls, js_urls, js_modules, callback) {\n    if (css_urls == null) css_urls = [];\n    if (js_urls == null) js_urls = [];\n    if (js_modules == null) js_modules = [];\n\n    root._bokeh_onload_callbacks.push(callback);\n    if (root._bokeh_is_loading > 0) {\n      console.debug(\"Bokeh: BokehJS is being loaded, scheduling callback at\", now());\n      return null;\n    }\n    if (js_urls.length === 0 && js_modules.length === 0) {\n      run_callbacks();\n      return null;\n    }\n    console.debug(\"Bokeh: BokehJS not loaded, scheduling load and callback at\", now());\n\n    function on_load() {\n      root._bokeh_is_loading--;\n      if (root._bokeh_is_loading === 0) {\n        console.debug(\"Bokeh: all BokehJS libraries/stylesheets loaded\");\n        run_callbacks()\n      }\n    }\n\n    function on_error() {\n      console.error(\"failed to load \" + url);\n    }\n\n    for (var i = 0; i < css_urls.length; i++) {\n      var url = css_urls[i];\n      const element = document.createElement(\"link\");\n      element.onload = on_load;\n      element.onerror = on_error;\n      element.rel = \"stylesheet\";\n      element.type = \"text/css\";\n      element.href = url;\n      console.debug(\"Bokeh: injecting link tag for BokehJS stylesheet: \", url);\n      document.body.appendChild(element);\n    }\n\n    var skip = [];\n    if (window.requirejs) {\n      window.requirejs.config({'packages': {}, 'paths': {'gridstack': 'https://cdn.jsdelivr.net/npm/gridstack@4.2.5/dist/gridstack-h5', 'notyf': 'https://cdn.jsdelivr.net/npm/notyf@3/notyf.min'}, 'shim': {'gridstack': {'exports': 'GridStack'}}});\n      require([\"gridstack\"], function(GridStack) {\n\twindow.GridStack = GridStack\n\ton_load()\n      })\n      require([\"notyf\"], function() {\n\ton_load()\n      })\n      root._bokeh_is_loading = css_urls.length + 2;\n    } else {\n      root._bokeh_is_loading = css_urls.length + js_urls.length + js_modules.length;\n    }    if (((window['GridStack'] !== undefined) && (!(window['GridStack'] instanceof HTMLElement))) || window.requirejs) {\n      var urls = ['https://cdn.holoviz.org/panel/0.14.4/dist/bundled/gridstack/gridstack@4.2.5/dist/gridstack-h5.js'];\n      for (var i = 0; i < urls.length; i++) {\n        skip.push(urls[i])\n      }\n    }    if (((window['Notyf'] !== undefined) && (!(window['Notyf'] instanceof HTMLElement))) || window.requirejs) {\n      var urls = ['https://cdn.holoviz.org/panel/0.14.4/dist/bundled/notificationarea/notyf@3/notyf.min.js'];\n      for (var i = 0; i < urls.length; i++) {\n        skip.push(urls[i])\n      }\n    }    for (var i = 0; i < js_urls.length; i++) {\n      var url = js_urls[i];\n      if (skip.indexOf(url) >= 0) {\n\tif (!window.requirejs) {\n\t  on_load();\n\t}\n\tcontinue;\n      }\n      var element = document.createElement('script');\n      element.onload = on_load;\n      element.onerror = on_error;\n      element.async = false;\n      element.src = url;\n      console.debug(\"Bokeh: injecting script tag for BokehJS library: \", url);\n      document.head.appendChild(element);\n    }\n    for (var i = 0; i < js_modules.length; i++) {\n      var url = js_modules[i];\n      if (skip.indexOf(url) >= 0) {\n\tif (!window.requirejs) {\n\t  on_load();\n\t}\n\tcontinue;\n      }\n      var element = document.createElement('script');\n      element.onload = on_load;\n      element.onerror = on_error;\n      element.async = false;\n      element.src = url;\n      element.type = \"module\";\n      console.debug(\"Bokeh: injecting script tag for BokehJS library: \", url);\n      document.head.appendChild(element);\n    }\n    if (!js_urls.length && !js_modules.length) {\n      on_load()\n    }\n  };\n\n  function inject_raw_css(css) {\n    const element = document.createElement(\"style\");\n    element.appendChild(document.createTextNode(css));\n    document.body.appendChild(element);\n  }\n\n  var js_urls = [\"https://cdn.bokeh.org/bokeh/release/bokeh-2.4.3.min.js\", \"https://cdn.bokeh.org/bokeh/release/bokeh-gl-2.4.3.min.js\", \"https://cdn.bokeh.org/bokeh/release/bokeh-widgets-2.4.3.min.js\", \"https://cdn.bokeh.org/bokeh/release/bokeh-tables-2.4.3.min.js\", \"https://cdn.bokeh.org/bokeh/release/bokeh-mathjax-2.4.3.min.js\", \"https://unpkg.com/@holoviz/panel@0.14.4/dist/panel.min.js\"];\n  var js_modules = [];\n  var css_urls = [\"https://cdn.holoviz.org/panel/0.14.4/dist/css/debugger.css\", \"https://cdn.holoviz.org/panel/0.14.4/dist/css/widgets.css\", \"https://cdn.holoviz.org/panel/0.14.4/dist/css/dataframe.css\", \"https://cdn.holoviz.org/panel/0.14.4/dist/css/json.css\", \"https://cdn.holoviz.org/panel/0.14.4/dist/css/loading.css\", \"https://cdn.holoviz.org/panel/0.14.4/dist/css/markdown.css\", \"https://cdn.holoviz.org/panel/0.14.4/dist/css/card.css\", \"https://cdn.holoviz.org/panel/0.14.4/dist/css/alerts.css\"];\n  var inline_js = [    function(Bokeh) {\n      inject_raw_css(\"\\n    .bk.pn-loading.arc:before {\\n      background-image: url(\\\"data:image/svg+xml;base64,PHN2ZyB4bWxucz0iaHR0cDovL3d3dy53My5vcmcvMjAwMC9zdmciIHN0eWxlPSJtYXJnaW46IGF1dG87IGJhY2tncm91bmQ6IG5vbmU7IGRpc3BsYXk6IGJsb2NrOyBzaGFwZS1yZW5kZXJpbmc6IGF1dG87IiB2aWV3Qm94PSIwIDAgMTAwIDEwMCIgcHJlc2VydmVBc3BlY3RSYXRpbz0ieE1pZFlNaWQiPiAgPGNpcmNsZSBjeD0iNTAiIGN5PSI1MCIgZmlsbD0ibm9uZSIgc3Ryb2tlPSIjYzNjM2MzIiBzdHJva2Utd2lkdGg9IjEwIiByPSIzNSIgc3Ryb2tlLWRhc2hhcnJheT0iMTY0LjkzMzYxNDMxMzQ2NDE1IDU2Ljk3Nzg3MTQzNzgyMTM4Ij4gICAgPGFuaW1hdGVUcmFuc2Zvcm0gYXR0cmlidXRlTmFtZT0idHJhbnNmb3JtIiB0eXBlPSJyb3RhdGUiIHJlcGVhdENvdW50PSJpbmRlZmluaXRlIiBkdXI9IjFzIiB2YWx1ZXM9IjAgNTAgNTA7MzYwIDUwIDUwIiBrZXlUaW1lcz0iMDsxIj48L2FuaW1hdGVUcmFuc2Zvcm0+ICA8L2NpcmNsZT48L3N2Zz4=\\\");\\n      background-size: auto calc(min(50%, 400px));\\n    }\\n    \");\n    },    function(Bokeh) {\n      Bokeh.set_log_level(\"info\");\n    },\nfunction(Bokeh) {} // ensure no trailing comma for IE\n  ];\n\n  function run_inline_js() {\n    if ((root.Bokeh !== undefined) || (force === true)) {\n      for (var i = 0; i < inline_js.length; i++) {\n        inline_js[i].call(root, root.Bokeh);\n      }} else if (Date.now() < root._bokeh_timeout) {\n      setTimeout(run_inline_js, 100);\n    } else if (!root._bokeh_failed_load) {\n      console.log(\"Bokeh: BokehJS failed to load within specified timeout.\");\n      root._bokeh_failed_load = true;\n    }\n  }\n\n  if (root._bokeh_is_loading === 0) {\n    console.debug(\"Bokeh: BokehJS loaded, going straight to plotting\");\n    run_inline_js();\n  } else {\n    load_libs(css_urls, js_urls, js_modules, function() {\n      console.debug(\"Bokeh: BokehJS plotting callback run at\", now());\n      run_inline_js();\n    });\n  }\n}(window));",
            "application/vnd.holoviews_load.v0+json": ""
          },
          "metadata": {},
          "output_type": "display_data"
        },
        {
          "data": {
            "application/javascript": "\nif ((window.PyViz === undefined) || (window.PyViz instanceof HTMLElement)) {\n  window.PyViz = {comms: {}, comm_status:{}, kernels:{}, receivers: {}, plot_index: []}\n}\n\n\n    function JupyterCommManager() {\n    }\n\n    JupyterCommManager.prototype.register_target = function(plot_id, comm_id, msg_handler) {\n      if (window.comm_manager || ((window.Jupyter !== undefined) && (Jupyter.notebook.kernel != null))) {\n        var comm_manager = window.comm_manager || Jupyter.notebook.kernel.comm_manager;\n        comm_manager.register_target(comm_id, function(comm) {\n          comm.on_msg(msg_handler);\n        });\n      } else if ((plot_id in window.PyViz.kernels) && (window.PyViz.kernels[plot_id])) {\n        window.PyViz.kernels[plot_id].registerCommTarget(comm_id, function(comm) {\n          comm.onMsg = msg_handler;\n        });\n      } else if (typeof google != 'undefined' && google.colab.kernel != null) {\n        google.colab.kernel.comms.registerTarget(comm_id, (comm) => {\n          var messages = comm.messages[Symbol.asyncIterator]();\n          function processIteratorResult(result) {\n            var message = result.value;\n            console.log(message)\n            var content = {data: message.data, comm_id};\n            var buffers = []\n            for (var buffer of message.buffers || []) {\n              buffers.push(new DataView(buffer))\n            }\n            var metadata = message.metadata || {};\n            var msg = {content, buffers, metadata}\n            msg_handler(msg);\n            return messages.next().then(processIteratorResult);\n          }\n          return messages.next().then(processIteratorResult);\n        })\n      }\n    }\n\n    JupyterCommManager.prototype.get_client_comm = function(plot_id, comm_id, msg_handler) {\n      if (comm_id in window.PyViz.comms) {\n        return window.PyViz.comms[comm_id];\n      } else if (window.comm_manager || ((window.Jupyter !== undefined) && (Jupyter.notebook.kernel != null))) {\n        var comm_manager = window.comm_manager || Jupyter.notebook.kernel.comm_manager;\n        var comm = comm_manager.new_comm(comm_id, {}, {}, {}, comm_id);\n        if (msg_handler) {\n          comm.on_msg(msg_handler);\n        }\n      } else if ((plot_id in window.PyViz.kernels) && (window.PyViz.kernels[plot_id])) {\n        var comm = window.PyViz.kernels[plot_id].connectToComm(comm_id);\n        comm.open();\n        if (msg_handler) {\n          comm.onMsg = msg_handler;\n        }\n      } else if (typeof google != 'undefined' && google.colab.kernel != null) {\n        var comm_promise = google.colab.kernel.comms.open(comm_id)\n        comm_promise.then((comm) => {\n          window.PyViz.comms[comm_id] = comm;\n          if (msg_handler) {\n            var messages = comm.messages[Symbol.asyncIterator]();\n            function processIteratorResult(result) {\n              var message = result.value;\n              var content = {data: message.data};\n              var metadata = message.metadata || {comm_id};\n              var msg = {content, metadata}\n              msg_handler(msg);\n              return messages.next().then(processIteratorResult);\n            }\n            return messages.next().then(processIteratorResult);\n          }\n        }) \n        var sendClosure = (data, metadata, buffers, disposeOnDone) => {\n          return comm_promise.then((comm) => {\n            comm.send(data, metadata, buffers, disposeOnDone);\n          });\n        };\n        var comm = {\n          send: sendClosure\n        };\n      }\n      window.PyViz.comms[comm_id] = comm;\n      return comm;\n    }\n    window.PyViz.comm_manager = new JupyterCommManager();\n    \n\n\nvar JS_MIME_TYPE = 'application/javascript';\nvar HTML_MIME_TYPE = 'text/html';\nvar EXEC_MIME_TYPE = 'application/vnd.holoviews_exec.v0+json';\nvar CLASS_NAME = 'output';\n\n/**\n * Render data to the DOM node\n */\nfunction render(props, node) {\n  var div = document.createElement(\"div\");\n  var script = document.createElement(\"script\");\n  node.appendChild(div);\n  node.appendChild(script);\n}\n\n/**\n * Handle when a new output is added\n */\nfunction handle_add_output(event, handle) {\n  var output_area = handle.output_area;\n  var output = handle.output;\n  if ((output.data == undefined) || (!output.data.hasOwnProperty(EXEC_MIME_TYPE))) {\n    return\n  }\n  var id = output.metadata[EXEC_MIME_TYPE][\"id\"];\n  var toinsert = output_area.element.find(\".\" + CLASS_NAME.split(' ')[0]);\n  if (id !== undefined) {\n    var nchildren = toinsert.length;\n    var html_node = toinsert[nchildren-1].children[0];\n    html_node.innerHTML = output.data[HTML_MIME_TYPE];\n    var scripts = [];\n    var nodelist = html_node.querySelectorAll(\"script\");\n    for (var i in nodelist) {\n      if (nodelist.hasOwnProperty(i)) {\n        scripts.push(nodelist[i])\n      }\n    }\n\n    scripts.forEach( function (oldScript) {\n      var newScript = document.createElement(\"script\");\n      var attrs = [];\n      var nodemap = oldScript.attributes;\n      for (var j in nodemap) {\n        if (nodemap.hasOwnProperty(j)) {\n          attrs.push(nodemap[j])\n        }\n      }\n      attrs.forEach(function(attr) { newScript.setAttribute(attr.name, attr.value) });\n      newScript.appendChild(document.createTextNode(oldScript.innerHTML));\n      oldScript.parentNode.replaceChild(newScript, oldScript);\n    });\n    if (JS_MIME_TYPE in output.data) {\n      toinsert[nchildren-1].children[1].textContent = output.data[JS_MIME_TYPE];\n    }\n    output_area._hv_plot_id = id;\n    if ((window.Bokeh !== undefined) && (id in Bokeh.index)) {\n      window.PyViz.plot_index[id] = Bokeh.index[id];\n    } else {\n      window.PyViz.plot_index[id] = null;\n    }\n  } else if (output.metadata[EXEC_MIME_TYPE][\"server_id\"] !== undefined) {\n    var bk_div = document.createElement(\"div\");\n    bk_div.innerHTML = output.data[HTML_MIME_TYPE];\n    var script_attrs = bk_div.children[0].attributes;\n    for (var i = 0; i < script_attrs.length; i++) {\n      toinsert[toinsert.length - 1].childNodes[1].setAttribute(script_attrs[i].name, script_attrs[i].value);\n    }\n    // store reference to server id on output_area\n    output_area._bokeh_server_id = output.metadata[EXEC_MIME_TYPE][\"server_id\"];\n  }\n}\n\n/**\n * Handle when an output is cleared or removed\n */\nfunction handle_clear_output(event, handle) {\n  var id = handle.cell.output_area._hv_plot_id;\n  var server_id = handle.cell.output_area._bokeh_server_id;\n  if (((id === undefined) || !(id in PyViz.plot_index)) && (server_id !== undefined)) { return; }\n  var comm = window.PyViz.comm_manager.get_client_comm(\"hv-extension-comm\", \"hv-extension-comm\", function () {});\n  if (server_id !== null) {\n    comm.send({event_type: 'server_delete', 'id': server_id});\n    return;\n  } else if (comm !== null) {\n    comm.send({event_type: 'delete', 'id': id});\n  }\n  delete PyViz.plot_index[id];\n  if ((window.Bokeh !== undefined) & (id in window.Bokeh.index)) {\n    var doc = window.Bokeh.index[id].model.document\n    doc.clear();\n    const i = window.Bokeh.documents.indexOf(doc);\n    if (i > -1) {\n      window.Bokeh.documents.splice(i, 1);\n    }\n  }\n}\n\n/**\n * Handle kernel restart event\n */\nfunction handle_kernel_cleanup(event, handle) {\n  delete PyViz.comms[\"hv-extension-comm\"];\n  window.PyViz.plot_index = {}\n}\n\n/**\n * Handle update_display_data messages\n */\nfunction handle_update_output(event, handle) {\n  handle_clear_output(event, {cell: {output_area: handle.output_area}})\n  handle_add_output(event, handle)\n}\n\nfunction register_renderer(events, OutputArea) {\n  function append_mime(data, metadata, element) {\n    // create a DOM node to render to\n    var toinsert = this.create_output_subarea(\n    metadata,\n    CLASS_NAME,\n    EXEC_MIME_TYPE\n    );\n    this.keyboard_manager.register_events(toinsert);\n    // Render to node\n    var props = {data: data, metadata: metadata[EXEC_MIME_TYPE]};\n    render(props, toinsert[0]);\n    element.append(toinsert);\n    return toinsert\n  }\n\n  events.on('output_added.OutputArea', handle_add_output);\n  events.on('output_updated.OutputArea', handle_update_output);\n  events.on('clear_output.CodeCell', handle_clear_output);\n  events.on('delete.Cell', handle_clear_output);\n  events.on('kernel_ready.Kernel', handle_kernel_cleanup);\n\n  OutputArea.prototype.register_mime_type(EXEC_MIME_TYPE, append_mime, {\n    safe: true,\n    index: 0\n  });\n}\n\nif (window.Jupyter !== undefined) {\n  try {\n    var events = require('base/js/events');\n    var OutputArea = require('notebook/js/outputarea').OutputArea;\n    if (OutputArea.prototype.mime_types().indexOf(EXEC_MIME_TYPE) == -1) {\n      register_renderer(events, OutputArea);\n    }\n  } catch(err) {\n  }\n}\n",
            "application/vnd.holoviews_load.v0+json": ""
          },
          "metadata": {},
          "output_type": "display_data"
        },
        {
          "data": {
            "text/html": [
              "<style>.bk-root, .bk-root .bk:before, .bk-root .bk:after {\n",
              "  font-family: var(--jp-ui-font-size1);\n",
              "  font-size: var(--jp-ui-font-size1);\n",
              "  color: var(--jp-ui-font-color1);\n",
              "}\n",
              "</style>"
            ]
          },
          "metadata": {},
          "output_type": "display_data"
        }
      ],
      "source": [
        "# common imports\n",
        "from __future__ import print_function\n",
        "from ipywidgets import interact, interactive, fixed, interact_manual\n",
        "import ipywidgets as widgets\n",
        "from IPython.display import Markdown, display\n",
        "\n",
        "import datetime\n",
        "import pandas as pd    \n",
        "import numpy as np\n",
        "import panel as pn\n",
        "import statsmodels.api as sm\n",
        "import statsmodels.formula.api as smf\n",
        "import matplotlib.pyplot as plt\n",
        "\n",
        "pn.extension()\n",
        "def printmd(string):\n",
        "    display(Markdown(string))\n",
        "\n",
        "absolutePath = \"/content/drive/MyDrive/suave/\"\n",
        "\n",
        "# local imports\n",
        "import sys\n",
        "sys.path.insert(1, '../../helpers')\n",
        "import panel_libs as panellibs\n",
        "import suave_integration as suaveint"
      ]
    },
    {
      "cell_type": "markdown",
      "id": "f878ffed",
      "metadata": {
        "id": "f878ffed",
        "papermill": {
          "duration": 0.024236,
          "end_time": "2023-05-25T06:49:51.649943",
          "exception": false,
          "start_time": "2023-05-25T06:49:51.625707",
          "status": "completed"
        },
        "tags": []
      },
      "source": [
        "## 2. Read the survey file"
      ]
    },
    {
      "cell_type": "code",
      "execution_count": null,
      "id": "240be5fc",
      "metadata": {
        "colab": {
          "base_uri": "https://localhost:8080/",
          "height": 168
        },
        "execution": {
          "iopub.execute_input": "2023-05-25T06:49:51.683051Z",
          "iopub.status.busy": "2023-05-25T06:49:51.682108Z",
          "iopub.status.idle": "2023-05-25T06:49:51.729167Z",
          "shell.execute_reply": "2023-05-25T06:49:51.728010Z"
        },
        "id": "240be5fc",
        "outputId": "04245994-f267-4cd1-b7d6-18b2dbfd52de",
        "papermill": {
          "duration": 0.067549,
          "end_time": "2023-05-25T06:49:51.731944",
          "exception": false,
          "start_time": "2023-05-25T06:49:51.664395",
          "status": "completed"
        },
        "tags": []
      },
      "outputs": [
        {
          "data": {
            "text/markdown": [
              "<b><span style='color:red'>All variables in the survey file:</span></b>"
            ],
            "text/plain": [
              "<IPython.core.display.Markdown object>"
            ]
          },
          "metadata": {},
          "output_type": "display_data"
        },
        {
          "name": "stdout",
          "output_type": "stream",
          "text": [
            "['Full Name#hidden' 'Last Name' 'First Name' 'Gender' 'Instituion'\n",
            " 'Phone Number#hidden' 'Contact Title#hidden' 'EmailAddress#hidden'\n",
            " 'Social Media/Personal Website#link#hidden'\n",
            " 'Project Information/Links#link#hidden' 'Focus Areas' 'Specialty'\n",
            " 'Example Current Project#hidden' 'Other Info' '#img' '#name' '#href'\n",
            " 'Project Images#multi#hidden' 'Latitude#number#hidden'\n",
            " 'Longitude#number#hidden']\n"
          ]
        }
      ],
      "source": [
        "# read the csv file\n",
        "df = panellibs.extract_data(absolutePath + csv_file)\n",
        "\n",
        "# create a list of variable names\n",
        "variables_df = pd.DataFrame({'varname':df.columns})\n",
        "printmd(\"<b><span style='color:red'>All variables in the survey file:</span></b>\")\n",
        "print(variables_df.varname.values)"
      ]
    },
    {
      "cell_type": "markdown",
      "id": "b840708a",
      "metadata": {
        "id": "b840708a",
        "papermill": {
          "duration": 0.025152,
          "end_time": "2023-05-25T06:49:51.778413",
          "exception": false,
          "start_time": "2023-05-25T06:49:51.753261",
          "status": "completed"
        },
        "tags": []
      },
      "source": [
        "## 3. Select variables from survey"
      ]
    },
    {
      "cell_type": "code",
      "execution_count": null,
      "id": "1f8efe88",
      "metadata": {
        "colab": {
          "base_uri": "https://localhost:8080/",
          "height": 117
        },
        "execution": {
          "iopub.execute_input": "2023-05-25T06:49:51.837058Z",
          "iopub.status.busy": "2023-05-25T06:49:51.836261Z",
          "iopub.status.idle": "2023-05-25T06:49:51.894577Z",
          "shell.execute_reply": "2023-05-25T06:49:51.893338Z"
        },
        "id": "1f8efe88",
        "outputId": "1d39004b-e6bb-4e32-c610-1337c8c5083a",
        "papermill": {
          "duration": 0.078671,
          "end_time": "2023-05-25T06:49:51.897157",
          "exception": false,
          "start_time": "2023-05-25T06:49:51.818486",
          "status": "completed"
        },
        "tags": []
      },
      "outputs": [
        {
          "data": {
            "application/javascript": "(function(root) {\n  function now() {\n    return new Date();\n  }\n\n  var force = true;\n\n  if (typeof root._bokeh_onload_callbacks === \"undefined\" || force === true) {\n    root._bokeh_onload_callbacks = [];\n    root._bokeh_is_loading = undefined;\n  }\n\n  if (typeof (root._bokeh_timeout) === \"undefined\" || force === true) {\n    root._bokeh_timeout = Date.now() + 5000;\n    root._bokeh_failed_load = false;\n  }\n\n  function run_callbacks() {\n    try {\n      root._bokeh_onload_callbacks.forEach(function(callback) {\n        if (callback != null)\n          callback();\n      });\n    } finally {\n      delete root._bokeh_onload_callbacks\n    }\n    console.debug(\"Bokeh: all callbacks have finished\");\n  }\n\n  function load_libs(css_urls, js_urls, js_modules, callback) {\n    if (css_urls == null) css_urls = [];\n    if (js_urls == null) js_urls = [];\n    if (js_modules == null) js_modules = [];\n\n    root._bokeh_onload_callbacks.push(callback);\n    if (root._bokeh_is_loading > 0) {\n      console.debug(\"Bokeh: BokehJS is being loaded, scheduling callback at\", now());\n      return null;\n    }\n    if (js_urls.length === 0 && js_modules.length === 0) {\n      run_callbacks();\n      return null;\n    }\n    console.debug(\"Bokeh: BokehJS not loaded, scheduling load and callback at\", now());\n\n    function on_load() {\n      root._bokeh_is_loading--;\n      if (root._bokeh_is_loading === 0) {\n        console.debug(\"Bokeh: all BokehJS libraries/stylesheets loaded\");\n        run_callbacks()\n      }\n    }\n\n    function on_error() {\n      console.error(\"failed to load \" + url);\n    }\n\n    for (var i = 0; i < css_urls.length; i++) {\n      var url = css_urls[i];\n      const element = document.createElement(\"link\");\n      element.onload = on_load;\n      element.onerror = on_error;\n      element.rel = \"stylesheet\";\n      element.type = \"text/css\";\n      element.href = url;\n      console.debug(\"Bokeh: injecting link tag for BokehJS stylesheet: \", url);\n      document.body.appendChild(element);\n    }\n\n    var skip = [];\n    if (window.requirejs) {\n      window.requirejs.config({'packages': {}, 'paths': {'gridstack': 'https://cdn.jsdelivr.net/npm/gridstack@4.2.5/dist/gridstack-h5', 'notyf': 'https://cdn.jsdelivr.net/npm/notyf@3/notyf.min'}, 'shim': {'gridstack': {'exports': 'GridStack'}}});\n      require([\"gridstack\"], function(GridStack) {\n\twindow.GridStack = GridStack\n\ton_load()\n      })\n      require([\"notyf\"], function() {\n\ton_load()\n      })\n      root._bokeh_is_loading = css_urls.length + 2;\n    } else {\n      root._bokeh_is_loading = css_urls.length + js_urls.length + js_modules.length;\n    }    if (((window['GridStack'] !== undefined) && (!(window['GridStack'] instanceof HTMLElement))) || window.requirejs) {\n      var urls = ['https://cdn.holoviz.org/panel/0.14.4/dist/bundled/gridstack/gridstack@4.2.5/dist/gridstack-h5.js'];\n      for (var i = 0; i < urls.length; i++) {\n        skip.push(urls[i])\n      }\n    }    if (((window['Notyf'] !== undefined) && (!(window['Notyf'] instanceof HTMLElement))) || window.requirejs) {\n      var urls = ['https://cdn.holoviz.org/panel/0.14.4/dist/bundled/notificationarea/notyf@3/notyf.min.js'];\n      for (var i = 0; i < urls.length; i++) {\n        skip.push(urls[i])\n      }\n    }    for (var i = 0; i < js_urls.length; i++) {\n      var url = js_urls[i];\n      if (skip.indexOf(url) >= 0) {\n\tif (!window.requirejs) {\n\t  on_load();\n\t}\n\tcontinue;\n      }\n      var element = document.createElement('script');\n      element.onload = on_load;\n      element.onerror = on_error;\n      element.async = false;\n      element.src = url;\n      console.debug(\"Bokeh: injecting script tag for BokehJS library: \", url);\n      document.head.appendChild(element);\n    }\n    for (var i = 0; i < js_modules.length; i++) {\n      var url = js_modules[i];\n      if (skip.indexOf(url) >= 0) {\n\tif (!window.requirejs) {\n\t  on_load();\n\t}\n\tcontinue;\n      }\n      var element = document.createElement('script');\n      element.onload = on_load;\n      element.onerror = on_error;\n      element.async = false;\n      element.src = url;\n      element.type = \"module\";\n      console.debug(\"Bokeh: injecting script tag for BokehJS library: \", url);\n      document.head.appendChild(element);\n    }\n    if (!js_urls.length && !js_modules.length) {\n      on_load()\n    }\n  };\n\n  function inject_raw_css(css) {\n    const element = document.createElement(\"style\");\n    element.appendChild(document.createTextNode(css));\n    document.body.appendChild(element);\n  }\n\n  var js_urls = [\"https://cdn.bokeh.org/bokeh/release/bokeh-2.4.3.min.js\", \"https://cdn.bokeh.org/bokeh/release/bokeh-gl-2.4.3.min.js\", \"https://cdn.bokeh.org/bokeh/release/bokeh-widgets-2.4.3.min.js\", \"https://cdn.bokeh.org/bokeh/release/bokeh-tables-2.4.3.min.js\", \"https://cdn.bokeh.org/bokeh/release/bokeh-mathjax-2.4.3.min.js\", \"https://unpkg.com/@holoviz/panel@0.14.4/dist/panel.min.js\"];\n  var js_modules = [];\n  var css_urls = [\"https://cdn.holoviz.org/panel/0.14.4/dist/css/debugger.css\", \"https://cdn.holoviz.org/panel/0.14.4/dist/css/widgets.css\", \"https://cdn.holoviz.org/panel/0.14.4/dist/css/dataframe.css\", \"https://cdn.holoviz.org/panel/0.14.4/dist/css/json.css\", \"https://cdn.holoviz.org/panel/0.14.4/dist/css/loading.css\", \"https://cdn.holoviz.org/panel/0.14.4/dist/css/markdown.css\", \"https://cdn.holoviz.org/panel/0.14.4/dist/css/card.css\", \"https://cdn.holoviz.org/panel/0.14.4/dist/css/alerts.css\"];\n  var inline_js = [    function(Bokeh) {\n      inject_raw_css(\"\\n    .bk.pn-loading.arc:before {\\n      background-image: url(\\\"data:image/svg+xml;base64,PHN2ZyB4bWxucz0iaHR0cDovL3d3dy53My5vcmcvMjAwMC9zdmciIHN0eWxlPSJtYXJnaW46IGF1dG87IGJhY2tncm91bmQ6IG5vbmU7IGRpc3BsYXk6IGJsb2NrOyBzaGFwZS1yZW5kZXJpbmc6IGF1dG87IiB2aWV3Qm94PSIwIDAgMTAwIDEwMCIgcHJlc2VydmVBc3BlY3RSYXRpbz0ieE1pZFlNaWQiPiAgPGNpcmNsZSBjeD0iNTAiIGN5PSI1MCIgZmlsbD0ibm9uZSIgc3Ryb2tlPSIjYzNjM2MzIiBzdHJva2Utd2lkdGg9IjEwIiByPSIzNSIgc3Ryb2tlLWRhc2hhcnJheT0iMTY0LjkzMzYxNDMxMzQ2NDE1IDU2Ljk3Nzg3MTQzNzgyMTM4Ij4gICAgPGFuaW1hdGVUcmFuc2Zvcm0gYXR0cmlidXRlTmFtZT0idHJhbnNmb3JtIiB0eXBlPSJyb3RhdGUiIHJlcGVhdENvdW50PSJpbmRlZmluaXRlIiBkdXI9IjFzIiB2YWx1ZXM9IjAgNTAgNTA7MzYwIDUwIDUwIiBrZXlUaW1lcz0iMDsxIj48L2FuaW1hdGVUcmFuc2Zvcm0+ICA8L2NpcmNsZT48L3N2Zz4=\\\");\\n      background-size: auto calc(min(50%, 400px));\\n    }\\n    \");\n    },    function(Bokeh) {\n      Bokeh.set_log_level(\"info\");\n    },\nfunction(Bokeh) {} // ensure no trailing comma for IE\n  ];\n\n  function run_inline_js() {\n    if ((root.Bokeh !== undefined) || (force === true)) {\n      for (var i = 0; i < inline_js.length; i++) {\n        inline_js[i].call(root, root.Bokeh);\n      }} else if (Date.now() < root._bokeh_timeout) {\n      setTimeout(run_inline_js, 100);\n    } else if (!root._bokeh_failed_load) {\n      console.log(\"Bokeh: BokehJS failed to load within specified timeout.\");\n      root._bokeh_failed_load = true;\n    }\n  }\n\n  if (root._bokeh_is_loading === 0) {\n    console.debug(\"Bokeh: BokehJS loaded, going straight to plotting\");\n    run_inline_js();\n  } else {\n    load_libs(css_urls, js_urls, js_modules, function() {\n      console.debug(\"Bokeh: BokehJS plotting callback run at\", now());\n      run_inline_js();\n    });\n  }\n}(window));",
            "application/vnd.holoviews_load.v0+json": ""
          },
          "metadata": {},
          "output_type": "display_data"
        },
        {
          "data": {
            "application/javascript": "\nif ((window.PyViz === undefined) || (window.PyViz instanceof HTMLElement)) {\n  window.PyViz = {comms: {}, comm_status:{}, kernels:{}, receivers: {}, plot_index: []}\n}\n\n\n    function JupyterCommManager() {\n    }\n\n    JupyterCommManager.prototype.register_target = function(plot_id, comm_id, msg_handler) {\n      if (window.comm_manager || ((window.Jupyter !== undefined) && (Jupyter.notebook.kernel != null))) {\n        var comm_manager = window.comm_manager || Jupyter.notebook.kernel.comm_manager;\n        comm_manager.register_target(comm_id, function(comm) {\n          comm.on_msg(msg_handler);\n        });\n      } else if ((plot_id in window.PyViz.kernels) && (window.PyViz.kernels[plot_id])) {\n        window.PyViz.kernels[plot_id].registerCommTarget(comm_id, function(comm) {\n          comm.onMsg = msg_handler;\n        });\n      } else if (typeof google != 'undefined' && google.colab.kernel != null) {\n        google.colab.kernel.comms.registerTarget(comm_id, (comm) => {\n          var messages = comm.messages[Symbol.asyncIterator]();\n          function processIteratorResult(result) {\n            var message = result.value;\n            console.log(message)\n            var content = {data: message.data, comm_id};\n            var buffers = []\n            for (var buffer of message.buffers || []) {\n              buffers.push(new DataView(buffer))\n            }\n            var metadata = message.metadata || {};\n            var msg = {content, buffers, metadata}\n            msg_handler(msg);\n            return messages.next().then(processIteratorResult);\n          }\n          return messages.next().then(processIteratorResult);\n        })\n      }\n    }\n\n    JupyterCommManager.prototype.get_client_comm = function(plot_id, comm_id, msg_handler) {\n      if (comm_id in window.PyViz.comms) {\n        return window.PyViz.comms[comm_id];\n      } else if (window.comm_manager || ((window.Jupyter !== undefined) && (Jupyter.notebook.kernel != null))) {\n        var comm_manager = window.comm_manager || Jupyter.notebook.kernel.comm_manager;\n        var comm = comm_manager.new_comm(comm_id, {}, {}, {}, comm_id);\n        if (msg_handler) {\n          comm.on_msg(msg_handler);\n        }\n      } else if ((plot_id in window.PyViz.kernels) && (window.PyViz.kernels[plot_id])) {\n        var comm = window.PyViz.kernels[plot_id].connectToComm(comm_id);\n        comm.open();\n        if (msg_handler) {\n          comm.onMsg = msg_handler;\n        }\n      } else if (typeof google != 'undefined' && google.colab.kernel != null) {\n        var comm_promise = google.colab.kernel.comms.open(comm_id)\n        comm_promise.then((comm) => {\n          window.PyViz.comms[comm_id] = comm;\n          if (msg_handler) {\n            var messages = comm.messages[Symbol.asyncIterator]();\n            function processIteratorResult(result) {\n              var message = result.value;\n              var content = {data: message.data};\n              var metadata = message.metadata || {comm_id};\n              var msg = {content, metadata}\n              msg_handler(msg);\n              return messages.next().then(processIteratorResult);\n            }\n            return messages.next().then(processIteratorResult);\n          }\n        }) \n        var sendClosure = (data, metadata, buffers, disposeOnDone) => {\n          return comm_promise.then((comm) => {\n            comm.send(data, metadata, buffers, disposeOnDone);\n          });\n        };\n        var comm = {\n          send: sendClosure\n        };\n      }\n      window.PyViz.comms[comm_id] = comm;\n      return comm;\n    }\n    window.PyViz.comm_manager = new JupyterCommManager();\n    \n\n\nvar JS_MIME_TYPE = 'application/javascript';\nvar HTML_MIME_TYPE = 'text/html';\nvar EXEC_MIME_TYPE = 'application/vnd.holoviews_exec.v0+json';\nvar CLASS_NAME = 'output';\n\n/**\n * Render data to the DOM node\n */\nfunction render(props, node) {\n  var div = document.createElement(\"div\");\n  var script = document.createElement(\"script\");\n  node.appendChild(div);\n  node.appendChild(script);\n}\n\n/**\n * Handle when a new output is added\n */\nfunction handle_add_output(event, handle) {\n  var output_area = handle.output_area;\n  var output = handle.output;\n  if ((output.data == undefined) || (!output.data.hasOwnProperty(EXEC_MIME_TYPE))) {\n    return\n  }\n  var id = output.metadata[EXEC_MIME_TYPE][\"id\"];\n  var toinsert = output_area.element.find(\".\" + CLASS_NAME.split(' ')[0]);\n  if (id !== undefined) {\n    var nchildren = toinsert.length;\n    var html_node = toinsert[nchildren-1].children[0];\n    html_node.innerHTML = output.data[HTML_MIME_TYPE];\n    var scripts = [];\n    var nodelist = html_node.querySelectorAll(\"script\");\n    for (var i in nodelist) {\n      if (nodelist.hasOwnProperty(i)) {\n        scripts.push(nodelist[i])\n      }\n    }\n\n    scripts.forEach( function (oldScript) {\n      var newScript = document.createElement(\"script\");\n      var attrs = [];\n      var nodemap = oldScript.attributes;\n      for (var j in nodemap) {\n        if (nodemap.hasOwnProperty(j)) {\n          attrs.push(nodemap[j])\n        }\n      }\n      attrs.forEach(function(attr) { newScript.setAttribute(attr.name, attr.value) });\n      newScript.appendChild(document.createTextNode(oldScript.innerHTML));\n      oldScript.parentNode.replaceChild(newScript, oldScript);\n    });\n    if (JS_MIME_TYPE in output.data) {\n      toinsert[nchildren-1].children[1].textContent = output.data[JS_MIME_TYPE];\n    }\n    output_area._hv_plot_id = id;\n    if ((window.Bokeh !== undefined) && (id in Bokeh.index)) {\n      window.PyViz.plot_index[id] = Bokeh.index[id];\n    } else {\n      window.PyViz.plot_index[id] = null;\n    }\n  } else if (output.metadata[EXEC_MIME_TYPE][\"server_id\"] !== undefined) {\n    var bk_div = document.createElement(\"div\");\n    bk_div.innerHTML = output.data[HTML_MIME_TYPE];\n    var script_attrs = bk_div.children[0].attributes;\n    for (var i = 0; i < script_attrs.length; i++) {\n      toinsert[toinsert.length - 1].childNodes[1].setAttribute(script_attrs[i].name, script_attrs[i].value);\n    }\n    // store reference to server id on output_area\n    output_area._bokeh_server_id = output.metadata[EXEC_MIME_TYPE][\"server_id\"];\n  }\n}\n\n/**\n * Handle when an output is cleared or removed\n */\nfunction handle_clear_output(event, handle) {\n  var id = handle.cell.output_area._hv_plot_id;\n  var server_id = handle.cell.output_area._bokeh_server_id;\n  if (((id === undefined) || !(id in PyViz.plot_index)) && (server_id !== undefined)) { return; }\n  var comm = window.PyViz.comm_manager.get_client_comm(\"hv-extension-comm\", \"hv-extension-comm\", function () {});\n  if (server_id !== null) {\n    comm.send({event_type: 'server_delete', 'id': server_id});\n    return;\n  } else if (comm !== null) {\n    comm.send({event_type: 'delete', 'id': id});\n  }\n  delete PyViz.plot_index[id];\n  if ((window.Bokeh !== undefined) & (id in window.Bokeh.index)) {\n    var doc = window.Bokeh.index[id].model.document\n    doc.clear();\n    const i = window.Bokeh.documents.indexOf(doc);\n    if (i > -1) {\n      window.Bokeh.documents.splice(i, 1);\n    }\n  }\n}\n\n/**\n * Handle kernel restart event\n */\nfunction handle_kernel_cleanup(event, handle) {\n  delete PyViz.comms[\"hv-extension-comm\"];\n  window.PyViz.plot_index = {}\n}\n\n/**\n * Handle update_display_data messages\n */\nfunction handle_update_output(event, handle) {\n  handle_clear_output(event, {cell: {output_area: handle.output_area}})\n  handle_add_output(event, handle)\n}\n\nfunction register_renderer(events, OutputArea) {\n  function append_mime(data, metadata, element) {\n    // create a DOM node to render to\n    var toinsert = this.create_output_subarea(\n    metadata,\n    CLASS_NAME,\n    EXEC_MIME_TYPE\n    );\n    this.keyboard_manager.register_events(toinsert);\n    // Render to node\n    var props = {data: data, metadata: metadata[EXEC_MIME_TYPE]};\n    render(props, toinsert[0]);\n    element.append(toinsert);\n    return toinsert\n  }\n\n  events.on('output_added.OutputArea', handle_add_output);\n  events.on('output_updated.OutputArea', handle_update_output);\n  events.on('clear_output.CodeCell', handle_clear_output);\n  events.on('delete.Cell', handle_clear_output);\n  events.on('kernel_ready.Kernel', handle_kernel_cleanup);\n\n  OutputArea.prototype.register_mime_type(EXEC_MIME_TYPE, append_mime, {\n    safe: true,\n    index: 0\n  });\n}\n\nif (window.Jupyter !== undefined) {\n  try {\n    var events = require('base/js/events');\n    var OutputArea = require('notebook/js/outputarea').OutputArea;\n    if (OutputArea.prototype.mime_types().indexOf(EXEC_MIME_TYPE) == -1) {\n      register_renderer(events, OutputArea);\n    }\n  } catch(err) {\n  }\n}\n",
            "application/vnd.holoviews_load.v0+json": ""
          },
          "metadata": {},
          "output_type": "display_data"
        },
        {
          "data": {
            "text/html": [
              "<style>.bk-root, .bk-root .bk:before, .bk-root .bk:after {\n",
              "  font-family: var(--jp-ui-font-size1);\n",
              "  font-size: var(--jp-ui-font-size1);\n",
              "  color: var(--jp-ui-font-color1);\n",
              "}\n",
              "</style>"
            ]
          },
          "metadata": {},
          "output_type": "display_data"
        },
        {
          "data": {},
          "metadata": {},
          "output_type": "display_data"
        },
        {
          "data": {
            "application/vnd.holoviews_exec.v0+json": "",
            "text/html": [
              "<div id='1002'>\n",
              "  <div class=\"bk-root\" id=\"13fa38ee-f216-44eb-ac75-4ab41c21b5be\" data-root-id=\"1002\"></div>\n",
              "</div>\n",
              "<script type=\"application/javascript\">(function(root) {\n",
              "  function embed_document(root) {\n",
              "    var docs_json = {\"94648d17-d4a1-459c-9eb5-96dc71243bab\":{\"defs\":[{\"extends\":null,\"module\":null,\"name\":\"ReactiveHTML1\",\"overrides\":[],\"properties\":[]},{\"extends\":null,\"module\":null,\"name\":\"FlexBox1\",\"overrides\":[],\"properties\":[{\"default\":\"flex-start\",\"kind\":null,\"name\":\"align_content\"},{\"default\":\"flex-start\",\"kind\":null,\"name\":\"align_items\"},{\"default\":\"row\",\"kind\":null,\"name\":\"flex_direction\"},{\"default\":\"wrap\",\"kind\":null,\"name\":\"flex_wrap\"},{\"default\":\"flex-start\",\"kind\":null,\"name\":\"justify_content\"}]},{\"extends\":null,\"module\":null,\"name\":\"GridStack1\",\"overrides\":[],\"properties\":[{\"default\":\"warn\",\"kind\":null,\"name\":\"mode\"},{\"default\":null,\"kind\":null,\"name\":\"ncols\"},{\"default\":null,\"kind\":null,\"name\":\"nrows\"},{\"default\":true,\"kind\":null,\"name\":\"allow_resize\"},{\"default\":true,\"kind\":null,\"name\":\"allow_drag\"},{\"default\":[],\"kind\":null,\"name\":\"state\"}]},{\"extends\":null,\"module\":null,\"name\":\"click1\",\"overrides\":[],\"properties\":[{\"default\":\"\",\"kind\":null,\"name\":\"terminal_output\"},{\"default\":\"\",\"kind\":null,\"name\":\"debug_name\"},{\"default\":0,\"kind\":null,\"name\":\"clears\"}]},{\"extends\":null,\"module\":null,\"name\":\"NotificationAreaBase1\",\"overrides\":[],\"properties\":[{\"default\":\"bottom-right\",\"kind\":null,\"name\":\"position\"},{\"default\":0,\"kind\":null,\"name\":\"_clear\"}]},{\"extends\":null,\"module\":null,\"name\":\"NotificationArea1\",\"overrides\":[],\"properties\":[{\"default\":[],\"kind\":null,\"name\":\"notifications\"},{\"default\":\"bottom-right\",\"kind\":null,\"name\":\"position\"},{\"default\":0,\"kind\":null,\"name\":\"_clear\"},{\"default\":[{\"background\":\"#ffc107\",\"icon\":{\"className\":\"fas fa-exclamation-triangle\",\"color\":\"white\",\"tagName\":\"i\"},\"type\":\"warning\"},{\"background\":\"#007bff\",\"icon\":{\"className\":\"fas fa-info-circle\",\"color\":\"white\",\"tagName\":\"i\"},\"type\":\"info\"}],\"kind\":null,\"name\":\"types\"}]},{\"extends\":null,\"module\":null,\"name\":\"Notification\",\"overrides\":[],\"properties\":[{\"default\":null,\"kind\":null,\"name\":\"background\"},{\"default\":3000,\"kind\":null,\"name\":\"duration\"},{\"default\":null,\"kind\":null,\"name\":\"icon\"},{\"default\":\"\",\"kind\":null,\"name\":\"message\"},{\"default\":null,\"kind\":null,\"name\":\"notification_type\"},{\"default\":false,\"kind\":null,\"name\":\"_destroyed\"}]},{\"extends\":null,\"module\":null,\"name\":\"TemplateActions1\",\"overrides\":[],\"properties\":[{\"default\":0,\"kind\":null,\"name\":\"open_modal\"},{\"default\":0,\"kind\":null,\"name\":\"close_modal\"}]},{\"extends\":null,\"module\":null,\"name\":\"MaterialTemplateActions1\",\"overrides\":[],\"properties\":[{\"default\":0,\"kind\":null,\"name\":\"open_modal\"},{\"default\":0,\"kind\":null,\"name\":\"close_modal\"}]}],\"roots\":{\"references\":[{\"attributes\":{\"end\":2,\"margin\":[5,10,5,10],\"start\":1,\"title\":\"Select Number of Row Variables\",\"value\":1},\"id\":\"1003\",\"type\":\"Slider\"},{\"attributes\":{\"children\":[{\"id\":\"1003\"},{\"id\":\"1004\"}],\"margin\":[0,0,0,0],\"name\":\"Column00103\"},\"id\":\"1002\",\"type\":\"Column\"},{\"attributes\":{\"client_comm_id\":\"b30b53607b4e4fd7aa22088d1068ae11\",\"comm_id\":\"22c34e7800bb4428ae52fdb425d720c4\",\"plot_id\":\"1002\"},\"id\":\"1005\",\"type\":\"panel.models.comm_manager.CommManager\"},{\"attributes\":{\"reload\":false},\"id\":\"1006\",\"type\":\"panel.models.location.Location\"},{\"attributes\":{\"end\":2,\"margin\":[5,10,5,10],\"start\":1,\"title\":\"Select Number of Column Variables\",\"value\":1},\"id\":\"1004\",\"type\":\"Slider\"}],\"root_ids\":[\"1002\",\"1005\",\"1006\"]},\"title\":\"Bokeh Application\",\"version\":\"2.4.3\"}};\n",
              "    var render_items = [{\"docid\":\"94648d17-d4a1-459c-9eb5-96dc71243bab\",\"root_ids\":[\"1002\"],\"roots\":{\"1002\":\"13fa38ee-f216-44eb-ac75-4ab41c21b5be\"}}];\n",
              "    root.Bokeh.embed.embed_items_notebook(docs_json, render_items);\n",
              "    for (const render_item of render_items) {\n",
              "      for (const root_id of render_item.root_ids) {\n",
              "\tconst id_el = document.getElementById(root_id)\n",
              "\tif (id_el.children.length && (id_el.children[0].className === 'bk-root')) {\n",
              "\t  const root_el = id_el.children[0]\n",
              "\t  root_el.id = root_el.id + '-rendered'\n",
              "\t}\n",
              "      }\n",
              "    }\n",
              "  }\n",
              "  if (root.Bokeh !== undefined && root.Bokeh.Panel !== undefined) {\n",
              "    embed_document(root);\n",
              "  } else {\n",
              "    var attempts = 0;\n",
              "    var timer = setInterval(function(root) {\n",
              "      if (root.Bokeh !== undefined && root.Bokeh.Panel !== undefined) {\n",
              "        clearInterval(timer);\n",
              "        embed_document(root);\n",
              "      } else if (document.readyState == \"complete\") {\n",
              "        attempts++;\n",
              "        if (attempts > 200) {\n",
              "          clearInterval(timer);\n",
              "          console.log(\"Bokeh: ERROR: Unable to run BokehJS code because BokehJS library is missing\");\n",
              "        }\n",
              "      }\n",
              "    }, 25, root)\n",
              "  }\n",
              "})(window);</script>"
            ],
            "text/plain": [
              "Column\n",
              "    [0] IntSlider(end=2, name='Select Number o..., start=1, value=1)\n",
              "    [1] IntSlider(end=2, name='Select Number o..., start=1, value=1)"
            ]
          },
          "execution_count": 6,
          "metadata": {
            "application/vnd.holoviews_exec.v0+json": {
              "id": "1002"
            }
          },
          "output_type": "execute_result"
        }
      ],
      "source": [
        "# select number of variables for contingency table\n",
        "n_row = pn.widgets.IntSlider(name='Select Number of Row Variables',start=1, end=2, value=1)\n",
        "n_col = pn.widgets.IntSlider(name='Select Number of Column Variables',start=1, end=2, value=1)\n",
        "\n",
        "pn.Column(n_row, n_col)"
      ]
    },
    {
      "cell_type": "code",
      "execution_count": null,
      "id": "a53d2521",
      "metadata": {
        "colab": {
          "base_uri": "https://localhost:8080/",
          "height": 375
        },
        "execution": {
          "iopub.execute_input": "2023-05-25T06:49:51.942239Z",
          "iopub.status.busy": "2023-05-25T06:49:51.941791Z",
          "iopub.status.idle": "2023-05-25T06:49:51.991763Z",
          "shell.execute_reply": "2023-05-25T06:49:51.990392Z"
        },
        "id": "a53d2521",
        "outputId": "73f5477a-746f-4749-d164-6b33cf35bf27",
        "papermill": {
          "duration": 0.080866,
          "end_time": "2023-05-25T06:49:51.994215",
          "exception": false,
          "start_time": "2023-05-25T06:49:51.913349",
          "status": "completed"
        },
        "tags": []
      },
      "outputs": [
        {
          "data": {
            "application/javascript": "(function(root) {\n  function now() {\n    return new Date();\n  }\n\n  var force = true;\n\n  if (typeof root._bokeh_onload_callbacks === \"undefined\" || force === true) {\n    root._bokeh_onload_callbacks = [];\n    root._bokeh_is_loading = undefined;\n  }\n\n  if (typeof (root._bokeh_timeout) === \"undefined\" || force === true) {\n    root._bokeh_timeout = Date.now() + 5000;\n    root._bokeh_failed_load = false;\n  }\n\n  function run_callbacks() {\n    try {\n      root._bokeh_onload_callbacks.forEach(function(callback) {\n        if (callback != null)\n          callback();\n      });\n    } finally {\n      delete root._bokeh_onload_callbacks\n    }\n    console.debug(\"Bokeh: all callbacks have finished\");\n  }\n\n  function load_libs(css_urls, js_urls, js_modules, callback) {\n    if (css_urls == null) css_urls = [];\n    if (js_urls == null) js_urls = [];\n    if (js_modules == null) js_modules = [];\n\n    root._bokeh_onload_callbacks.push(callback);\n    if (root._bokeh_is_loading > 0) {\n      console.debug(\"Bokeh: BokehJS is being loaded, scheduling callback at\", now());\n      return null;\n    }\n    if (js_urls.length === 0 && js_modules.length === 0) {\n      run_callbacks();\n      return null;\n    }\n    console.debug(\"Bokeh: BokehJS not loaded, scheduling load and callback at\", now());\n\n    function on_load() {\n      root._bokeh_is_loading--;\n      if (root._bokeh_is_loading === 0) {\n        console.debug(\"Bokeh: all BokehJS libraries/stylesheets loaded\");\n        run_callbacks()\n      }\n    }\n\n    function on_error() {\n      console.error(\"failed to load \" + url);\n    }\n\n    for (var i = 0; i < css_urls.length; i++) {\n      var url = css_urls[i];\n      const element = document.createElement(\"link\");\n      element.onload = on_load;\n      element.onerror = on_error;\n      element.rel = \"stylesheet\";\n      element.type = \"text/css\";\n      element.href = url;\n      console.debug(\"Bokeh: injecting link tag for BokehJS stylesheet: \", url);\n      document.body.appendChild(element);\n    }\n\n    var skip = [];\n    if (window.requirejs) {\n      window.requirejs.config({'packages': {}, 'paths': {'gridstack': 'https://cdn.jsdelivr.net/npm/gridstack@4.2.5/dist/gridstack-h5', 'notyf': 'https://cdn.jsdelivr.net/npm/notyf@3/notyf.min'}, 'shim': {'gridstack': {'exports': 'GridStack'}}});\n      require([\"gridstack\"], function(GridStack) {\n\twindow.GridStack = GridStack\n\ton_load()\n      })\n      require([\"notyf\"], function() {\n\ton_load()\n      })\n      root._bokeh_is_loading = css_urls.length + 2;\n    } else {\n      root._bokeh_is_loading = css_urls.length + js_urls.length + js_modules.length;\n    }    if (((window['GridStack'] !== undefined) && (!(window['GridStack'] instanceof HTMLElement))) || window.requirejs) {\n      var urls = ['https://cdn.holoviz.org/panel/0.14.4/dist/bundled/gridstack/gridstack@4.2.5/dist/gridstack-h5.js'];\n      for (var i = 0; i < urls.length; i++) {\n        skip.push(urls[i])\n      }\n    }    if (((window['Notyf'] !== undefined) && (!(window['Notyf'] instanceof HTMLElement))) || window.requirejs) {\n      var urls = ['https://cdn.holoviz.org/panel/0.14.4/dist/bundled/notificationarea/notyf@3/notyf.min.js'];\n      for (var i = 0; i < urls.length; i++) {\n        skip.push(urls[i])\n      }\n    }    for (var i = 0; i < js_urls.length; i++) {\n      var url = js_urls[i];\n      if (skip.indexOf(url) >= 0) {\n\tif (!window.requirejs) {\n\t  on_load();\n\t}\n\tcontinue;\n      }\n      var element = document.createElement('script');\n      element.onload = on_load;\n      element.onerror = on_error;\n      element.async = false;\n      element.src = url;\n      console.debug(\"Bokeh: injecting script tag for BokehJS library: \", url);\n      document.head.appendChild(element);\n    }\n    for (var i = 0; i < js_modules.length; i++) {\n      var url = js_modules[i];\n      if (skip.indexOf(url) >= 0) {\n\tif (!window.requirejs) {\n\t  on_load();\n\t}\n\tcontinue;\n      }\n      var element = document.createElement('script');\n      element.onload = on_load;\n      element.onerror = on_error;\n      element.async = false;\n      element.src = url;\n      element.type = \"module\";\n      console.debug(\"Bokeh: injecting script tag for BokehJS library: \", url);\n      document.head.appendChild(element);\n    }\n    if (!js_urls.length && !js_modules.length) {\n      on_load()\n    }\n  };\n\n  function inject_raw_css(css) {\n    const element = document.createElement(\"style\");\n    element.appendChild(document.createTextNode(css));\n    document.body.appendChild(element);\n  }\n\n  var js_urls = [\"https://cdn.bokeh.org/bokeh/release/bokeh-2.4.3.min.js\", \"https://cdn.bokeh.org/bokeh/release/bokeh-gl-2.4.3.min.js\", \"https://cdn.bokeh.org/bokeh/release/bokeh-widgets-2.4.3.min.js\", \"https://cdn.bokeh.org/bokeh/release/bokeh-tables-2.4.3.min.js\", \"https://cdn.bokeh.org/bokeh/release/bokeh-mathjax-2.4.3.min.js\", \"https://unpkg.com/@holoviz/panel@0.14.4/dist/panel.min.js\"];\n  var js_modules = [];\n  var css_urls = [\"https://cdn.holoviz.org/panel/0.14.4/dist/css/debugger.css\", \"https://cdn.holoviz.org/panel/0.14.4/dist/css/widgets.css\", \"https://cdn.holoviz.org/panel/0.14.4/dist/css/dataframe.css\", \"https://cdn.holoviz.org/panel/0.14.4/dist/css/json.css\", \"https://cdn.holoviz.org/panel/0.14.4/dist/css/loading.css\", \"https://cdn.holoviz.org/panel/0.14.4/dist/css/markdown.css\", \"https://cdn.holoviz.org/panel/0.14.4/dist/css/card.css\", \"https://cdn.holoviz.org/panel/0.14.4/dist/css/alerts.css\"];\n  var inline_js = [    function(Bokeh) {\n      inject_raw_css(\"\\n    .bk.pn-loading.arc:before {\\n      background-image: url(\\\"data:image/svg+xml;base64,PHN2ZyB4bWxucz0iaHR0cDovL3d3dy53My5vcmcvMjAwMC9zdmciIHN0eWxlPSJtYXJnaW46IGF1dG87IGJhY2tncm91bmQ6IG5vbmU7IGRpc3BsYXk6IGJsb2NrOyBzaGFwZS1yZW5kZXJpbmc6IGF1dG87IiB2aWV3Qm94PSIwIDAgMTAwIDEwMCIgcHJlc2VydmVBc3BlY3RSYXRpbz0ieE1pZFlNaWQiPiAgPGNpcmNsZSBjeD0iNTAiIGN5PSI1MCIgZmlsbD0ibm9uZSIgc3Ryb2tlPSIjYzNjM2MzIiBzdHJva2Utd2lkdGg9IjEwIiByPSIzNSIgc3Ryb2tlLWRhc2hhcnJheT0iMTY0LjkzMzYxNDMxMzQ2NDE1IDU2Ljk3Nzg3MTQzNzgyMTM4Ij4gICAgPGFuaW1hdGVUcmFuc2Zvcm0gYXR0cmlidXRlTmFtZT0idHJhbnNmb3JtIiB0eXBlPSJyb3RhdGUiIHJlcGVhdENvdW50PSJpbmRlZmluaXRlIiBkdXI9IjFzIiB2YWx1ZXM9IjAgNTAgNTA7MzYwIDUwIDUwIiBrZXlUaW1lcz0iMDsxIj48L2FuaW1hdGVUcmFuc2Zvcm0+ICA8L2NpcmNsZT48L3N2Zz4=\\\");\\n      background-size: auto calc(min(50%, 400px));\\n    }\\n    \");\n    },    function(Bokeh) {\n      Bokeh.set_log_level(\"info\");\n    },\nfunction(Bokeh) {} // ensure no trailing comma for IE\n  ];\n\n  function run_inline_js() {\n    if ((root.Bokeh !== undefined) || (force === true)) {\n      for (var i = 0; i < inline_js.length; i++) {\n        inline_js[i].call(root, root.Bokeh);\n      }} else if (Date.now() < root._bokeh_timeout) {\n      setTimeout(run_inline_js, 100);\n    } else if (!root._bokeh_failed_load) {\n      console.log(\"Bokeh: BokehJS failed to load within specified timeout.\");\n      root._bokeh_failed_load = true;\n    }\n  }\n\n  if (root._bokeh_is_loading === 0) {\n    console.debug(\"Bokeh: BokehJS loaded, going straight to plotting\");\n    run_inline_js();\n  } else {\n    load_libs(css_urls, js_urls, js_modules, function() {\n      console.debug(\"Bokeh: BokehJS plotting callback run at\", now());\n      run_inline_js();\n    });\n  }\n}(window));",
            "application/vnd.holoviews_load.v0+json": ""
          },
          "metadata": {},
          "output_type": "display_data"
        },
        {
          "data": {
            "application/javascript": "\nif ((window.PyViz === undefined) || (window.PyViz instanceof HTMLElement)) {\n  window.PyViz = {comms: {}, comm_status:{}, kernels:{}, receivers: {}, plot_index: []}\n}\n\n\n    function JupyterCommManager() {\n    }\n\n    JupyterCommManager.prototype.register_target = function(plot_id, comm_id, msg_handler) {\n      if (window.comm_manager || ((window.Jupyter !== undefined) && (Jupyter.notebook.kernel != null))) {\n        var comm_manager = window.comm_manager || Jupyter.notebook.kernel.comm_manager;\n        comm_manager.register_target(comm_id, function(comm) {\n          comm.on_msg(msg_handler);\n        });\n      } else if ((plot_id in window.PyViz.kernels) && (window.PyViz.kernels[plot_id])) {\n        window.PyViz.kernels[plot_id].registerCommTarget(comm_id, function(comm) {\n          comm.onMsg = msg_handler;\n        });\n      } else if (typeof google != 'undefined' && google.colab.kernel != null) {\n        google.colab.kernel.comms.registerTarget(comm_id, (comm) => {\n          var messages = comm.messages[Symbol.asyncIterator]();\n          function processIteratorResult(result) {\n            var message = result.value;\n            console.log(message)\n            var content = {data: message.data, comm_id};\n            var buffers = []\n            for (var buffer of message.buffers || []) {\n              buffers.push(new DataView(buffer))\n            }\n            var metadata = message.metadata || {};\n            var msg = {content, buffers, metadata}\n            msg_handler(msg);\n            return messages.next().then(processIteratorResult);\n          }\n          return messages.next().then(processIteratorResult);\n        })\n      }\n    }\n\n    JupyterCommManager.prototype.get_client_comm = function(plot_id, comm_id, msg_handler) {\n      if (comm_id in window.PyViz.comms) {\n        return window.PyViz.comms[comm_id];\n      } else if (window.comm_manager || ((window.Jupyter !== undefined) && (Jupyter.notebook.kernel != null))) {\n        var comm_manager = window.comm_manager || Jupyter.notebook.kernel.comm_manager;\n        var comm = comm_manager.new_comm(comm_id, {}, {}, {}, comm_id);\n        if (msg_handler) {\n          comm.on_msg(msg_handler);\n        }\n      } else if ((plot_id in window.PyViz.kernels) && (window.PyViz.kernels[plot_id])) {\n        var comm = window.PyViz.kernels[plot_id].connectToComm(comm_id);\n        comm.open();\n        if (msg_handler) {\n          comm.onMsg = msg_handler;\n        }\n      } else if (typeof google != 'undefined' && google.colab.kernel != null) {\n        var comm_promise = google.colab.kernel.comms.open(comm_id)\n        comm_promise.then((comm) => {\n          window.PyViz.comms[comm_id] = comm;\n          if (msg_handler) {\n            var messages = comm.messages[Symbol.asyncIterator]();\n            function processIteratorResult(result) {\n              var message = result.value;\n              var content = {data: message.data};\n              var metadata = message.metadata || {comm_id};\n              var msg = {content, metadata}\n              msg_handler(msg);\n              return messages.next().then(processIteratorResult);\n            }\n            return messages.next().then(processIteratorResult);\n          }\n        }) \n        var sendClosure = (data, metadata, buffers, disposeOnDone) => {\n          return comm_promise.then((comm) => {\n            comm.send(data, metadata, buffers, disposeOnDone);\n          });\n        };\n        var comm = {\n          send: sendClosure\n        };\n      }\n      window.PyViz.comms[comm_id] = comm;\n      return comm;\n    }\n    window.PyViz.comm_manager = new JupyterCommManager();\n    \n\n\nvar JS_MIME_TYPE = 'application/javascript';\nvar HTML_MIME_TYPE = 'text/html';\nvar EXEC_MIME_TYPE = 'application/vnd.holoviews_exec.v0+json';\nvar CLASS_NAME = 'output';\n\n/**\n * Render data to the DOM node\n */\nfunction render(props, node) {\n  var div = document.createElement(\"div\");\n  var script = document.createElement(\"script\");\n  node.appendChild(div);\n  node.appendChild(script);\n}\n\n/**\n * Handle when a new output is added\n */\nfunction handle_add_output(event, handle) {\n  var output_area = handle.output_area;\n  var output = handle.output;\n  if ((output.data == undefined) || (!output.data.hasOwnProperty(EXEC_MIME_TYPE))) {\n    return\n  }\n  var id = output.metadata[EXEC_MIME_TYPE][\"id\"];\n  var toinsert = output_area.element.find(\".\" + CLASS_NAME.split(' ')[0]);\n  if (id !== undefined) {\n    var nchildren = toinsert.length;\n    var html_node = toinsert[nchildren-1].children[0];\n    html_node.innerHTML = output.data[HTML_MIME_TYPE];\n    var scripts = [];\n    var nodelist = html_node.querySelectorAll(\"script\");\n    for (var i in nodelist) {\n      if (nodelist.hasOwnProperty(i)) {\n        scripts.push(nodelist[i])\n      }\n    }\n\n    scripts.forEach( function (oldScript) {\n      var newScript = document.createElement(\"script\");\n      var attrs = [];\n      var nodemap = oldScript.attributes;\n      for (var j in nodemap) {\n        if (nodemap.hasOwnProperty(j)) {\n          attrs.push(nodemap[j])\n        }\n      }\n      attrs.forEach(function(attr) { newScript.setAttribute(attr.name, attr.value) });\n      newScript.appendChild(document.createTextNode(oldScript.innerHTML));\n      oldScript.parentNode.replaceChild(newScript, oldScript);\n    });\n    if (JS_MIME_TYPE in output.data) {\n      toinsert[nchildren-1].children[1].textContent = output.data[JS_MIME_TYPE];\n    }\n    output_area._hv_plot_id = id;\n    if ((window.Bokeh !== undefined) && (id in Bokeh.index)) {\n      window.PyViz.plot_index[id] = Bokeh.index[id];\n    } else {\n      window.PyViz.plot_index[id] = null;\n    }\n  } else if (output.metadata[EXEC_MIME_TYPE][\"server_id\"] !== undefined) {\n    var bk_div = document.createElement(\"div\");\n    bk_div.innerHTML = output.data[HTML_MIME_TYPE];\n    var script_attrs = bk_div.children[0].attributes;\n    for (var i = 0; i < script_attrs.length; i++) {\n      toinsert[toinsert.length - 1].childNodes[1].setAttribute(script_attrs[i].name, script_attrs[i].value);\n    }\n    // store reference to server id on output_area\n    output_area._bokeh_server_id = output.metadata[EXEC_MIME_TYPE][\"server_id\"];\n  }\n}\n\n/**\n * Handle when an output is cleared or removed\n */\nfunction handle_clear_output(event, handle) {\n  var id = handle.cell.output_area._hv_plot_id;\n  var server_id = handle.cell.output_area._bokeh_server_id;\n  if (((id === undefined) || !(id in PyViz.plot_index)) && (server_id !== undefined)) { return; }\n  var comm = window.PyViz.comm_manager.get_client_comm(\"hv-extension-comm\", \"hv-extension-comm\", function () {});\n  if (server_id !== null) {\n    comm.send({event_type: 'server_delete', 'id': server_id});\n    return;\n  } else if (comm !== null) {\n    comm.send({event_type: 'delete', 'id': id});\n  }\n  delete PyViz.plot_index[id];\n  if ((window.Bokeh !== undefined) & (id in window.Bokeh.index)) {\n    var doc = window.Bokeh.index[id].model.document\n    doc.clear();\n    const i = window.Bokeh.documents.indexOf(doc);\n    if (i > -1) {\n      window.Bokeh.documents.splice(i, 1);\n    }\n  }\n}\n\n/**\n * Handle kernel restart event\n */\nfunction handle_kernel_cleanup(event, handle) {\n  delete PyViz.comms[\"hv-extension-comm\"];\n  window.PyViz.plot_index = {}\n}\n\n/**\n * Handle update_display_data messages\n */\nfunction handle_update_output(event, handle) {\n  handle_clear_output(event, {cell: {output_area: handle.output_area}})\n  handle_add_output(event, handle)\n}\n\nfunction register_renderer(events, OutputArea) {\n  function append_mime(data, metadata, element) {\n    // create a DOM node to render to\n    var toinsert = this.create_output_subarea(\n    metadata,\n    CLASS_NAME,\n    EXEC_MIME_TYPE\n    );\n    this.keyboard_manager.register_events(toinsert);\n    // Render to node\n    var props = {data: data, metadata: metadata[EXEC_MIME_TYPE]};\n    render(props, toinsert[0]);\n    element.append(toinsert);\n    return toinsert\n  }\n\n  events.on('output_added.OutputArea', handle_add_output);\n  events.on('output_updated.OutputArea', handle_update_output);\n  events.on('clear_output.CodeCell', handle_clear_output);\n  events.on('delete.Cell', handle_clear_output);\n  events.on('kernel_ready.Kernel', handle_kernel_cleanup);\n\n  OutputArea.prototype.register_mime_type(EXEC_MIME_TYPE, append_mime, {\n    safe: true,\n    index: 0\n  });\n}\n\nif (window.Jupyter !== undefined) {\n  try {\n    var events = require('base/js/events');\n    var OutputArea = require('notebook/js/outputarea').OutputArea;\n    if (OutputArea.prototype.mime_types().indexOf(EXEC_MIME_TYPE) == -1) {\n      register_renderer(events, OutputArea);\n    }\n  } catch(err) {\n  }\n}\n",
            "application/vnd.holoviews_load.v0+json": ""
          },
          "metadata": {},
          "output_type": "display_data"
        },
        {
          "data": {
            "text/html": [
              "<style>.bk-root, .bk-root .bk:before, .bk-root .bk:after {\n",
              "  font-family: var(--jp-ui-font-size1);\n",
              "  font-size: var(--jp-ui-font-size1);\n",
              "  color: var(--jp-ui-font-color1);\n",
              "}\n",
              "</style>"
            ]
          },
          "metadata": {},
          "output_type": "display_data"
        },
        {
          "data": {},
          "metadata": {},
          "output_type": "display_data"
        },
        {
          "data": {
            "application/vnd.holoviews_exec.v0+json": "",
            "text/html": [
              "<div id='1007'>\n",
              "  <div class=\"bk-root\" id=\"fc8acd91-3593-4955-90ae-6b6e0e00efd5\" data-root-id=\"1007\"></div>\n",
              "</div>\n",
              "<script type=\"application/javascript\">(function(root) {\n",
              "  function embed_document(root) {\n",
              "    var docs_json = {\"f8fbbe2e-f440-4c45-aabb-2641b3135e60\":{\"defs\":[{\"extends\":null,\"module\":null,\"name\":\"ReactiveHTML1\",\"overrides\":[],\"properties\":[]},{\"extends\":null,\"module\":null,\"name\":\"FlexBox1\",\"overrides\":[],\"properties\":[{\"default\":\"flex-start\",\"kind\":null,\"name\":\"align_content\"},{\"default\":\"flex-start\",\"kind\":null,\"name\":\"align_items\"},{\"default\":\"row\",\"kind\":null,\"name\":\"flex_direction\"},{\"default\":\"wrap\",\"kind\":null,\"name\":\"flex_wrap\"},{\"default\":\"flex-start\",\"kind\":null,\"name\":\"justify_content\"}]},{\"extends\":null,\"module\":null,\"name\":\"GridStack1\",\"overrides\":[],\"properties\":[{\"default\":\"warn\",\"kind\":null,\"name\":\"mode\"},{\"default\":null,\"kind\":null,\"name\":\"ncols\"},{\"default\":null,\"kind\":null,\"name\":\"nrows\"},{\"default\":true,\"kind\":null,\"name\":\"allow_resize\"},{\"default\":true,\"kind\":null,\"name\":\"allow_drag\"},{\"default\":[],\"kind\":null,\"name\":\"state\"}]},{\"extends\":null,\"module\":null,\"name\":\"click1\",\"overrides\":[],\"properties\":[{\"default\":\"\",\"kind\":null,\"name\":\"terminal_output\"},{\"default\":\"\",\"kind\":null,\"name\":\"debug_name\"},{\"default\":0,\"kind\":null,\"name\":\"clears\"}]},{\"extends\":null,\"module\":null,\"name\":\"NotificationAreaBase1\",\"overrides\":[],\"properties\":[{\"default\":\"bottom-right\",\"kind\":null,\"name\":\"position\"},{\"default\":0,\"kind\":null,\"name\":\"_clear\"}]},{\"extends\":null,\"module\":null,\"name\":\"NotificationArea1\",\"overrides\":[],\"properties\":[{\"default\":[],\"kind\":null,\"name\":\"notifications\"},{\"default\":\"bottom-right\",\"kind\":null,\"name\":\"position\"},{\"default\":0,\"kind\":null,\"name\":\"_clear\"},{\"default\":[{\"background\":\"#ffc107\",\"icon\":{\"className\":\"fas fa-exclamation-triangle\",\"color\":\"white\",\"tagName\":\"i\"},\"type\":\"warning\"},{\"background\":\"#007bff\",\"icon\":{\"className\":\"fas fa-info-circle\",\"color\":\"white\",\"tagName\":\"i\"},\"type\":\"info\"}],\"kind\":null,\"name\":\"types\"}]},{\"extends\":null,\"module\":null,\"name\":\"Notification\",\"overrides\":[],\"properties\":[{\"default\":null,\"kind\":null,\"name\":\"background\"},{\"default\":3000,\"kind\":null,\"name\":\"duration\"},{\"default\":null,\"kind\":null,\"name\":\"icon\"},{\"default\":\"\",\"kind\":null,\"name\":\"message\"},{\"default\":null,\"kind\":null,\"name\":\"notification_type\"},{\"default\":false,\"kind\":null,\"name\":\"_destroyed\"}]},{\"extends\":null,\"module\":null,\"name\":\"TemplateActions1\",\"overrides\":[],\"properties\":[{\"default\":0,\"kind\":null,\"name\":\"open_modal\"},{\"default\":0,\"kind\":null,\"name\":\"close_modal\"}]},{\"extends\":null,\"module\":null,\"name\":\"MaterialTemplateActions1\",\"overrides\":[],\"properties\":[{\"default\":0,\"kind\":null,\"name\":\"open_modal\"},{\"default\":0,\"kind\":null,\"name\":\"close_modal\"}]}],\"roots\":{\"references\":[{\"attributes\":{\"margin\":[5,10,5,10],\"max_items\":1,\"options\":[\"Full Name#hidden\",\"Last Name\",\"First Name\",\"Gender\",\"Instituion\",\"Phone Number#hidden\",\"Contact Title#hidden\",\"EmailAddress#hidden\",\"Social Media/Personal Website#link#hidden\",\"Project Information/Links#link#hidden\",\"Focus Areas\",\"Specialty\",\"Example Current Project#hidden\",\"Other Info\",\"#img\",\"#name\",\"#href\",\"Project Images#multi#hidden\",\"Latitude#number#hidden\",\"Longitude#number#hidden\"],\"placeholder\":\"\",\"title\":\"Select Row Variables for Contingency Table\"},\"id\":\"1008\",\"type\":\"MultiChoice\"},{\"attributes\":{\"client_comm_id\":\"79fe8191d7024df1a65e93e695e9ec2c\",\"comm_id\":\"2614bc6bb6894787b8b06d7c1aa52f12\",\"plot_id\":\"1007\"},\"id\":\"1010\",\"type\":\"panel.models.comm_manager.CommManager\"},{\"attributes\":{\"margin\":[5,10,5,10],\"max_items\":1,\"options\":[\"Full Name#hidden\",\"Last Name\",\"First Name\",\"Gender\",\"Instituion\",\"Phone Number#hidden\",\"Contact Title#hidden\",\"EmailAddress#hidden\",\"Social Media/Personal Website#link#hidden\",\"Project Information/Links#link#hidden\",\"Focus Areas\",\"Specialty\",\"Example Current Project#hidden\",\"Other Info\",\"#img\",\"#name\",\"#href\",\"Project Images#multi#hidden\",\"Latitude#number#hidden\",\"Longitude#number#hidden\"],\"placeholder\":\"\",\"title\":\"Select Column Variables for Contingency Table\"},\"id\":\"1009\",\"type\":\"MultiChoice\"},{\"attributes\":{\"children\":[{\"id\":\"1008\"},{\"id\":\"1009\"}],\"height\":350,\"margin\":[0,0,0,0],\"min_height\":350,\"name\":\"Row00109\"},\"id\":\"1007\",\"type\":\"Row\"}],\"root_ids\":[\"1007\",\"1010\"]},\"title\":\"Bokeh Application\",\"version\":\"2.4.3\"}};\n",
              "    var render_items = [{\"docid\":\"f8fbbe2e-f440-4c45-aabb-2641b3135e60\",\"root_ids\":[\"1007\"],\"roots\":{\"1007\":\"fc8acd91-3593-4955-90ae-6b6e0e00efd5\"}}];\n",
              "    root.Bokeh.embed.embed_items_notebook(docs_json, render_items);\n",
              "    for (const render_item of render_items) {\n",
              "      for (const root_id of render_item.root_ids) {\n",
              "\tconst id_el = document.getElementById(root_id)\n",
              "\tif (id_el.children.length && (id_el.children[0].className === 'bk-root')) {\n",
              "\t  const root_el = id_el.children[0]\n",
              "\t  root_el.id = root_el.id + '-rendered'\n",
              "\t}\n",
              "      }\n",
              "    }\n",
              "  }\n",
              "  if (root.Bokeh !== undefined && root.Bokeh.Panel !== undefined) {\n",
              "    embed_document(root);\n",
              "  } else {\n",
              "    var attempts = 0;\n",
              "    var timer = setInterval(function(root) {\n",
              "      if (root.Bokeh !== undefined && root.Bokeh.Panel !== undefined) {\n",
              "        clearInterval(timer);\n",
              "        embed_document(root);\n",
              "      } else if (document.readyState == \"complete\") {\n",
              "        attempts++;\n",
              "        if (attempts > 200) {\n",
              "          clearInterval(timer);\n",
              "          console.log(\"Bokeh: ERROR: Unable to run BokehJS code because BokehJS library is missing\");\n",
              "        }\n",
              "      }\n",
              "    }, 25, root)\n",
              "  }\n",
              "})(window);</script>"
            ],
            "text/plain": [
              "Row(height=350)\n",
              "    [0] MultiChoice(max_items=1, name='Select Row Variables f..., options=['Full Name#hidden', ...])\n",
              "    [1] MultiChoice(max_items=1, name='Select Column V..., options=['Full Name#hidden', ...])"
            ]
          },
          "execution_count": 7,
          "metadata": {
            "application/vnd.holoviews_exec.v0+json": {
              "id": "1007"
            }
          },
          "output_type": "execute_result"
        }
      ],
      "source": [
        "# select variables from survey\n",
        "row_vars = pn.widgets.MultiChoice(name='Select Row Variables for Contingency Table',\n",
        "                                  value=[], options=list(df.columns), max_items=n_row.value)\n",
        "col_vars = pn.widgets.MultiChoice(name='Select Column Variables for Contingency Table',\n",
        "                                  value=[], options=list(df.columns), max_items=n_col.value)\n",
        "pn.Row(row_vars, col_vars, height=350)"
      ]
    },
    {
      "cell_type": "markdown",
      "id": "00268499",
      "metadata": {
        "id": "00268499",
        "papermill": {
          "duration": 0.0188,
          "end_time": "2023-05-25T06:49:52.031498",
          "exception": false,
          "start_time": "2023-05-25T06:49:52.012698",
          "status": "completed"
        },
        "tags": []
      },
      "source": [
        "## 4. Bin Numerical and Date Variables"
      ]
    },
    {
      "cell_type": "markdown",
      "id": "943c8040",
      "metadata": {
        "id": "943c8040",
        "papermill": {
          "duration": 0.023653,
          "end_time": "2023-05-25T06:49:52.081154",
          "exception": false,
          "start_time": "2023-05-25T06:49:52.057501",
          "status": "completed"
        },
        "tags": []
      },
      "source": [
        "Create custom bins for numerical and date variables, or skip to the next step."
      ]
    },
    {
      "cell_type": "markdown",
      "id": "79906fbc",
      "metadata": {
        "id": "79906fbc",
        "papermill": {
          "duration": 0.017801,
          "end_time": "2023-05-25T06:49:52.117121",
          "exception": false,
          "start_time": "2023-05-25T06:49:52.099320",
          "status": "completed"
        },
        "tags": []
      },
      "source": [
        "<h3><span style=\"color:red\">(OPTIONAL) Set custom bins for numerical variables:</span></h3>"
      ]
    },
    {
      "cell_type": "code",
      "execution_count": null,
      "id": "d1ae6dc6",
      "metadata": {
        "colab": {
          "base_uri": "https://localhost:8080/",
          "height": 377
        },
        "execution": {
          "iopub.execute_input": "2023-05-25T06:49:52.155003Z",
          "iopub.status.busy": "2023-05-25T06:49:52.154412Z",
          "iopub.status.idle": "2023-05-25T06:49:52.196621Z",
          "shell.execute_reply": "2023-05-25T06:49:52.195259Z"
        },
        "id": "d1ae6dc6",
        "outputId": "f617e5bc-35bc-4161-e81b-b27cfdbfc1a5",
        "papermill": {
          "duration": 0.064575,
          "end_time": "2023-05-25T06:49:52.199044",
          "exception": false,
          "start_time": "2023-05-25T06:49:52.134469",
          "status": "completed"
        },
        "tags": []
      },
      "outputs": [
        {
          "data": {
            "application/javascript": "(function(root) {\n  function now() {\n    return new Date();\n  }\n\n  var force = true;\n\n  if (typeof root._bokeh_onload_callbacks === \"undefined\" || force === true) {\n    root._bokeh_onload_callbacks = [];\n    root._bokeh_is_loading = undefined;\n  }\n\n  if (typeof (root._bokeh_timeout) === \"undefined\" || force === true) {\n    root._bokeh_timeout = Date.now() + 5000;\n    root._bokeh_failed_load = false;\n  }\n\n  function run_callbacks() {\n    try {\n      root._bokeh_onload_callbacks.forEach(function(callback) {\n        if (callback != null)\n          callback();\n      });\n    } finally {\n      delete root._bokeh_onload_callbacks\n    }\n    console.debug(\"Bokeh: all callbacks have finished\");\n  }\n\n  function load_libs(css_urls, js_urls, js_modules, callback) {\n    if (css_urls == null) css_urls = [];\n    if (js_urls == null) js_urls = [];\n    if (js_modules == null) js_modules = [];\n\n    root._bokeh_onload_callbacks.push(callback);\n    if (root._bokeh_is_loading > 0) {\n      console.debug(\"Bokeh: BokehJS is being loaded, scheduling callback at\", now());\n      return null;\n    }\n    if (js_urls.length === 0 && js_modules.length === 0) {\n      run_callbacks();\n      return null;\n    }\n    console.debug(\"Bokeh: BokehJS not loaded, scheduling load and callback at\", now());\n\n    function on_load() {\n      root._bokeh_is_loading--;\n      if (root._bokeh_is_loading === 0) {\n        console.debug(\"Bokeh: all BokehJS libraries/stylesheets loaded\");\n        run_callbacks()\n      }\n    }\n\n    function on_error() {\n      console.error(\"failed to load \" + url);\n    }\n\n    for (var i = 0; i < css_urls.length; i++) {\n      var url = css_urls[i];\n      const element = document.createElement(\"link\");\n      element.onload = on_load;\n      element.onerror = on_error;\n      element.rel = \"stylesheet\";\n      element.type = \"text/css\";\n      element.href = url;\n      console.debug(\"Bokeh: injecting link tag for BokehJS stylesheet: \", url);\n      document.body.appendChild(element);\n    }\n\n    var skip = [];\n    if (window.requirejs) {\n      window.requirejs.config({'packages': {}, 'paths': {'gridstack': 'https://cdn.jsdelivr.net/npm/gridstack@4.2.5/dist/gridstack-h5', 'notyf': 'https://cdn.jsdelivr.net/npm/notyf@3/notyf.min'}, 'shim': {'gridstack': {'exports': 'GridStack'}}});\n      require([\"gridstack\"], function(GridStack) {\n\twindow.GridStack = GridStack\n\ton_load()\n      })\n      require([\"notyf\"], function() {\n\ton_load()\n      })\n      root._bokeh_is_loading = css_urls.length + 2;\n    } else {\n      root._bokeh_is_loading = css_urls.length + js_urls.length + js_modules.length;\n    }    if (((window['GridStack'] !== undefined) && (!(window['GridStack'] instanceof HTMLElement))) || window.requirejs) {\n      var urls = ['https://cdn.holoviz.org/panel/0.14.4/dist/bundled/gridstack/gridstack@4.2.5/dist/gridstack-h5.js'];\n      for (var i = 0; i < urls.length; i++) {\n        skip.push(urls[i])\n      }\n    }    if (((window['Notyf'] !== undefined) && (!(window['Notyf'] instanceof HTMLElement))) || window.requirejs) {\n      var urls = ['https://cdn.holoviz.org/panel/0.14.4/dist/bundled/notificationarea/notyf@3/notyf.min.js'];\n      for (var i = 0; i < urls.length; i++) {\n        skip.push(urls[i])\n      }\n    }    for (var i = 0; i < js_urls.length; i++) {\n      var url = js_urls[i];\n      if (skip.indexOf(url) >= 0) {\n\tif (!window.requirejs) {\n\t  on_load();\n\t}\n\tcontinue;\n      }\n      var element = document.createElement('script');\n      element.onload = on_load;\n      element.onerror = on_error;\n      element.async = false;\n      element.src = url;\n      console.debug(\"Bokeh: injecting script tag for BokehJS library: \", url);\n      document.head.appendChild(element);\n    }\n    for (var i = 0; i < js_modules.length; i++) {\n      var url = js_modules[i];\n      if (skip.indexOf(url) >= 0) {\n\tif (!window.requirejs) {\n\t  on_load();\n\t}\n\tcontinue;\n      }\n      var element = document.createElement('script');\n      element.onload = on_load;\n      element.onerror = on_error;\n      element.async = false;\n      element.src = url;\n      element.type = \"module\";\n      console.debug(\"Bokeh: injecting script tag for BokehJS library: \", url);\n      document.head.appendChild(element);\n    }\n    if (!js_urls.length && !js_modules.length) {\n      on_load()\n    }\n  };\n\n  function inject_raw_css(css) {\n    const element = document.createElement(\"style\");\n    element.appendChild(document.createTextNode(css));\n    document.body.appendChild(element);\n  }\n\n  var js_urls = [\"https://cdn.bokeh.org/bokeh/release/bokeh-2.4.3.min.js\", \"https://cdn.bokeh.org/bokeh/release/bokeh-gl-2.4.3.min.js\", \"https://cdn.bokeh.org/bokeh/release/bokeh-widgets-2.4.3.min.js\", \"https://cdn.bokeh.org/bokeh/release/bokeh-tables-2.4.3.min.js\", \"https://cdn.bokeh.org/bokeh/release/bokeh-mathjax-2.4.3.min.js\", \"https://unpkg.com/@holoviz/panel@0.14.4/dist/panel.min.js\"];\n  var js_modules = [];\n  var css_urls = [\"https://cdn.holoviz.org/panel/0.14.4/dist/css/debugger.css\", \"https://cdn.holoviz.org/panel/0.14.4/dist/css/widgets.css\", \"https://cdn.holoviz.org/panel/0.14.4/dist/css/dataframe.css\", \"https://cdn.holoviz.org/panel/0.14.4/dist/css/json.css\", \"https://cdn.holoviz.org/panel/0.14.4/dist/css/loading.css\", \"https://cdn.holoviz.org/panel/0.14.4/dist/css/markdown.css\", \"https://cdn.holoviz.org/panel/0.14.4/dist/css/card.css\", \"https://cdn.holoviz.org/panel/0.14.4/dist/css/alerts.css\"];\n  var inline_js = [    function(Bokeh) {\n      inject_raw_css(\"\\n    .bk.pn-loading.arc:before {\\n      background-image: url(\\\"data:image/svg+xml;base64,PHN2ZyB4bWxucz0iaHR0cDovL3d3dy53My5vcmcvMjAwMC9zdmciIHN0eWxlPSJtYXJnaW46IGF1dG87IGJhY2tncm91bmQ6IG5vbmU7IGRpc3BsYXk6IGJsb2NrOyBzaGFwZS1yZW5kZXJpbmc6IGF1dG87IiB2aWV3Qm94PSIwIDAgMTAwIDEwMCIgcHJlc2VydmVBc3BlY3RSYXRpbz0ieE1pZFlNaWQiPiAgPGNpcmNsZSBjeD0iNTAiIGN5PSI1MCIgZmlsbD0ibm9uZSIgc3Ryb2tlPSIjYzNjM2MzIiBzdHJva2Utd2lkdGg9IjEwIiByPSIzNSIgc3Ryb2tlLWRhc2hhcnJheT0iMTY0LjkzMzYxNDMxMzQ2NDE1IDU2Ljk3Nzg3MTQzNzgyMTM4Ij4gICAgPGFuaW1hdGVUcmFuc2Zvcm0gYXR0cmlidXRlTmFtZT0idHJhbnNmb3JtIiB0eXBlPSJyb3RhdGUiIHJlcGVhdENvdW50PSJpbmRlZmluaXRlIiBkdXI9IjFzIiB2YWx1ZXM9IjAgNTAgNTA7MzYwIDUwIDUwIiBrZXlUaW1lcz0iMDsxIj48L2FuaW1hdGVUcmFuc2Zvcm0+ICA8L2NpcmNsZT48L3N2Zz4=\\\");\\n      background-size: auto calc(min(50%, 400px));\\n    }\\n    \");\n    },    function(Bokeh) {\n      Bokeh.set_log_level(\"info\");\n    },\nfunction(Bokeh) {} // ensure no trailing comma for IE\n  ];\n\n  function run_inline_js() {\n    if ((root.Bokeh !== undefined) || (force === true)) {\n      for (var i = 0; i < inline_js.length; i++) {\n        inline_js[i].call(root, root.Bokeh);\n      }} else if (Date.now() < root._bokeh_timeout) {\n      setTimeout(run_inline_js, 100);\n    } else if (!root._bokeh_failed_load) {\n      console.log(\"Bokeh: BokehJS failed to load within specified timeout.\");\n      root._bokeh_failed_load = true;\n    }\n  }\n\n  if (root._bokeh_is_loading === 0) {\n    console.debug(\"Bokeh: BokehJS loaded, going straight to plotting\");\n    run_inline_js();\n  } else {\n    load_libs(css_urls, js_urls, js_modules, function() {\n      console.debug(\"Bokeh: BokehJS plotting callback run at\", now());\n      run_inline_js();\n    });\n  }\n}(window));",
            "application/vnd.holoviews_load.v0+json": ""
          },
          "metadata": {},
          "output_type": "display_data"
        },
        {
          "data": {
            "application/javascript": "\nif ((window.PyViz === undefined) || (window.PyViz instanceof HTMLElement)) {\n  window.PyViz = {comms: {}, comm_status:{}, kernels:{}, receivers: {}, plot_index: []}\n}\n\n\n    function JupyterCommManager() {\n    }\n\n    JupyterCommManager.prototype.register_target = function(plot_id, comm_id, msg_handler) {\n      if (window.comm_manager || ((window.Jupyter !== undefined) && (Jupyter.notebook.kernel != null))) {\n        var comm_manager = window.comm_manager || Jupyter.notebook.kernel.comm_manager;\n        comm_manager.register_target(comm_id, function(comm) {\n          comm.on_msg(msg_handler);\n        });\n      } else if ((plot_id in window.PyViz.kernels) && (window.PyViz.kernels[plot_id])) {\n        window.PyViz.kernels[plot_id].registerCommTarget(comm_id, function(comm) {\n          comm.onMsg = msg_handler;\n        });\n      } else if (typeof google != 'undefined' && google.colab.kernel != null) {\n        google.colab.kernel.comms.registerTarget(comm_id, (comm) => {\n          var messages = comm.messages[Symbol.asyncIterator]();\n          function processIteratorResult(result) {\n            var message = result.value;\n            console.log(message)\n            var content = {data: message.data, comm_id};\n            var buffers = []\n            for (var buffer of message.buffers || []) {\n              buffers.push(new DataView(buffer))\n            }\n            var metadata = message.metadata || {};\n            var msg = {content, buffers, metadata}\n            msg_handler(msg);\n            return messages.next().then(processIteratorResult);\n          }\n          return messages.next().then(processIteratorResult);\n        })\n      }\n    }\n\n    JupyterCommManager.prototype.get_client_comm = function(plot_id, comm_id, msg_handler) {\n      if (comm_id in window.PyViz.comms) {\n        return window.PyViz.comms[comm_id];\n      } else if (window.comm_manager || ((window.Jupyter !== undefined) && (Jupyter.notebook.kernel != null))) {\n        var comm_manager = window.comm_manager || Jupyter.notebook.kernel.comm_manager;\n        var comm = comm_manager.new_comm(comm_id, {}, {}, {}, comm_id);\n        if (msg_handler) {\n          comm.on_msg(msg_handler);\n        }\n      } else if ((plot_id in window.PyViz.kernels) && (window.PyViz.kernels[plot_id])) {\n        var comm = window.PyViz.kernels[plot_id].connectToComm(comm_id);\n        comm.open();\n        if (msg_handler) {\n          comm.onMsg = msg_handler;\n        }\n      } else if (typeof google != 'undefined' && google.colab.kernel != null) {\n        var comm_promise = google.colab.kernel.comms.open(comm_id)\n        comm_promise.then((comm) => {\n          window.PyViz.comms[comm_id] = comm;\n          if (msg_handler) {\n            var messages = comm.messages[Symbol.asyncIterator]();\n            function processIteratorResult(result) {\n              var message = result.value;\n              var content = {data: message.data};\n              var metadata = message.metadata || {comm_id};\n              var msg = {content, metadata}\n              msg_handler(msg);\n              return messages.next().then(processIteratorResult);\n            }\n            return messages.next().then(processIteratorResult);\n          }\n        }) \n        var sendClosure = (data, metadata, buffers, disposeOnDone) => {\n          return comm_promise.then((comm) => {\n            comm.send(data, metadata, buffers, disposeOnDone);\n          });\n        };\n        var comm = {\n          send: sendClosure\n        };\n      }\n      window.PyViz.comms[comm_id] = comm;\n      return comm;\n    }\n    window.PyViz.comm_manager = new JupyterCommManager();\n    \n\n\nvar JS_MIME_TYPE = 'application/javascript';\nvar HTML_MIME_TYPE = 'text/html';\nvar EXEC_MIME_TYPE = 'application/vnd.holoviews_exec.v0+json';\nvar CLASS_NAME = 'output';\n\n/**\n * Render data to the DOM node\n */\nfunction render(props, node) {\n  var div = document.createElement(\"div\");\n  var script = document.createElement(\"script\");\n  node.appendChild(div);\n  node.appendChild(script);\n}\n\n/**\n * Handle when a new output is added\n */\nfunction handle_add_output(event, handle) {\n  var output_area = handle.output_area;\n  var output = handle.output;\n  if ((output.data == undefined) || (!output.data.hasOwnProperty(EXEC_MIME_TYPE))) {\n    return\n  }\n  var id = output.metadata[EXEC_MIME_TYPE][\"id\"];\n  var toinsert = output_area.element.find(\".\" + CLASS_NAME.split(' ')[0]);\n  if (id !== undefined) {\n    var nchildren = toinsert.length;\n    var html_node = toinsert[nchildren-1].children[0];\n    html_node.innerHTML = output.data[HTML_MIME_TYPE];\n    var scripts = [];\n    var nodelist = html_node.querySelectorAll(\"script\");\n    for (var i in nodelist) {\n      if (nodelist.hasOwnProperty(i)) {\n        scripts.push(nodelist[i])\n      }\n    }\n\n    scripts.forEach( function (oldScript) {\n      var newScript = document.createElement(\"script\");\n      var attrs = [];\n      var nodemap = oldScript.attributes;\n      for (var j in nodemap) {\n        if (nodemap.hasOwnProperty(j)) {\n          attrs.push(nodemap[j])\n        }\n      }\n      attrs.forEach(function(attr) { newScript.setAttribute(attr.name, attr.value) });\n      newScript.appendChild(document.createTextNode(oldScript.innerHTML));\n      oldScript.parentNode.replaceChild(newScript, oldScript);\n    });\n    if (JS_MIME_TYPE in output.data) {\n      toinsert[nchildren-1].children[1].textContent = output.data[JS_MIME_TYPE];\n    }\n    output_area._hv_plot_id = id;\n    if ((window.Bokeh !== undefined) && (id in Bokeh.index)) {\n      window.PyViz.plot_index[id] = Bokeh.index[id];\n    } else {\n      window.PyViz.plot_index[id] = null;\n    }\n  } else if (output.metadata[EXEC_MIME_TYPE][\"server_id\"] !== undefined) {\n    var bk_div = document.createElement(\"div\");\n    bk_div.innerHTML = output.data[HTML_MIME_TYPE];\n    var script_attrs = bk_div.children[0].attributes;\n    for (var i = 0; i < script_attrs.length; i++) {\n      toinsert[toinsert.length - 1].childNodes[1].setAttribute(script_attrs[i].name, script_attrs[i].value);\n    }\n    // store reference to server id on output_area\n    output_area._bokeh_server_id = output.metadata[EXEC_MIME_TYPE][\"server_id\"];\n  }\n}\n\n/**\n * Handle when an output is cleared or removed\n */\nfunction handle_clear_output(event, handle) {\n  var id = handle.cell.output_area._hv_plot_id;\n  var server_id = handle.cell.output_area._bokeh_server_id;\n  if (((id === undefined) || !(id in PyViz.plot_index)) && (server_id !== undefined)) { return; }\n  var comm = window.PyViz.comm_manager.get_client_comm(\"hv-extension-comm\", \"hv-extension-comm\", function () {});\n  if (server_id !== null) {\n    comm.send({event_type: 'server_delete', 'id': server_id});\n    return;\n  } else if (comm !== null) {\n    comm.send({event_type: 'delete', 'id': id});\n  }\n  delete PyViz.plot_index[id];\n  if ((window.Bokeh !== undefined) & (id in window.Bokeh.index)) {\n    var doc = window.Bokeh.index[id].model.document\n    doc.clear();\n    const i = window.Bokeh.documents.indexOf(doc);\n    if (i > -1) {\n      window.Bokeh.documents.splice(i, 1);\n    }\n  }\n}\n\n/**\n * Handle kernel restart event\n */\nfunction handle_kernel_cleanup(event, handle) {\n  delete PyViz.comms[\"hv-extension-comm\"];\n  window.PyViz.plot_index = {}\n}\n\n/**\n * Handle update_display_data messages\n */\nfunction handle_update_output(event, handle) {\n  handle_clear_output(event, {cell: {output_area: handle.output_area}})\n  handle_add_output(event, handle)\n}\n\nfunction register_renderer(events, OutputArea) {\n  function append_mime(data, metadata, element) {\n    // create a DOM node to render to\n    var toinsert = this.create_output_subarea(\n    metadata,\n    CLASS_NAME,\n    EXEC_MIME_TYPE\n    );\n    this.keyboard_manager.register_events(toinsert);\n    // Render to node\n    var props = {data: data, metadata: metadata[EXEC_MIME_TYPE]};\n    render(props, toinsert[0]);\n    element.append(toinsert);\n    return toinsert\n  }\n\n  events.on('output_added.OutputArea', handle_add_output);\n  events.on('output_updated.OutputArea', handle_update_output);\n  events.on('clear_output.CodeCell', handle_clear_output);\n  events.on('delete.Cell', handle_clear_output);\n  events.on('kernel_ready.Kernel', handle_kernel_cleanup);\n\n  OutputArea.prototype.register_mime_type(EXEC_MIME_TYPE, append_mime, {\n    safe: true,\n    index: 0\n  });\n}\n\nif (window.Jupyter !== undefined) {\n  try {\n    var events = require('base/js/events');\n    var OutputArea = require('notebook/js/outputarea').OutputArea;\n    if (OutputArea.prototype.mime_types().indexOf(EXEC_MIME_TYPE) == -1) {\n      register_renderer(events, OutputArea);\n    }\n  } catch(err) {\n  }\n}\n",
            "application/vnd.holoviews_load.v0+json": ""
          },
          "metadata": {},
          "output_type": "display_data"
        },
        {
          "data": {
            "text/html": [
              "<style>.bk-root, .bk-root .bk:before, .bk-root .bk:after {\n",
              "  font-family: var(--jp-ui-font-size1);\n",
              "  font-size: var(--jp-ui-font-size1);\n",
              "  color: var(--jp-ui-font-color1);\n",
              "}\n",
              "</style>"
            ]
          },
          "metadata": {},
          "output_type": "display_data"
        },
        {
          "data": {},
          "metadata": {},
          "output_type": "display_data"
        },
        {
          "data": {
            "application/vnd.holoviews_exec.v0+json": "",
            "text/html": [
              "<div id='1011'>\n",
              "  <div class=\"bk-root\" id=\"36f575ba-50f7-4912-ae98-51015612782d\" data-root-id=\"1011\"></div>\n",
              "</div>\n",
              "<script type=\"application/javascript\">(function(root) {\n",
              "  function embed_document(root) {\n",
              "    var docs_json = {\"d54c42eb-a4d0-466f-8a00-295f56562962\":{\"defs\":[{\"extends\":null,\"module\":null,\"name\":\"ReactiveHTML1\",\"overrides\":[],\"properties\":[]},{\"extends\":null,\"module\":null,\"name\":\"FlexBox1\",\"overrides\":[],\"properties\":[{\"default\":\"flex-start\",\"kind\":null,\"name\":\"align_content\"},{\"default\":\"flex-start\",\"kind\":null,\"name\":\"align_items\"},{\"default\":\"row\",\"kind\":null,\"name\":\"flex_direction\"},{\"default\":\"wrap\",\"kind\":null,\"name\":\"flex_wrap\"},{\"default\":\"flex-start\",\"kind\":null,\"name\":\"justify_content\"}]},{\"extends\":null,\"module\":null,\"name\":\"GridStack1\",\"overrides\":[],\"properties\":[{\"default\":\"warn\",\"kind\":null,\"name\":\"mode\"},{\"default\":null,\"kind\":null,\"name\":\"ncols\"},{\"default\":null,\"kind\":null,\"name\":\"nrows\"},{\"default\":true,\"kind\":null,\"name\":\"allow_resize\"},{\"default\":true,\"kind\":null,\"name\":\"allow_drag\"},{\"default\":[],\"kind\":null,\"name\":\"state\"}]},{\"extends\":null,\"module\":null,\"name\":\"click1\",\"overrides\":[],\"properties\":[{\"default\":\"\",\"kind\":null,\"name\":\"terminal_output\"},{\"default\":\"\",\"kind\":null,\"name\":\"debug_name\"},{\"default\":0,\"kind\":null,\"name\":\"clears\"}]},{\"extends\":null,\"module\":null,\"name\":\"NotificationAreaBase1\",\"overrides\":[],\"properties\":[{\"default\":\"bottom-right\",\"kind\":null,\"name\":\"position\"},{\"default\":0,\"kind\":null,\"name\":\"_clear\"}]},{\"extends\":null,\"module\":null,\"name\":\"NotificationArea1\",\"overrides\":[],\"properties\":[{\"default\":[],\"kind\":null,\"name\":\"notifications\"},{\"default\":\"bottom-right\",\"kind\":null,\"name\":\"position\"},{\"default\":0,\"kind\":null,\"name\":\"_clear\"},{\"default\":[{\"background\":\"#ffc107\",\"icon\":{\"className\":\"fas fa-exclamation-triangle\",\"color\":\"white\",\"tagName\":\"i\"},\"type\":\"warning\"},{\"background\":\"#007bff\",\"icon\":{\"className\":\"fas fa-info-circle\",\"color\":\"white\",\"tagName\":\"i\"},\"type\":\"info\"}],\"kind\":null,\"name\":\"types\"}]},{\"extends\":null,\"module\":null,\"name\":\"Notification\",\"overrides\":[],\"properties\":[{\"default\":null,\"kind\":null,\"name\":\"background\"},{\"default\":3000,\"kind\":null,\"name\":\"duration\"},{\"default\":null,\"kind\":null,\"name\":\"icon\"},{\"default\":\"\",\"kind\":null,\"name\":\"message\"},{\"default\":null,\"kind\":null,\"name\":\"notification_type\"},{\"default\":false,\"kind\":null,\"name\":\"_destroyed\"}]},{\"extends\":null,\"module\":null,\"name\":\"TemplateActions1\",\"overrides\":[],\"properties\":[{\"default\":0,\"kind\":null,\"name\":\"open_modal\"},{\"default\":0,\"kind\":null,\"name\":\"close_modal\"}]},{\"extends\":null,\"module\":null,\"name\":\"MaterialTemplateActions1\",\"overrides\":[],\"properties\":[{\"default\":0,\"kind\":null,\"name\":\"open_modal\"},{\"default\":0,\"kind\":null,\"name\":\"close_modal\"}]}],\"roots\":{\"references\":[{\"attributes\":{\"client_comm_id\":\"95f8d0167a6c452d99281567904e0913\",\"comm_id\":\"96a2d61d170e4ba0af6c51c7cc8880fb\",\"plot_id\":\"1011\"},\"id\":\"1012\",\"type\":\"panel.models.comm_manager.CommManager\"},{\"attributes\":{\"height\":350,\"margin\":[5,10,5,10],\"min_height\":350,\"options\":[\"Latitude#number#hidden\",\"Longitude#number#hidden\"],\"placeholder\":\"\",\"title\":\"Select Columns to Bin: \"},\"id\":\"1011\",\"type\":\"MultiChoice\"}],\"root_ids\":[\"1011\",\"1012\"]},\"title\":\"Bokeh Application\",\"version\":\"2.4.3\"}};\n",
              "    var render_items = [{\"docid\":\"d54c42eb-a4d0-466f-8a00-295f56562962\",\"root_ids\":[\"1011\"],\"roots\":{\"1011\":\"36f575ba-50f7-4912-ae98-51015612782d\"}}];\n",
              "    root.Bokeh.embed.embed_items_notebook(docs_json, render_items);\n",
              "    for (const render_item of render_items) {\n",
              "      for (const root_id of render_item.root_ids) {\n",
              "\tconst id_el = document.getElementById(root_id)\n",
              "\tif (id_el.children.length && (id_el.children[0].className === 'bk-root')) {\n",
              "\t  const root_el = id_el.children[0]\n",
              "\t  root_el.id = root_el.id + '-rendered'\n",
              "\t}\n",
              "      }\n",
              "    }\n",
              "  }\n",
              "  if (root.Bokeh !== undefined && root.Bokeh.Panel !== undefined) {\n",
              "    embed_document(root);\n",
              "  } else {\n",
              "    var attempts = 0;\n",
              "    var timer = setInterval(function(root) {\n",
              "      if (root.Bokeh !== undefined && root.Bokeh.Panel !== undefined) {\n",
              "        clearInterval(timer);\n",
              "        embed_document(root);\n",
              "      } else if (document.readyState == \"complete\") {\n",
              "        attempts++;\n",
              "        if (attempts > 200) {\n",
              "          clearInterval(timer);\n",
              "          console.log(\"Bokeh: ERROR: Unable to run BokehJS code because BokehJS library is missing\");\n",
              "        }\n",
              "      }\n",
              "    }, 25, root)\n",
              "  }\n",
              "})(window);</script>"
            ],
            "text/plain": [
              "MultiChoice(height=350, name='Select Columns to Bin: ', options=['Latitude#number#hidden',...])"
            ]
          },
          "execution_count": 8,
          "metadata": {
            "application/vnd.holoviews_exec.v0+json": {
              "id": "1011"
            }
          },
          "output_type": "execute_result"
        }
      ],
      "source": [
        "# select numerical columns to bin -- **unselected columns will be automatically binned into 5 equal bins**\n",
        "df = df.apply(pd.to_numeric, errors='ignore')\n",
        "df = df.dropna(axis=1, how='all')\n",
        "op = [i for i in list(df.columns) if '#number' in i]\n",
        "binnable = pn.widgets.MultiChoice(name='Select Columns to Bin: ', options=op, height=350)\n",
        "binnable"
      ]
    },
    {
      "cell_type": "code",
      "execution_count": null,
      "id": "36963a75",
      "metadata": {
        "colab": {
          "base_uri": "https://localhost:8080/",
          "height": 1000
        },
        "execution": {
          "iopub.execute_input": "2023-05-25T06:49:52.248560Z",
          "iopub.status.busy": "2023-05-25T06:49:52.248059Z",
          "iopub.status.idle": "2023-05-25T06:49:52.414323Z",
          "shell.execute_reply": "2023-05-25T06:49:52.411981Z"
        },
        "id": "36963a75",
        "outputId": "2a1c0ec4-77e2-4039-d2d3-cdb8bf3701dd",
        "papermill": {
          "duration": 0.197968,
          "end_time": "2023-05-25T06:49:52.416369",
          "exception": true,
          "start_time": "2023-05-25T06:49:52.218401",
          "status": "failed"
        },
        "tags": []
      },
      "outputs": [
        {
          "ename": "IndexError",
          "evalue": "list index out of range",
          "output_type": "error",
          "traceback": [
            "\u001b[0;31m---------------------------------------------------------------------------\u001b[0m",
            "\u001b[0;31mIndexError\u001b[0m                                Traceback (most recent call last)",
            "\u001b[0;32m<ipython-input-9-1750a5517b56>\u001b[0m in \u001b[0;36m<cell line: 3>\u001b[0;34m()\u001b[0m\n\u001b[1;32m      1\u001b[0m \u001b[0;31m# set custom bins for a numeric (#number) variable\u001b[0m\u001b[0;34m\u001b[0m\u001b[0;34m\u001b[0m\u001b[0m\n\u001b[1;32m      2\u001b[0m \u001b[0mnext_var\u001b[0m \u001b[0;34m=\u001b[0m \u001b[0mpn\u001b[0m\u001b[0;34m.\u001b[0m\u001b[0mwidgets\u001b[0m\u001b[0;34m.\u001b[0m\u001b[0mButton\u001b[0m\u001b[0;34m(\u001b[0m\u001b[0mname\u001b[0m\u001b[0;34m=\u001b[0m\u001b[0;34m'Continue to Next Variable'\u001b[0m\u001b[0;34m,\u001b[0m \u001b[0mbutton_type\u001b[0m\u001b[0;34m=\u001b[0m\u001b[0;34m'success'\u001b[0m\u001b[0;34m)\u001b[0m\u001b[0;34m\u001b[0m\u001b[0;34m\u001b[0m\u001b[0m\n\u001b[0;32m----> 3\u001b[0;31m \u001b[0mfirst_col\u001b[0m \u001b[0;34m=\u001b[0m \u001b[0mbinnable\u001b[0m\u001b[0;34m.\u001b[0m\u001b[0mvalue\u001b[0m\u001b[0;34m[\u001b[0m\u001b[0mnext_var\u001b[0m\u001b[0;34m.\u001b[0m\u001b[0mclicks\u001b[0m\u001b[0;34m]\u001b[0m\u001b[0;34m\u001b[0m\u001b[0;34m\u001b[0m\u001b[0m\n\u001b[0m\u001b[1;32m      4\u001b[0m \u001b[0mselected_bins\u001b[0m \u001b[0;34m=\u001b[0m \u001b[0;34m[\u001b[0m\u001b[0;34m[\u001b[0m\u001b[0;34m]\u001b[0m \u001b[0;32mfor\u001b[0m \u001b[0mi\u001b[0m \u001b[0;32min\u001b[0m \u001b[0mbinnable\u001b[0m\u001b[0;34m.\u001b[0m\u001b[0mvalue\u001b[0m\u001b[0;34m]\u001b[0m\u001b[0;34m\u001b[0m\u001b[0;34m\u001b[0m\u001b[0m\n\u001b[1;32m      5\u001b[0m \u001b[0;34m\u001b[0m\u001b[0m\n",
            "\u001b[0;31mIndexError\u001b[0m: list index out of range"
          ]
        }
      ],
      "source": [
        "# set custom bins for a numeric (#number) variable\n",
        "next_var = pn.widgets.Button(name='Continue to Next Variable', button_type='success')\n",
        "first_col = binnable.value[next_var.clicks]\n",
        "selected_bins = [[] for i in binnable.value]\n",
        "\n",
        "text = pn.widgets.TextInput(name='Current Variable: ', value=first_col, disabled=True)\n",
        "num = pn.widgets.Select(name='Select number of bins', options=[i+1 for i in range(5)])\n",
        "next_bin = pn.widgets.Button(name='Next Bin', button_type='primary')\n",
        "bin_range = pn.widgets.RangeSlider(name='Select Range for Bin #1',\n",
        "                                   start=df[first_col].min(), end=df[first_col].max(),\n",
        "                                   value=(df[first_col].min(), df[first_col].max()), step=2)\n",
        "\n",
        "def plot_histogram(df, column, plotting_pane, x_range=None):\n",
        "    \"\"\"\n",
        "    Helper function to plot histogram of a numeric variable\n",
        "    in the provided x_range onto the panel plotting pane.\n",
        "    \"\"\"\n",
        "    fig, ax = plt.subplots(1,1)\n",
        "    df[column].plot.hist(bins=50, ax=ax, title = 'Histogram of: ' + column, xlim=x_range)\n",
        "    ax.set_xlabel(column)\n",
        "    plotting_pane.object = fig\n",
        "    plt.close()\n",
        "\n",
        "def b(event):\n",
        "    \"\"\"\n",
        "    Updates bin sliders when \"next\" is clicked\n",
        "    \"\"\"\n",
        "    if next_bin.clicks == 0:\n",
        "        return\n",
        "    \n",
        "    selected_col = binnable.value[next_var.clicks]\n",
        "\n",
        "    if next_bin.clicks < num.value:\n",
        "        bin_range.name = 'Select Range for Bin #' + str(next_bin.clicks + 1)\n",
        "        selected_bins[next_var.clicks].append(bin_range.value)\n",
        "        bin_range.start = bin_range.value[1]\n",
        "        bin_range.value = (bin_range.value[1], df[selected_col].max())\n",
        "        plot_histogram(df, selected_col, plot, x_range = bin_range.value)\n",
        "    else:\n",
        "        selected_bins[next_var.clicks].append(bin_range.value)\n",
        "        next_bin.disabled = True\n",
        "        \n",
        "        if selected_col != binnable.value[-1]:\n",
        "            layout[0][4] = next_var\n",
        "        else:\n",
        "            layout[0][4] = \"Variable Binning Complete!\"\n",
        "\n",
        "def c(event):\n",
        "    \"\"\"\n",
        "    Resets layout when \"continue\" is clicked\n",
        "    \"\"\"\n",
        "    next_bin.clicks = 0\n",
        "    next_col = binnable.value[next_var.clicks] \n",
        "    text.value = next_col\n",
        "    num.value = 1\n",
        "    bin_range.start = df[next_col].min()\n",
        "    bin_range.end = df[next_col].max()\n",
        "    bin_range.value = (df[next_col].min(), df[next_col].max())\n",
        "    next_bin.disabled = False\n",
        "    layout[0][4] = \"\"\n",
        "    plot_histogram(df, next_col, plot)\n",
        "\n",
        "next_bin.on_click(b)\n",
        "next_var.on_click(c)\n",
        "plot =  pn.pane.Matplotlib(dpi=80)\n",
        "plot_histogram(df, binnable.value[next_var.clicks], plot)\n",
        "layout = pn.Row(pn.Column(text, num, bin_range, next_bin, \"\"), plot)\n",
        "layout"
      ]
    },
    {
      "cell_type": "code",
      "execution_count": null,
      "id": "2016be05",
      "metadata": {
        "id": "2016be05",
        "papermill": {
          "duration": null,
          "end_time": null,
          "exception": null,
          "start_time": null,
          "status": "pending"
        },
        "tags": []
      },
      "outputs": [],
      "source": [
        "# bin each column with chosen bins\n",
        "cols = binnable.value\n",
        "for col, bins in list(zip(cols, selected_bins)):\n",
        "    bins = pd.IntervalIndex.from_tuples(bins, closed='left')\n",
        "    df[col] = pd.cut(df[col], bins)\n",
        "    \n",
        "# bin remaining numeric columns into 5 equal bins\n",
        "remainder = list(set(binnable.options) - set(binnable.value))\n",
        "df[remainder] = df[remainder].apply(pd.cut, bins=5)"
      ]
    },
    {
      "cell_type": "markdown",
      "id": "38f08a2f",
      "metadata": {
        "id": "38f08a2f",
        "papermill": {
          "duration": null,
          "end_time": null,
          "exception": null,
          "start_time": null,
          "status": "pending"
        },
        "tags": []
      },
      "source": [
        "<h3><span style=\"color:red\">(OPTIONAL) Set custom bins for date variables:</span></h3>"
      ]
    },
    {
      "cell_type": "code",
      "execution_count": null,
      "id": "b3205f5e",
      "metadata": {
        "id": "b3205f5e",
        "papermill": {
          "duration": null,
          "end_time": null,
          "exception": null,
          "start_time": null,
          "status": "pending"
        },
        "tags": []
      },
      "outputs": [],
      "source": [
        "# convert date variables in survey\n",
        "dates = [i for i in list(df.columns) if '#date' in i]\n",
        "df[dates] = df[dates].apply(pd.to_datetime, errors='coerce')\n",
        "df[dates] = df[dates].apply(lambda x: x.dt.date)\n",
        "d_max = pd.Series(df[dates].to_numpy().flatten()).dropna().max()\n",
        "d_min = pd.Series(df[dates].to_numpy().flatten()).dropna().min()\n",
        "\n",
        "# define bins for all date variables\n",
        "date_bins = []\n",
        "date_slider = pn.widgets.DateRangeSlider(name='Date Range for Bin #1 ', start=d_min, end=d_max, value=(d_min,d_max))\n",
        "next_bin2 = pn.widgets.Button(name='Next Bin', button_type='primary')\n",
        "num = pn.widgets.Select(name='Select number of bins', options=[i+1 for i in range(5)])\n",
        "\n",
        "def d(event):\n",
        "    \"\"\"\n",
        "    Updates bin sliders when \"next\" is clicked\n",
        "    \"\"\"\n",
        "    if next_bin2.clicks < num.value:\n",
        "        date_slider.name = 'Date Range for Bin #' + str(next_bin2.clicks + 1)\n",
        "        date_bins.append(date_slider.value)\n",
        "        date_slider.start = date_slider.value[1]\n",
        "        date_slider.value = (date_slider.value[1], datetime.datetime(d_max.year, d_max.month, d_max.day))\n",
        "        plot_dates(df, plot)\n",
        "    else:\n",
        "        date_bins.append(date_slider.value)\n",
        "        next_bin2.disabled = True\n",
        "        layout2[0][3] = 'Date Binning Complete!'\n",
        "        \n",
        "def plot_dates(df, plotting_pane):\n",
        "    \"\"\"\n",
        "    Plots dates based on slider selection to the plotting pane.\n",
        "    \"\"\"\n",
        "    all_dates = pd.DataFrame(df[dates].to_numpy().flatten(), columns=['date'])\n",
        "    filtered = all_dates[(all_dates['date'] >= pd.Timestamp(date_slider.value[0]))]\n",
        "    if len(filtered) == 0:\n",
        "        fig, ax = fig, ax = plt.subplots(1,1)\n",
        "        all_dates.groupby('date').size().plot(kind='bar', ax=ax)\n",
        "        num = 20\n",
        "    else:\n",
        "        fig, ax = fig, ax = plt.subplots(1,1)\n",
        "        filtered.groupby('date').size().plot(kind='bar', ax=ax)\n",
        "        if len(filtered.groupby('date').size()) > 20:\n",
        "            num = int(len(filtered.groupby('date').size())/15)\n",
        "        else:\n",
        "            num = 1\n",
        "    ax.set_xticks(ax.get_xticks()[::num])\n",
        "    ax.set_ylabel('Frequency');\n",
        "    for tick in ax.get_xticklabels():\n",
        "        tick.set_rotation(70)\n",
        "    plotting_pane.object = fig\n",
        "    plt.close()\n",
        "\n",
        "next_bin2.on_click(d)\n",
        "plot =  pn.pane.Matplotlib(dpi=80, tight=True)\n",
        "plot_dates(df, plot)\n",
        "layout2 = pn.Row(pn.Column(num, date_slider, next_bin2, \"\"), plot)\n",
        "layout2"
      ]
    },
    {
      "cell_type": "code",
      "execution_count": null,
      "id": "1ab50387",
      "metadata": {
        "id": "1ab50387",
        "papermill": {
          "duration": null,
          "end_time": null,
          "exception": null,
          "start_time": null,
          "status": "pending"
        },
        "tags": []
      },
      "outputs": [],
      "source": [
        "# convert selected bins to binning intervals\n",
        "bins = pd.interval_range(start=pd.Timestamp(datetime.date(date_bins[0][0].year, date_bins[0][0].month, date_bins[0][0].day)),\n",
        "                         end=pd.Timestamp(datetime.date(date_bins[0][1].year, date_bins[0][1].month, date_bins[0][1].day)),\n",
        "                         periods=1)\n",
        "\n",
        "for d_bin in date_bins[1:]:\n",
        "    out = (datetime.date(d_bin[0].year, d_bin[0].month, d_bin[0].day),\n",
        "           datetime.date(d_bin[1].year, d_bin[1].month, d_bin[1].day))\n",
        "    interval = pd.interval_range(start=pd.Timestamp(out[0]), end=pd.Timestamp(out[1]), periods=1)\n",
        "    bins = bins.append(interval)\n",
        "    \n",
        "# convert dates to date ranges\n",
        "for d in dates:\n",
        "    df[d] = df[d].apply(pd.Timestamp)\n",
        "    df[d] = pd.cut(df[d], bins=bins)"
      ]
    },
    {
      "cell_type": "markdown",
      "id": "46a6cc06",
      "metadata": {
        "id": "46a6cc06",
        "papermill": {
          "duration": null,
          "end_time": null,
          "exception": null,
          "start_time": null,
          "status": "pending"
        },
        "tags": []
      },
      "source": [
        "## 4. Generate contingency table"
      ]
    },
    {
      "cell_type": "code",
      "execution_count": null,
      "id": "2631912e",
      "metadata": {
        "id": "2631912e",
        "papermill": {
          "duration": null,
          "end_time": null,
          "exception": null,
          "start_time": null,
          "status": "pending"
        },
        "tags": []
      },
      "outputs": [],
      "source": [
        "def generate_table(df, row_variables, column_variables):\n",
        "    \"\"\"\n",
        "    Helper function to generate a contingency table from the input dataframe\n",
        "    with a given list of row_variables and column_variables.\n",
        "    \"\"\"\n",
        "    tab = pd.crosstab([df[row_variables[i]] for i in range(len(row_variables))],\n",
        "                      [df[column_variables[i]] for i in range(len(column_variables))])\n",
        "    table = sm.stats.Table(tab)\n",
        "    return table.table_orig, table"
      ]
    },
    {
      "cell_type": "code",
      "execution_count": null,
      "id": "2ca28671",
      "metadata": {
        "id": "2ca28671",
        "papermill": {
          "duration": null,
          "end_time": null,
          "exception": null,
          "start_time": null,
          "status": "pending"
        },
        "tags": []
      },
      "outputs": [],
      "source": [
        "# generate contingency table\n",
        "df['freq'] = 1\n",
        "selected_row_vars = row_vars.value\n",
        "selected_col_vars = col_vars.value\n",
        "tab = generate_table(df, selected_row_vars, selected_col_vars)\n",
        "tab[0]"
      ]
    },
    {
      "cell_type": "code",
      "execution_count": null,
      "id": "315ced1d",
      "metadata": {
        "id": "315ced1d",
        "papermill": {
          "duration": null,
          "end_time": null,
          "exception": null,
          "start_time": null,
          "status": "pending"
        },
        "tags": []
      },
      "outputs": [],
      "source": [
        "# denote shape of contingency table as two-way, three-way, or multi-way\n",
        "table_shape = None\n",
        "total_vars = len(row_vars.value + col_vars.value)\n",
        "if total_vars == 2:\n",
        "    table_shape = 'two-way'\n",
        "elif total_vars == 3:\n",
        "    table_shape = 'three-way'\n",
        "else:\n",
        "    table_shape = 'multi-way'\n",
        "table_shape"
      ]
    },
    {
      "cell_type": "markdown",
      "id": "d993a9bd",
      "metadata": {
        "id": "d993a9bd",
        "papermill": {
          "duration": null,
          "end_time": null,
          "exception": null,
          "start_time": null,
          "status": "pending"
        },
        "tags": []
      },
      "source": [
        "## 5. Test for mutual independence"
      ]
    },
    {
      "cell_type": "markdown",
      "id": "54e1a3e5",
      "metadata": {
        "id": "54e1a3e5",
        "papermill": {
          "duration": null,
          "end_time": null,
          "exception": null,
          "start_time": null,
          "status": "pending"
        },
        "tags": []
      },
      "source": [
        "For one-way tables conduct a chi-square test of independence, under the null hypothesis that the two variables of interest are independent. For three-way and multi-way tables, fit a log-linear model to test for mutual independence between all variables of interest.  "
      ]
    },
    {
      "cell_type": "code",
      "execution_count": null,
      "id": "0dbad62b",
      "metadata": {
        "id": "0dbad62b",
        "papermill": {
          "duration": null,
          "end_time": null,
          "exception": null,
          "start_time": null,
          "status": "pending"
        },
        "tags": []
      },
      "outputs": [],
      "source": [
        "def chi_square(table, alpha=.05):\n",
        "    \"\"\"\n",
        "    Performs a chi-square test of independence in a\n",
        "    two-way contingency table at the given significance level\n",
        "    \"\"\"\n",
        "    chi2 = table.test_nominal_association()\n",
        "    \n",
        "    # display a warning if expected counts are < 5\n",
        "    exp_freq = table.fittedvalues.to_numpy()\n",
        "    if (exp_freq < 5).sum() != 0:\n",
        "        print(\"Warning: table contains expected frequencies less than 5.\")\n",
        "\n",
        "    # display results of chi-square test\n",
        "    p_val = chi2.pvalue\n",
        "    if p_val < alpha:\n",
        "        print(\"P-value: {}. Table variables are associated at significance level: {}\".format(p_val.round(4), alpha))\n",
        "    else:\n",
        "        print(\"P-value: {}. Table variables are independent at significance level: {}\".format(p_val.round(4), alpha))\n",
        "        \n",
        "        \n",
        "def llm_mutual(flat_table):\n",
        "    \"\"\"\n",
        "    Performs log-linear analysis of the flattened multi-way\n",
        "    contingency table using Poisson regression for mutual independence.\n",
        "    \"\"\"\n",
        "    # remove suave tags from column names (interferes with statsmodels api)\n",
        "    df_2 = flat_table.copy()\n",
        "    df_2.columns = [i.split('#')[0].replace(' ', '_') for i in flat_table.columns]\n",
        "    \n",
        "    # define predictor and response variables\n",
        "    predictors = (' + ').join([i.split('#')[0].replace(' ', '_') for i in row_vars.value + col_vars.value])\n",
        "    response = 'freq'\n",
        "    \n",
        "    # fit model\n",
        "    glm = smf.glm(response + ' ~ ' + predictors, data=df_2, family=sm.families.Poisson())\n",
        "    res_o = glm.fit()\n",
        "    print(res_o.summary())\n",
        "    return res_o"
      ]
    },
    {
      "cell_type": "code",
      "execution_count": null,
      "id": "8c5baf3e",
      "metadata": {
        "id": "8c5baf3e",
        "papermill": {
          "duration": null,
          "end_time": null,
          "exception": null,
          "start_time": null,
          "status": "pending"
        },
        "tags": []
      },
      "outputs": [],
      "source": [
        "# perform chi-square test of independence for two-way tables\n",
        "if table_shape == 'two-way':\n",
        "    result = chi_square(tab[1])\n",
        "# perform log-linear analysis for three-way and multi-way tables\n",
        "else:\n",
        "    flat = df.groupby(col_vars.value + row_vars.value).sum()['freq'].to_frame().reset_index()\n",
        "    result = llm_mutual(flat)\n",
        "result"
      ]
    },
    {
      "cell_type": "markdown",
      "id": "184f23ef",
      "metadata": {
        "id": "184f23ef",
        "papermill": {
          "duration": null,
          "end_time": null,
          "exception": null,
          "start_time": null,
          "status": "pending"
        },
        "tags": []
      },
      "source": [
        "<h2><span style=\"color:red\">5a. Optional: Test for joint independence</span></h2>"
      ]
    },
    {
      "cell_type": "markdown",
      "id": "165418e5",
      "metadata": {
        "id": "165418e5",
        "papermill": {
          "duration": null,
          "end_time": null,
          "exception": null,
          "start_time": null,
          "status": "pending"
        },
        "tags": []
      },
      "source": [
        "<span style=\"color:red\">The following log-linear models are for testing THREE-WAY tables only!</span> "
      ]
    },
    {
      "cell_type": "markdown",
      "id": "bb979018",
      "metadata": {
        "id": "bb979018",
        "papermill": {
          "duration": null,
          "end_time": null,
          "exception": null,
          "start_time": null,
          "status": "pending"
        },
        "tags": []
      },
      "source": [
        "For three-way tables, test variables for joint-independence. The log-linear model tests for joint independence under the assumption that a single variable of interest is independent of the other two. The model implies that other two variables can have an arbitrary association, and that this association doesn't depend on the level of the variable of interest."
      ]
    },
    {
      "cell_type": "code",
      "execution_count": null,
      "id": "6685379e",
      "metadata": {
        "id": "6685379e",
        "papermill": {
          "duration": null,
          "end_time": null,
          "exception": null,
          "start_time": null,
          "status": "pending"
        },
        "tags": []
      },
      "outputs": [],
      "source": [
        "# select a variable to test for joint indpendence\n",
        "selector = pn.widgets.Select(name='Test joint indpedence of: ', options=col_vars.value + row_vars.value)\n",
        "selector"
      ]
    },
    {
      "cell_type": "code",
      "execution_count": null,
      "id": "467a2dfa",
      "metadata": {
        "id": "467a2dfa",
        "papermill": {
          "duration": null,
          "end_time": null,
          "exception": null,
          "start_time": null,
          "status": "pending"
        },
        "tags": []
      },
      "outputs": [],
      "source": [
        "def llm_joint(flat_table):\n",
        "    \"\"\"\n",
        "    Performs log-linear analysis of the flattened multi-way\n",
        "    contingency table using Poisson regression for joint independence.\n",
        "    \"\"\"\n",
        "    # remove suave tags from column names (interferes with statsmodels api)\n",
        "    df_2 = flat_table.copy()\n",
        "    df_2.columns = [i.split('#')[0].replace(' ', '_') for i in flat_table.columns]\n",
        "    \n",
        "    # define predictor and response variables\n",
        "    var = row_vars.value + col_vars.value\n",
        "    var.remove(selector.value)\n",
        "    selected_var = selector.value.split('#')[0].replace(' ', '_')\n",
        "    predictors = [i.split('#')[0].replace(' ', '_') for i in var]\n",
        "    formula = 'freq ~ ' + selected_var + ' + ' + predictors[0] + ' + ' + predictors[1] + ' + ' + \\\n",
        "                predictors[0] + ' * ' + predictors[1]\n",
        "    print('Model: ' + formula)\n",
        "    \n",
        "    # fit model\n",
        "    glm = smf.glm(formula, data=df_2, family=sm.families.Poisson())\n",
        "    res_o = glm.fit()\n",
        "    return res_o"
      ]
    },
    {
      "cell_type": "code",
      "execution_count": null,
      "id": "584f81e5",
      "metadata": {
        "id": "584f81e5",
        "papermill": {
          "duration": null,
          "end_time": null,
          "exception": null,
          "start_time": null,
          "status": "pending"
        },
        "tags": []
      },
      "outputs": [],
      "source": [
        "if table_shape == 'three-way':\n",
        "    flat = df.groupby(col_vars.value + row_vars.value).sum()['freq'].to_frame().reset_index()\n",
        "    result = llm_joint(flat)\n",
        "result.summary()"
      ]
    },
    {
      "cell_type": "markdown",
      "id": "b654067c",
      "metadata": {
        "id": "b654067c",
        "papermill": {
          "duration": null,
          "end_time": null,
          "exception": null,
          "start_time": null,
          "status": "pending"
        },
        "tags": []
      },
      "source": [
        "<h2><span style=\"color:red\">5b. Optional: Test for conditional independence</span></h2>"
      ]
    },
    {
      "cell_type": "markdown",
      "id": "7bd14394",
      "metadata": {
        "id": "7bd14394",
        "papermill": {
          "duration": null,
          "end_time": null,
          "exception": null,
          "start_time": null,
          "status": "pending"
        },
        "tags": []
      },
      "source": [
        "For three-way tables, test variables for conditional independence. The log-linear model tests for conditional indpendence under the asumption that two variables are independent, given the third."
      ]
    },
    {
      "cell_type": "code",
      "execution_count": null,
      "id": "4cdd6ac5",
      "metadata": {
        "id": "4cdd6ac5",
        "papermill": {
          "duration": null,
          "end_time": null,
          "exception": null,
          "start_time": null,
          "status": "pending"
        },
        "tags": []
      },
      "outputs": [],
      "source": [
        "# select a variable to condition the independence of the remaining variables\n",
        "selector = pn.widgets.Select(name='Test if variables are indepndent given: ', options=col_vars.value + row_vars.value)\n",
        "selector"
      ]
    },
    {
      "cell_type": "code",
      "execution_count": null,
      "id": "9ff39ba3",
      "metadata": {
        "id": "9ff39ba3",
        "papermill": {
          "duration": null,
          "end_time": null,
          "exception": null,
          "start_time": null,
          "status": "pending"
        },
        "tags": []
      },
      "outputs": [],
      "source": [
        "def llm_conditional(flat_table):\n",
        "    \"\"\"\n",
        "    Performs log-linear analysis of the flattened multi-way\n",
        "    contingency table using Poisson regression for conditional independence.\n",
        "    \"\"\"\n",
        "    # remove suave tags from column names (interferes with statsmodels api)\n",
        "    df_2 = flat_table.copy()\n",
        "    df_2.columns = [i.split('#')[0].replace(' ', '_') for i in flat_table.columns]\n",
        "    \n",
        "    # define predictor and response variables\n",
        "    var = row_vars.value + col_vars.value\n",
        "    var.remove(selector.value)\n",
        "    selected_var = selector.value.split('#')[0].replace(' ', '_')\n",
        "    predictors = [i.split('#')[0].replace(' ', '_') for i in var]\n",
        "    formula = 'freq ~ ' + selected_var + ' + ' + predictors[0] + ' + ' + predictors[1] + ' + ' + \\\n",
        "                predictors[0] + ' * ' + selected_var + '+ ' + predictors[1] +  ' * ' + selected_var\n",
        "    print('Model: ' + formula)\n",
        "    \n",
        "    # fit model\n",
        "    glm = smf.glm(formula, data=df_2, family=sm.families.Poisson())\n",
        "    res_o = glm.fit()\n",
        "    return res_o"
      ]
    },
    {
      "cell_type": "code",
      "execution_count": null,
      "id": "7a424435",
      "metadata": {
        "id": "7a424435",
        "papermill": {
          "duration": null,
          "end_time": null,
          "exception": null,
          "start_time": null,
          "status": "pending"
        },
        "tags": []
      },
      "outputs": [],
      "source": [
        "if table_shape == 'three-way':\n",
        "    flat = df.groupby(col_vars.value + row_vars.value).sum()['freq'].to_frame().reset_index()\n",
        "    result = llm_conditional(flat)\n",
        "result.summary()"
      ]
    },
    {
      "cell_type": "markdown",
      "id": "4cc91bd2",
      "metadata": {
        "id": "4cc91bd2",
        "papermill": {
          "duration": null,
          "end_time": null,
          "exception": null,
          "start_time": null,
          "status": "pending"
        },
        "tags": []
      },
      "source": [
        "<h2><span style=\"color:red\">5c. Optional: Test for homogeneous association</span></h2>"
      ]
    },
    {
      "cell_type": "markdown",
      "id": "558f3942",
      "metadata": {
        "id": "558f3942",
        "papermill": {
          "duration": null,
          "end_time": null,
          "exception": null,
          "start_time": null,
          "status": "pending"
        },
        "tags": []
      },
      "source": [
        "For three-way tables, test for homogeneous association between the variables. The log-linear model, or no three-factor interaction model, tests for homogeneous association and implies that the conditional reelationship between any pair of variables given the third is the same at each level of the third variable."
      ]
    },
    {
      "cell_type": "code",
      "execution_count": null,
      "id": "c2b6da8a",
      "metadata": {
        "id": "c2b6da8a",
        "papermill": {
          "duration": null,
          "end_time": null,
          "exception": null,
          "start_time": null,
          "status": "pending"
        },
        "tags": []
      },
      "outputs": [],
      "source": [
        "def llm_association(flat_table):\n",
        "    \"\"\"\n",
        "    Performs log-linear analysis of the flattened multi-way\n",
        "    contingency table using Poisson regression for homogeneous association.\n",
        "    \"\"\"\n",
        "    # remove suave tags from column names (interferes with statsmodels api)\n",
        "    df_2 = flat_table.copy()\n",
        "    df_2.columns = [i.split('#')[0].replace(' ', '_') for i in flat_table.columns]\n",
        "    \n",
        "    # define predictor and response variables\n",
        "    predictors = (' + ').join([i.split('#')[0].replace(' ', '_') for i in row_vars.value + col_vars.value])\n",
        "    formula = 'freq ~ (' + predictors + ')**2'\n",
        "    print('Model: ' + formula)\n",
        "    \n",
        "    # fit model\n",
        "    glm = smf.glm(formula, data=df_2, family=sm.families.Poisson())\n",
        "    res_o = glm.fit()\n",
        "    return res_o"
      ]
    },
    {
      "cell_type": "code",
      "execution_count": null,
      "id": "4fd97342",
      "metadata": {
        "id": "4fd97342",
        "papermill": {
          "duration": null,
          "end_time": null,
          "exception": null,
          "start_time": null,
          "status": "pending"
        },
        "tags": []
      },
      "outputs": [],
      "source": [
        "if table_shape == 'three-way':\n",
        "    flat = df.groupby(col_vars.value + row_vars.value).sum()['freq'].to_frame().reset_index()\n",
        "    result = llm_association(flat)\n",
        "result.summary()"
      ]
    }
  ],
  "metadata": {
    "colab": {
      "provenance": []
    },
    "kernelspec": {
      "display_name": "Python 3",
      "language": "python",
      "name": "python3"
    },
    "language_info": {
      "codemirror_mode": {
        "name": "ipython",
        "version": 3
      },
      "file_extension": ".py",
      "mimetype": "text/x-python",
      "name": "python",
      "nbconvert_exporter": "python",
      "pygments_lexer": "ipython3",
      "version": "3.10.11"
    },
    "papermill": {
      "default_parameters": {},
      "duration": 8.340824,
      "end_time": "2023-05-25T06:49:54.706054",
      "environment_variables": {},
      "exception": true,
      "input_path": "myclone/operations/stats/Generate_Contingency_Tables.ipynb",
      "output_path": "/content/drive/MyDrive/suave/Generate_Contingency_Tables.ipynb",
      "parameters": {
        "active_object": "null",
        "csv_file": "zaslavsk_WBDH_Participants.csv",
        "dzc_file": "https://maxim.ucsd.edu/dzgen/lib-staging-uploads/063044157874ce7d5841c906fa6d8073/content.dzc",
        "full_notebook_url": "https://colab.research.google.com/drive/1aZCpg7UmG0nPUuRPTH2p5Nm43G0HmtQg?survey_url=https://suave-dev.sdsc.edu/main/file=zaslavsk_WBDH_Participants.csv&views=1110101&view=grid&user=zaslavsk&csv_file=zaslavsk_WBDH_Participants.csv&params=none&dzc_file=https://maxim.ucsd.edu/dzgen/lib-staging-uploads/063044157874ce7d5841c906fa6d8073/content.dzc&active_object=null",
        "params": "none",
        "survey_url": "https://suave-dev.sdsc.edu/main/file=zaslavsk_WBDH_Participants.csv",
        "user": "zaslavsk",
        "view": "grid",
        "views": "1110101"
      },
      "start_time": "2023-05-25T06:49:46.365230",
      "version": "2.4.0"
    }
  },
  "nbformat": 4,
  "nbformat_minor": 5
}
