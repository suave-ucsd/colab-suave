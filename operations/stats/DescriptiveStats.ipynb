{
  "cells": [
    {
      "cell_type": "markdown",
      "id": "c08cc7a0",
      "metadata": {
        "id": "c08cc7a0",
        "papermill": {
          "duration": 0.025523,
          "end_time": "2023-05-25T06:33:46.664366",
          "exception": false,
          "start_time": "2023-05-25T06:33:46.638843",
          "status": "completed"
        },
        "tags": []
      },
      "source": [
        "<h1><span style=\"color:red\">Descriptive Statistics for Numeric Variables</span></h1>\n",
        "\n",
        "This sample notebook reads numeric variables from survey dataset and computes several descriptive statistics"
      ]
    },
    {
      "cell_type": "markdown",
      "id": "e43de9a1",
      "metadata": {
        "id": "e43de9a1",
        "papermill": {
          "duration": 0.024394,
          "end_time": "2023-05-25T06:33:46.712865",
          "exception": false,
          "start_time": "2023-05-25T06:33:46.688471",
          "status": "completed"
        },
        "tags": []
      },
      "source": [
        "## 1. Setup"
      ]
    },
    {
      "cell_type": "markdown",
      "id": "u6ySk_t6os8r",
      "metadata": {
        "id": "u6ySk_t6os8r"
      },
      "source": [
        "<p><span style=\"color:red\">The code below must be uncommented and run</span></p>"
      ]
    },
    {
      "cell_type": "code",
      "execution_count": 3,
      "id": "NseejaCUnoZq",
      "metadata": {
        "colab": {
          "base_uri": "https://localhost:8080/"
        },
        "id": "NseejaCUnoZq",
        "outputId": "b6067f87-35d7-4ff0-80d7-22310b8b94e7"
      },
      "outputs": [
        {
          "name": "stdout",
          "output_type": "stream",
          "text": [
            "Mounted at /content/drive\n"
          ]
        }
      ],
      "source": [
        "from google.colab import drive\n",
        "drive.mount('/content/drive')"
      ]
    },
    {
      "cell_type": "code",
      "execution_count": 4,
      "id": "uSbWLOq0ndOv",
      "metadata": {
        "colab": {
          "base_uri": "https://localhost:8080/"
        },
        "id": "uSbWLOq0ndOv",
        "outputId": "3a0e231e-6dc4-447a-de05-cc5659b74dc9"
      },
      "outputs": [
        {
          "name": "stdout",
          "output_type": "stream",
          "text": [
            "Cloning into 'myclone'...\n",
            "remote: Enumerating objects: 81, done.\u001b[K\n",
            "remote: Counting objects: 100% (81/81), done.\u001b[K\n",
            "remote: Compressing objects: 100% (62/62), done.\u001b[K\n",
            "remote: Total 81 (delta 18), reused 57 (delta 12), pack-reused 0\u001b[K\n",
            "Unpacking objects: 100% (81/81), 565.32 KiB | 5.89 MiB/s, done.\n"
          ]
        }
      ],
      "source": [
        "!rm -rf myclone\n",
        "!git clone --depth 1 \"https://github.com/suave-ucsd/colab-suave.git\" myclone"
      ]
    },
    {
      "cell_type": "code",
      "execution_count": 6,
      "id": "iHZKtH02n775",
      "metadata": {
        "colab": {
          "base_uri": "https://localhost:8080/"
        },
        "id": "iHZKtH02n775",
        "outputId": "3c390178-acd7-450f-f194-f5fdc61f86ce"
      },
      "outputs": [
        {
          "name": "stdout",
          "output_type": "stream",
          "text": [
            "/content/myclone/helpers\n",
            "Already up to date.\n"
          ]
        }
      ],
      "source": [
        "%cd /content/myclone/helpers\n",
        "!git pull"
      ]
    },
    {
      "cell_type": "code",
      "execution_count": 5,
      "id": "3904d674",
      "metadata": {
        "colab": {
          "base_uri": "https://localhost:8080/"
        },
        "execution": {
          "iopub.execute_input": "2023-05-25T06:33:46.804911Z",
          "iopub.status.busy": "2023-05-25T06:33:46.803935Z",
          "iopub.status.idle": "2023-05-25T06:33:46.818934Z",
          "shell.execute_reply": "2023-05-25T06:33:46.817853Z"
        },
        "id": "3904d674",
        "outputId": "e1c98810-0a53-43c4-96f8-274032164f0c",
        "papermill": {
          "duration": 0.03756,
          "end_time": "2023-05-25T06:33:46.822477",
          "exception": false,
          "start_time": "2023-05-25T06:33:46.784917",
          "status": "completed"
        },
        "tags": []
      },
      "outputs": [
        {
          "name": "stdout",
          "output_type": "stream",
          "text": [
            "user = zaslavsk\n",
            "survey_url = https://suave-dev.sdsc.edu/main/file=zaslavsk_WBDH_Participants.csv\n",
            "views = 1110101\n",
            "view = grid\n",
            "csv_file = zaslavsk_WBDH_Participants.csv\n",
            "dzc_file = https://maxim.ucsd.edu/dzgen/lib-staging-uploads/063044157874ce7d5841c906fa6d8073/content.dzc\n",
            "params = none\n",
            "active_object = null\n",
            "full_notebook_url = https://colab.research.google.com/drive/1aZCpg7UmG0nPUuRPTH2p5Nm43G0HmtQg?survey_url=https://suave-dev.sdsc.edu/main/file=zaslavsk_WBDH_Participants.csv&views=1110101&view=grid&user=zaslavsk&csv_file=zaslavsk_WBDH_Participants.csv&params=none&dzc_file=https://maxim.ucsd.edu/dzgen/lib-staging-uploads/063044157874ce7d5841c906fa6d8073/content.dzc&active_object=null\n"
          ]
        }
      ],
      "source": [
        "print(\"user = \" + str(user))\n",
        "print(\"survey_url = \" + str(survey_url))\n",
        "print(\"views = \" + str(views))\n",
        "print(\"view = \" + str(view))\n",
        "print(\"csv_file = \" + str(csv_file))\n",
        "print(\"dzc_file = \" + str(dzc_file))\n",
        "print(\"params = \" + str(params))\n",
        "print(\"active_object = \" + str(active_object))\n",
        "print(\"full_notebook_url = \" + str(full_notebook_url))"
      ]
    },
    {
      "cell_type": "code",
      "execution_count": 9,
      "id": "f6bb512e",
      "metadata": {
        "execution": {
          "iopub.execute_input": "2023-05-25T06:33:46.857850Z",
          "iopub.status.busy": "2023-05-25T06:33:46.856822Z",
          "iopub.status.idle": "2023-05-25T06:33:49.303427Z",
          "shell.execute_reply": "2023-05-25T06:33:49.300687Z"
        },
        "id": "f6bb512e",
        "papermill": {
          "duration": 2.465765,
          "end_time": "2023-05-25T06:33:49.305250",
          "exception": true,
          "start_time": "2023-05-25T06:33:46.839485",
          "status": "failed"
        },
        "scrolled": true,
        "tags": []
      },
      "outputs": [],
      "source": [
        "# common imports\n",
        "from __future__ import print_function\n",
        "from ipywidgets import interact, interactive, fixed, interact_manual\n",
        "import ipywidgets as widgets\n",
        "from IPython.display import HTML, display\n",
        "\n",
        "import pandas as pd\n",
        "pd.set_option('display.max_colwidth', 0)\n",
        "    \n",
        "import numpy as np\n",
        "import panel as pn\n",
        "\n",
        "def printmd(string):\n",
        "    display(HTML(string))\n",
        "\n",
        "absolutePath = \"/content/drive/MyDrive/suave/\"\n",
        "\n",
        "# local imports\n",
        "import sys\n",
        "sys.path.insert(1, '../../helpers')\n",
        "import panel_libs as panellibs\n",
        "import suave_integration as suaveint\n",
        "\n",
        "# specific imports\n",
        "import math\n",
        "import matplotlib.pyplot as plt\n",
        "import seaborn as sb\n",
        "# from sklearn.linear_model import LinearRegression\n",
        "import os\n",
        "\n"
      ]
    },
    {
      "cell_type": "markdown",
      "id": "622319d5",
      "metadata": {
        "id": "622319d5",
        "papermill": {
          "duration": null,
          "end_time": null,
          "exception": null,
          "start_time": null,
          "status": "pending"
        },
        "tags": []
      },
      "source": [
        "## 2. Read the survey file and extract numeric variables"
      ]
    },
    {
      "cell_type": "code",
      "execution_count": 10,
      "id": "c2827a0e",
      "metadata": {
        "colab": {
          "base_uri": "https://localhost:8080/",
          "height": 232
        },
        "id": "c2827a0e",
        "outputId": "941f8f21-1d66-429e-ea62-6fd822678032",
        "papermill": {
          "duration": null,
          "end_time": null,
          "exception": null,
          "start_time": null,
          "status": "pending"
        },
        "tags": []
      },
      "outputs": [
        {
          "data": {
            "text/markdown": [
              "<b><span style='color:red'>All variables in the survey file:</span></b>"
            ],
            "text/plain": [
              "<IPython.core.display.Markdown object>"
            ]
          },
          "metadata": {},
          "output_type": "display_data"
        },
        {
          "name": "stdout",
          "output_type": "stream",
          "text": [
            "['Full Name#hidden' 'Last Name' 'First Name' 'Gender' 'Instituion'\n",
            " 'Phone Number#hidden' 'Contact Title#hidden' 'EmailAddress#hidden'\n",
            " 'Social Media/Personal Website#link#hidden'\n",
            " 'Project Information/Links#link#hidden' 'Focus Areas' 'Specialty'\n",
            " 'Example Current Project#hidden' 'Other Info' '#img' '#name' '#href'\n",
            " 'Project Images#multi#hidden' 'Latitude#number#hidden'\n",
            " 'Longitude#number#hidden']\n"
          ]
        },
        {
          "data": {
            "text/markdown": [
              "<b><span style='color:red'>Numeric variables:</span></b>"
            ],
            "text/plain": [
              "<IPython.core.display.Markdown object>"
            ]
          },
          "metadata": {},
          "output_type": "display_data"
        },
        {
          "name": "stdout",
          "output_type": "stream",
          "text": [
            "Latitude  :  Latitude#number#hidden\n",
            "Longitude  :  Longitude#number#hidden\n"
          ]
        }
      ],
      "source": [
        "# read the csv file\n",
        "df = panellibs.extract_data(absolutePath + csv_file)# print(absolutePath + csv_file)\n",
        "\n",
        "# create a list of variable names\n",
        "variables_df = pd.DataFrame({'varname':df.columns})\n",
        "printmd(\"<b><span style='color:red'>All variables in the survey file:</span></b>\")\n",
        "print(variables_df.varname.values)\n",
        "\n",
        "# create a dictionary of #number variables with abbreviated and full variable names \n",
        "var_list = {n[:n.index('#')]:n for n in variables_df.varname.values if '#number' in n}\n",
        "printmd(\"<b><span style='color:red'>Numeric variables:</span></b>\")\n",
        "for key, value in var_list.items():\n",
        "    print(key, ' : ', value)\n",
        "\n",
        "#create a dataframe of only #number variables\n",
        "nums_df = df[[n for n in variables_df.varname.values if '#number' in n]]\n"
      ]
    },
    {
      "cell_type": "markdown",
      "id": "8846288f",
      "metadata": {
        "id": "8846288f",
        "papermill": {
          "duration": null,
          "end_time": null,
          "exception": null,
          "start_time": null,
          "status": "pending"
        },
        "tags": []
      },
      "source": [
        "## 3. Matrix of scatterplots\n",
        "\n",
        "- Select variables for the scatterplots in the first cell\n",
        "- Generate the scatterplots in the second cell"
      ]
    },
    {
      "cell_type": "code",
      "execution_count": 11,
      "id": "90069275",
      "metadata": {
        "id": "90069275",
        "papermill": {
          "duration": null,
          "end_time": null,
          "exception": null,
          "start_time": null,
          "status": "pending"
        },
        "tags": []
      },
      "outputs": [],
      "source": [
        "# Coerce #number variables that aren't numeric, to be numeric, if possible\n",
        "for i in list(nums_df):\n",
        "    pd.to_numeric(i, errors='coerce')\n"
      ]
    },
    {
      "cell_type": "code",
      "execution_count": 12,
      "id": "0b4b6ad3",
      "metadata": {
        "colab": {
          "base_uri": "https://localhost:8080/",
          "height": 423
        },
        "id": "0b4b6ad3",
        "outputId": "530b94cc-9c1b-410a-e4a3-775c0530afc8",
        "papermill": {
          "duration": null,
          "end_time": null,
          "exception": null,
          "start_time": null,
          "status": "pending"
        },
        "tags": []
      },
      "outputs": [
        {
          "data": {
            "text/html": [
              "\n",
              "  <div id=\"df-869df983-b87b-42c3-94c6-c907318ebfb3\">\n",
              "    <div class=\"colab-df-container\">\n",
              "      <div>\n",
              "<style scoped>\n",
              "    .dataframe tbody tr th:only-of-type {\n",
              "        vertical-align: middle;\n",
              "    }\n",
              "\n",
              "    .dataframe tbody tr th {\n",
              "        vertical-align: top;\n",
              "    }\n",
              "\n",
              "    .dataframe thead th {\n",
              "        text-align: right;\n",
              "    }\n",
              "</style>\n",
              "<table border=\"1\" class=\"dataframe\">\n",
              "  <thead>\n",
              "    <tr style=\"text-align: right;\">\n",
              "      <th></th>\n",
              "      <th>Latitude#number#hidden</th>\n",
              "      <th>Longitude#number#hidden</th>\n",
              "    </tr>\n",
              "  </thead>\n",
              "  <tbody>\n",
              "    <tr>\n",
              "      <th>0</th>\n",
              "      <td>37.871899</td>\n",
              "      <td>-122.25854</td>\n",
              "    </tr>\n",
              "    <tr>\n",
              "      <th>1</th>\n",
              "      <td>32.884439</td>\n",
              "      <td>-117.23965</td>\n",
              "    </tr>\n",
              "    <tr>\n",
              "      <th>2</th>\n",
              "      <td>47.653367</td>\n",
              "      <td>-122.311785</td>\n",
              "    </tr>\n",
              "    <tr>\n",
              "      <th>3</th>\n",
              "      <td>37.871899</td>\n",
              "      <td>-122.25854</td>\n",
              "    </tr>\n",
              "    <tr>\n",
              "      <th>4</th>\n",
              "      <td>37.090240</td>\n",
              "      <td>-95.712891</td>\n",
              "    </tr>\n",
              "    <tr>\n",
              "      <th>...</th>\n",
              "      <td>...</td>\n",
              "      <td>...</td>\n",
              "    </tr>\n",
              "    <tr>\n",
              "      <th>317</th>\n",
              "      <td>32.880060</td>\n",
              "      <td>-117.234013</td>\n",
              "    </tr>\n",
              "    <tr>\n",
              "      <th>318</th>\n",
              "      <td>33.065138</td>\n",
              "      <td>-117.2540447</td>\n",
              "    </tr>\n",
              "    <tr>\n",
              "      <th>319</th>\n",
              "      <td>40.713973</td>\n",
              "      <td>-74.0331831</td>\n",
              "    </tr>\n",
              "    <tr>\n",
              "      <th>320</th>\n",
              "      <td>39.733625</td>\n",
              "      <td>-105.0573563</td>\n",
              "    </tr>\n",
              "    <tr>\n",
              "      <th>321</th>\n",
              "      <td>44.563892</td>\n",
              "      <td>-123.2792833</td>\n",
              "    </tr>\n",
              "  </tbody>\n",
              "</table>\n",
              "<p>322 rows × 2 columns</p>\n",
              "</div>\n",
              "      <button class=\"colab-df-convert\" onclick=\"convertToInteractive('df-869df983-b87b-42c3-94c6-c907318ebfb3')\"\n",
              "              title=\"Convert this dataframe to an interactive table.\"\n",
              "              style=\"display:none;\">\n",
              "        \n",
              "  <svg xmlns=\"http://www.w3.org/2000/svg\" height=\"24px\"viewBox=\"0 0 24 24\"\n",
              "       width=\"24px\">\n",
              "    <path d=\"M0 0h24v24H0V0z\" fill=\"none\"/>\n",
              "    <path d=\"M18.56 5.44l.94 2.06.94-2.06 2.06-.94-2.06-.94-.94-2.06-.94 2.06-2.06.94zm-11 1L8.5 8.5l.94-2.06 2.06-.94-2.06-.94L8.5 2.5l-.94 2.06-2.06.94zm10 10l.94 2.06.94-2.06 2.06-.94-2.06-.94-.94-2.06-.94 2.06-2.06.94z\"/><path d=\"M17.41 7.96l-1.37-1.37c-.4-.4-.92-.59-1.43-.59-.52 0-1.04.2-1.43.59L10.3 9.45l-7.72 7.72c-.78.78-.78 2.05 0 2.83L4 21.41c.39.39.9.59 1.41.59.51 0 1.02-.2 1.41-.59l7.78-7.78 2.81-2.81c.8-.78.8-2.07 0-2.86zM5.41 20L4 18.59l7.72-7.72 1.47 1.35L5.41 20z\"/>\n",
              "  </svg>\n",
              "      </button>\n",
              "      \n",
              "  <style>\n",
              "    .colab-df-container {\n",
              "      display:flex;\n",
              "      flex-wrap:wrap;\n",
              "      gap: 12px;\n",
              "    }\n",
              "\n",
              "    .colab-df-convert {\n",
              "      background-color: #E8F0FE;\n",
              "      border: none;\n",
              "      border-radius: 50%;\n",
              "      cursor: pointer;\n",
              "      display: none;\n",
              "      fill: #1967D2;\n",
              "      height: 32px;\n",
              "      padding: 0 0 0 0;\n",
              "      width: 32px;\n",
              "    }\n",
              "\n",
              "    .colab-df-convert:hover {\n",
              "      background-color: #E2EBFA;\n",
              "      box-shadow: 0px 1px 2px rgba(60, 64, 67, 0.3), 0px 1px 3px 1px rgba(60, 64, 67, 0.15);\n",
              "      fill: #174EA6;\n",
              "    }\n",
              "\n",
              "    [theme=dark] .colab-df-convert {\n",
              "      background-color: #3B4455;\n",
              "      fill: #D2E3FC;\n",
              "    }\n",
              "\n",
              "    [theme=dark] .colab-df-convert:hover {\n",
              "      background-color: #434B5C;\n",
              "      box-shadow: 0px 1px 3px 1px rgba(0, 0, 0, 0.15);\n",
              "      filter: drop-shadow(0px 1px 2px rgba(0, 0, 0, 0.3));\n",
              "      fill: #FFFFFF;\n",
              "    }\n",
              "  </style>\n",
              "\n",
              "      <script>\n",
              "        const buttonEl =\n",
              "          document.querySelector('#df-869df983-b87b-42c3-94c6-c907318ebfb3 button.colab-df-convert');\n",
              "        buttonEl.style.display =\n",
              "          google.colab.kernel.accessAllowed ? 'block' : 'none';\n",
              "\n",
              "        async function convertToInteractive(key) {\n",
              "          const element = document.querySelector('#df-869df983-b87b-42c3-94c6-c907318ebfb3');\n",
              "          const dataTable =\n",
              "            await google.colab.kernel.invokeFunction('convertToInteractive',\n",
              "                                                     [key], {});\n",
              "          if (!dataTable) return;\n",
              "\n",
              "          const docLinkHtml = 'Like what you see? Visit the ' +\n",
              "            '<a target=\"_blank\" href=https://colab.research.google.com/notebooks/data_table.ipynb>data table notebook</a>'\n",
              "            + ' to learn more about interactive tables.';\n",
              "          element.innerHTML = '';\n",
              "          dataTable['output_type'] = 'display_data';\n",
              "          await google.colab.output.renderOutput(dataTable, element);\n",
              "          const docLink = document.createElement('div');\n",
              "          docLink.innerHTML = docLinkHtml;\n",
              "          element.appendChild(docLink);\n",
              "        }\n",
              "      </script>\n",
              "    </div>\n",
              "  </div>\n",
              "  "
            ],
            "text/plain": [
              "     Latitude#number#hidden Longitude#number#hidden\n",
              "0    37.871899               -122.25854            \n",
              "1    32.884439               -117.23965            \n",
              "2    47.653367               -122.311785           \n",
              "3    37.871899               -122.25854            \n",
              "4    37.090240               -95.712891            \n",
              "..         ...                      ...            \n",
              "317  32.880060               -117.234013           \n",
              "318  33.065138               -117.2540447          \n",
              "319  40.713973               -74.0331831           \n",
              "320  39.733625               -105.0573563          \n",
              "321  44.563892               -123.2792833          \n",
              "\n",
              "[322 rows x 2 columns]"
            ]
          },
          "metadata": {},
          "output_type": "display_data"
        }
      ],
      "source": [
        "# Examine the dataframe\n",
        "with pd.option_context(\"display.max_columns\", None):\n",
        "    display(nums_df)\n"
      ]
    },
    {
      "cell_type": "code",
      "execution_count": 13,
      "id": "7a5927b3",
      "metadata": {
        "colab": {
          "base_uri": "https://localhost:8080/",
          "height": 106,
          "referenced_widgets": [
            "9c03b6db1c28458587763e260b23db12",
            "9cefd21f767d44d8a0f575c79e2b859e",
            "f1db29bc1b5240f2bf382740bde23cb9",
            "7781194ca9fc4979ba280e347264a404",
            "024d91723c894079b7cf9025a7ee3d94",
            "82418cb0ac9a48aeb0c8e27df2760b89"
          ]
        },
        "id": "7a5927b3",
        "outputId": "293b23df-b759-4e97-c506-3d77b3bacd6b",
        "papermill": {
          "duration": null,
          "end_time": null,
          "exception": null,
          "start_time": null,
          "status": "pending"
        },
        "tags": []
      },
      "outputs": [
        {
          "data": {
            "text/markdown": [
              "<b><span style='color:red'>Select variables for scatter matrix plotting, then run the next cell</span></b>"
            ],
            "text/plain": [
              "<IPython.core.display.Markdown object>"
            ]
          },
          "metadata": {},
          "output_type": "display_data"
        },
        {
          "data": {
            "application/vnd.jupyter.widget-view+json": {
              "model_id": "9c03b6db1c28458587763e260b23db12",
              "version_major": 2,
              "version_minor": 0
            },
            "text/plain": [
              "Dropdown(description='1:', options=('Latitude', 'Longitude'), value='Latitude')"
            ]
          },
          "metadata": {},
          "output_type": "display_data"
        },
        {
          "data": {
            "application/vnd.jupyter.widget-view+json": {
              "model_id": "7781194ca9fc4979ba280e347264a404",
              "version_major": 2,
              "version_minor": 0
            },
            "text/plain": [
              "Dropdown(description='2:', index=1, options=('Latitude', 'Longitude'), value='Longitude')"
            ]
          },
          "metadata": {},
          "output_type": "display_data"
        }
      ],
      "source": [
        "# 3.1 Choose variables for scattermatrix\n",
        "\n",
        "#creating widgets\n",
        "wlist = []\n",
        "i = 0\n",
        "\n",
        "while i < 5 and i < len(var_list):\n",
        "    wlist.append(widgets.Dropdown(options=var_list.keys(), value = list(var_list.keys())[i], description = str(i+1) + \":\"))\n",
        "    i += 1\n",
        "  \n",
        "printmd(\"<b><span style='color:red'>Select variables for scatter matrix plotting, then run the next cell</span></b>\")\n",
        "\n",
        "for n in wlist:\n",
        "    display(n)"
      ]
    },
    {
      "cell_type": "code",
      "execution_count": 14,
      "id": "e87ae95f",
      "metadata": {
        "colab": {
          "base_uri": "https://localhost:8080/",
          "height": 1000
        },
        "id": "e87ae95f",
        "outputId": "cdea537f-b13c-4739-8f75-b2ec78aaa1f4",
        "papermill": {
          "duration": null,
          "end_time": null,
          "exception": null,
          "start_time": null,
          "status": "pending"
        },
        "tags": []
      },
      "outputs": [
        {
          "data": {
            "text/markdown": [
              "<b><span style='color:red'>Non-numeric or singular variables excluded: </span></b>Longitude#number#hidden"
            ],
            "text/plain": [
              "<IPython.core.display.Markdown object>"
            ]
          },
          "metadata": {},
          "output_type": "display_data"
        },
        {
          "name": "stdout",
          "output_type": "stream",
          "text": [
            "count     303       \n",
            "unique    200       \n",
            "top       -95.712891\n",
            "freq      22        \n",
            "Name: Longitude#number#hidden, dtype: object\n"
          ]
        },
        {
          "data": {
            "text/markdown": [
              "<br><b><span style='color:red'>Scatter matrix for the selected numeric variables</span></b>"
            ],
            "text/plain": [
              "<IPython.core.display.Markdown object>"
            ]
          },
          "metadata": {},
          "output_type": "display_data"
        },
        {
          "data": {
            "image/png": "[encoded data removed]",
            "text/plain": [
              "<Figure size 1000x1000 with 1 Axes>"
            ]
          },
          "metadata": {},
          "output_type": "display_data"
        }
      ],
      "source": [
        "# 3.2 Create the scattermatrix\n",
        "\n",
        "#scattermatrix\n",
        "scat_df = df[[var_list[n.value] for n in wlist]]\n",
        "\n",
        "#check if all variables are different\n",
        "if len(list(scat_df)) != scat_df.columns.nunique():\n",
        "    printmd(\"<b><span style='color:red'>Make sure all selected variables are different, then rerun this cell</span></b>\")\n",
        "else:\n",
        "    \n",
        "    # keep only variables that are really numeric\n",
        "    scat2_df = scat_df.select_dtypes(include=[np.number])\n",
        "    for col in scat2_df.columns:\n",
        "#         print(col+\"   \"+ str(scat2_df[col].nunique()))\n",
        "        if scat2_df[col].nunique() < 2:\n",
        "            scat2_df.drop(col, axis=1, inplace=True)\n",
        "\n",
        "#     for col in scat_df.columns:\n",
        "#         print(col+\"   \"+ str(scat_df[col].nunique()))\n",
        "\n",
        "    # which columns were excluded:\n",
        "    for item in list(set(list(scat_df.columns)) - set(scat2_df.columns)):\n",
        "        printmd(\"<b><span style='color:red'>Non-numeric or singular variables excluded: </span></b>\" + item)\n",
        "        print(scat_df[item].describe())\n",
        "\n",
        "    w2dict = {n[:n.index('#')]:n for n in scat2_df.columns}\n",
        "    w2list = list(w2dict.keys())\n",
        "    \n",
        "    #plot\n",
        "    printmd(\"<br><b><span style='color:red'>Scatter matrix for the selected numeric variables</span></b>\")\n",
        "    wot = pd.plotting.scatter_matrix(scat2_df, alpha=0.2, figsize=(10, 10), diagonal='kde')\n",
        "    #axis\n",
        "    for n in range(len(wot)):\n",
        "        for j in range(len(wot)):\n",
        "            ax = wot[n, j]\n",
        "            ax.set(xlabel=w2list[j], ylabel=w2list[n])\n",
        "\n"
      ]
    },
    {
      "cell_type": "markdown",
      "id": "d585011e",
      "metadata": {
        "id": "d585011e",
        "papermill": {
          "duration": null,
          "end_time": null,
          "exception": null,
          "start_time": null,
          "status": "pending"
        },
        "tags": []
      },
      "source": [
        "## 4. Scatterplot and linear regression\n",
        "\n",
        "- Select variables for the regression in the first cell\n",
        "- Generate the plot in the second cell"
      ]
    },
    {
      "cell_type": "code",
      "execution_count": 15,
      "id": "a005d632",
      "metadata": {
        "colab": {
          "base_uri": "https://localhost:8080/",
          "height": 110,
          "referenced_widgets": [
            "03ff58a1ff264a8eb76e00d6af24ea18",
            "63f6b508d2a845a59858cffd37ee1aef",
            "050fd04591a1422c89dd38ce957f1bf1",
            "d06e5a4adc2c48cabbaab14f7c4d9ce5",
            "2e5fd738e0ee405085a35e65e857804e",
            "6dfbba3e961e4b0fb5ae93397d4ce489",
            "26dec87a6d1848639891b66a77bbdfa6",
            "573d886acbd042a489ff19766e83346f",
            "4d466d236f1e4298a7559626641cba22",
            "6b49edd61c7b4a6faf6cc2a0d3c735b4"
          ]
        },
        "id": "a005d632",
        "outputId": "fdefa676-0ac0-449e-8fb6-63bbac424f36",
        "papermill": {
          "duration": null,
          "end_time": null,
          "exception": null,
          "start_time": null,
          "status": "pending"
        },
        "tags": []
      },
      "outputs": [
        {
          "data": {
            "text/markdown": [
              "<b><span style='color:red'>Select x and y variables for plotting, then run the next cell</span></b>"
            ],
            "text/plain": [
              "<IPython.core.display.Markdown object>"
            ]
          },
          "metadata": {},
          "output_type": "display_data"
        },
        {
          "data": {
            "application/vnd.jupyter.widget-view+json": {
              "model_id": "03ff58a1ff264a8eb76e00d6af24ea18",
              "version_major": 2,
              "version_minor": 0
            },
            "text/plain": [
              "VBox(children=(Dropdown(description='x:', options=('Latitude', 'Longitude'), value='Latitude'), Dropdown(descr…"
            ]
          },
          "metadata": {},
          "output_type": "display_data"
        },
        {
          "data": {
            "application/vnd.jupyter.widget-view+json": {
              "model_id": "4d466d236f1e4298a7559626641cba22",
              "version_major": 2,
              "version_minor": 0
            },
            "text/plain": [
              "Output()"
            ]
          },
          "metadata": {},
          "output_type": "display_data"
        }
      ],
      "source": [
        "# 4.1 Choose the variables for the scatterplot\n",
        "\n",
        "#creating widgets\n",
        "a4 = widgets.Dropdown(options=var_list.keys(), value = list(var_list.keys())[0], description = \"x:\")\n",
        "b4 = widgets.Dropdown(options=var_list.keys(), value = list(var_list.keys())[1], description = \"y:\")\n",
        "ui = widgets.VBox([a4, b4])\n",
        "def f4(a, b):\n",
        "    return ((a, b))\n",
        "\n",
        "printmd(\"<b><span style='color:red'>Select x and y variables for plotting, then run the next cell</span></b>\")\n",
        "\n",
        "formula = widgets.interactive_output(f4, {'a': a4, 'b': b4})\n",
        "\n",
        "display(ui, formula)\n"
      ]
    },
    {
      "cell_type": "code",
      "execution_count": 16,
      "id": "67b714cb",
      "metadata": {
        "colab": {
          "base_uri": "https://localhost:8080/",
          "height": 36
        },
        "id": "67b714cb",
        "outputId": "c2847b54-f613-426f-8c9a-fdd3c88a8abf",
        "papermill": {
          "duration": null,
          "end_time": null,
          "exception": null,
          "start_time": null,
          "status": "pending"
        },
        "tags": []
      },
      "outputs": [
        {
          "data": {
            "application/vnd.google.colaboratory.intrinsic+json": {
              "type": "string"
            },
            "text/plain": [
              "'Latitude#number#hidden'"
            ]
          },
          "execution_count": 16,
          "metadata": {},
          "output_type": "execute_result"
        }
      ],
      "source": [
        "var_list[a4.value]"
      ]
    },
    {
      "cell_type": "code",
      "execution_count": 17,
      "id": "cdd1586c",
      "metadata": {
        "colab": {
          "base_uri": "https://localhost:8080/",
          "height": 133
        },
        "id": "cdd1586c",
        "outputId": "bda73f3f-4817-4285-95eb-1e9678ab1a3f",
        "papermill": {
          "duration": null,
          "end_time": null,
          "exception": null,
          "start_time": null,
          "status": "pending"
        },
        "tags": []
      },
      "outputs": [
        {
          "data": {
            "text/markdown": [
              "<b><span style='color:red'>Longitude#number#hidden is not numeric. Cannot plot.</span></b>"
            ],
            "text/plain": [
              "<IPython.core.display.Markdown object>"
            ]
          },
          "metadata": {},
          "output_type": "display_data"
        },
        {
          "name": "stdout",
          "output_type": "stream",
          "text": [
            "count     303       \n",
            "unique    200       \n",
            "top       -95.712891\n",
            "freq      22        \n",
            "Name: Longitude#number#hidden, dtype: object\n"
          ]
        }
      ],
      "source": [
        "# 4.2 Create the scatterplot and regression line\n",
        "\n",
        "from pandas.api.types import is_numeric_dtype\n",
        "\n",
        "x4 = df[var_list[a4.value]].tolist()\n",
        "y4 = df[var_list[b4.value]].tolist()\n",
        "\n",
        "if not is_numeric_dtype(df[var_list[a4.value]]):\n",
        "    printmd(\"<b><span style='color:red'>\"+ var_list[a4.value] + \" is not numeric. Cannot plot.</span></b>\")\n",
        "    print(df[var_list[a4.value]].describe())\n",
        "\n",
        "if not is_numeric_dtype(df[var_list[b4.value]]):\n",
        "    printmd(\"<b><span style='color:red'>\"+ var_list[b4.value] + \" is not numeric. Cannot plot.</span></b>\")\n",
        "    print(df[var_list[b4.value]].describe())\n",
        "\n",
        "if is_numeric_dtype(df[var_list[b4.value]]) and is_numeric_dtype(df[var_list[a4.value]]):\n",
        "\n",
        "# check if variables different\n",
        "    if a4.value == b4.value:\n",
        "        printmd(\"<b><span style='color:red'>Make sure the selected variables are different, then rerun this cell</span></b>\")\n",
        "\n",
        "    else:\n",
        "        try:\n",
        "            printmd(\"<b><span style='color:red'><br>Scatterplot with regression line and confidence intervals:</span></b>\")\n",
        "            ax = sb.regplot(x=var_list[a4.value], y=var_list[b4.value], data=df, scatter_kws={\"s\": 20, \"color\" : \"red\", \"alpha\" : 0.2})\n",
        "            #axis\n",
        "            ax.set(xlabel=a4.value, ylabel=b4.value)\n",
        "            plt.show()\n",
        "        except:\n",
        "            printmd(\"<b><span style='color:red'>Cannot plot. One or both variables contain non-numeric values!!</span></b>\")\n",
        "\n"
      ]
    },
    {
      "cell_type": "markdown",
      "id": "f52ec746",
      "metadata": {
        "id": "f52ec746",
        "papermill": {
          "duration": null,
          "end_time": null,
          "exception": null,
          "start_time": null,
          "status": "pending"
        },
        "tags": []
      },
      "source": [
        "## 5. Mean, standard deviation, skew, etc...\n",
        "\n",
        "- Select a variable in the first cell\n",
        "- Generate statistics in the second cell"
      ]
    },
    {
      "cell_type": "code",
      "execution_count": 18,
      "id": "5361ed82",
      "metadata": {
        "colab": {
          "base_uri": "https://localhost:8080/",
          "height": 96,
          "referenced_widgets": [
            "e9fa8759c6174b0c8c09cbd45f03649f",
            "1d43548d1bc540148635464bedbdaa2f",
            "79530643c9fc4ecb95b37737e6e1bfbf",
            "291efb7702bd46a3ba42cf934954fe46",
            "29f235e80bc44c5f94fd67691135c74c",
            "85d0a665c8c947a78c72da2a35531b36",
            "ca1fc1f0e4124c058efa1f20ccc6aba9"
          ]
        },
        "id": "5361ed82",
        "outputId": "52cc9203-0369-41c8-b363-15fb9af5a92b",
        "papermill": {
          "duration": null,
          "end_time": null,
          "exception": null,
          "start_time": null,
          "status": "pending"
        },
        "tags": []
      },
      "outputs": [
        {
          "data": {
            "text/markdown": [
              "<b><span style='color:red'><br>Select variable for descriptive statistics, then run the next cell</span></b>"
            ],
            "text/plain": [
              "<IPython.core.display.Markdown object>"
            ]
          },
          "metadata": {},
          "output_type": "display_data"
        },
        {
          "data": {
            "application/vnd.jupyter.widget-view+json": {
              "model_id": "e9fa8759c6174b0c8c09cbd45f03649f",
              "version_major": 2,
              "version_minor": 0
            },
            "text/plain": [
              "VBox(children=(Dropdown(description='Variable:', options=('Latitude', 'Longitude'), value='Latitude'),))"
            ]
          },
          "metadata": {},
          "output_type": "display_data"
        },
        {
          "data": {
            "application/vnd.jupyter.widget-view+json": {
              "model_id": "85d0a665c8c947a78c72da2a35531b36",
              "version_major": 2,
              "version_minor": 0
            },
            "text/plain": [
              "Output()"
            ]
          },
          "metadata": {},
          "output_type": "display_data"
        }
      ],
      "source": [
        "# 5.2 Choose the variable to calculate descriptive statistics\n",
        "\n",
        "# creating widgets\n",
        "a5 = widgets.Dropdown(options=var_list.keys(), description = \"Variable:\")\n",
        "ui = widgets.VBox([a5])\n",
        "def f5(a):\n",
        "    return (a)\n",
        "\n",
        "printmd(\"<b><span style='color:red'><br>Select variable for descriptive statistics, then run the next cell</span></b>\")\n",
        "\n",
        "formula = widgets.interactive_output(f5, {'a': a5})\n",
        "\n",
        "display(ui, formula)"
      ]
    },
    {
      "cell_type": "code",
      "execution_count": 19,
      "id": "4c692806",
      "metadata": {
        "colab": {
          "base_uri": "https://localhost:8080/",
          "height": 536
        },
        "id": "4c692806",
        "outputId": "99413207-ee86-41a3-9f58-443653b8733c",
        "papermill": {
          "duration": null,
          "end_time": null,
          "exception": null,
          "start_time": null,
          "status": "pending"
        },
        "tags": []
      },
      "outputs": [
        {
          "name": "stdout",
          "output_type": "stream",
          "text": [
            "Mean of variable   : 38.37990467227723\n",
            "Standard deviation : 5.867374152014173\n",
            "Variance           : 34.426079439724035\n",
            "Skew               : -2.152402801456313\n",
            "Histogram          :\n"
          ]
        },
        {
          "data": {
            "image/png": "[encoded data removed]",
            "text/plain": [
              "<Figure size 640x480 with 1 Axes>"
            ]
          },
          "metadata": {},
          "output_type": "display_data"
        }
      ],
      "source": [
        "# 5.2 Show the descriptive statistics\n",
        "\n",
        "try:\n",
        "    # calculating descriptive stats\n",
        "    var = df[var_list[a5.value]]\n",
        "    vmean = var.mean()\n",
        "    vsd = var.std()\n",
        "    vskew = var.skew()\n",
        "    vvar = var.var()\n",
        "\n",
        "    # printing descriptive stats\n",
        "    print(\"Mean of variable   : \" + str(vmean))\n",
        "    print(\"Standard deviation : \" + str(vsd))\n",
        "    print(\"Variance           : \" + str(vvar))\n",
        "    print(\"Skew               : \" + str(vskew))\n",
        "\n",
        "    # plot\n",
        "    print(\"Histogram          :\")\n",
        "    ax = var.hist()\n",
        "    # axis\n",
        "    ax.set(xlabel=a5.value)\n",
        "    noout = plt.axvline(vmean, color='red', linestyle='dashed', linewidth=2)\n",
        "except:\n",
        "    printmd(var_list[a5.value] +\"<b><span style='color:red'> contains non-numeric values!! Cannot compute</span></b>\")\n",
        "    print(df[var_list[a5.value]].describe())\n"
      ]
    },
    {
      "cell_type": "markdown",
      "id": "4316cb1a",
      "metadata": {
        "id": "4316cb1a",
        "papermill": {
          "duration": null,
          "end_time": null,
          "exception": null,
          "start_time": null,
          "status": "pending"
        },
        "tags": []
      },
      "source": [
        "## 6. Generate a new statistical variable to add to SuAVE\n",
        "\n",
        "- select a variable and an operation in the first cell\n",
        "- edit variable name in the second cell\n",
        "- compute the new variable in the third cell"
      ]
    },
    {
      "cell_type": "code",
      "execution_count": 20,
      "id": "f98996ee",
      "metadata": {
        "colab": {
          "base_uri": "https://localhost:8080/",
          "height": 128,
          "referenced_widgets": [
            "91d80a94073f4445a78d5b302de1364b",
            "5653a658f6c9407b9ae09b426cf0388b",
            "faa1269a3d6b463fb4a4f789b0bf5958",
            "d8fe80a5de1742c49f2323191904642a",
            "385b5e664dab446783d3e963a0b4ad43",
            "2ed106cc54cd47e18e58ca9fbfd347f5",
            "97c59c97448c45c5889be7e63f8a0ff9",
            "bfa8c7570e2d46b69c1d96e83946b8b1",
            "1ff50518ce304653b7add71b7595d000",
            "e72c483c42294c67a1c2aaec287cc526"
          ]
        },
        "id": "f98996ee",
        "outputId": "083fbd3b-5deb-4a85-c359-3054f7232e6d",
        "papermill": {
          "duration": null,
          "end_time": null,
          "exception": null,
          "start_time": null,
          "status": "pending"
        },
        "scrolled": true,
        "tags": []
      },
      "outputs": [
        {
          "data": {
            "text/markdown": [
              "<b><span style='color:red'><br>Select a variable and a derivative to create, then run the next cell</span></b>"
            ],
            "text/plain": [
              "<IPython.core.display.Markdown object>"
            ]
          },
          "metadata": {},
          "output_type": "display_data"
        },
        {
          "data": {
            "application/vnd.jupyter.widget-view+json": {
              "model_id": "91d80a94073f4445a78d5b302de1364b",
              "version_major": 2,
              "version_minor": 0
            },
            "text/plain": [
              "VBox(children=(Dropdown(options=('Latitude', 'Longitude'), value='Latitude'), Dropdown(options=('Number of SDs…"
            ]
          },
          "metadata": {},
          "output_type": "display_data"
        },
        {
          "data": {
            "application/vnd.jupyter.widget-view+json": {
              "model_id": "1ff50518ce304653b7add71b7595d000",
              "version_major": 2,
              "version_minor": 0
            },
            "text/plain": [
              "Output()"
            ]
          },
          "metadata": {},
          "output_type": "display_data"
        }
      ],
      "source": [
        "# 6.1 Select a variable for processing\n",
        "\n",
        "a6 = widgets.Dropdown(options=var_list.keys())\n",
        "b6 = widgets.Dropdown(options=['Number of SDs', 'Abs dist from mean'])\n",
        "ui = widgets.VBox([a6, b6])\n",
        "def f6(a, b):\n",
        "    return ((a, b))\n",
        "\n",
        "formula = widgets.interactive_output(f6, {'a': a6, 'b': b6})\n",
        "\n",
        "printmd(\"<b><span style='color:red'><br>Select a variable and a derivative to create, then run the next cell</span></b>\")\n",
        "\n",
        "display(ui, formula)"
      ]
    },
    {
      "cell_type": "code",
      "execution_count": 21,
      "id": "ebfd60a2",
      "metadata": {
        "colab": {
          "base_uri": "https://localhost:8080/",
          "height": 97,
          "referenced_widgets": [
            "db001272b92e47c7ad82b42850f22ef2",
            "b23b661d787c44c98bbd4e1f3d1e2ae3",
            "39fe4628a79e4ae8bfa3945440e979dd",
            "5ca603e75b2143f1a32b9df5d1167fd5",
            "d30f7e22065842e8a0f1cb71c8a0a931",
            "6b6c52f3fb9a49139fadf7d156737bad",
            "f592e65658ca4732a6c3d2b45076c873"
          ]
        },
        "id": "ebfd60a2",
        "outputId": "ad1e85bc-b418-4cc4-d095-96d2e1c7cb42",
        "papermill": {
          "duration": null,
          "end_time": null,
          "exception": null,
          "start_time": null,
          "status": "pending"
        },
        "tags": []
      },
      "outputs": [
        {
          "data": {
            "application/vnd.jupyter.widget-view+json": {
              "model_id": "db001272b92e47c7ad82b42850f22ef2",
              "version_major": 2,
              "version_minor": 0
            },
            "text/plain": [
              "interactive(children=(Text(value='NSD for Latitude#number', description='Var_Name'), Output()), _dom_classes=(…"
            ]
          },
          "metadata": {},
          "output_type": "display_data"
        },
        {
          "data": {
            "text/markdown": [
              "<b><span style='color:red'>After defining variable name hit Enter, then run the next cell</span></b>"
            ],
            "text/plain": [
              "<IPython.core.display.Markdown object>"
            ]
          },
          "metadata": {},
          "output_type": "display_data"
        }
      ],
      "source": [
        "# 6.2 Give a name to the new variable\n",
        "\n",
        "def f62(Var_Name):\n",
        "    return Var_Name\n",
        "if b6.value == \"Abs dist from mean\":\n",
        "    newvar = interact(f62, Var_Name= \"ADFM\" + \" on \" + a6.value +'#number')\n",
        "elif b6.value == \"Number of SDs\":\n",
        "    newvar = interact(f62, Var_Name= \"NSD\" + \" for \" + a6.value +'#number')\n",
        "    \n",
        "printmd(\"<b><span style='color:red'>After defining variable name hit Enter, then run the next cell</span></b>\")\n"
      ]
    },
    {
      "cell_type": "code",
      "execution_count": 22,
      "id": "e3ded992",
      "metadata": {
        "colab": {
          "base_uri": "https://localhost:8080/",
          "height": 46
        },
        "id": "e3ded992",
        "outputId": "44c00584-b286-45e1-8551-57916066e737",
        "papermill": {
          "duration": null,
          "end_time": null,
          "exception": null,
          "start_time": null,
          "status": "pending"
        },
        "tags": []
      },
      "outputs": [
        {
          "data": {
            "text/markdown": [
              "<b><span style='color:red'>New variable computed</span></b>"
            ],
            "text/plain": [
              "<IPython.core.display.Markdown object>"
            ]
          },
          "metadata": {},
          "output_type": "display_data"
        }
      ],
      "source": [
        "# 6.3 Compute the new variable and format it for SuAVE\n",
        "\n",
        "try: \n",
        "    mean = df[var_list[a6.value]].mean()\n",
        "    std = df[var_list[a6.value]].std()\n",
        "\n",
        "    if b6.value == 'Abs dist from mean':\n",
        "        df[newvar.widget.result] = [abs(i - mean) if not math.isnan(i) else np.nan for i in df[var_list[a6.value]]]\n",
        "    elif b6.value == 'Number of SDs':\n",
        "        df[newvar.widget.result] = [math.ceil(abs(i - mean) / std) if not math.isnan(i) else np.nan for i in df[var_list[a6.value]]]\n",
        "\n",
        "\n",
        "    # make sure there are no illegal NaN type values in this #number variable\n",
        "    df[newvar.widget.result].fillna('',inplace=True)\n",
        "    df[newvar.widget.result] = pd.to_numeric(df[newvar.widget.result], errors='coerce', downcast='float')\n",
        "    df[newvar.widget.result] = df[newvar.widget.result].apply(lambda x: '{:.6f}'.format(x))\n",
        "    df.replace(['None', 'nan'], np.nan, inplace=True)\n",
        "    printmd(\"<b><span style='color:red'>New variable computed</span></b>\")\n",
        "\n",
        "except:\n",
        "    printmd(var_list[a6.value] +\"<b><span style='color:red'> contains non-numeric values!! Cannot compute</span></b>\")\n",
        "    print(df[var_list[a6.value]].describe())\n"
      ]
    },
    {
      "cell_type": "markdown",
      "id": "3331bdac",
      "metadata": {
        "id": "3331bdac",
        "papermill": {
          "duration": null,
          "end_time": null,
          "exception": null,
          "start_time": null,
          "status": "pending"
        },
        "tags": []
      },
      "source": [
        "## 7. Visualize the resultant dataframe"
      ]
    },
    {
      "cell_type": "code",
      "execution_count": 23,
      "id": "3d8e4766",
      "metadata": {
        "colab": {
          "base_uri": "https://localhost:8080/",
          "height": 1000
        },
        "id": "3d8e4766",
        "outputId": "81a45b1c-6ef7-4547-bd35-08a83b79680e",
        "papermill": {
          "duration": null,
          "end_time": null,
          "exception": null,
          "start_time": null,
          "status": "pending"
        },
        "tags": []
      },
      "outputs": [
        {
          "data": {
            "text/html": [
              "\n",
              "  <div id=\"df-27a034b9-047f-4d39-956b-3c7433513e1f\">\n",
              "    <div class=\"colab-df-container\">\n",
              "      <div>\n",
              "<style scoped>\n",
              "    .dataframe tbody tr th:only-of-type {\n",
              "        vertical-align: middle;\n",
              "    }\n",
              "\n",
              "    .dataframe tbody tr th {\n",
              "        vertical-align: top;\n",
              "    }\n",
              "\n",
              "    .dataframe thead th {\n",
              "        text-align: right;\n",
              "    }\n",
              "</style>\n",
              "<table border=\"1\" class=\"dataframe\">\n",
              "  <thead>\n",
              "    <tr style=\"text-align: right;\">\n",
              "      <th></th>\n",
              "      <th>Full Name#hidden</th>\n",
              "      <th>Last Name</th>\n",
              "      <th>First Name</th>\n",
              "      <th>Gender</th>\n",
              "      <th>Instituion</th>\n",
              "      <th>Phone Number#hidden</th>\n",
              "      <th>Contact Title#hidden</th>\n",
              "      <th>EmailAddress#hidden</th>\n",
              "      <th>Social Media/Personal Website#link#hidden</th>\n",
              "      <th>Project Information/Links#link#hidden</th>\n",
              "      <th>Focus Areas</th>\n",
              "      <th>Specialty</th>\n",
              "      <th>Example Current Project#hidden</th>\n",
              "      <th>Other Info</th>\n",
              "      <th>#img</th>\n",
              "      <th>#name</th>\n",
              "      <th>#href</th>\n",
              "      <th>Project Images#multi#hidden</th>\n",
              "      <th>Latitude#number#hidden</th>\n",
              "      <th>Longitude#number#hidden</th>\n",
              "      <th>NSD for Latitude#number</th>\n",
              "    </tr>\n",
              "  </thead>\n",
              "  <tbody>\n",
              "    <tr>\n",
              "      <th>0</th>\n",
              "      <td>Meredith Lee</td>\n",
              "      <td>Lee</td>\n",
              "      <td>Meredith</td>\n",
              "      <td>Female</td>\n",
              "      <td>UC Berkeley</td>\n",
              "      <td>510-664-4476</td>\n",
              "      <td>Executive Director of WBDIH</td>\n",
              "      <td>mmlee@berkeley.edu</td>\n",
              "      <td>http://twitter.com/mmlee</td>\n",
              "      <td>https://www.linkedin.com/in/mmlee</td>\n",
              "      <td>Metro Data Science</td>\n",
              "      <td>Precision Medicine</td>\n",
              "      <td>Maker Faire</td>\n",
              "      <td>Participated in Transportation Challenge 2017-2018</td>\n",
              "      <td>MeredithLee</td>\n",
              "      <td>Meredith Lee</td>\n",
              "      <td>https://www.linkedin.com/in/mmlee</td>\n",
              "      <td>&lt;a href=\"https://bioregional.ucsd.edu/suave/surveys/WBDHp/Maker1.jpg\" target=\"_blank\"&gt;&lt;img src=\"https://bioregional.ucsd.edu/suave/surveys/WBDHp/thumbs/Maker1_tn.jpg\"  border=\"0\"&gt;&lt;/a&gt;</td>\n",
              "      <td>37.871899</td>\n",
              "      <td>-122.25854</td>\n",
              "      <td>1.000000</td>\n",
              "    </tr>\n",
              "    <tr>\n",
              "      <th>1</th>\n",
              "      <td>Christine Kirkpatrick</td>\n",
              "      <td>Kirkpatrick</td>\n",
              "      <td>Christine</td>\n",
              "      <td>Female</td>\n",
              "      <td>SDSC</td>\n",
              "      <td>858-822-3322</td>\n",
              "      <td>Division Director of IT Systems &amp; Services</td>\n",
              "      <td>christine@sdsc.edu</td>\n",
              "      <td>http://twitter.com/SuperChristineK</td>\n",
              "      <td>https://www.linkedin.com/in/kirkpatrickchristine</td>\n",
              "      <td>Data-Enabled Scientific Discovery &amp; Learning</td>\n",
              "      <td>Enterprise Architectures</td>\n",
              "      <td>NaN</td>\n",
              "      <td>NaN</td>\n",
              "      <td>ChristineKirkpatrick</td>\n",
              "      <td>Christine Kirkpatrick</td>\n",
              "      <td>https://www.linkedin.com/in/kirkpatrickchristine</td>\n",
              "      <td>NaN</td>\n",
              "      <td>32.884439</td>\n",
              "      <td>-117.23965</td>\n",
              "      <td>1.000000</td>\n",
              "    </tr>\n",
              "    <tr>\n",
              "      <th>2</th>\n",
              "      <td>Sarah Stone</td>\n",
              "      <td>Stone</td>\n",
              "      <td>Sarah</td>\n",
              "      <td>Female</td>\n",
              "      <td>eScience Institute at UW</td>\n",
              "      <td>NaN</td>\n",
              "      <td>eScience Executive Director</td>\n",
              "      <td>manager@escience.washington.edu</td>\n",
              "      <td>http://twitter.com/uwescience</td>\n",
              "      <td>http://escience.washington.edu/people/sarah-stone/</td>\n",
              "      <td>Data-Enabled Scientific Discovery &amp; Learning</td>\n",
              "      <td>Zooplankton Ecology</td>\n",
              "      <td>NaN</td>\n",
              "      <td>Participated in Transportation Challenge 2017-2018</td>\n",
              "      <td>SarahStone</td>\n",
              "      <td>Sarah Stone</td>\n",
              "      <td>http://escience.washington.edu/people/sarah-stone/</td>\n",
              "      <td>NaN</td>\n",
              "      <td>47.653367</td>\n",
              "      <td>-122.311785</td>\n",
              "      <td>2.000000</td>\n",
              "    </tr>\n",
              "    <tr>\n",
              "      <th>3</th>\n",
              "      <td>Michael Franklin</td>\n",
              "      <td>Franklin</td>\n",
              "      <td>Michael</td>\n",
              "      <td>Male</td>\n",
              "      <td>UC Berkeley</td>\n",
              "      <td>510-642-1662</td>\n",
              "      <td>WBDIH Principal Investigator |Professor, University of California Berkeley</td>\n",
              "      <td>franklin@cs.berkeley.edu</td>\n",
              "      <td>http://twitter.com/franklinmj</td>\n",
              "      <td>https://people.eecs.berkeley.edu/~franklin/</td>\n",
              "      <td>Big Data Technology</td>\n",
              "      <td>Data-Enabled Scientific Discovery &amp; Learning</td>\n",
              "      <td>NaN</td>\n",
              "      <td>NaN</td>\n",
              "      <td>MichaelFranklin</td>\n",
              "      <td>Michael Franklin</td>\n",
              "      <td>https://people.eecs.berkeley.edu/~franklin/</td>\n",
              "      <td>NaN</td>\n",
              "      <td>37.871899</td>\n",
              "      <td>-122.25854</td>\n",
              "      <td>1.000000</td>\n",
              "    </tr>\n",
              "    <tr>\n",
              "      <th>4</th>\n",
              "      <td>Ed Lazowska</td>\n",
              "      <td>Lazowska</td>\n",
              "      <td>Ed</td>\n",
              "      <td>Male</td>\n",
              "      <td>University of Washington</td>\n",
              "      <td>206-543-4755</td>\n",
              "      <td>Bill &amp; Melinda Gates Chair in Computer Science &amp; Engineering and eScience Institute Director, University of Washington</td>\n",
              "      <td>lazowskacs.washington.edu</td>\n",
              "      <td>http://twitter.com/lazowska</td>\n",
              "      <td>https://www.cs.washington.edu/people/faculty/lazowska/</td>\n",
              "      <td>Big Data Technology</td>\n",
              "      <td>Computer Systems &amp; Networking</td>\n",
              "      <td>NaN</td>\n",
              "      <td>Participated in Transportation Challenge 2017-2018</td>\n",
              "      <td>EdwardLazowska</td>\n",
              "      <td>Ed Lazowska</td>\n",
              "      <td>https://www.cs.washington.edu/people/faculty/lazowska/</td>\n",
              "      <td>NaN</td>\n",
              "      <td>37.090240</td>\n",
              "      <td>-95.712891</td>\n",
              "      <td>1.000000</td>\n",
              "    </tr>\n",
              "    <tr>\n",
              "      <th>...</th>\n",
              "      <td>...</td>\n",
              "      <td>...</td>\n",
              "      <td>...</td>\n",
              "      <td>...</td>\n",
              "      <td>...</td>\n",
              "      <td>...</td>\n",
              "      <td>...</td>\n",
              "      <td>...</td>\n",
              "      <td>...</td>\n",
              "      <td>...</td>\n",
              "      <td>...</td>\n",
              "      <td>...</td>\n",
              "      <td>...</td>\n",
              "      <td>...</td>\n",
              "      <td>...</td>\n",
              "      <td>...</td>\n",
              "      <td>...</td>\n",
              "      <td>...</td>\n",
              "      <td>...</td>\n",
              "      <td>...</td>\n",
              "      <td>...</td>\n",
              "    </tr>\n",
              "    <tr>\n",
              "      <th>317</th>\n",
              "      <td>Nicole Martindale</td>\n",
              "      <td>Martindale</td>\n",
              "      <td>Nicole</td>\n",
              "      <td>Female</td>\n",
              "      <td>UC San Diego</td>\n",
              "      <td>NaN</td>\n",
              "      <td>NaN</td>\n",
              "      <td>mmartind@ucsd.edu</td>\n",
              "      <td>NaN</td>\n",
              "      <td>https://www.linkedin.com/in/nicole-martindale/</td>\n",
              "      <td>Data-Enabled Scientific Discovery &amp; Learning</td>\n",
              "      <td>NaN</td>\n",
              "      <td>NaN</td>\n",
              "      <td>NaN</td>\n",
              "      <td>NicoleMartindale</td>\n",
              "      <td>Nicole Martindale</td>\n",
              "      <td>https://www.linkedin.com/in/nicole-martindale/</td>\n",
              "      <td>NaN</td>\n",
              "      <td>32.880060</td>\n",
              "      <td>-117.234013</td>\n",
              "      <td>1.000000</td>\n",
              "    </tr>\n",
              "    <tr>\n",
              "      <th>318</th>\n",
              "      <td>Zachary Posner</td>\n",
              "      <td>Posner</td>\n",
              "      <td>Zachary</td>\n",
              "      <td>Male</td>\n",
              "      <td>Black Diamond Equipment</td>\n",
              "      <td>NaN</td>\n",
              "      <td>VP - Information Technology</td>\n",
              "      <td>zach.posner@bdel.com</td>\n",
              "      <td>NaN</td>\n",
              "      <td>https://www.linkedin.com/in/zach-posner/</td>\n",
              "      <td>Metro Data Science</td>\n",
              "      <td>NaN</td>\n",
              "      <td>NaN</td>\n",
              "      <td>NaN</td>\n",
              "      <td>ZacharyPosner</td>\n",
              "      <td>Zachary Posner</td>\n",
              "      <td>https://www.linkedin.com/in/zach-posner/</td>\n",
              "      <td>NaN</td>\n",
              "      <td>33.065138</td>\n",
              "      <td>-117.2540447</td>\n",
              "      <td>1.000000</td>\n",
              "    </tr>\n",
              "    <tr>\n",
              "      <th>319</th>\n",
              "      <td>Mike Jones</td>\n",
              "      <td>Jones</td>\n",
              "      <td>Mike</td>\n",
              "      <td>Male</td>\n",
              "      <td>Goldman Sachs</td>\n",
              "      <td>NaN</td>\n",
              "      <td>Investment Management</td>\n",
              "      <td>mike.jones@gs.com</td>\n",
              "      <td>NaN</td>\n",
              "      <td>https://www.linkedin.com/in/michaelajones3/</td>\n",
              "      <td>Metro Data Science</td>\n",
              "      <td>NaN</td>\n",
              "      <td>NaN</td>\n",
              "      <td>NaN</td>\n",
              "      <td>MikeJones</td>\n",
              "      <td>Mike Jones</td>\n",
              "      <td>https://www.linkedin.com/in/michaelajones3/</td>\n",
              "      <td>NaN</td>\n",
              "      <td>40.713973</td>\n",
              "      <td>-74.0331831</td>\n",
              "      <td>1.000000</td>\n",
              "    </tr>\n",
              "    <tr>\n",
              "      <th>320</th>\n",
              "      <td>Michael Culbertson</td>\n",
              "      <td>Culbertson</td>\n",
              "      <td>Michael</td>\n",
              "      <td>Male</td>\n",
              "      <td>Denver Public Schools</td>\n",
              "      <td>NaN</td>\n",
              "      <td>Senior Analyst</td>\n",
              "      <td>culbertson@rmcres.com</td>\n",
              "      <td>NaN</td>\n",
              "      <td>https://www.linkedin.com/in/michaelculbertson/</td>\n",
              "      <td>Metro Data Science</td>\n",
              "      <td>NaN</td>\n",
              "      <td>NaN</td>\n",
              "      <td>NaN</td>\n",
              "      <td>MichaelCulbertson</td>\n",
              "      <td>Michael Culbertson</td>\n",
              "      <td>https://www.linkedin.com/in/michaelculbertson/</td>\n",
              "      <td>NaN</td>\n",
              "      <td>39.733625</td>\n",
              "      <td>-105.0573563</td>\n",
              "      <td>1.000000</td>\n",
              "    </tr>\n",
              "    <tr>\n",
              "      <th>321</th>\n",
              "      <td>Mary Phillips</td>\n",
              "      <td>Phillips</td>\n",
              "      <td>Mary</td>\n",
              "      <td>Female</td>\n",
              "      <td>Oregon State University</td>\n",
              "      <td>NaN</td>\n",
              "      <td>Mentor</td>\n",
              "      <td>mary.phillips@oregonstate.edu</td>\n",
              "      <td>NaN</td>\n",
              "      <td>https://www.linkedin.com/in/mary-foley-phillips-2998143/</td>\n",
              "      <td>Metro Data Science</td>\n",
              "      <td>NaN</td>\n",
              "      <td>NaN</td>\n",
              "      <td>NaN</td>\n",
              "      <td>MaryPhillips</td>\n",
              "      <td>Mary Phillips</td>\n",
              "      <td>https://www.linkedin.com/in/mary-foley-phillips-2998143/</td>\n",
              "      <td>NaN</td>\n",
              "      <td>44.563892</td>\n",
              "      <td>-123.2792833</td>\n",
              "      <td>2.000000</td>\n",
              "    </tr>\n",
              "  </tbody>\n",
              "</table>\n",
              "<p>322 rows × 21 columns</p>\n",
              "</div>\n",
              "      <button class=\"colab-df-convert\" onclick=\"convertToInteractive('df-27a034b9-047f-4d39-956b-3c7433513e1f')\"\n",
              "              title=\"Convert this dataframe to an interactive table.\"\n",
              "              style=\"display:none;\">\n",
              "        \n",
              "  <svg xmlns=\"http://www.w3.org/2000/svg\" height=\"24px\"viewBox=\"0 0 24 24\"\n",
              "       width=\"24px\">\n",
              "    <path d=\"M0 0h24v24H0V0z\" fill=\"none\"/>\n",
              "    <path d=\"M18.56 5.44l.94 2.06.94-2.06 2.06-.94-2.06-.94-.94-2.06-.94 2.06-2.06.94zm-11 1L8.5 8.5l.94-2.06 2.06-.94-2.06-.94L8.5 2.5l-.94 2.06-2.06.94zm10 10l.94 2.06.94-2.06 2.06-.94-2.06-.94-.94-2.06-.94 2.06-2.06.94z\"/><path d=\"M17.41 7.96l-1.37-1.37c-.4-.4-.92-.59-1.43-.59-.52 0-1.04.2-1.43.59L10.3 9.45l-7.72 7.72c-.78.78-.78 2.05 0 2.83L4 21.41c.39.39.9.59 1.41.59.51 0 1.02-.2 1.41-.59l7.78-7.78 2.81-2.81c.8-.78.8-2.07 0-2.86zM5.41 20L4 18.59l7.72-7.72 1.47 1.35L5.41 20z\"/>\n",
              "  </svg>\n",
              "      </button>\n",
              "      \n",
              "  <style>\n",
              "    .colab-df-container {\n",
              "      display:flex;\n",
              "      flex-wrap:wrap;\n",
              "      gap: 12px;\n",
              "    }\n",
              "\n",
              "    .colab-df-convert {\n",
              "      background-color: #E8F0FE;\n",
              "      border: none;\n",
              "      border-radius: 50%;\n",
              "      cursor: pointer;\n",
              "      display: none;\n",
              "      fill: #1967D2;\n",
              "      height: 32px;\n",
              "      padding: 0 0 0 0;\n",
              "      width: 32px;\n",
              "    }\n",
              "\n",
              "    .colab-df-convert:hover {\n",
              "      background-color: #E2EBFA;\n",
              "      box-shadow: 0px 1px 2px rgba(60, 64, 67, 0.3), 0px 1px 3px 1px rgba(60, 64, 67, 0.15);\n",
              "      fill: #174EA6;\n",
              "    }\n",
              "\n",
              "    [theme=dark] .colab-df-convert {\n",
              "      background-color: #3B4455;\n",
              "      fill: #D2E3FC;\n",
              "    }\n",
              "\n",
              "    [theme=dark] .colab-df-convert:hover {\n",
              "      background-color: #434B5C;\n",
              "      box-shadow: 0px 1px 3px 1px rgba(0, 0, 0, 0.15);\n",
              "      filter: drop-shadow(0px 1px 2px rgba(0, 0, 0, 0.3));\n",
              "      fill: #FFFFFF;\n",
              "    }\n",
              "  </style>\n",
              "\n",
              "      <script>\n",
              "        const buttonEl =\n",
              "          document.querySelector('#df-27a034b9-047f-4d39-956b-3c7433513e1f button.colab-df-convert');\n",
              "        buttonEl.style.display =\n",
              "          google.colab.kernel.accessAllowed ? 'block' : 'none';\n",
              "\n",
              "        async function convertToInteractive(key) {\n",
              "          const element = document.querySelector('#df-27a034b9-047f-4d39-956b-3c7433513e1f');\n",
              "          const dataTable =\n",
              "            await google.colab.kernel.invokeFunction('convertToInteractive',\n",
              "                                                     [key], {});\n",
              "          if (!dataTable) return;\n",
              "\n",
              "          const docLinkHtml = 'Like what you see? Visit the ' +\n",
              "            '<a target=\"_blank\" href=https://colab.research.google.com/notebooks/data_table.ipynb>data table notebook</a>'\n",
              "            + ' to learn more about interactive tables.';\n",
              "          element.innerHTML = '';\n",
              "          dataTable['output_type'] = 'display_data';\n",
              "          await google.colab.output.renderOutput(dataTable, element);\n",
              "          const docLink = document.createElement('div');\n",
              "          docLink.innerHTML = docLinkHtml;\n",
              "          element.appendChild(docLink);\n",
              "        }\n",
              "      </script>\n",
              "    </div>\n",
              "  </div>\n",
              "  "
            ],
            "text/plain": [
              "          Full Name#hidden    Last Name First Name  Gender  \\\n",
              "0    Meredith Lee           Lee          Meredith   Female   \n",
              "1    Christine Kirkpatrick  Kirkpatrick  Christine  Female   \n",
              "2    Sarah Stone            Stone        Sarah      Female   \n",
              "3    Michael Franklin       Franklin     Michael    Male     \n",
              "4    Ed Lazowska            Lazowska     Ed         Male     \n",
              "..           ...                 ...     ..          ...     \n",
              "317  Nicole Martindale      Martindale   Nicole     Female   \n",
              "318  Zachary Posner         Posner       Zachary    Male     \n",
              "319  Mike Jones             Jones        Mike       Male     \n",
              "320  Michael Culbertson     Culbertson   Michael    Male     \n",
              "321  Mary Phillips          Phillips     Mary       Female   \n",
              "\n",
              "                   Instituion Phone Number#hidden  \\\n",
              "0    UC Berkeley               510-664-4476         \n",
              "1    SDSC                      858-822-3322         \n",
              "2    eScience Institute at UW  NaN                  \n",
              "3    UC Berkeley               510-642-1662         \n",
              "4    University of Washington  206-543-4755         \n",
              "..                        ...           ...         \n",
              "317  UC San Diego              NaN                  \n",
              "318  Black Diamond Equipment   NaN                  \n",
              "319  Goldman Sachs             NaN                  \n",
              "320  Denver Public Schools     NaN                  \n",
              "321  Oregon State University   NaN                  \n",
              "\n",
              "                                                                                                       Contact Title#hidden  \\\n",
              "0    Executive Director of WBDIH                                                                                              \n",
              "1    Division Director of IT Systems & Services                                                                               \n",
              "2    eScience Executive Director                                                                                              \n",
              "3    WBDIH Principal Investigator |Professor, University of California Berkeley                                               \n",
              "4    Bill & Melinda Gates Chair in Computer Science & Engineering and eScience Institute Director, University of Washington   \n",
              "..                                                                                                                      ...   \n",
              "317  NaN                                                                                                                      \n",
              "318  VP - Information Technology                                                                                              \n",
              "319  Investment Management                                                                                                    \n",
              "320  Senior Analyst                                                                                                           \n",
              "321  Mentor                                                                                                                   \n",
              "\n",
              "                 EmailAddress#hidden  \\\n",
              "0    mmlee@berkeley.edu                \n",
              "1    christine@sdsc.edu                \n",
              "2    manager@escience.washington.edu   \n",
              "3    franklin@cs.berkeley.edu          \n",
              "4    lazowskacs.washington.edu         \n",
              "..                         ...         \n",
              "317  mmartind@ucsd.edu                 \n",
              "318  zach.posner@bdel.com              \n",
              "319  mike.jones@gs.com                 \n",
              "320  culbertson@rmcres.com             \n",
              "321  mary.phillips@oregonstate.edu     \n",
              "\n",
              "    Social Media/Personal Website#link#hidden  \\\n",
              "0    http://twitter.com/mmlee                   \n",
              "1    http://twitter.com/SuperChristineK         \n",
              "2    http://twitter.com/uwescience              \n",
              "3    http://twitter.com/franklinmj              \n",
              "4    http://twitter.com/lazowska                \n",
              "..                           ...                \n",
              "317  NaN                                        \n",
              "318  NaN                                        \n",
              "319  NaN                                        \n",
              "320  NaN                                        \n",
              "321  NaN                                        \n",
              "\n",
              "                        Project Information/Links#link#hidden  \\\n",
              "0    https://www.linkedin.com/in/mmlee                          \n",
              "1    https://www.linkedin.com/in/kirkpatrickchristine           \n",
              "2    http://escience.washington.edu/people/sarah-stone/         \n",
              "3    https://people.eecs.berkeley.edu/~franklin/                \n",
              "4    https://www.cs.washington.edu/people/faculty/lazowska/     \n",
              "..                                                      ...     \n",
              "317  https://www.linkedin.com/in/nicole-martindale/             \n",
              "318  https://www.linkedin.com/in/zach-posner/                   \n",
              "319  https://www.linkedin.com/in/michaelajones3/                \n",
              "320  https://www.linkedin.com/in/michaelculbertson/             \n",
              "321  https://www.linkedin.com/in/mary-foley-phillips-2998143/   \n",
              "\n",
              "                                      Focus Areas  \\\n",
              "0    Metro Data Science                             \n",
              "1    Data-Enabled Scientific Discovery & Learning   \n",
              "2    Data-Enabled Scientific Discovery & Learning   \n",
              "3    Big Data Technology                            \n",
              "4    Big Data Technology                            \n",
              "..                   ...                            \n",
              "317  Data-Enabled Scientific Discovery & Learning   \n",
              "318  Metro Data Science                             \n",
              "319  Metro Data Science                             \n",
              "320  Metro Data Science                             \n",
              "321  Metro Data Science                             \n",
              "\n",
              "                                        Specialty  \\\n",
              "0    Precision Medicine                             \n",
              "1    Enterprise Architectures                       \n",
              "2    Zooplankton Ecology                            \n",
              "3    Data-Enabled Scientific Discovery & Learning   \n",
              "4    Computer Systems & Networking                  \n",
              "..                             ...                  \n",
              "317  NaN                                            \n",
              "318  NaN                                            \n",
              "319  NaN                                            \n",
              "320  NaN                                            \n",
              "321  NaN                                            \n",
              "\n",
              "    Example Current Project#hidden  \\\n",
              "0    Maker Faire                     \n",
              "1    NaN                             \n",
              "2    NaN                             \n",
              "3    NaN                             \n",
              "4    NaN                             \n",
              "..   ...                             \n",
              "317  NaN                             \n",
              "318  NaN                             \n",
              "319  NaN                             \n",
              "320  NaN                             \n",
              "321  NaN                             \n",
              "\n",
              "                                             Other Info                  #img  \\\n",
              "0    Participated in Transportation Challenge 2017-2018  MeredithLee            \n",
              "1    NaN                                                 ChristineKirkpatrick   \n",
              "2    Participated in Transportation Challenge 2017-2018  SarahStone             \n",
              "3    NaN                                                 MichaelFranklin        \n",
              "4    Participated in Transportation Challenge 2017-2018  EdwardLazowska         \n",
              "..                                                  ...             ...         \n",
              "317  NaN                                                 NicoleMartindale       \n",
              "318  NaN                                                 ZacharyPosner          \n",
              "319  NaN                                                 MikeJones              \n",
              "320  NaN                                                 MichaelCulbertson      \n",
              "321  NaN                                                 MaryPhillips           \n",
              "\n",
              "                     #name  \\\n",
              "0    Meredith Lee            \n",
              "1    Christine Kirkpatrick   \n",
              "2    Sarah Stone             \n",
              "3    Michael Franklin        \n",
              "4    Ed Lazowska             \n",
              "..           ...             \n",
              "317  Nicole Martindale       \n",
              "318  Zachary Posner          \n",
              "319  Mike Jones              \n",
              "320  Michael Culbertson      \n",
              "321  Mary Phillips           \n",
              "\n",
              "                                                        #href  \\\n",
              "0    https://www.linkedin.com/in/mmlee                          \n",
              "1    https://www.linkedin.com/in/kirkpatrickchristine           \n",
              "2    http://escience.washington.edu/people/sarah-stone/         \n",
              "3    https://people.eecs.berkeley.edu/~franklin/                \n",
              "4    https://www.cs.washington.edu/people/faculty/lazowska/     \n",
              "..                                                      ...     \n",
              "317  https://www.linkedin.com/in/nicole-martindale/             \n",
              "318  https://www.linkedin.com/in/zach-posner/                   \n",
              "319  https://www.linkedin.com/in/michaelajones3/                \n",
              "320  https://www.linkedin.com/in/michaelculbertson/             \n",
              "321  https://www.linkedin.com/in/mary-foley-phillips-2998143/   \n",
              "\n",
              "                                                                                                                                                                 Project Images#multi#hidden  \\\n",
              "0    <a href=\"https://bioregional.ucsd.edu/suave/surveys/WBDHp/Maker1.jpg\" target=\"_blank\"><img src=\"https://bioregional.ucsd.edu/suave/surveys/WBDHp/thumbs/Maker1_tn.jpg\"  border=\"0\"></a>   \n",
              "1    NaN                                                                                                                                                                                       \n",
              "2    NaN                                                                                                                                                                                       \n",
              "3    NaN                                                                                                                                                                                       \n",
              "4    NaN                                                                                                                                                                                       \n",
              "..   ...                                                                                                                                                                                       \n",
              "317  NaN                                                                                                                                                                                       \n",
              "318  NaN                                                                                                                                                                                       \n",
              "319  NaN                                                                                                                                                                                       \n",
              "320  NaN                                                                                                                                                                                       \n",
              "321  NaN                                                                                                                                                                                       \n",
              "\n",
              "     Latitude#number#hidden Longitude#number#hidden NSD for Latitude#number  \n",
              "0    37.871899               -122.25854              1.000000                \n",
              "1    32.884439               -117.23965              1.000000                \n",
              "2    47.653367               -122.311785             2.000000                \n",
              "3    37.871899               -122.25854              1.000000                \n",
              "4    37.090240               -95.712891              1.000000                \n",
              "..         ...                      ...                   ...                \n",
              "317  32.880060               -117.234013             1.000000                \n",
              "318  33.065138               -117.2540447            1.000000                \n",
              "319  40.713973               -74.0331831             1.000000                \n",
              "320  39.733625               -105.0573563            1.000000                \n",
              "321  44.563892               -123.2792833            2.000000                \n",
              "\n",
              "[322 rows x 21 columns]"
            ]
          },
          "metadata": {},
          "output_type": "display_data"
        }
      ],
      "source": [
        "with pd.option_context(\"display.max_columns\", None):\n",
        "    if any(\"geometry\" in col for col in df.columns):\n",
        "        display(df.drop(['geometry'],axis=1))\n",
        "    else:\n",
        "        display(df)\n",
        "    \n",
        "    "
      ]
    },
    {
      "cell_type": "markdown",
      "id": "78e710ba",
      "metadata": {
        "id": "78e710ba",
        "papermill": {
          "duration": null,
          "end_time": null,
          "exception": null,
          "start_time": null,
          "status": "pending"
        },
        "tags": []
      },
      "source": [
        "## 8. Save the new version of CSV file, and give a name to new survey"
      ]
    },
    {
      "cell_type": "code",
      "execution_count": 24,
      "id": "00dfac1c",
      "metadata": {
        "colab": {
          "base_uri": "https://localhost:8080/",
          "height": 64
        },
        "id": "00dfac1c",
        "outputId": "a23087f5-7995-4e51-ebc4-3d8ef7cb4abc",
        "papermill": {
          "duration": null,
          "end_time": null,
          "exception": null,
          "start_time": null,
          "status": "pending"
        },
        "tags": []
      },
      "outputs": [
        {
          "data": {
            "text/markdown": [
              "<b><span style='color:red'>A new temporary file will be created at: </span></b>"
            ],
            "text/plain": [
              "<IPython.core.display.Markdown object>"
            ]
          },
          "metadata": {},
          "output_type": "display_data"
        },
        {
          "name": "stdout",
          "output_type": "stream",
          "text": [
            "/content/drive/MyDrive/suave/zaslavsk_WBDH_Participants_v1.csv\n"
          ]
        }
      ],
      "source": [
        "new_file = suaveint.save_csv_file(df, absolutePath, csv_file)"
      ]
    },
    {
      "cell_type": "code",
      "execution_count": 25,
      "id": "014b12f6",
      "metadata": {
        "colab": {
          "base_uri": "https://localhost:8080/",
          "height": 106,
          "referenced_widgets": [
            "ec5678ae93d041e0a198a902ecc91071",
            "f8403c64323d4b9cb4cfc4d0b4066ef4",
            "74446a940c6141af8ca2888967bcf3e4",
            "f43bab7850f640a5974becafe7a69a1f",
            "168e2a9c928045c4aab8b5b773e614ec",
            "ecc900c2218748b4a8617a5fd1a73654"
          ]
        },
        "id": "014b12f6",
        "outputId": "64781adc-bffb-4345-8b50-af081ac47e0a",
        "papermill": {
          "duration": null,
          "end_time": null,
          "exception": null,
          "start_time": null,
          "status": "pending"
        },
        "tags": []
      },
      "outputs": [
        {
          "data": {
            "text/markdown": [
              "<b><span style='color:red'>Input survey name here, press Enter, and then run the next cell:</span></b>"
            ],
            "text/plain": [
              "<IPython.core.display.Markdown object>"
            ]
          },
          "metadata": {},
          "output_type": "display_data"
        },
        {
          "data": {
            "application/vnd.jupyter.widget-view+json": {
              "model_id": "ec5678ae93d041e0a198a902ecc91071",
              "version_major": 2,
              "version_minor": 0
            },
            "text/plain": [
              "Text(value='', placeholder='Enter Survey Name...')"
            ]
          },
          "metadata": {},
          "output_type": "display_data"
        },
        {
          "data": {
            "application/vnd.jupyter.widget-view+json": {
              "model_id": "f43bab7850f640a5974becafe7a69a1f",
              "version_major": 2,
              "version_minor": 0
            },
            "text/plain": [
              "Text(value='')"
            ]
          },
          "metadata": {},
          "output_type": "display_data"
        }
      ],
      "source": [
        "#Input survey name\n",
        "\n",
        "from IPython.display import display\n",
        "input_text = widgets.Text(placeholder='Enter Survey Name...')\n",
        "output_text = widgets.Text()\n",
        "\n",
        "def bind_input_to_output(sender):\n",
        "    output_text.value = input_text.value\n",
        "\n",
        "# Tell the text input widget to call bind_input_to_output() on submit\n",
        "input_text.on_submit(bind_input_to_output)\n",
        "\n",
        "printmd(\"<b><span style='color:red'>Input survey name here, press Enter, and then run the next cell:</span></b>\")\n",
        "# Display input text box widget for input\n",
        "display(input_text)\n",
        "\n",
        "display(output_text)\n"
      ]
    },
    {
      "cell_type": "code",
      "execution_count": 26,
      "id": "3a8a304c",
      "metadata": {
        "colab": {
          "base_uri": "https://localhost:8080/",
          "height": 46
        },
        "id": "3a8a304c",
        "outputId": "3042ac7c-333b-4692-f958-b8d1c90ee436",
        "papermill": {
          "duration": null,
          "end_time": null,
          "exception": null,
          "start_time": null,
          "status": "pending"
        },
        "tags": []
      },
      "outputs": [
        {
          "data": {
            "text/markdown": [
              "<b><span style='color:red'>Survey Name is: </span></b>"
            ],
            "text/plain": [
              "<IPython.core.display.Markdown object>"
            ]
          },
          "metadata": {},
          "output_type": "display_data"
        }
      ],
      "source": [
        "#Print survey name\n",
        "survey_name = output_text.value\n",
        "printmd(\"<b><span style='color:red'>Survey Name is: </span></b>\" + survey_name)"
      ]
    },
    {
      "cell_type": "markdown",
      "id": "42b9d9d9",
      "metadata": {
        "id": "42b9d9d9",
        "papermill": {
          "duration": null,
          "end_time": null,
          "exception": null,
          "start_time": null,
          "status": "pending"
        },
        "tags": []
      },
      "source": [
        "## 9. Generate the survey and create survey URL"
      ]
    },
    {
      "cell_type": "code",
      "execution_count": null,
      "id": "60898a3a",
      "metadata": {
        "id": "60898a3a",
        "papermill": {
          "duration": null,
          "end_time": null,
          "exception": null,
          "start_time": null,
          "status": "pending"
        },
        "tags": []
      },
      "outputs": [],
      "source": [
        "suaveint.create_survey(survey_url,new_file, survey_name, dzc_file, user, csv_file, view, views)"
      ]
    },
    {
      "cell_type": "code",
      "execution_count": null,
      "id": "23b7b2e4",
      "metadata": {
        "id": "23b7b2e4",
        "papermill": {
          "duration": null,
          "end_time": null,
          "exception": null,
          "start_time": null,
          "status": "pending"
        },
        "tags": []
      },
      "outputs": [],
      "source": []
    }
  ],
  "metadata": {
    "colab": {
      "provenance": []
    },
    "kernelspec": {
      "display_name": "Python 3",
      "language": "python",
      "name": "python3"
    },
    "language_info": {
      "codemirror_mode": {
        "name": "ipython",
        "version": 3
      },
      "file_extension": ".py",
      "mimetype": "text/x-python",
      "name": "python",
      "nbconvert_exporter": "python",
      "pygments_lexer": "ipython3",
      "version": "3.10.11"
    },
    "papermill": {
      "default_parameters": {},
      "duration": 7.116041,
      "end_time": "2023-05-25T06:33:51.282464",
      "environment_variables": {},
      "exception": true,
      "input_path": "myclone/operations/stats/DescriptiveStats.ipynb",
      "output_path": "/content/drive/MyDrive/suave/DescriptiveStats.ipynb",
      "parameters": {
        "active_object": "null",
        "csv_file": "zaslavsk_WBDH_Participants.csv",
        "dzc_file": "https://maxim.ucsd.edu/dzgen/lib-staging-uploads/063044157874ce7d5841c906fa6d8073/content.dzc",
        "full_notebook_url": "https://colab.research.google.com/drive/1aZCpg7UmG0nPUuRPTH2p5Nm43G0HmtQg?survey_url=https://suave-dev.sdsc.edu/main/file=zaslavsk_WBDH_Participants.csv&views=1110101&view=grid&user=zaslavsk&csv_file=zaslavsk_WBDH_Participants.csv&params=none&dzc_file=https://maxim.ucsd.edu/dzgen/lib-staging-uploads/063044157874ce7d5841c906fa6d8073/content.dzc&active_object=null",
        "params": "none",
        "survey_url": "https://suave-dev.sdsc.edu/main/file=zaslavsk_WBDH_Participants.csv",
        "user": "zaslavsk",
        "view": "grid",
        "views": "1110101"
      },
      "start_time": "2023-05-25T06:33:44.166423",
      "version": "2.4.0"
    },
    "toc": {
      "base_numbering": 1,
      "nav_menu": {},
      "number_sections": true,
      "sideBar": true,
      "skip_h1_title": true,
      "title_cell": "Table of Contents",
      "title_sidebar": "Contents",
      "toc_cell": false,
      "toc_position": {},
      "toc_section_display": true,
      "toc_window_display": false
    },
    "widgets": {
      "application/vnd.jupyter.widget-state+json": {
        "024d91723c894079b7cf9025a7ee3d94": {
          "model_module": "@jupyter-widgets/base",
          "model_module_version": "1.2.0",
          "model_name": "LayoutModel",
          "state": {
            "_model_module": "@jupyter-widgets/base",
            "_model_module_version": "1.2.0",
            "_model_name": "LayoutModel",
            "_view_count": null,
            "_view_module": "@jupyter-widgets/base",
            "_view_module_version": "1.2.0",
            "_view_name": "LayoutView",
            "align_content": null,
            "align_items": null,
            "align_self": null,
            "border": null,
            "bottom": null,
            "display": null,
            "flex": null,
            "flex_flow": null,
            "grid_area": null,
            "grid_auto_columns": null,
            "grid_auto_flow": null,
            "grid_auto_rows": null,
            "grid_column": null,
            "grid_gap": null,
            "grid_row": null,
            "grid_template_areas": null,
            "grid_template_columns": null,
            "grid_template_rows": null,
            "height": null,
            "justify_content": null,
            "justify_items": null,
            "left": null,
            "margin": null,
            "max_height": null,
            "max_width": null,
            "min_height": null,
            "min_width": null,
            "object_fit": null,
            "object_position": null,
            "order": null,
            "overflow": null,
            "overflow_x": null,
            "overflow_y": null,
            "padding": null,
            "right": null,
            "top": null,
            "visibility": null,
            "width": null
          }
        },
        "03ff58a1ff264a8eb76e00d6af24ea18": {
          "model_module": "@jupyter-widgets/controls",
          "model_module_version": "1.5.0",
          "model_name": "VBoxModel",
          "state": {
            "_dom_classes": [],
            "_model_module": "@jupyter-widgets/controls",
            "_model_module_version": "1.5.0",
            "_model_name": "VBoxModel",
            "_view_count": null,
            "_view_module": "@jupyter-widgets/controls",
            "_view_module_version": "1.5.0",
            "_view_name": "VBoxView",
            "box_style": "",
            "children": [
              "IPY_MODEL_63f6b508d2a845a59858cffd37ee1aef",
              "IPY_MODEL_050fd04591a1422c89dd38ce957f1bf1"
            ],
            "layout": "IPY_MODEL_d06e5a4adc2c48cabbaab14f7c4d9ce5"
          }
        },
        "050fd04591a1422c89dd38ce957f1bf1": {
          "model_module": "@jupyter-widgets/controls",
          "model_module_version": "1.5.0",
          "model_name": "DropdownModel",
          "state": {
            "_dom_classes": [],
            "_model_module": "@jupyter-widgets/controls",
            "_model_module_version": "1.5.0",
            "_model_name": "DropdownModel",
            "_options_labels": [
              "Latitude",
              "Longitude"
            ],
            "_view_count": null,
            "_view_module": "@jupyter-widgets/controls",
            "_view_module_version": "1.5.0",
            "_view_name": "DropdownView",
            "description": "y:",
            "description_tooltip": null,
            "disabled": false,
            "index": 1,
            "layout": "IPY_MODEL_26dec87a6d1848639891b66a77bbdfa6",
            "style": "IPY_MODEL_573d886acbd042a489ff19766e83346f"
          }
        },
        "168e2a9c928045c4aab8b5b773e614ec": {
          "model_module": "@jupyter-widgets/base",
          "model_module_version": "1.2.0",
          "model_name": "LayoutModel",
          "state": {
            "_model_module": "@jupyter-widgets/base",
            "_model_module_version": "1.2.0",
            "_model_name": "LayoutModel",
            "_view_count": null,
            "_view_module": "@jupyter-widgets/base",
            "_view_module_version": "1.2.0",
            "_view_name": "LayoutView",
            "align_content": null,
            "align_items": null,
            "align_self": null,
            "border": null,
            "bottom": null,
            "display": null,
            "flex": null,
            "flex_flow": null,
            "grid_area": null,
            "grid_auto_columns": null,
            "grid_auto_flow": null,
            "grid_auto_rows": null,
            "grid_column": null,
            "grid_gap": null,
            "grid_row": null,
            "grid_template_areas": null,
            "grid_template_columns": null,
            "grid_template_rows": null,
            "height": null,
            "justify_content": null,
            "justify_items": null,
            "left": null,
            "margin": null,
            "max_height": null,
            "max_width": null,
            "min_height": null,
            "min_width": null,
            "object_fit": null,
            "object_position": null,
            "order": null,
            "overflow": null,
            "overflow_x": null,
            "overflow_y": null,
            "padding": null,
            "right": null,
            "top": null,
            "visibility": null,
            "width": null
          }
        },
        "1d43548d1bc540148635464bedbdaa2f": {
          "model_module": "@jupyter-widgets/controls",
          "model_module_version": "1.5.0",
          "model_name": "DropdownModel",
          "state": {
            "_dom_classes": [],
            "_model_module": "@jupyter-widgets/controls",
            "_model_module_version": "1.5.0",
            "_model_name": "DropdownModel",
            "_options_labels": [
              "Latitude",
              "Longitude"
            ],
            "_view_count": null,
            "_view_module": "@jupyter-widgets/controls",
            "_view_module_version": "1.5.0",
            "_view_name": "DropdownView",
            "description": "Variable:",
            "description_tooltip": null,
            "disabled": false,
            "index": 0,
            "layout": "IPY_MODEL_291efb7702bd46a3ba42cf934954fe46",
            "style": "IPY_MODEL_29f235e80bc44c5f94fd67691135c74c"
          }
        },
        "1ff50518ce304653b7add71b7595d000": {
          "model_module": "@jupyter-widgets/output",
          "model_module_version": "1.0.0",
          "model_name": "OutputModel",
          "state": {
            "_dom_classes": [],
            "_model_module": "@jupyter-widgets/output",
            "_model_module_version": "1.0.0",
            "_model_name": "OutputModel",
            "_view_count": null,
            "_view_module": "@jupyter-widgets/output",
            "_view_module_version": "1.0.0",
            "_view_name": "OutputView",
            "layout": "IPY_MODEL_e72c483c42294c67a1c2aaec287cc526",
            "msg_id": "",
            "outputs": []
          }
        },
        "26dec87a6d1848639891b66a77bbdfa6": {
          "model_module": "@jupyter-widgets/base",
          "model_module_version": "1.2.0",
          "model_name": "LayoutModel",
          "state": {
            "_model_module": "@jupyter-widgets/base",
            "_model_module_version": "1.2.0",
            "_model_name": "LayoutModel",
            "_view_count": null,
            "_view_module": "@jupyter-widgets/base",
            "_view_module_version": "1.2.0",
            "_view_name": "LayoutView",
            "align_content": null,
            "align_items": null,
            "align_self": null,
            "border": null,
            "bottom": null,
            "display": null,
            "flex": null,
            "flex_flow": null,
            "grid_area": null,
            "grid_auto_columns": null,
            "grid_auto_flow": null,
            "grid_auto_rows": null,
            "grid_column": null,
            "grid_gap": null,
            "grid_row": null,
            "grid_template_areas": null,
            "grid_template_columns": null,
            "grid_template_rows": null,
            "height": null,
            "justify_content": null,
            "justify_items": null,
            "left": null,
            "margin": null,
            "max_height": null,
            "max_width": null,
            "min_height": null,
            "min_width": null,
            "object_fit": null,
            "object_position": null,
            "order": null,
            "overflow": null,
            "overflow_x": null,
            "overflow_y": null,
            "padding": null,
            "right": null,
            "top": null,
            "visibility": null,
            "width": null
          }
        },
        "291efb7702bd46a3ba42cf934954fe46": {
          "model_module": "@jupyter-widgets/base",
          "model_module_version": "1.2.0",
          "model_name": "LayoutModel",
          "state": {
            "_model_module": "@jupyter-widgets/base",
            "_model_module_version": "1.2.0",
            "_model_name": "LayoutModel",
            "_view_count": null,
            "_view_module": "@jupyter-widgets/base",
            "_view_module_version": "1.2.0",
            "_view_name": "LayoutView",
            "align_content": null,
            "align_items": null,
            "align_self": null,
            "border": null,
            "bottom": null,
            "display": null,
            "flex": null,
            "flex_flow": null,
            "grid_area": null,
            "grid_auto_columns": null,
            "grid_auto_flow": null,
            "grid_auto_rows": null,
            "grid_column": null,
            "grid_gap": null,
            "grid_row": null,
            "grid_template_areas": null,
            "grid_template_columns": null,
            "grid_template_rows": null,
            "height": null,
            "justify_content": null,
            "justify_items": null,
            "left": null,
            "margin": null,
            "max_height": null,
            "max_width": null,
            "min_height": null,
            "min_width": null,
            "object_fit": null,
            "object_position": null,
            "order": null,
            "overflow": null,
            "overflow_x": null,
            "overflow_y": null,
            "padding": null,
            "right": null,
            "top": null,
            "visibility": null,
            "width": null
          }
        },
        "29f235e80bc44c5f94fd67691135c74c": {
          "model_module": "@jupyter-widgets/controls",
          "model_module_version": "1.5.0",
          "model_name": "DescriptionStyleModel",
          "state": {
            "_model_module": "@jupyter-widgets/controls",
            "_model_module_version": "1.5.0",
            "_model_name": "DescriptionStyleModel",
            "_view_count": null,
            "_view_module": "@jupyter-widgets/base",
            "_view_module_version": "1.2.0",
            "_view_name": "StyleView",
            "description_width": ""
          }
        },
        "2e5fd738e0ee405085a35e65e857804e": {
          "model_module": "@jupyter-widgets/base",
          "model_module_version": "1.2.0",
          "model_name": "LayoutModel",
          "state": {
            "_model_module": "@jupyter-widgets/base",
            "_model_module_version": "1.2.0",
            "_model_name": "LayoutModel",
            "_view_count": null,
            "_view_module": "@jupyter-widgets/base",
            "_view_module_version": "1.2.0",
            "_view_name": "LayoutView",
            "align_content": null,
            "align_items": null,
            "align_self": null,
            "border": null,
            "bottom": null,
            "display": null,
            "flex": null,
            "flex_flow": null,
            "grid_area": null,
            "grid_auto_columns": null,
            "grid_auto_flow": null,
            "grid_auto_rows": null,
            "grid_column": null,
            "grid_gap": null,
            "grid_row": null,
            "grid_template_areas": null,
            "grid_template_columns": null,
            "grid_template_rows": null,
            "height": null,
            "justify_content": null,
            "justify_items": null,
            "left": null,
            "margin": null,
            "max_height": null,
            "max_width": null,
            "min_height": null,
            "min_width": null,
            "object_fit": null,
            "object_position": null,
            "order": null,
            "overflow": null,
            "overflow_x": null,
            "overflow_y": null,
            "padding": null,
            "right": null,
            "top": null,
            "visibility": null,
            "width": null
          }
        },
        "2ed106cc54cd47e18e58ca9fbfd347f5": {
          "model_module": "@jupyter-widgets/controls",
          "model_module_version": "1.5.0",
          "model_name": "DescriptionStyleModel",
          "state": {
            "_model_module": "@jupyter-widgets/controls",
            "_model_module_version": "1.5.0",
            "_model_name": "DescriptionStyleModel",
            "_view_count": null,
            "_view_module": "@jupyter-widgets/base",
            "_view_module_version": "1.2.0",
            "_view_name": "StyleView",
            "description_width": ""
          }
        },
        "385b5e664dab446783d3e963a0b4ad43": {
          "model_module": "@jupyter-widgets/base",
          "model_module_version": "1.2.0",
          "model_name": "LayoutModel",
          "state": {
            "_model_module": "@jupyter-widgets/base",
            "_model_module_version": "1.2.0",
            "_model_name": "LayoutModel",
            "_view_count": null,
            "_view_module": "@jupyter-widgets/base",
            "_view_module_version": "1.2.0",
            "_view_name": "LayoutView",
            "align_content": null,
            "align_items": null,
            "align_self": null,
            "border": null,
            "bottom": null,
            "display": null,
            "flex": null,
            "flex_flow": null,
            "grid_area": null,
            "grid_auto_columns": null,
            "grid_auto_flow": null,
            "grid_auto_rows": null,
            "grid_column": null,
            "grid_gap": null,
            "grid_row": null,
            "grid_template_areas": null,
            "grid_template_columns": null,
            "grid_template_rows": null,
            "height": null,
            "justify_content": null,
            "justify_items": null,
            "left": null,
            "margin": null,
            "max_height": null,
            "max_width": null,
            "min_height": null,
            "min_width": null,
            "object_fit": null,
            "object_position": null,
            "order": null,
            "overflow": null,
            "overflow_x": null,
            "overflow_y": null,
            "padding": null,
            "right": null,
            "top": null,
            "visibility": null,
            "width": null
          }
        },
        "39fe4628a79e4ae8bfa3945440e979dd": {
          "model_module": "@jupyter-widgets/output",
          "model_module_version": "1.0.0",
          "model_name": "OutputModel",
          "state": {
            "_dom_classes": [],
            "_model_module": "@jupyter-widgets/output",
            "_model_module_version": "1.0.0",
            "_model_name": "OutputModel",
            "_view_count": null,
            "_view_module": "@jupyter-widgets/output",
            "_view_module_version": "1.0.0",
            "_view_name": "OutputView",
            "layout": "IPY_MODEL_f592e65658ca4732a6c3d2b45076c873",
            "msg_id": "",
            "outputs": [
              {
                "data": {
                  "application/vnd.google.colaboratory.intrinsic+json": {
                    "type": "string"
                  },
                  "text/plain": "'NSD for Latitude#number'"
                },
                "metadata": {},
                "output_type": "display_data"
              }
            ]
          }
        },
        "4d466d236f1e4298a7559626641cba22": {
          "model_module": "@jupyter-widgets/output",
          "model_module_version": "1.0.0",
          "model_name": "OutputModel",
          "state": {
            "_dom_classes": [],
            "_model_module": "@jupyter-widgets/output",
            "_model_module_version": "1.0.0",
            "_model_name": "OutputModel",
            "_view_count": null,
            "_view_module": "@jupyter-widgets/output",
            "_view_module_version": "1.0.0",
            "_view_name": "OutputView",
            "layout": "IPY_MODEL_6b49edd61c7b4a6faf6cc2a0d3c735b4",
            "msg_id": "",
            "outputs": []
          }
        },
        "5653a658f6c9407b9ae09b426cf0388b": {
          "model_module": "@jupyter-widgets/controls",
          "model_module_version": "1.5.0",
          "model_name": "DropdownModel",
          "state": {
            "_dom_classes": [],
            "_model_module": "@jupyter-widgets/controls",
            "_model_module_version": "1.5.0",
            "_model_name": "DropdownModel",
            "_options_labels": [
              "Latitude",
              "Longitude"
            ],
            "_view_count": null,
            "_view_module": "@jupyter-widgets/controls",
            "_view_module_version": "1.5.0",
            "_view_name": "DropdownView",
            "description": "",
            "description_tooltip": null,
            "disabled": false,
            "index": 0,
            "layout": "IPY_MODEL_385b5e664dab446783d3e963a0b4ad43",
            "style": "IPY_MODEL_2ed106cc54cd47e18e58ca9fbfd347f5"
          }
        },
        "573d886acbd042a489ff19766e83346f": {
          "model_module": "@jupyter-widgets/controls",
          "model_module_version": "1.5.0",
          "model_name": "DescriptionStyleModel",
          "state": {
            "_model_module": "@jupyter-widgets/controls",
            "_model_module_version": "1.5.0",
            "_model_name": "DescriptionStyleModel",
            "_view_count": null,
            "_view_module": "@jupyter-widgets/base",
            "_view_module_version": "1.2.0",
            "_view_name": "StyleView",
            "description_width": ""
          }
        },
        "5ca603e75b2143f1a32b9df5d1167fd5": {
          "model_module": "@jupyter-widgets/base",
          "model_module_version": "1.2.0",
          "model_name": "LayoutModel",
          "state": {
            "_model_module": "@jupyter-widgets/base",
            "_model_module_version": "1.2.0",
            "_model_name": "LayoutModel",
            "_view_count": null,
            "_view_module": "@jupyter-widgets/base",
            "_view_module_version": "1.2.0",
            "_view_name": "LayoutView",
            "align_content": null,
            "align_items": null,
            "align_self": null,
            "border": null,
            "bottom": null,
            "display": null,
            "flex": null,
            "flex_flow": null,
            "grid_area": null,
            "grid_auto_columns": null,
            "grid_auto_flow": null,
            "grid_auto_rows": null,
            "grid_column": null,
            "grid_gap": null,
            "grid_row": null,
            "grid_template_areas": null,
            "grid_template_columns": null,
            "grid_template_rows": null,
            "height": null,
            "justify_content": null,
            "justify_items": null,
            "left": null,
            "margin": null,
            "max_height": null,
            "max_width": null,
            "min_height": null,
            "min_width": null,
            "object_fit": null,
            "object_position": null,
            "order": null,
            "overflow": null,
            "overflow_x": null,
            "overflow_y": null,
            "padding": null,
            "right": null,
            "top": null,
            "visibility": null,
            "width": null
          }
        },
        "63f6b508d2a845a59858cffd37ee1aef": {
          "model_module": "@jupyter-widgets/controls",
          "model_module_version": "1.5.0",
          "model_name": "DropdownModel",
          "state": {
            "_dom_classes": [],
            "_model_module": "@jupyter-widgets/controls",
            "_model_module_version": "1.5.0",
            "_model_name": "DropdownModel",
            "_options_labels": [
              "Latitude",
              "Longitude"
            ],
            "_view_count": null,
            "_view_module": "@jupyter-widgets/controls",
            "_view_module_version": "1.5.0",
            "_view_name": "DropdownView",
            "description": "x:",
            "description_tooltip": null,
            "disabled": false,
            "index": 0,
            "layout": "IPY_MODEL_2e5fd738e0ee405085a35e65e857804e",
            "style": "IPY_MODEL_6dfbba3e961e4b0fb5ae93397d4ce489"
          }
        },
        "6b49edd61c7b4a6faf6cc2a0d3c735b4": {
          "model_module": "@jupyter-widgets/base",
          "model_module_version": "1.2.0",
          "model_name": "LayoutModel",
          "state": {
            "_model_module": "@jupyter-widgets/base",
            "_model_module_version": "1.2.0",
            "_model_name": "LayoutModel",
            "_view_count": null,
            "_view_module": "@jupyter-widgets/base",
            "_view_module_version": "1.2.0",
            "_view_name": "LayoutView",
            "align_content": null,
            "align_items": null,
            "align_self": null,
            "border": null,
            "bottom": null,
            "display": null,
            "flex": null,
            "flex_flow": null,
            "grid_area": null,
            "grid_auto_columns": null,
            "grid_auto_flow": null,
            "grid_auto_rows": null,
            "grid_column": null,
            "grid_gap": null,
            "grid_row": null,
            "grid_template_areas": null,
            "grid_template_columns": null,
            "grid_template_rows": null,
            "height": null,
            "justify_content": null,
            "justify_items": null,
            "left": null,
            "margin": null,
            "max_height": null,
            "max_width": null,
            "min_height": null,
            "min_width": null,
            "object_fit": null,
            "object_position": null,
            "order": null,
            "overflow": null,
            "overflow_x": null,
            "overflow_y": null,
            "padding": null,
            "right": null,
            "top": null,
            "visibility": null,
            "width": null
          }
        },
        "6b6c52f3fb9a49139fadf7d156737bad": {
          "model_module": "@jupyter-widgets/controls",
          "model_module_version": "1.5.0",
          "model_name": "DescriptionStyleModel",
          "state": {
            "_model_module": "@jupyter-widgets/controls",
            "_model_module_version": "1.5.0",
            "_model_name": "DescriptionStyleModel",
            "_view_count": null,
            "_view_module": "@jupyter-widgets/base",
            "_view_module_version": "1.2.0",
            "_view_name": "StyleView",
            "description_width": ""
          }
        },
        "6dfbba3e961e4b0fb5ae93397d4ce489": {
          "model_module": "@jupyter-widgets/controls",
          "model_module_version": "1.5.0",
          "model_name": "DescriptionStyleModel",
          "state": {
            "_model_module": "@jupyter-widgets/controls",
            "_model_module_version": "1.5.0",
            "_model_name": "DescriptionStyleModel",
            "_view_count": null,
            "_view_module": "@jupyter-widgets/base",
            "_view_module_version": "1.2.0",
            "_view_name": "StyleView",
            "description_width": ""
          }
        },
        "74446a940c6141af8ca2888967bcf3e4": {
          "model_module": "@jupyter-widgets/controls",
          "model_module_version": "1.5.0",
          "model_name": "DescriptionStyleModel",
          "state": {
            "_model_module": "@jupyter-widgets/controls",
            "_model_module_version": "1.5.0",
            "_model_name": "DescriptionStyleModel",
            "_view_count": null,
            "_view_module": "@jupyter-widgets/base",
            "_view_module_version": "1.2.0",
            "_view_name": "StyleView",
            "description_width": ""
          }
        },
        "7781194ca9fc4979ba280e347264a404": {
          "model_module": "@jupyter-widgets/controls",
          "model_module_version": "1.5.0",
          "model_name": "DropdownModel",
          "state": {
            "_dom_classes": [],
            "_model_module": "@jupyter-widgets/controls",
            "_model_module_version": "1.5.0",
            "_model_name": "DropdownModel",
            "_options_labels": [
              "Latitude",
              "Longitude"
            ],
            "_view_count": null,
            "_view_module": "@jupyter-widgets/controls",
            "_view_module_version": "1.5.0",
            "_view_name": "DropdownView",
            "description": "2:",
            "description_tooltip": null,
            "disabled": false,
            "index": 1,
            "layout": "IPY_MODEL_024d91723c894079b7cf9025a7ee3d94",
            "style": "IPY_MODEL_82418cb0ac9a48aeb0c8e27df2760b89"
          }
        },
        "79530643c9fc4ecb95b37737e6e1bfbf": {
          "model_module": "@jupyter-widgets/base",
          "model_module_version": "1.2.0",
          "model_name": "LayoutModel",
          "state": {
            "_model_module": "@jupyter-widgets/base",
            "_model_module_version": "1.2.0",
            "_model_name": "LayoutModel",
            "_view_count": null,
            "_view_module": "@jupyter-widgets/base",
            "_view_module_version": "1.2.0",
            "_view_name": "LayoutView",
            "align_content": null,
            "align_items": null,
            "align_self": null,
            "border": null,
            "bottom": null,
            "display": null,
            "flex": null,
            "flex_flow": null,
            "grid_area": null,
            "grid_auto_columns": null,
            "grid_auto_flow": null,
            "grid_auto_rows": null,
            "grid_column": null,
            "grid_gap": null,
            "grid_row": null,
            "grid_template_areas": null,
            "grid_template_columns": null,
            "grid_template_rows": null,
            "height": null,
            "justify_content": null,
            "justify_items": null,
            "left": null,
            "margin": null,
            "max_height": null,
            "max_width": null,
            "min_height": null,
            "min_width": null,
            "object_fit": null,
            "object_position": null,
            "order": null,
            "overflow": null,
            "overflow_x": null,
            "overflow_y": null,
            "padding": null,
            "right": null,
            "top": null,
            "visibility": null,
            "width": null
          }
        },
        "82418cb0ac9a48aeb0c8e27df2760b89": {
          "model_module": "@jupyter-widgets/controls",
          "model_module_version": "1.5.0",
          "model_name": "DescriptionStyleModel",
          "state": {
            "_model_module": "@jupyter-widgets/controls",
            "_model_module_version": "1.5.0",
            "_model_name": "DescriptionStyleModel",
            "_view_count": null,
            "_view_module": "@jupyter-widgets/base",
            "_view_module_version": "1.2.0",
            "_view_name": "StyleView",
            "description_width": ""
          }
        },
        "85d0a665c8c947a78c72da2a35531b36": {
          "model_module": "@jupyter-widgets/output",
          "model_module_version": "1.0.0",
          "model_name": "OutputModel",
          "state": {
            "_dom_classes": [],
            "_model_module": "@jupyter-widgets/output",
            "_model_module_version": "1.0.0",
            "_model_name": "OutputModel",
            "_view_count": null,
            "_view_module": "@jupyter-widgets/output",
            "_view_module_version": "1.0.0",
            "_view_name": "OutputView",
            "layout": "IPY_MODEL_ca1fc1f0e4124c058efa1f20ccc6aba9",
            "msg_id": "",
            "outputs": []
          }
        },
        "91d80a94073f4445a78d5b302de1364b": {
          "model_module": "@jupyter-widgets/controls",
          "model_module_version": "1.5.0",
          "model_name": "VBoxModel",
          "state": {
            "_dom_classes": [],
            "_model_module": "@jupyter-widgets/controls",
            "_model_module_version": "1.5.0",
            "_model_name": "VBoxModel",
            "_view_count": null,
            "_view_module": "@jupyter-widgets/controls",
            "_view_module_version": "1.5.0",
            "_view_name": "VBoxView",
            "box_style": "",
            "children": [
              "IPY_MODEL_5653a658f6c9407b9ae09b426cf0388b",
              "IPY_MODEL_faa1269a3d6b463fb4a4f789b0bf5958"
            ],
            "layout": "IPY_MODEL_d8fe80a5de1742c49f2323191904642a"
          }
        },
        "97c59c97448c45c5889be7e63f8a0ff9": {
          "model_module": "@jupyter-widgets/base",
          "model_module_version": "1.2.0",
          "model_name": "LayoutModel",
          "state": {
            "_model_module": "@jupyter-widgets/base",
            "_model_module_version": "1.2.0",
            "_model_name": "LayoutModel",
            "_view_count": null,
            "_view_module": "@jupyter-widgets/base",
            "_view_module_version": "1.2.0",
            "_view_name": "LayoutView",
            "align_content": null,
            "align_items": null,
            "align_self": null,
            "border": null,
            "bottom": null,
            "display": null,
            "flex": null,
            "flex_flow": null,
            "grid_area": null,
            "grid_auto_columns": null,
            "grid_auto_flow": null,
            "grid_auto_rows": null,
            "grid_column": null,
            "grid_gap": null,
            "grid_row": null,
            "grid_template_areas": null,
            "grid_template_columns": null,
            "grid_template_rows": null,
            "height": null,
            "justify_content": null,
            "justify_items": null,
            "left": null,
            "margin": null,
            "max_height": null,
            "max_width": null,
            "min_height": null,
            "min_width": null,
            "object_fit": null,
            "object_position": null,
            "order": null,
            "overflow": null,
            "overflow_x": null,
            "overflow_y": null,
            "padding": null,
            "right": null,
            "top": null,
            "visibility": null,
            "width": null
          }
        },
        "9c03b6db1c28458587763e260b23db12": {
          "model_module": "@jupyter-widgets/controls",
          "model_module_version": "1.5.0",
          "model_name": "DropdownModel",
          "state": {
            "_dom_classes": [],
            "_model_module": "@jupyter-widgets/controls",
            "_model_module_version": "1.5.0",
            "_model_name": "DropdownModel",
            "_options_labels": [
              "Latitude",
              "Longitude"
            ],
            "_view_count": null,
            "_view_module": "@jupyter-widgets/controls",
            "_view_module_version": "1.5.0",
            "_view_name": "DropdownView",
            "description": "1:",
            "description_tooltip": null,
            "disabled": false,
            "index": 0,
            "layout": "IPY_MODEL_9cefd21f767d44d8a0f575c79e2b859e",
            "style": "IPY_MODEL_f1db29bc1b5240f2bf382740bde23cb9"
          }
        },
        "9cefd21f767d44d8a0f575c79e2b859e": {
          "model_module": "@jupyter-widgets/base",
          "model_module_version": "1.2.0",
          "model_name": "LayoutModel",
          "state": {
            "_model_module": "@jupyter-widgets/base",
            "_model_module_version": "1.2.0",
            "_model_name": "LayoutModel",
            "_view_count": null,
            "_view_module": "@jupyter-widgets/base",
            "_view_module_version": "1.2.0",
            "_view_name": "LayoutView",
            "align_content": null,
            "align_items": null,
            "align_self": null,
            "border": null,
            "bottom": null,
            "display": null,
            "flex": null,
            "flex_flow": null,
            "grid_area": null,
            "grid_auto_columns": null,
            "grid_auto_flow": null,
            "grid_auto_rows": null,
            "grid_column": null,
            "grid_gap": null,
            "grid_row": null,
            "grid_template_areas": null,
            "grid_template_columns": null,
            "grid_template_rows": null,
            "height": null,
            "justify_content": null,
            "justify_items": null,
            "left": null,
            "margin": null,
            "max_height": null,
            "max_width": null,
            "min_height": null,
            "min_width": null,
            "object_fit": null,
            "object_position": null,
            "order": null,
            "overflow": null,
            "overflow_x": null,
            "overflow_y": null,
            "padding": null,
            "right": null,
            "top": null,
            "visibility": null,
            "width": null
          }
        },
        "b23b661d787c44c98bbd4e1f3d1e2ae3": {
          "model_module": "@jupyter-widgets/controls",
          "model_module_version": "1.5.0",
          "model_name": "TextModel",
          "state": {
            "_dom_classes": [],
            "_model_module": "@jupyter-widgets/controls",
            "_model_module_version": "1.5.0",
            "_model_name": "TextModel",
            "_view_count": null,
            "_view_module": "@jupyter-widgets/controls",
            "_view_module_version": "1.5.0",
            "_view_name": "TextView",
            "continuous_update": true,
            "description": "Var_Name",
            "description_tooltip": null,
            "disabled": false,
            "layout": "IPY_MODEL_d30f7e22065842e8a0f1cb71c8a0a931",
            "placeholder": "​",
            "style": "IPY_MODEL_6b6c52f3fb9a49139fadf7d156737bad",
            "value": "NSD for Latitude#number"
          }
        },
        "bfa8c7570e2d46b69c1d96e83946b8b1": {
          "model_module": "@jupyter-widgets/controls",
          "model_module_version": "1.5.0",
          "model_name": "DescriptionStyleModel",
          "state": {
            "_model_module": "@jupyter-widgets/controls",
            "_model_module_version": "1.5.0",
            "_model_name": "DescriptionStyleModel",
            "_view_count": null,
            "_view_module": "@jupyter-widgets/base",
            "_view_module_version": "1.2.0",
            "_view_name": "StyleView",
            "description_width": ""
          }
        },
        "ca1fc1f0e4124c058efa1f20ccc6aba9": {
          "model_module": "@jupyter-widgets/base",
          "model_module_version": "1.2.0",
          "model_name": "LayoutModel",
          "state": {
            "_model_module": "@jupyter-widgets/base",
            "_model_module_version": "1.2.0",
            "_model_name": "LayoutModel",
            "_view_count": null,
            "_view_module": "@jupyter-widgets/base",
            "_view_module_version": "1.2.0",
            "_view_name": "LayoutView",
            "align_content": null,
            "align_items": null,
            "align_self": null,
            "border": null,
            "bottom": null,
            "display": null,
            "flex": null,
            "flex_flow": null,
            "grid_area": null,
            "grid_auto_columns": null,
            "grid_auto_flow": null,
            "grid_auto_rows": null,
            "grid_column": null,
            "grid_gap": null,
            "grid_row": null,
            "grid_template_areas": null,
            "grid_template_columns": null,
            "grid_template_rows": null,
            "height": null,
            "justify_content": null,
            "justify_items": null,
            "left": null,
            "margin": null,
            "max_height": null,
            "max_width": null,
            "min_height": null,
            "min_width": null,
            "object_fit": null,
            "object_position": null,
            "order": null,
            "overflow": null,
            "overflow_x": null,
            "overflow_y": null,
            "padding": null,
            "right": null,
            "top": null,
            "visibility": null,
            "width": null
          }
        },
        "d06e5a4adc2c48cabbaab14f7c4d9ce5": {
          "model_module": "@jupyter-widgets/base",
          "model_module_version": "1.2.0",
          "model_name": "LayoutModel",
          "state": {
            "_model_module": "@jupyter-widgets/base",
            "_model_module_version": "1.2.0",
            "_model_name": "LayoutModel",
            "_view_count": null,
            "_view_module": "@jupyter-widgets/base",
            "_view_module_version": "1.2.0",
            "_view_name": "LayoutView",
            "align_content": null,
            "align_items": null,
            "align_self": null,
            "border": null,
            "bottom": null,
            "display": null,
            "flex": null,
            "flex_flow": null,
            "grid_area": null,
            "grid_auto_columns": null,
            "grid_auto_flow": null,
            "grid_auto_rows": null,
            "grid_column": null,
            "grid_gap": null,
            "grid_row": null,
            "grid_template_areas": null,
            "grid_template_columns": null,
            "grid_template_rows": null,
            "height": null,
            "justify_content": null,
            "justify_items": null,
            "left": null,
            "margin": null,
            "max_height": null,
            "max_width": null,
            "min_height": null,
            "min_width": null,
            "object_fit": null,
            "object_position": null,
            "order": null,
            "overflow": null,
            "overflow_x": null,
            "overflow_y": null,
            "padding": null,
            "right": null,
            "top": null,
            "visibility": null,
            "width": null
          }
        },
        "d30f7e22065842e8a0f1cb71c8a0a931": {
          "model_module": "@jupyter-widgets/base",
          "model_module_version": "1.2.0",
          "model_name": "LayoutModel",
          "state": {
            "_model_module": "@jupyter-widgets/base",
            "_model_module_version": "1.2.0",
            "_model_name": "LayoutModel",
            "_view_count": null,
            "_view_module": "@jupyter-widgets/base",
            "_view_module_version": "1.2.0",
            "_view_name": "LayoutView",
            "align_content": null,
            "align_items": null,
            "align_self": null,
            "border": null,
            "bottom": null,
            "display": null,
            "flex": null,
            "flex_flow": null,
            "grid_area": null,
            "grid_auto_columns": null,
            "grid_auto_flow": null,
            "grid_auto_rows": null,
            "grid_column": null,
            "grid_gap": null,
            "grid_row": null,
            "grid_template_areas": null,
            "grid_template_columns": null,
            "grid_template_rows": null,
            "height": null,
            "justify_content": null,
            "justify_items": null,
            "left": null,
            "margin": null,
            "max_height": null,
            "max_width": null,
            "min_height": null,
            "min_width": null,
            "object_fit": null,
            "object_position": null,
            "order": null,
            "overflow": null,
            "overflow_x": null,
            "overflow_y": null,
            "padding": null,
            "right": null,
            "top": null,
            "visibility": null,
            "width": null
          }
        },
        "d8fe80a5de1742c49f2323191904642a": {
          "model_module": "@jupyter-widgets/base",
          "model_module_version": "1.2.0",
          "model_name": "LayoutModel",
          "state": {
            "_model_module": "@jupyter-widgets/base",
            "_model_module_version": "1.2.0",
            "_model_name": "LayoutModel",
            "_view_count": null,
            "_view_module": "@jupyter-widgets/base",
            "_view_module_version": "1.2.0",
            "_view_name": "LayoutView",
            "align_content": null,
            "align_items": null,
            "align_self": null,
            "border": null,
            "bottom": null,
            "display": null,
            "flex": null,
            "flex_flow": null,
            "grid_area": null,
            "grid_auto_columns": null,
            "grid_auto_flow": null,
            "grid_auto_rows": null,
            "grid_column": null,
            "grid_gap": null,
            "grid_row": null,
            "grid_template_areas": null,
            "grid_template_columns": null,
            "grid_template_rows": null,
            "height": null,
            "justify_content": null,
            "justify_items": null,
            "left": null,
            "margin": null,
            "max_height": null,
            "max_width": null,
            "min_height": null,
            "min_width": null,
            "object_fit": null,
            "object_position": null,
            "order": null,
            "overflow": null,
            "overflow_x": null,
            "overflow_y": null,
            "padding": null,
            "right": null,
            "top": null,
            "visibility": null,
            "width": null
          }
        },
        "db001272b92e47c7ad82b42850f22ef2": {
          "model_module": "@jupyter-widgets/controls",
          "model_module_version": "1.5.0",
          "model_name": "VBoxModel",
          "state": {
            "_dom_classes": [
              "widget-interact"
            ],
            "_model_module": "@jupyter-widgets/controls",
            "_model_module_version": "1.5.0",
            "_model_name": "VBoxModel",
            "_view_count": null,
            "_view_module": "@jupyter-widgets/controls",
            "_view_module_version": "1.5.0",
            "_view_name": "VBoxView",
            "box_style": "",
            "children": [
              "IPY_MODEL_b23b661d787c44c98bbd4e1f3d1e2ae3",
              "IPY_MODEL_39fe4628a79e4ae8bfa3945440e979dd"
            ],
            "layout": "IPY_MODEL_5ca603e75b2143f1a32b9df5d1167fd5"
          }
        },
        "e72c483c42294c67a1c2aaec287cc526": {
          "model_module": "@jupyter-widgets/base",
          "model_module_version": "1.2.0",
          "model_name": "LayoutModel",
          "state": {
            "_model_module": "@jupyter-widgets/base",
            "_model_module_version": "1.2.0",
            "_model_name": "LayoutModel",
            "_view_count": null,
            "_view_module": "@jupyter-widgets/base",
            "_view_module_version": "1.2.0",
            "_view_name": "LayoutView",
            "align_content": null,
            "align_items": null,
            "align_self": null,
            "border": null,
            "bottom": null,
            "display": null,
            "flex": null,
            "flex_flow": null,
            "grid_area": null,
            "grid_auto_columns": null,
            "grid_auto_flow": null,
            "grid_auto_rows": null,
            "grid_column": null,
            "grid_gap": null,
            "grid_row": null,
            "grid_template_areas": null,
            "grid_template_columns": null,
            "grid_template_rows": null,
            "height": null,
            "justify_content": null,
            "justify_items": null,
            "left": null,
            "margin": null,
            "max_height": null,
            "max_width": null,
            "min_height": null,
            "min_width": null,
            "object_fit": null,
            "object_position": null,
            "order": null,
            "overflow": null,
            "overflow_x": null,
            "overflow_y": null,
            "padding": null,
            "right": null,
            "top": null,
            "visibility": null,
            "width": null
          }
        },
        "e9fa8759c6174b0c8c09cbd45f03649f": {
          "model_module": "@jupyter-widgets/controls",
          "model_module_version": "1.5.0",
          "model_name": "VBoxModel",
          "state": {
            "_dom_classes": [],
            "_model_module": "@jupyter-widgets/controls",
            "_model_module_version": "1.5.0",
            "_model_name": "VBoxModel",
            "_view_count": null,
            "_view_module": "@jupyter-widgets/controls",
            "_view_module_version": "1.5.0",
            "_view_name": "VBoxView",
            "box_style": "",
            "children": [
              "IPY_MODEL_1d43548d1bc540148635464bedbdaa2f"
            ],
            "layout": "IPY_MODEL_79530643c9fc4ecb95b37737e6e1bfbf"
          }
        },
        "ec5678ae93d041e0a198a902ecc91071": {
          "model_module": "@jupyter-widgets/controls",
          "model_module_version": "1.5.0",
          "model_name": "TextModel",
          "state": {
            "_dom_classes": [],
            "_model_module": "@jupyter-widgets/controls",
            "_model_module_version": "1.5.0",
            "_model_name": "TextModel",
            "_view_count": null,
            "_view_module": "@jupyter-widgets/controls",
            "_view_module_version": "1.5.0",
            "_view_name": "TextView",
            "continuous_update": true,
            "description": "",
            "description_tooltip": null,
            "disabled": false,
            "layout": "IPY_MODEL_f8403c64323d4b9cb4cfc4d0b4066ef4",
            "placeholder": "Enter Survey Name...",
            "style": "IPY_MODEL_74446a940c6141af8ca2888967bcf3e4",
            "value": ""
          }
        },
        "ecc900c2218748b4a8617a5fd1a73654": {
          "model_module": "@jupyter-widgets/controls",
          "model_module_version": "1.5.0",
          "model_name": "DescriptionStyleModel",
          "state": {
            "_model_module": "@jupyter-widgets/controls",
            "_model_module_version": "1.5.0",
            "_model_name": "DescriptionStyleModel",
            "_view_count": null,
            "_view_module": "@jupyter-widgets/base",
            "_view_module_version": "1.2.0",
            "_view_name": "StyleView",
            "description_width": ""
          }
        },
        "f1db29bc1b5240f2bf382740bde23cb9": {
          "model_module": "@jupyter-widgets/controls",
          "model_module_version": "1.5.0",
          "model_name": "DescriptionStyleModel",
          "state": {
            "_model_module": "@jupyter-widgets/controls",
            "_model_module_version": "1.5.0",
            "_model_name": "DescriptionStyleModel",
            "_view_count": null,
            "_view_module": "@jupyter-widgets/base",
            "_view_module_version": "1.2.0",
            "_view_name": "StyleView",
            "description_width": ""
          }
        },
        "f43bab7850f640a5974becafe7a69a1f": {
          "model_module": "@jupyter-widgets/controls",
          "model_module_version": "1.5.0",
          "model_name": "TextModel",
          "state": {
            "_dom_classes": [],
            "_model_module": "@jupyter-widgets/controls",
            "_model_module_version": "1.5.0",
            "_model_name": "TextModel",
            "_view_count": null,
            "_view_module": "@jupyter-widgets/controls",
            "_view_module_version": "1.5.0",
            "_view_name": "TextView",
            "continuous_update": true,
            "description": "",
            "description_tooltip": null,
            "disabled": false,
            "layout": "IPY_MODEL_168e2a9c928045c4aab8b5b773e614ec",
            "placeholder": "​",
            "style": "IPY_MODEL_ecc900c2218748b4a8617a5fd1a73654",
            "value": ""
          }
        },
        "f592e65658ca4732a6c3d2b45076c873": {
          "model_module": "@jupyter-widgets/base",
          "model_module_version": "1.2.0",
          "model_name": "LayoutModel",
          "state": {
            "_model_module": "@jupyter-widgets/base",
            "_model_module_version": "1.2.0",
            "_model_name": "LayoutModel",
            "_view_count": null,
            "_view_module": "@jupyter-widgets/base",
            "_view_module_version": "1.2.0",
            "_view_name": "LayoutView",
            "align_content": null,
            "align_items": null,
            "align_self": null,
            "border": null,
            "bottom": null,
            "display": null,
            "flex": null,
            "flex_flow": null,
            "grid_area": null,
            "grid_auto_columns": null,
            "grid_auto_flow": null,
            "grid_auto_rows": null,
            "grid_column": null,
            "grid_gap": null,
            "grid_row": null,
            "grid_template_areas": null,
            "grid_template_columns": null,
            "grid_template_rows": null,
            "height": null,
            "justify_content": null,
            "justify_items": null,
            "left": null,
            "margin": null,
            "max_height": null,
            "max_width": null,
            "min_height": null,
            "min_width": null,
            "object_fit": null,
            "object_position": null,
            "order": null,
            "overflow": null,
            "overflow_x": null,
            "overflow_y": null,
            "padding": null,
            "right": null,
            "top": null,
            "visibility": null,
            "width": null
          }
        },
        "f8403c64323d4b9cb4cfc4d0b4066ef4": {
          "model_module": "@jupyter-widgets/base",
          "model_module_version": "1.2.0",
          "model_name": "LayoutModel",
          "state": {
            "_model_module": "@jupyter-widgets/base",
            "_model_module_version": "1.2.0",
            "_model_name": "LayoutModel",
            "_view_count": null,
            "_view_module": "@jupyter-widgets/base",
            "_view_module_version": "1.2.0",
            "_view_name": "LayoutView",
            "align_content": null,
            "align_items": null,
            "align_self": null,
            "border": null,
            "bottom": null,
            "display": null,
            "flex": null,
            "flex_flow": null,
            "grid_area": null,
            "grid_auto_columns": null,
            "grid_auto_flow": null,
            "grid_auto_rows": null,
            "grid_column": null,
            "grid_gap": null,
            "grid_row": null,
            "grid_template_areas": null,
            "grid_template_columns": null,
            "grid_template_rows": null,
            "height": null,
            "justify_content": null,
            "justify_items": null,
            "left": null,
            "margin": null,
            "max_height": null,
            "max_width": null,
            "min_height": null,
            "min_width": null,
            "object_fit": null,
            "object_position": null,
            "order": null,
            "overflow": null,
            "overflow_x": null,
            "overflow_y": null,
            "padding": null,
            "right": null,
            "top": null,
            "visibility": null,
            "width": null
          }
        },
        "faa1269a3d6b463fb4a4f789b0bf5958": {
          "model_module": "@jupyter-widgets/controls",
          "model_module_version": "1.5.0",
          "model_name": "DropdownModel",
          "state": {
            "_dom_classes": [],
            "_model_module": "@jupyter-widgets/controls",
            "_model_module_version": "1.5.0",
            "_model_name": "DropdownModel",
            "_options_labels": [
              "Number of SDs",
              "Abs dist from mean"
            ],
            "_view_count": null,
            "_view_module": "@jupyter-widgets/controls",
            "_view_module_version": "1.5.0",
            "_view_name": "DropdownView",
            "description": "",
            "description_tooltip": null,
            "disabled": false,
            "index": 0,
            "layout": "IPY_MODEL_97c59c97448c45c5889be7e63f8a0ff9",
            "style": "IPY_MODEL_bfa8c7570e2d46b69c1d96e83946b8b1"
          }
        }
      }
    }
  },
  "nbformat": 4,
  "nbformat_minor": 5
}
