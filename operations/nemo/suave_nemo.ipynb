{
  "cells": [
    {
      "cell_type": "markdown",
      "id": "d9ac77c6",
      "metadata": {
        "id": "d9ac77c6",
        "papermill": {
          "duration": 0.018315,
          "end_time": "2023-05-25T07:19:14.136570",
          "exception": false,
          "start_time": "2023-05-25T07:19:14.118255",
          "status": "completed"
        },
        "tags": []
      },
      "source": [
        "<h1><span style=\"color:red\">NEMO Annotation for SuAVE</span></h1>\n",
        "\n",
        "This notebook uses the NEMO (Named Entities Made Obvious) service developed at Microsoft Research (author: Dr. Silviu Cuzerzan, see https://doi.org/10.1145/2633211.2634360) to generate a set of named entities for user's text\n"
      ]
    },
    {
      "cell_type": "markdown",
      "id": "bf866075",
      "metadata": {
        "id": "bf866075",
        "papermill": {
          "duration": 0.012076,
          "end_time": "2023-05-25T07:19:14.158990",
          "exception": false,
          "start_time": "2023-05-25T07:19:14.146914",
          "status": "completed"
        },
        "tags": []
      },
      "source": [
        "## 1. Setup path and git"
      ]
    },
    {
      "cell_type": "code",
      "execution_count": 2,
      "id": "efc163e0",
      "metadata": {
        "colab": {
          "base_uri": "https://localhost:8080/"
        },
        "execution": {
          "iopub.execute_input": "2023-05-25T07:19:14.184511Z",
          "iopub.status.busy": "2023-05-25T07:19:14.184025Z",
          "iopub.status.idle": "2023-05-25T07:19:15.817312Z",
          "shell.execute_reply": "2023-05-25T07:19:15.816263Z"
        },
        "id": "efc163e0",
        "outputId": "5a7a3a74-0056-4c71-d5fc-e0397b48a9ad",
        "papermill": {
          "duration": 1.655143,
          "end_time": "2023-05-25T07:19:15.825546",
          "exception": false,
          "start_time": "2023-05-25T07:19:14.170403",
          "status": "completed"
        },
        "tags": []
      },
      "outputs": [
        {
          "name": "stdout",
          "output_type": "stream",
          "text": [
            "Cloning into 'myclone'...\n",
            "remote: Enumerating objects: 81, done.\u001b[K\n",
            "remote: Counting objects: 100% (81/81), done.\u001b[K\n",
            "remote: Compressing objects: 100% (63/63), done.\u001b[K\n",
            "remote: Total 81 (delta 20), reused 50 (delta 11), pack-reused 0\u001b[K\n",
            "Unpacking objects: 100% (81/81), 2.90 MiB | 2.84 MiB/s, done.\n",
            "/content/myclone/helpers\n",
            "Already up to date.\n",
            "/content/myclone/operations/nemo\n",
            "Already up to date.\n"
          ]
        }
      ],
      "source": [
        "from google.colab import drive\n",
        "drive.mount('/content/drive')\n",
        "\n",
        "!rm -rf myclone\n",
        "!git clone --depth 1 \"https://github.com/SteveLamont/Suave_on_Colab.git\" myclone\n",
        "\n",
        "%cd /content/myclone/helpers\n",
        "!git pull\n",
        "%cd /content/myclone/operations/nemo\n",
        "!git pull"
      ]
    },
    {
      "cell_type": "markdown",
      "id": "661e24ad",
      "metadata": {
        "id": "661e24ad",
        "papermill": {
          "duration": 0.018526,
          "end_time": "2023-05-25T07:19:15.873796",
          "exception": false,
          "start_time": "2023-05-25T07:19:15.855270",
          "status": "completed"
        },
        "tags": []
      },
      "source": [
        "## 2. Setting up the environment, importing libraries, defining functions"
      ]
    },
    {
      "cell_type": "markdown",
      "id": "20dc421a",
      "metadata": {
        "id": "20dc421a",
        "tags": [
          "papermill-error-cell-tag"
        ]
      },
      "source": [
        "<span id=\"papermill-error-cell\" style=\"color:red; font-family:Helvetica Neue, Helvetica, Arial, sans-serif; font-size:2em;\">Execution using papermill encountered an exception here and stopped:</span>"
      ]
    },
    {
      "cell_type": "code",
      "execution_count": 3,
      "id": "1c1b46f0",
      "metadata": {
        "colab": {
          "base_uri": "https://localhost:8080/",
          "height": 46
        },
        "execution": {
          "iopub.execute_input": "2023-05-25T07:19:15.903492Z",
          "iopub.status.busy": "2023-05-25T07:19:15.903061Z",
          "iopub.status.idle": "2023-05-25T07:19:18.514948Z",
          "shell.execute_reply": "2023-05-25T07:19:18.512098Z"
        },
        "id": "1c1b46f0",
        "outputId": "cf8ba8bd-08d5-43f6-b4b8-1a00dfedc84f",
        "papermill": {
          "duration": 2.630141,
          "end_time": "2023-05-25T07:19:18.516815",
          "exception": true,
          "start_time": "2023-05-25T07:19:15.886674",
          "status": "failed"
        },
        "scrolled": true,
        "tags": []
      },
      "outputs": [
        {
          "data": {
            "application/javascript": "(function(root) {\n  function now() {\n    return new Date();\n  }\n\n  var force = true;\n\n  if (typeof root._bokeh_onload_callbacks === \"undefined\" || force === true) {\n    root._bokeh_onload_callbacks = [];\n    root._bokeh_is_loading = undefined;\n  }\n\n  if (typeof (root._bokeh_timeout) === \"undefined\" || force === true) {\n    root._bokeh_timeout = Date.now() + 5000;\n    root._bokeh_failed_load = false;\n  }\n\n  function run_callbacks() {\n    try {\n      root._bokeh_onload_callbacks.forEach(function(callback) {\n        if (callback != null)\n          callback();\n      });\n    } finally {\n      delete root._bokeh_onload_callbacks\n    }\n    console.debug(\"Bokeh: all callbacks have finished\");\n  }\n\n  function load_libs(css_urls, js_urls, js_modules, callback) {\n    if (css_urls == null) css_urls = [];\n    if (js_urls == null) js_urls = [];\n    if (js_modules == null) js_modules = [];\n\n    root._bokeh_onload_callbacks.push(callback);\n    if (root._bokeh_is_loading > 0) {\n      console.debug(\"Bokeh: BokehJS is being loaded, scheduling callback at\", now());\n      return null;\n    }\n    if (js_urls.length === 0 && js_modules.length === 0) {\n      run_callbacks();\n      return null;\n    }\n    console.debug(\"Bokeh: BokehJS not loaded, scheduling load and callback at\", now());\n\n    function on_load() {\n      root._bokeh_is_loading--;\n      if (root._bokeh_is_loading === 0) {\n        console.debug(\"Bokeh: all BokehJS libraries/stylesheets loaded\");\n        run_callbacks()\n      }\n    }\n\n    function on_error() {\n      console.error(\"failed to load \" + url);\n    }\n\n    for (var i = 0; i < css_urls.length; i++) {\n      var url = css_urls[i];\n      const element = document.createElement(\"link\");\n      element.onload = on_load;\n      element.onerror = on_error;\n      element.rel = \"stylesheet\";\n      element.type = \"text/css\";\n      element.href = url;\n      console.debug(\"Bokeh: injecting link tag for BokehJS stylesheet: \", url);\n      document.body.appendChild(element);\n    }\n\n    var skip = [];\n    if (window.requirejs) {\n      window.requirejs.config({'packages': {}, 'paths': {'gridstack': 'https://cdn.jsdelivr.net/npm/gridstack@4.2.5/dist/gridstack-h5', 'notyf': 'https://cdn.jsdelivr.net/npm/notyf@3/notyf.min'}, 'shim': {'gridstack': {'exports': 'GridStack'}}});\n      require([\"gridstack\"], function(GridStack) {\n\twindow.GridStack = GridStack\n\ton_load()\n      })\n      require([\"notyf\"], function() {\n\ton_load()\n      })\n      root._bokeh_is_loading = css_urls.length + 2;\n    } else {\n      root._bokeh_is_loading = css_urls.length + js_urls.length + js_modules.length;\n    }    if (((window['GridStack'] !== undefined) && (!(window['GridStack'] instanceof HTMLElement))) || window.requirejs) {\n      var urls = ['https://cdn.holoviz.org/panel/0.14.4/dist/bundled/gridstack/gridstack@4.2.5/dist/gridstack-h5.js'];\n      for (var i = 0; i < urls.length; i++) {\n        skip.push(urls[i])\n      }\n    }    if (((window['Notyf'] !== undefined) && (!(window['Notyf'] instanceof HTMLElement))) || window.requirejs) {\n      var urls = ['https://cdn.holoviz.org/panel/0.14.4/dist/bundled/notificationarea/notyf@3/notyf.min.js'];\n      for (var i = 0; i < urls.length; i++) {\n        skip.push(urls[i])\n      }\n    }    for (var i = 0; i < js_urls.length; i++) {\n      var url = js_urls[i];\n      if (skip.indexOf(url) >= 0) {\n\tif (!window.requirejs) {\n\t  on_load();\n\t}\n\tcontinue;\n      }\n      var element = document.createElement('script');\n      element.onload = on_load;\n      element.onerror = on_error;\n      element.async = false;\n      element.src = url;\n      console.debug(\"Bokeh: injecting script tag for BokehJS library: \", url);\n      document.head.appendChild(element);\n    }\n    for (var i = 0; i < js_modules.length; i++) {\n      var url = js_modules[i];\n      if (skip.indexOf(url) >= 0) {\n\tif (!window.requirejs) {\n\t  on_load();\n\t}\n\tcontinue;\n      }\n      var element = document.createElement('script');\n      element.onload = on_load;\n      element.onerror = on_error;\n      element.async = false;\n      element.src = url;\n      element.type = \"module\";\n      console.debug(\"Bokeh: injecting script tag for BokehJS library: \", url);\n      document.head.appendChild(element);\n    }\n    if (!js_urls.length && !js_modules.length) {\n      on_load()\n    }\n  };\n\n  function inject_raw_css(css) {\n    const element = document.createElement(\"style\");\n    element.appendChild(document.createTextNode(css));\n    document.body.appendChild(element);\n  }\n\n  var js_urls = [\"https://cdn.bokeh.org/bokeh/release/bokeh-2.4.3.min.js\", \"https://cdn.bokeh.org/bokeh/release/bokeh-gl-2.4.3.min.js\", \"https://cdn.bokeh.org/bokeh/release/bokeh-widgets-2.4.3.min.js\", \"https://cdn.bokeh.org/bokeh/release/bokeh-tables-2.4.3.min.js\", \"https://cdn.bokeh.org/bokeh/release/bokeh-mathjax-2.4.3.min.js\", \"https://unpkg.com/@holoviz/panel@0.14.4/dist/panel.min.js\"];\n  var js_modules = [];\n  var css_urls = [\"https://cdn.holoviz.org/panel/0.14.4/dist/css/debugger.css\", \"https://cdn.holoviz.org/panel/0.14.4/dist/css/widgets.css\", \"https://cdn.holoviz.org/panel/0.14.4/dist/css/dataframe.css\", \"https://cdn.holoviz.org/panel/0.14.4/dist/css/json.css\", \"https://cdn.holoviz.org/panel/0.14.4/dist/css/loading.css\", \"https://cdn.holoviz.org/panel/0.14.4/dist/css/markdown.css\", \"https://cdn.holoviz.org/panel/0.14.4/dist/css/card.css\", \"https://cdn.holoviz.org/panel/0.14.4/dist/css/alerts.css\"];\n  var inline_js = [    function(Bokeh) {\n      inject_raw_css(\"\\n    .bk.pn-loading.arc:before {\\n      background-image: url(\\\"data:image/svg+xml;base64,PHN2ZyB4bWxucz0iaHR0cDovL3d3dy53My5vcmcvMjAwMC9zdmciIHN0eWxlPSJtYXJnaW46IGF1dG87IGJhY2tncm91bmQ6IG5vbmU7IGRpc3BsYXk6IGJsb2NrOyBzaGFwZS1yZW5kZXJpbmc6IGF1dG87IiB2aWV3Qm94PSIwIDAgMTAwIDEwMCIgcHJlc2VydmVBc3BlY3RSYXRpbz0ieE1pZFlNaWQiPiAgPGNpcmNsZSBjeD0iNTAiIGN5PSI1MCIgZmlsbD0ibm9uZSIgc3Ryb2tlPSIjYzNjM2MzIiBzdHJva2Utd2lkdGg9IjEwIiByPSIzNSIgc3Ryb2tlLWRhc2hhcnJheT0iMTY0LjkzMzYxNDMxMzQ2NDE1IDU2Ljk3Nzg3MTQzNzgyMTM4Ij4gICAgPGFuaW1hdGVUcmFuc2Zvcm0gYXR0cmlidXRlTmFtZT0idHJhbnNmb3JtIiB0eXBlPSJyb3RhdGUiIHJlcGVhdENvdW50PSJpbmRlZmluaXRlIiBkdXI9IjFzIiB2YWx1ZXM9IjAgNTAgNTA7MzYwIDUwIDUwIiBrZXlUaW1lcz0iMDsxIj48L2FuaW1hdGVUcmFuc2Zvcm0+ICA8L2NpcmNsZT48L3N2Zz4=\\\");\\n      background-size: auto calc(min(50%, 400px));\\n    }\\n    \");\n    },    function(Bokeh) {\n      Bokeh.set_log_level(\"info\");\n    },\nfunction(Bokeh) {} // ensure no trailing comma for IE\n  ];\n\n  function run_inline_js() {\n    if ((root.Bokeh !== undefined) || (force === true)) {\n      for (var i = 0; i < inline_js.length; i++) {\n        inline_js[i].call(root, root.Bokeh);\n      }} else if (Date.now() < root._bokeh_timeout) {\n      setTimeout(run_inline_js, 100);\n    } else if (!root._bokeh_failed_load) {\n      console.log(\"Bokeh: BokehJS failed to load within specified timeout.\");\n      root._bokeh_failed_load = true;\n    }\n  }\n\n  if (root._bokeh_is_loading === 0) {\n    console.debug(\"Bokeh: BokehJS loaded, going straight to plotting\");\n    run_inline_js();\n  } else {\n    load_libs(css_urls, js_urls, js_modules, function() {\n      console.debug(\"Bokeh: BokehJS plotting callback run at\", now());\n      run_inline_js();\n    });\n  }\n}(window));",
            "application/vnd.holoviews_load.v0+json": ""
          },
          "metadata": {},
          "output_type": "display_data"
        },
        {
          "data": {
            "application/javascript": "\nif ((window.PyViz === undefined) || (window.PyViz instanceof HTMLElement)) {\n  window.PyViz = {comms: {}, comm_status:{}, kernels:{}, receivers: {}, plot_index: []}\n}\n\n\n    function JupyterCommManager() {\n    }\n\n    JupyterCommManager.prototype.register_target = function(plot_id, comm_id, msg_handler) {\n      if (window.comm_manager || ((window.Jupyter !== undefined) && (Jupyter.notebook.kernel != null))) {\n        var comm_manager = window.comm_manager || Jupyter.notebook.kernel.comm_manager;\n        comm_manager.register_target(comm_id, function(comm) {\n          comm.on_msg(msg_handler);\n        });\n      } else if ((plot_id in window.PyViz.kernels) && (window.PyViz.kernels[plot_id])) {\n        window.PyViz.kernels[plot_id].registerCommTarget(comm_id, function(comm) {\n          comm.onMsg = msg_handler;\n        });\n      } else if (typeof google != 'undefined' && google.colab.kernel != null) {\n        google.colab.kernel.comms.registerTarget(comm_id, (comm) => {\n          var messages = comm.messages[Symbol.asyncIterator]();\n          function processIteratorResult(result) {\n            var message = result.value;\n            console.log(message)\n            var content = {data: message.data, comm_id};\n            var buffers = []\n            for (var buffer of message.buffers || []) {\n              buffers.push(new DataView(buffer))\n            }\n            var metadata = message.metadata || {};\n            var msg = {content, buffers, metadata}\n            msg_handler(msg);\n            return messages.next().then(processIteratorResult);\n          }\n          return messages.next().then(processIteratorResult);\n        })\n      }\n    }\n\n    JupyterCommManager.prototype.get_client_comm = function(plot_id, comm_id, msg_handler) {\n      if (comm_id in window.PyViz.comms) {\n        return window.PyViz.comms[comm_id];\n      } else if (window.comm_manager || ((window.Jupyter !== undefined) && (Jupyter.notebook.kernel != null))) {\n        var comm_manager = window.comm_manager || Jupyter.notebook.kernel.comm_manager;\n        var comm = comm_manager.new_comm(comm_id, {}, {}, {}, comm_id);\n        if (msg_handler) {\n          comm.on_msg(msg_handler);\n        }\n      } else if ((plot_id in window.PyViz.kernels) && (window.PyViz.kernels[plot_id])) {\n        var comm = window.PyViz.kernels[plot_id].connectToComm(comm_id);\n        comm.open();\n        if (msg_handler) {\n          comm.onMsg = msg_handler;\n        }\n      } else if (typeof google != 'undefined' && google.colab.kernel != null) {\n        var comm_promise = google.colab.kernel.comms.open(comm_id)\n        comm_promise.then((comm) => {\n          window.PyViz.comms[comm_id] = comm;\n          if (msg_handler) {\n            var messages = comm.messages[Symbol.asyncIterator]();\n            function processIteratorResult(result) {\n              var message = result.value;\n              var content = {data: message.data};\n              var metadata = message.metadata || {comm_id};\n              var msg = {content, metadata}\n              msg_handler(msg);\n              return messages.next().then(processIteratorResult);\n            }\n            return messages.next().then(processIteratorResult);\n          }\n        }) \n        var sendClosure = (data, metadata, buffers, disposeOnDone) => {\n          return comm_promise.then((comm) => {\n            comm.send(data, metadata, buffers, disposeOnDone);\n          });\n        };\n        var comm = {\n          send: sendClosure\n        };\n      }\n      window.PyViz.comms[comm_id] = comm;\n      return comm;\n    }\n    window.PyViz.comm_manager = new JupyterCommManager();\n    \n\n\nvar JS_MIME_TYPE = 'application/javascript';\nvar HTML_MIME_TYPE = 'text/html';\nvar EXEC_MIME_TYPE = 'application/vnd.holoviews_exec.v0+json';\nvar CLASS_NAME = 'output';\n\n/**\n * Render data to the DOM node\n */\nfunction render(props, node) {\n  var div = document.createElement(\"div\");\n  var script = document.createElement(\"script\");\n  node.appendChild(div);\n  node.appendChild(script);\n}\n\n/**\n * Handle when a new output is added\n */\nfunction handle_add_output(event, handle) {\n  var output_area = handle.output_area;\n  var output = handle.output;\n  if ((output.data == undefined) || (!output.data.hasOwnProperty(EXEC_MIME_TYPE))) {\n    return\n  }\n  var id = output.metadata[EXEC_MIME_TYPE][\"id\"];\n  var toinsert = output_area.element.find(\".\" + CLASS_NAME.split(' ')[0]);\n  if (id !== undefined) {\n    var nchildren = toinsert.length;\n    var html_node = toinsert[nchildren-1].children[0];\n    html_node.innerHTML = output.data[HTML_MIME_TYPE];\n    var scripts = [];\n    var nodelist = html_node.querySelectorAll(\"script\");\n    for (var i in nodelist) {\n      if (nodelist.hasOwnProperty(i)) {\n        scripts.push(nodelist[i])\n      }\n    }\n\n    scripts.forEach( function (oldScript) {\n      var newScript = document.createElement(\"script\");\n      var attrs = [];\n      var nodemap = oldScript.attributes;\n      for (var j in nodemap) {\n        if (nodemap.hasOwnProperty(j)) {\n          attrs.push(nodemap[j])\n        }\n      }\n      attrs.forEach(function(attr) { newScript.setAttribute(attr.name, attr.value) });\n      newScript.appendChild(document.createTextNode(oldScript.innerHTML));\n      oldScript.parentNode.replaceChild(newScript, oldScript);\n    });\n    if (JS_MIME_TYPE in output.data) {\n      toinsert[nchildren-1].children[1].textContent = output.data[JS_MIME_TYPE];\n    }\n    output_area._hv_plot_id = id;\n    if ((window.Bokeh !== undefined) && (id in Bokeh.index)) {\n      window.PyViz.plot_index[id] = Bokeh.index[id];\n    } else {\n      window.PyViz.plot_index[id] = null;\n    }\n  } else if (output.metadata[EXEC_MIME_TYPE][\"server_id\"] !== undefined) {\n    var bk_div = document.createElement(\"div\");\n    bk_div.innerHTML = output.data[HTML_MIME_TYPE];\n    var script_attrs = bk_div.children[0].attributes;\n    for (var i = 0; i < script_attrs.length; i++) {\n      toinsert[toinsert.length - 1].childNodes[1].setAttribute(script_attrs[i].name, script_attrs[i].value);\n    }\n    // store reference to server id on output_area\n    output_area._bokeh_server_id = output.metadata[EXEC_MIME_TYPE][\"server_id\"];\n  }\n}\n\n/**\n * Handle when an output is cleared or removed\n */\nfunction handle_clear_output(event, handle) {\n  var id = handle.cell.output_area._hv_plot_id;\n  var server_id = handle.cell.output_area._bokeh_server_id;\n  if (((id === undefined) || !(id in PyViz.plot_index)) && (server_id !== undefined)) { return; }\n  var comm = window.PyViz.comm_manager.get_client_comm(\"hv-extension-comm\", \"hv-extension-comm\", function () {});\n  if (server_id !== null) {\n    comm.send({event_type: 'server_delete', 'id': server_id});\n    return;\n  } else if (comm !== null) {\n    comm.send({event_type: 'delete', 'id': id});\n  }\n  delete PyViz.plot_index[id];\n  if ((window.Bokeh !== undefined) & (id in window.Bokeh.index)) {\n    var doc = window.Bokeh.index[id].model.document\n    doc.clear();\n    const i = window.Bokeh.documents.indexOf(doc);\n    if (i > -1) {\n      window.Bokeh.documents.splice(i, 1);\n    }\n  }\n}\n\n/**\n * Handle kernel restart event\n */\nfunction handle_kernel_cleanup(event, handle) {\n  delete PyViz.comms[\"hv-extension-comm\"];\n  window.PyViz.plot_index = {}\n}\n\n/**\n * Handle update_display_data messages\n */\nfunction handle_update_output(event, handle) {\n  handle_clear_output(event, {cell: {output_area: handle.output_area}})\n  handle_add_output(event, handle)\n}\n\nfunction register_renderer(events, OutputArea) {\n  function append_mime(data, metadata, element) {\n    // create a DOM node to render to\n    var toinsert = this.create_output_subarea(\n    metadata,\n    CLASS_NAME,\n    EXEC_MIME_TYPE\n    );\n    this.keyboard_manager.register_events(toinsert);\n    // Render to node\n    var props = {data: data, metadata: metadata[EXEC_MIME_TYPE]};\n    render(props, toinsert[0]);\n    element.append(toinsert);\n    return toinsert\n  }\n\n  events.on('output_added.OutputArea', handle_add_output);\n  events.on('output_updated.OutputArea', handle_update_output);\n  events.on('clear_output.CodeCell', handle_clear_output);\n  events.on('delete.Cell', handle_clear_output);\n  events.on('kernel_ready.Kernel', handle_kernel_cleanup);\n\n  OutputArea.prototype.register_mime_type(EXEC_MIME_TYPE, append_mime, {\n    safe: true,\n    index: 0\n  });\n}\n\nif (window.Jupyter !== undefined) {\n  try {\n    var events = require('base/js/events');\n    var OutputArea = require('notebook/js/outputarea').OutputArea;\n    if (OutputArea.prototype.mime_types().indexOf(EXEC_MIME_TYPE) == -1) {\n      register_renderer(events, OutputArea);\n    }\n  } catch(err) {\n  }\n}\n",
            "application/vnd.holoviews_load.v0+json": ""
          },
          "metadata": {},
          "output_type": "display_data"
        },
        {
          "data": {
            "text/html": [
              "<style>.bk-root, .bk-root .bk:before, .bk-root .bk:after {\n",
              "  font-family: var(--jp-ui-font-size1);\n",
              "  font-size: var(--jp-ui-font-size1);\n",
              "  color: var(--jp-ui-font-color1);\n",
              "}\n",
              "</style>"
            ]
          },
          "metadata": {},
          "output_type": "display_data"
        },
        {
          "data": {
            "text/markdown": [
              "<b><span style='color:red;font-size:200%'>API KEY NOT AVAILABLE. CANNOT CONTINUE.</span></b>"
            ],
            "text/plain": [
              "<IPython.core.display.Markdown object>"
            ]
          },
          "metadata": {},
          "output_type": "display_data"
        }
      ],
      "source": [
        "# common imports\n",
        "from __future__ import print_function\n",
        "from ipywidgets import interact, interactive, fixed, interact_manual\n",
        "import ipywidgets as widgets\n",
        "from IPython.display import Markdown, display\n",
        "\n",
        "import pandas as pd\n",
        "pd.set_option('display.max_colwidth', 0)\n",
        "    \n",
        "import numpy as np\n",
        "import panel as pn\n",
        "\n",
        "pn.extension()\n",
        "def printmd(string):\n",
        "    display(Markdown(string))\n",
        "\n",
        "absolutePath = \"/content/drive/MyDrive/suave/\"\n",
        "\n",
        "# local imports\n",
        "import sys\n",
        "sys.path.insert(1, '../../helpers')\n",
        "import panel_libs as panellibs\n",
        "import suave_integration as suaveint\n",
        "\n",
        "\n",
        "# specific imports\n",
        "import requests\n",
        "from urllib.parse import urlparse\n",
        "import re\n",
        "import nemofunc as nemo\n"
      ]
    },
    {
      "cell_type": "code",
      "execution_count": null,
      "id": "2603b6ad",
      "metadata": {
        "id": "2603b6ad",
        "papermill": {
          "duration": null,
          "end_time": null,
          "exception": null,
          "start_time": null,
          "status": "pending"
        },
        "tags": []
      },
      "outputs": [],
      "source": [
        "%%capture\n",
        "from tqdm import tqdm_notebook as tqdm\n",
        "tqdm().pandas()"
      ]
    },
    {
      "cell_type": "markdown",
      "id": "7525d64c",
      "metadata": {
        "id": "7525d64c",
        "papermill": {
          "duration": null,
          "end_time": null,
          "exception": null,
          "start_time": null,
          "status": "pending"
        },
        "tags": []
      },
      "source": [
        "## 3. Select a survey file from SuAVE or import a local CSV file"
      ]
    },
    {
      "cell_type": "code",
      "execution_count": null,
      "id": "adf2e8e1",
      "metadata": {
        "id": "adf2e8e1",
        "papermill": {
          "duration": null,
          "end_time": null,
          "exception": null,
          "start_time": null,
          "status": "pending"
        },
        "tags": []
      },
      "outputs": [],
      "source": [
        "data_select = pn.widgets.RadioBoxGroup(name='Select notebook', options=['Load survey file from SuAVE', \n",
        "                                                                        'Import a local CSV file'], \n",
        "                                       inline=False)\n",
        "data_select"
      ]
    },
    {
      "cell_type": "code",
      "execution_count": null,
      "id": "bee632c6",
      "metadata": {
        "id": "bee632c6",
        "papermill": {
          "duration": null,
          "end_time": null,
          "exception": null,
          "start_time": null,
          "status": "pending"
        },
        "tags": []
      },
      "outputs": [],
      "source": [
        "data_input = pn.widgets.FileInput()\n",
        "    \n",
        "def check_selection():\n",
        "    if data_select.value == 'Load survey file from SuAVE':\n",
        "        global fname\n",
        "        fname = absolutePath + csv_file\n",
        "        printmd(\"<b><span style='color:red; font-size: 200%;'>Current SuAVE survey will be loaded. Continue to step 4.</span></b>\")\n",
        "\n",
        "    else:\n",
        "        message = pn.pane.HTML(\"<b><span style='color:red; font-size: 200%;'>Upload data and continue to step 4.</span><br><span style='font-size: 150%;'>IMPORTANT: The local CSV file should not have SuAVE-specific variable names!</span></b>\", width=700)\n",
        "        return pn.Column(message, data_input)\n",
        "    \n",
        "check_selection()"
      ]
    },
    {
      "cell_type": "markdown",
      "id": "f4245c8f",
      "metadata": {
        "id": "f4245c8f",
        "papermill": {
          "duration": null,
          "end_time": null,
          "exception": null,
          "start_time": null,
          "status": "pending"
        },
        "tags": []
      },
      "source": [
        "## 4. Visualize the data and select a text variable to parse"
      ]
    },
    {
      "cell_type": "code",
      "execution_count": null,
      "id": "b048391d",
      "metadata": {
        "id": "b048391d",
        "papermill": {
          "duration": null,
          "end_time": null,
          "exception": null,
          "start_time": null,
          "status": "pending"
        },
        "tags": []
      },
      "outputs": [],
      "source": [
        "if not pd.isnull(data_input.filename):\n",
        "    fname = absolutePath + data_input.filename\n",
        "    data_input.save(fname)\n",
        "\n",
        "df = panellibs.extract_data(fname)\n",
        "panellibs.slider(df)\n"
      ]
    },
    {
      "cell_type": "code",
      "execution_count": null,
      "id": "c21a0ddf",
      "metadata": {
        "id": "c21a0ddf",
        "papermill": {
          "duration": null,
          "end_time": null,
          "exception": null,
          "start_time": null,
          "status": "pending"
        },
        "tags": []
      },
      "outputs": [],
      "source": [
        "# if the above didn't display the dataframe:\n",
        "with pd.option_context(\"display.max_columns\", None):\n",
        "    if any(\"geometry\" in col for col in df.columns):\n",
        "        display(df.drop(['geometry'],axis=1))\n",
        "    else:\n",
        "        display(df)\n",
        "    "
      ]
    },
    {
      "cell_type": "markdown",
      "id": "c389d115",
      "metadata": {
        "id": "c389d115",
        "papermill": {
          "duration": null,
          "end_time": null,
          "exception": null,
          "start_time": null,
          "status": "pending"
        },
        "tags": []
      },
      "source": [
        "## 5. Generate pre-defined #multi variables for entity types extracted by NEMO"
      ]
    },
    {
      "cell_type": "code",
      "execution_count": null,
      "id": "61cf12a9",
      "metadata": {
        "id": "61cf12a9",
        "papermill": {
          "duration": null,
          "end_time": null,
          "exception": null,
          "start_time": null,
          "status": "pending"
        },
        "tags": []
      },
      "outputs": [],
      "source": [
        "varcols = df.columns.tolist()\n",
        "# remove any variable names are unlikely to contain parsable text \n",
        "varcols = [x for x in varcols if '#number' not in x and '#date' not in x and '#img' not in x and '#href' not in x and '#link' not in x]\n",
        "\n",
        "# Left panel\n",
        "left_text = pn.Row(\"####Select Variables for NEMO Processing\", margin=(0,0,-15,270))\n",
        "binary_selector = pn.widgets.CrossSelector(options=varcols, width=630)\n",
        "left_panel = pn.Column(left_text, binary_selector, css_classes=['widget-box'], margin=(0,30,0,0))\n",
        "\n",
        "remap_text = pn.pane.Markdown('####      Make selections and run the next cell ', width=650)\n",
        "\n",
        "# Display widgets\n",
        "widgets = pn.Row(left_panel)\n",
        "full_display = pn.Column(widgets,remap_text)\n",
        "full_display"
      ]
    },
    {
      "cell_type": "code",
      "execution_count": null,
      "id": "86a9b045",
      "metadata": {
        "id": "86a9b045",
        "papermill": {
          "duration": null,
          "end_time": null,
          "exception": null,
          "start_time": null,
          "status": "pending"
        },
        "tags": []
      },
      "outputs": [],
      "source": [
        "\n",
        "# Replace NA with empty in each row\n",
        "# Convert row to string\n",
        "# Join row with spaces\n",
        "concatted = df[binary_selector.value].fillna('').astype(str).dropna().apply(lambda row: ' '.join(row), axis=1)\n"
      ]
    },
    {
      "cell_type": "markdown",
      "id": "f1b678e3",
      "metadata": {
        "id": "f1b678e3",
        "papermill": {
          "duration": null,
          "end_time": null,
          "exception": null,
          "start_time": null,
          "status": "pending"
        },
        "tags": []
      },
      "source": [
        "## 6. Run NEMO"
      ]
    },
    {
      "cell_type": "code",
      "execution_count": null,
      "id": "343fd2c1",
      "metadata": {
        "id": "343fd2c1",
        "papermill": {
          "duration": null,
          "end_time": null,
          "exception": null,
          "start_time": null,
          "status": "pending"
        },
        "tags": []
      },
      "outputs": [],
      "source": [
        "def extract_nemo(payload):\n",
        "#     print(payload)\n",
        "    df, respjson = nemo.nemo_annotate(payload)\n",
        "    return df\n",
        "extracted_df = concatted.progress_apply(extract_nemo)"
      ]
    },
    {
      "cell_type": "markdown",
      "id": "17eb15af",
      "metadata": {
        "id": "17eb15af",
        "papermill": {
          "duration": null,
          "end_time": null,
          "exception": null,
          "start_time": null,
          "status": "pending"
        },
        "tags": []
      },
      "source": [
        "## 7. Add generated tags to dataframe and explore"
      ]
    },
    {
      "cell_type": "code",
      "execution_count": null,
      "id": "13829e35",
      "metadata": {
        "id": "13829e35",
        "papermill": {
          "duration": null,
          "end_time": null,
          "exception": null,
          "start_time": null,
          "status": "pending"
        },
        "tags": []
      },
      "outputs": [],
      "source": [
        "extracted_multi_df=pd.DataFrame()\n",
        "import numpy as np\n",
        "nan = np.nan\n",
        "rows=[]\n",
        "for i in concatted.index:\n",
        "    print (\"###### index == \" + str(i))\n",
        "    rows.append(nemo.create_nemo_dict(extracted_df[i]))\n",
        "\n",
        "extracted_multi_df = pd.DataFrame(rows)\n"
      ]
    },
    {
      "cell_type": "code",
      "execution_count": null,
      "id": "4e537b6a",
      "metadata": {
        "id": "4e537b6a",
        "papermill": {
          "duration": null,
          "end_time": null,
          "exception": null,
          "start_time": null,
          "status": "pending"
        },
        "tags": []
      },
      "outputs": [],
      "source": [
        "# explore the generated dataframe\n",
        "panellibs.slider(extracted_multi_df)"
      ]
    },
    {
      "cell_type": "code",
      "execution_count": null,
      "id": "07f6bf3c",
      "metadata": {
        "id": "07f6bf3c",
        "papermill": {
          "duration": null,
          "end_time": null,
          "exception": null,
          "start_time": null,
          "status": "pending"
        },
        "tags": []
      },
      "outputs": [],
      "source": [
        "# alternatively:\n",
        "with pd.option_context(\"display.max_columns\", None):\n",
        "    if any(\"geometry\" in col for col in extracted_multi_df.columns):\n",
        "        display(extracted_multi_df.drop(['geometry'],axis=1))\n",
        "    else:\n",
        "        display(extracted_multi_df)\n",
        "    "
      ]
    },
    {
      "cell_type": "markdown",
      "id": "8b231489",
      "metadata": {
        "id": "8b231489",
        "papermill": {
          "duration": null,
          "end_time": null,
          "exception": null,
          "start_time": null,
          "status": "pending"
        },
        "tags": []
      },
      "source": [
        "## 8. Reoder the columns, and decide which columns to keep"
      ]
    },
    {
      "cell_type": "code",
      "execution_count": null,
      "id": "fbb85074",
      "metadata": {
        "id": "fbb85074",
        "papermill": {
          "duration": null,
          "end_time": null,
          "exception": null,
          "start_time": null,
          "status": "pending"
        },
        "tags": []
      },
      "outputs": [],
      "source": [
        "# re-order the columns in the df\n",
        "columnTitles = nemo.column_order()\n",
        "extracted_multi_df = extracted_multi_df.reindex(columns=columnTitles)"
      ]
    },
    {
      "cell_type": "code",
      "execution_count": null,
      "id": "18c8300e",
      "metadata": {
        "id": "18c8300e",
        "papermill": {
          "duration": null,
          "end_time": null,
          "exception": null,
          "start_time": null,
          "status": "pending"
        },
        "tags": []
      },
      "outputs": [],
      "source": [
        "tags_to_keep = pn.widgets.RadioBoxGroup(name='Tags to keep:', options=['Pre-modeled categories: Location, Geopolitical, Organization, Person', \n",
        "                                                                        'All internal NEMO output'], \n",
        "                                       inline=False)\n",
        "tags_to_keep"
      ]
    },
    {
      "cell_type": "markdown",
      "id": "83427832",
      "metadata": {
        "id": "83427832",
        "papermill": {
          "duration": null,
          "end_time": null,
          "exception": null,
          "start_time": null,
          "status": "pending"
        },
        "tags": []
      },
      "source": [
        "#### Columns to keep:\n",
        "\n",
        "        \"e_G-y\": \"Entity: Geopolitical#multi#sortquan\",\n",
        "        \"e_G-y_WP\": \"Entity: Geopolitical URL#hidden\",\n",
        "        \"e_O-y\": \"Entity: Organization#multi#sortquan\",\n",
        "        \"e_O-y_WP\": \"Entity: Organization URL#hidden\",\n",
        "        \"e_L-y\": \"Entity: Location#multi#sortquan\",\n",
        "        \"e_L-y_WP\": \"Entity: Location URL#hidden\",\n",
        "        \"e_P-y\": \"Entity: Personal#multi#sortquan\",\n",
        "        \"e_P-y_WP\": \"Entity: Personal URL#hidden\",\n",
        "\n",
        "        \"e_C-y\": \"Entity: Abstract#multi#sortquan\",\n",
        "        \"e_C-y_WP\" : \"Entity: Abstract URL#hidden\",\n"
      ]
    },
    {
      "cell_type": "code",
      "execution_count": null,
      "id": "7e14a715",
      "metadata": {
        "id": "7e14a715",
        "papermill": {
          "duration": null,
          "end_time": null,
          "exception": null,
          "start_time": null,
          "status": "pending"
        },
        "tags": []
      },
      "outputs": [],
      "source": [
        "cols_to_keep = [\n",
        "     \"e_G-y\",\n",
        "    \"e_G-y_WP\",\n",
        "    \"e_O-y\",\n",
        "    \"e_O-y_WP\",\n",
        "    \"e_L-y\",\n",
        "    \"e_L-y_WP\",\n",
        "    \"e_P-y\",\n",
        "    \"e_P-y_WP\",\n",
        "\n",
        "    \"e_C-y\",\n",
        "    \"e_C-y_WP\"   \n",
        "]\n",
        "\n",
        "if tags_to_keep.value == 'Pre-modeled categories: Location, Geopolitical, Organization, Person':\n",
        "    extracted_multi_df.drop(extracted_multi_df.columns.difference(cols_to_keep), 1, inplace=True)\n",
        "\n",
        "panellibs.slider(extracted_multi_df)"
      ]
    },
    {
      "cell_type": "code",
      "execution_count": null,
      "id": "dfcbef12",
      "metadata": {
        "id": "dfcbef12",
        "papermill": {
          "duration": null,
          "end_time": null,
          "exception": null,
          "start_time": null,
          "status": "pending"
        },
        "scrolled": true,
        "tags": []
      },
      "outputs": [],
      "source": [
        "# alternatively:\n",
        "with pd.option_context(\"display.max_columns\", None):\n",
        "    if any(\"geometry\" in col for col in extracted_multi_df.columns):\n",
        "        display(extracted_multi_df.drop(['geometry'],axis=1))\n",
        "    else:\n",
        "        display(extracted_multi_df)\n",
        "    "
      ]
    },
    {
      "cell_type": "markdown",
      "id": "393b2d6b",
      "metadata": {
        "id": "393b2d6b",
        "papermill": {
          "duration": null,
          "end_time": null,
          "exception": null,
          "start_time": null,
          "status": "pending"
        },
        "tags": []
      },
      "source": [
        "## 9. Rename the columns"
      ]
    },
    {
      "cell_type": "code",
      "execution_count": null,
      "id": "f9fe8117",
      "metadata": {
        "id": "f9fe8117",
        "papermill": {
          "duration": null,
          "end_time": null,
          "exception": null,
          "start_time": null,
          "status": "pending"
        },
        "tags": []
      },
      "outputs": [],
      "source": [
        "# this is a complete list of columns to rename\n",
        "columns_dict = nemo.columns_dict()"
      ]
    },
    {
      "cell_type": "code",
      "execution_count": null,
      "id": "6ab463c0",
      "metadata": {
        "id": "6ab463c0",
        "papermill": {
          "duration": null,
          "end_time": null,
          "exception": null,
          "start_time": null,
          "status": "pending"
        },
        "tags": []
      },
      "outputs": [],
      "source": [
        "#rename the columns\n",
        "extracted_multi_df_ren = extracted_multi_df.rename(columns=dict(columns_dict))"
      ]
    },
    {
      "cell_type": "code",
      "execution_count": null,
      "id": "c557e457",
      "metadata": {
        "id": "c557e457",
        "papermill": {
          "duration": null,
          "end_time": null,
          "exception": null,
          "start_time": null,
          "status": "pending"
        },
        "tags": []
      },
      "outputs": [],
      "source": [
        "df_new = pd.concat([df, extracted_multi_df_ren], axis=1)\n",
        "print('Dimensions:\\n --- The original df: ' +str(df.shape) +'\\n --- The NEMO-generated df: '+ str(extracted_multi_df.shape)+'\\n --- The concatenated df:' +str(df_new.shape))\n"
      ]
    },
    {
      "cell_type": "markdown",
      "id": "4f3e34bd",
      "metadata": {
        "id": "4f3e34bd",
        "papermill": {
          "duration": null,
          "end_time": null,
          "exception": null,
          "start_time": null,
          "status": "pending"
        },
        "tags": []
      },
      "source": [
        "## 10. Only keep columns with more than N records as facets (for new fields, or for all fields), make others #hidden"
      ]
    },
    {
      "cell_type": "code",
      "execution_count": null,
      "id": "c1bca386",
      "metadata": {
        "id": "c1bca386",
        "papermill": {
          "duration": null,
          "end_time": null,
          "exception": null,
          "start_time": null,
          "status": "pending"
        },
        "tags": []
      },
      "outputs": [],
      "source": [
        "# set min number of values in a column\n",
        "mincount = 0\n",
        "\n",
        "# whether to drop columns from the original dataframe as well\n",
        "drop_from_original=True\n",
        "\n",
        "if drop_from_original:\n",
        "    start_column = 0\n",
        "else:\n",
        "    start_column = len(df.columns)\n",
        "\n",
        "for column in df_new.columns:\n",
        "    if (df_new.columns.get_loc(column) > start_column) & (df_new[column].count() < mincount):\n",
        "        if column.find(\"#multi\") > 0:\n",
        "            new_col = column.split('#')[0]+\"#multi#hidden\"\n",
        "        elif column.find(\"#link\") > 0:\n",
        "            new_col = column\n",
        "        else:\n",
        "            new_col = column.split('#')[0]+\"#hidden\"\n",
        "\n",
        "        df_new = df_new.rename(columns={column:new_col})\n",
        "        print(column + \" renamed to \"+ new_col)\n",
        "            \n"
      ]
    },
    {
      "cell_type": "markdown",
      "id": "b46e1932",
      "metadata": {
        "id": "b46e1932",
        "papermill": {
          "duration": null,
          "end_time": null,
          "exception": null,
          "start_time": null,
          "status": "pending"
        },
        "tags": []
      },
      "source": [
        "## 11. Visualize the generated dataframe"
      ]
    },
    {
      "cell_type": "code",
      "execution_count": null,
      "id": "daa427da",
      "metadata": {
        "id": "daa427da",
        "papermill": {
          "duration": null,
          "end_time": null,
          "exception": null,
          "start_time": null,
          "status": "pending"
        },
        "scrolled": false,
        "tags": []
      },
      "outputs": [],
      "source": [
        "panellibs.slider(df_new)"
      ]
    },
    {
      "cell_type": "code",
      "execution_count": null,
      "id": "1b371a78",
      "metadata": {
        "id": "1b371a78",
        "papermill": {
          "duration": null,
          "end_time": null,
          "exception": null,
          "start_time": null,
          "status": "pending"
        },
        "scrolled": true,
        "tags": []
      },
      "outputs": [],
      "source": [
        "# alternatively:\n",
        "with pd.option_context(\"display.max_columns\", None):\n",
        "    if any(\"geometry\" in col for col in df_new.columns):\n",
        "        display(df_new.drop(['geometry'],axis=1))\n",
        "    else:\n",
        "        display(df_new)\n",
        "    "
      ]
    },
    {
      "cell_type": "code",
      "execution_count": null,
      "id": "db5e4312",
      "metadata": {
        "id": "db5e4312",
        "papermill": {
          "duration": null,
          "end_time": null,
          "exception": null,
          "start_time": null,
          "status": "pending"
        },
        "tags": []
      },
      "outputs": [],
      "source": [
        "# if needed, save to a local file. OPTIONAL\n",
        "df_to_save = df_new.copy().fillna('')\n",
        "df_to_save.to_csv('dataframe_after_nemo.csv', index=None)\n"
      ]
    },
    {
      "cell_type": "markdown",
      "id": "cb3befc2",
      "metadata": {
        "id": "cb3befc2",
        "papermill": {
          "duration": null,
          "end_time": null,
          "exception": null,
          "start_time": null,
          "status": "pending"
        },
        "tags": []
      },
      "source": [
        "## 12. Save the new version of CSV file, and give a name to new survey"
      ]
    },
    {
      "cell_type": "code",
      "execution_count": null,
      "id": "e6694b8c",
      "metadata": {
        "id": "e6694b8c",
        "papermill": {
          "duration": null,
          "end_time": null,
          "exception": null,
          "start_time": null,
          "status": "pending"
        },
        "tags": []
      },
      "outputs": [],
      "source": [
        "if data_select.value == 'Import a local CSV file':\n",
        "    csv_file = data_input.filename\n",
        "    dzc_file = ''\n",
        "    \n",
        "new_file = suaveint.save_csv_file(df_new, absolutePath, csv_file)"
      ]
    },
    {
      "cell_type": "code",
      "execution_count": null,
      "id": "6fae2f29",
      "metadata": {
        "id": "6fae2f29",
        "papermill": {
          "duration": null,
          "end_time": null,
          "exception": null,
          "start_time": null,
          "status": "pending"
        },
        "tags": []
      },
      "outputs": [],
      "source": [
        "#Input survey name\n",
        "\n",
        "import ipywidgets as widgets\n",
        "from IPython.display import display\n",
        "\n",
        "input_text = widgets.Text(placeholder='Enter Survey Name...')\n",
        "output_text = widgets.Text()\n",
        "\n",
        "def bind_input_to_output(sender):\n",
        "    output_text.value = input_text.value\n",
        "\n",
        "# Tell the text input widget to call bind_input_to_output() on submit\n",
        "input_text.on_submit(bind_input_to_output)\n",
        "\n",
        "printmd(\"<b><span style='color:red'>Input survey name here, press Enter, and then run the next cell:</span></b>\")\n",
        "# Display input text box widget for input\n",
        "display(input_text)\n",
        "\n",
        "display(output_text)"
      ]
    },
    {
      "cell_type": "code",
      "execution_count": null,
      "id": "7e1ccb04",
      "metadata": {
        "id": "7e1ccb04",
        "papermill": {
          "duration": null,
          "end_time": null,
          "exception": null,
          "start_time": null,
          "status": "pending"
        },
        "tags": []
      },
      "outputs": [],
      "source": [
        "#Print survey name\n",
        "survey_name = output_text.value\n",
        "printmd(\"<b><span style='color:red'>Survey Name is: </span></b>\" + survey_name)"
      ]
    },
    {
      "cell_type": "code",
      "execution_count": null,
      "id": "d4016494",
      "metadata": {
        "id": "d4016494",
        "papermill": {
          "duration": null,
          "end_time": null,
          "exception": null,
          "start_time": null,
          "status": "pending"
        },
        "tags": []
      },
      "outputs": [],
      "source": [
        "suaveint.create_survey(survey_url,new_file, survey_name, dzc_file, user, csv_file, view, views, data_select.value)"
      ]
    },
    {
      "cell_type": "code",
      "execution_count": null,
      "id": "5a6d4de2",
      "metadata": {
        "id": "5a6d4de2",
        "papermill": {
          "duration": null,
          "end_time": null,
          "exception": null,
          "start_time": null,
          "status": "pending"
        },
        "tags": []
      },
      "outputs": [],
      "source": []
    }
  ],
  "metadata": {
    "colab": {
      "provenance": []
    },
    "kernelspec": {
      "display_name": "Python 3",
      "language": "python",
      "name": "python3"
    },
    "language_info": {
      "codemirror_mode": {
        "name": "ipython",
        "version": 3
      },
      "file_extension": ".py",
      "mimetype": "text/x-python",
      "name": "python",
      "nbconvert_exporter": "python",
      "pygments_lexer": "ipython3",
      "version": "3.10.11"
    },
    "papermill": {
      "default_parameters": {},
      "duration": 7.047006,
      "end_time": "2023-05-25T07:19:19.775099",
      "environment_variables": {},
      "exception": true,
      "input_path": "myclone/operations/nemo/suave_nemo.ipynb",
      "output_path": "/content/drive/MyDrive/suave/suave_nemo.ipynb",
      "parameters": {
        "active_object": "null",
        "csv_file": "zaslavsk_WBDH_Participants.csv",
        "dzc_file": "https://maxim.ucsd.edu/dzgen/lib-staging-uploads/063044157874ce7d5841c906fa6d8073/content.dzc",
        "full_notebook_url": "https://colab.research.google.com/drive/1aZCpg7UmG0nPUuRPTH2p5Nm43G0HmtQg?survey_url=https://suave-dev.sdsc.edu/main/file=zaslavsk_WBDH_Participants.csv&views=1110101&view=grid&user=zaslavsk&csv_file=zaslavsk_WBDH_Participants.csv&params=none&dzc_file=https://maxim.ucsd.edu/dzgen/lib-staging-uploads/063044157874ce7d5841c906fa6d8073/content.dzc&active_object=null",
        "params": "none",
        "survey_url": "https://suave-dev.sdsc.edu/main/file=zaslavsk_WBDH_Participants.csv",
        "user": "zaslavsk",
        "view": "grid",
        "views": "1110101"
      },
      "start_time": "2023-05-25T07:19:12.728093",
      "version": "2.4.0"
    }
  },
  "nbformat": 4,
  "nbformat_minor": 5
}
