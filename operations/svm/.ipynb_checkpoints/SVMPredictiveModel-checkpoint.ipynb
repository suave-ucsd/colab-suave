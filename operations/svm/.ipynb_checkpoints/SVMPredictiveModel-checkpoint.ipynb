{
 "cells": [
  {
   "cell_type": "markdown",
   "metadata": {},
   "source": [
    "# SuAVE Image to Label SVM Prediction Model"
   ]
  },
  {
   "cell_type": "code",
   "execution_count": 130,
   "metadata": {},
   "outputs": [
    {
     "data": {
      "application/javascript": [
       "function getQueryStringValue (key)\n",
       "{  \n",
       "    return unescape(window.location.search.replace(new RegExp(\"^(?:.*[&\\\\?]\" + escape(key).replace(/[\\.\\+\\*]/g, \"\\\\$&\") + \"(?:\\\\=([^&]*))?)?.*$\", \"i\"), \"$1\"));\n",
       "}\n",
       "IPython.notebook.kernel.execute(\"survey_url='\".concat(getQueryStringValue(\"surveyurl\")).concat(\"'\"));\n",
       "IPython.notebook.kernel.execute(\"user='\".concat(getQueryStringValue(\"user\")).concat(\"'\"));\n",
       "IPython.notebook.kernel.execute(\"csv_file='\".concat(getQueryStringValue(\"csv\")).concat(\"'\")); \n",
       "IPython.notebook.kernel.execute(\"dzc_file='\".concat(getQueryStringValue(\"dzc\")).concat(\"'\")); \n",
       "IPython.notebook.kernel.execute(\"params='\".concat(getQueryStringValue(\"params\")).concat(\"'\")); \n",
       "IPython.notebook.kernel.execute(\"active_object='\".concat(getQueryStringValue(\"activeobject\")).concat(\"'\")); "
      ],
      "text/plain": [
       "<IPython.core.display.Javascript object>"
      ]
     },
     "metadata": {},
     "output_type": "display_data"
    }
   ],
   "source": [
    "%%javascript\n",
    "function getQueryStringValue (key)\n",
    "{  \n",
    "    return unescape(window.location.search.replace(new RegExp(\"^(?:.*[&\\\\?]\" + escape(key).replace(/[\\.\\+\\*]/g, \"\\\\$&\") + \"(?:\\\\=([^&]*))?)?.*$\", \"i\"), \"$1\"));\n",
    "}\n",
    "IPython.notebook.kernel.execute(\"survey_url='\".concat(getQueryStringValue(\"surveyurl\")).concat(\"'\"));\n",
    "IPython.notebook.kernel.execute(\"user='\".concat(getQueryStringValue(\"user\")).concat(\"'\"));\n",
    "IPython.notebook.kernel.execute(\"csv_file='\".concat(getQueryStringValue(\"csv\")).concat(\"'\")); \n",
    "IPython.notebook.kernel.execute(\"dzc_file='\".concat(getQueryStringValue(\"dzc\")).concat(\"'\")); \n",
    "IPython.notebook.kernel.execute(\"params='\".concat(getQueryStringValue(\"params\")).concat(\"'\")); \n",
    "IPython.notebook.kernel.execute(\"active_object='\".concat(getQueryStringValue(\"activeobject\")).concat(\"'\")); "
   ]
  },
  {
   "cell_type": "markdown",
   "metadata": {},
   "source": [
    "### Import all packages"
   ]
  },
  {
   "cell_type": "code",
   "execution_count": 131,
   "metadata": {},
   "outputs": [],
   "source": [
    "import warnings\n",
    "warnings.filterwarnings('ignore')  # \"error\", \"ignore\", \"always\", \"default\", \"module\" or \"once\"\n",
    "\n",
    "# More imports\n",
    "import matplotlib.pyplot as plt\n",
    "import numpy as np\n",
    "import argparse\n",
    "import random\n",
    "import csv\n",
    "import pandas as pd\n",
    "import re\n",
    "import cv2\n",
    "import os\n",
    "\n",
    "# import the necessary packages for SVM predictor\n",
    "from sklearn.preprocessing import LabelEncoder\n",
    "from sklearn.svm import LinearSVC\n",
    "from sklearn.metrics import classification_report\n",
    "from sklearn.model_selection import train_test_split\n",
    "import imutils\n",
    "from sklearn.externals import joblib\n",
    "\n",
    "# import histogram func\n",
    "from histogram import Histograms\n",
    "\n",
    "# Import widget functionality\n",
    "from __future__ import print_function\n",
    "from ipywidgets import interact, interactive, fixed, interact_manual\n",
    "import ipywidgets as widgets"
   ]
  },
  {
   "cell_type": "markdown",
   "metadata": {},
   "source": [
    "## Run and choose the column name that coresponds with the column label to be predicted"
   ]
  },
  {
   "cell_type": "code",
   "execution_count": 123,
   "metadata": {
    "scrolled": true
   },
   "outputs": [
    {
     "data": {
      "application/vnd.jupyter.widget-view+json": {
       "model_id": "d07b4fc1306643c8a0622eb65ed3989d",
       "version_major": 2,
       "version_minor": 0
      },
      "text/plain": [
       "interactive(children=(Dropdown(description='predictions_menu', options={'Latitude#number': 'Latitude#number', …"
      ]
     },
     "metadata": {},
     "output_type": "display_data"
    }
   ],
   "source": [
    "# use csv file to grab images/labels\n",
    "csv_path = \"../../temp_csvs/\" + csv_file\n",
    "df = pd.read_csv(csv_path)\n",
    "\n",
    "#generate image path\n",
    "lower_case_csv = csv_file.lower()\n",
    "img_path = \"../../images/\" + lower_case_csv.split(\".\")[0]\n",
    "\n",
    "# Choose column of label for prediction\n",
    "toPredict = list(df.columns.values)\n",
    "\n",
    "pred_menu = {}\n",
    "for i in range(0, len(toPredict)):\n",
    "    pred_menu[toPredict[i]] = toPredict[i]\n",
    "\n",
    "def f(predictions_menu):\n",
    "    return predictions_menu\n",
    "\n",
    "out2 = interact(f, predictions_menu=pred_menu)"
   ]
  },
  {
   "cell_type": "markdown",
   "metadata": {},
   "source": [
    "## Choose type of histogram to extract from images"
   ]
  },
  {
   "cell_type": "code",
   "execution_count": 124,
   "metadata": {},
   "outputs": [
    {
     "data": {
      "application/vnd.jupyter.widget-view+json": {
       "model_id": "e4bae21dc373413bb4df3593c9fde534",
       "version_major": 2,
       "version_minor": 0
      },
      "text/plain": [
       "interactive(children=(Dropdown(description='histogram_type', options={'Blue Histogram': 1, 'Red Histogram': 2,…"
      ]
     },
     "metadata": {},
     "output_type": "display_data"
    }
   ],
   "source": [
    "hist_type = { \n",
    "    'HSV Color Histogram': 0,\n",
    "    'Blue Histogram': 1,\n",
    "    'Red Histogram': 2,\n",
    "    'Green Histogram': 3\n",
    "    }\n",
    "\n",
    "def f(histogram_type):\n",
    "    return histogram_type\n",
    "typeH= interact(f, histogram_type=hist_type);"
   ]
  },
  {
   "cell_type": "markdown",
   "metadata": {},
   "source": [
    "## Get histogram from each image in the dataset"
   ]
  },
  {
   "cell_type": "code",
   "execution_count": 125,
   "metadata": {},
   "outputs": [
    {
     "name": "stdout",
     "output_type": "stream",
     "text": [
      "xtrain:  [[9.9626221e-03 2.8270839e-03 1.2718667e-03 ... 0.0000000e+00\n",
      "  0.0000000e+00 0.0000000e+00]\n",
      " [1.1735303e-06 2.9338260e-06 4.7723570e-05 ... 0.0000000e+00\n",
      "  0.0000000e+00 0.0000000e+00]\n",
      " [3.0762043e-03 6.4249979e-03 2.2894552e-03 ... 0.0000000e+00\n",
      "  0.0000000e+00 0.0000000e+00]\n",
      " ...\n",
      " [2.3388861e-01 6.7396165e-04 2.8377332e-04 ... 0.0000000e+00\n",
      "  0.0000000e+00 0.0000000e+00]\n",
      " [3.8053196e-02 4.2564529e-03 1.4690207e-03 ... 0.0000000e+00\n",
      "  0.0000000e+00 0.0000000e+00]\n",
      " [2.0987228e-03 8.2647125e-04 3.2517349e-04 ... 0.0000000e+00\n",
      "  0.0000000e+00 0.0000000e+00]]\n",
      "ytrain:  [ 5  5  4  6  5 13 17 13 12 22  4  6 17  1  5  3  5  4  5 11  5  5 18 22\n",
      " 14 13  6  1  5 18  5 12  5  5  4 12 12 20 21 15  2 15  5  2  2  5 12  5\n",
      " 21 12  3 14 14  5  3 11  5 10 14 14  5  4 12  4  7 12  5  1 14 22  5 21\n",
      "  5  4  7 12  8  5  4  5 21 14 18 14 12 14  0  5 17  5  6  5 22  4  2 12\n",
      " 19  2 17  7 16 13  1 12  4  6 12 13 12  9  5 13 13  1 12 19  6 12  6  6\n",
      "  4  5 12  5  6  4  4  4 12  9 12  7  5 14 12 17  4 17  5 15 17 12 17  2\n",
      "  2 12  3 13  4 18  1 22  6 12 12 10  1 12  4 12 13 16 17 21 14  5  4 12\n",
      "  6 18  5  5  5 14  4  6]\n",
      "                                                                    precision    recall  f1-score   support\n",
      "\n",
      "                                            Alkali feldspar Fabric       0.00      0.00      0.00         4\n",
      "                                                      Chert Fabric       0.40      0.33      0.36        12\n",
      "                                   Fine Calcareous Phyllite Fabric       0.00      0.00      0.00         8\n",
      "                                                  Fusilinid Fabric       0.00      0.00      0.00         8\n",
      "                             Macrofossiliferous Clay Pellet Fabric       0.40      0.61      0.48        44\n",
      "                                  Main south-central Cretan Fabric       0.50      0.84      0.62        68\n",
      "                                      Medium/coarse Igneous Fabric       0.40      0.40      0.40        20\n",
      "                                            Metasedimentary Fabric       0.00      0.00      0.00         8\n",
      "                              Micaceous Quartz and Feldspar Fabric       0.00      0.00      0.00         4\n",
      "                                                   Phyllite Fabric       0.67      0.50      0.57         4\n",
      "                              Phyllite, Siltstone and Chert Fabric       0.00      0.00      0.00         4\n",
      "                         Polycrystalline Quartz and Calcite Fabric       0.00      0.00      0.00         4\n",
      "                                         Quartz and Calcite Fabric       0.51      0.75      0.61        68\n",
      "                          Quartz and Calcite with chert sub-Fabric       1.00      0.20      0.33        20\n",
      "                                     Quartz and Clay Pellet Fabric       0.31      0.25      0.28        20\n",
      "                                     Quartz and Metamorphic Fabric       0.50      0.25      0.33         4\n",
      "                                          Quartz and Schist Fabric       0.00      0.00      0.00         4\n",
      "                             Quartz, Chert and Macrofossils Fabric       0.80      0.25      0.38        16\n",
      "                             Quartzite, Phyllite and Schist Fabric       1.00      0.38      0.55         8\n",
      "Red Firing Quartzite, Phyllite and Schist with microfossils Fabric       0.00      0.00      0.00         4\n",
      "                                                     Schist Fabric       0.00      0.00      0.00         4\n",
      "                                     Serpentine and Micrite Fabric       1.00      0.12      0.22         8\n",
      "                                               Serpentinite Fabric       1.00      0.25      0.40         8\n",
      "\n",
      "                                                       avg / total       0.47      0.48      0.42       352\n",
      "\n"
     ]
    }
   ],
   "source": [
    "# init the image suffix\n",
    "suffix = '.jpg'\n",
    "labels = []\n",
    "\n",
    "labelHeader = out2.widget.result\n",
    "\n",
    "# grab chosen column names\n",
    "nameCol = df['#img']\n",
    "predCol = df[labelHeader]\n",
    "\n",
    "# add all fabric columns to the y set\n",
    "for i in range (0,len(predCol)):\n",
    "    labels.append(predCol[i])\n",
    "# create new hist_list\n",
    "hist_list = []\n",
    "# gather images from path created from file names in csv file\n",
    "typeH = typeH.widget.result\n",
    "for i in range (0,len(nameCol)):\n",
    "    base_filename = nameCol[i]\n",
    "    fileName = os.path.join(img_path, base_filename + suffix)\n",
    "    im = cv2.imread(fileName)\n",
    "    if typeH == 0:\n",
    "        hist = Histograms.extract_color_histogram(im)\n",
    "    elif typeH == 1: \n",
    "        hist = Histograms.extract_blue_histogram(im)\n",
    "    elif typeH == 2: \n",
    "        hist = Histograms.extract_red_histogram(im)\n",
    "    elif typeH == 3: \n",
    "        hist = Histograms.extract_green_histogram(im)\n",
    "    hist_list.append(hist)\n",
    "    \n",
    "# transform labels into numerical system\n",
    "le = LabelEncoder()\n",
    "labels = le.fit_transform(predCol)\n",
    "\n",
    "\n",
    "\n",
    "# separate data into test/train sets for features/labels\n",
    "(xtrain, xtest, ytrain, ytest) = train_test_split(np.array(hist_list),labels, test_size = 0.5)\n",
    "\n",
    "print(\"xtrain: \", xtrain)\n",
    "print(\"ytrain: \", ytrain)\n",
    "# Train the linear regression classifier\n",
    "model2 = LinearSVC()\n",
    "model2.fit(xtrain, ytrain)\n",
    "\n",
    "# Calculate predictions on the data set\n",
    "predictions = model2.predict(np.array(hist_list))\n",
    "print(classification_report(labels, predictions, target_names = le.classes_))"
   ]
  },
  {
   "cell_type": "code",
   "execution_count": 126,
   "metadata": {},
   "outputs": [
    {
     "data": {
      "text/plain": [
       "['svmModel.pkl']"
      ]
     },
     "execution_count": 126,
     "metadata": {},
     "output_type": "execute_result"
    }
   ],
   "source": [
    "# save the label\n",
    "filepath = \"/labels/\"\n",
    "fileName = labelHeader + '_' + csv_file[:-4] + '_svmModel' + '.txt'\n",
    "file = open(os.path.join(filePath, fileName),\"w\") \n",
    "file.write(str(typeH))\n",
    "file.write(out2.widget.result)\n",
    "file.close()\n",
    "\n",
    "#Generate model file and save\n",
    "\n",
    "modelPath = \"/models/\"\n",
    "modelName =  user + \"_svm_\" + out2.widget.result + \"_\" + str(typeH) + \".pkl\"\n",
    "joblib.dump(model2, os.path.join(modelPath, modelName)) "
   ]
  },
  {
   "cell_type": "code",
   "execution_count": 127,
   "metadata": {},
   "outputs": [
    {
     "data": {
      "text/plain": [
       "0"
      ]
     },
     "execution_count": 127,
     "metadata": {},
     "output_type": "execute_result"
    }
   ],
   "source": [
    "typeH"
   ]
  },
  {
   "cell_type": "code",
   "execution_count": 128,
   "metadata": {},
   "outputs": [
    {
     "data": {
      "text/plain": [
       "'Petrographic Fabric'"
      ]
     },
     "execution_count": 128,
     "metadata": {},
     "output_type": "execute_result"
    }
   ],
   "source": [
    "labelHeader"
   ]
  },
  {
   "cell_type": "code",
   "execution_count": 129,
   "metadata": {},
   "outputs": [
    {
     "data": {
      "text/plain": [
       "'Petrographic Fabric_zaslavsk_Kommos_Ceramic_PetrographysvmModel.txt'"
      ]
     },
     "execution_count": 129,
     "metadata": {},
     "output_type": "execute_result"
    }
   ],
   "source": [
    "labelHeader + '_' + csv_file[:-4] + 'svmModel' + '.txt'"
   ]
  },
  {
   "cell_type": "code",
   "execution_count": null,
   "metadata": {},
   "outputs": [],
   "source": []
  },
  {
   "cell_type": "code",
   "execution_count": null,
   "metadata": {},
   "outputs": [],
   "source": []
  }
 ],
 "metadata": {
  "kernelspec": {
   "display_name": "Python 3",
   "language": "python",
   "name": "python3"
  },
  "language_info": {
   "codemirror_mode": {
    "name": "ipython",
    "version": 3
   },
   "file_extension": ".py",
   "mimetype": "text/x-python",
   "name": "python",
   "nbconvert_exporter": "python",
   "pygments_lexer": "ipython3",
   "version": "3.5.2"
  }
 },
 "nbformat": 4,
 "nbformat_minor": 2
}
